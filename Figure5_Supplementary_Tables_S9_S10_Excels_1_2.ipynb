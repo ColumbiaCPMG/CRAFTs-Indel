{
 "cells": [
  {
   "cell_type": "markdown",
   "id": "d1276be4-918b-4277-834f-ba82f47c4a11",
   "metadata": {},
   "source": [
    "# Figure 5"
   ]
  },
  {
   "cell_type": "code",
   "execution_count": 4,
   "id": "ffa2000f-dd6d-4b9f-b2af-1504f59f2339",
   "metadata": {
    "vscode": {
     "languageId": "r"
    }
   },
   "outputs": [
    {
     "name": "stderr",
     "output_type": "stream",
     "text": [
      "── \u001b[1mAttaching core tidyverse packages\u001b[22m ───────────────────────────────────────────────────────────────────────────────────────────────────────────────────────────── tidyverse 2.0.0 ──\n",
      "\u001b[32m✔\u001b[39m \u001b[34mdplyr    \u001b[39m 1.1.2     \u001b[32m✔\u001b[39m \u001b[34mreadr    \u001b[39m 2.1.4\n",
      "\u001b[32m✔\u001b[39m \u001b[34mforcats  \u001b[39m 1.0.0     \u001b[32m✔\u001b[39m \u001b[34mstringr  \u001b[39m 1.5.0\n",
      "\u001b[32m✔\u001b[39m \u001b[34mggplot2  \u001b[39m 3.4.2     \u001b[32m✔\u001b[39m \u001b[34mtibble   \u001b[39m 3.2.1\n",
      "\u001b[32m✔\u001b[39m \u001b[34mlubridate\u001b[39m 1.9.2     \u001b[32m✔\u001b[39m \u001b[34mtidyr    \u001b[39m 1.3.0\n",
      "\u001b[32m✔\u001b[39m \u001b[34mpurrr    \u001b[39m 1.0.1     \n",
      "── \u001b[1mConflicts\u001b[22m ─────────────────────────────────────────────────────────────────────────────────────────────────────────────────────────────────────────────── tidyverse_conflicts() ──\n",
      "\u001b[31m✖\u001b[39m \u001b[34mdplyr\u001b[39m::\u001b[32mfilter()\u001b[39m masks \u001b[34mstats\u001b[39m::filter()\n",
      "\u001b[31m✖\u001b[39m \u001b[34mdplyr\u001b[39m::\u001b[32mlag()\u001b[39m    masks \u001b[34mstats\u001b[39m::lag()\n",
      "\u001b[36mℹ\u001b[39m Use the conflicted package (\u001b[3m\u001b[34m<http://conflicted.r-lib.org/>\u001b[39m\u001b[23m) to force all conflicts to become errors\n",
      "\n",
      "Attaching package: ‘data.table’\n",
      "\n",
      "\n",
      "The following objects are masked from ‘package:lubridate’:\n",
      "\n",
      "    hour, isoweek, mday, minute, month, quarter, second, wday, week,\n",
      "    yday, year\n",
      "\n",
      "\n",
      "The following objects are masked from ‘package:dplyr’:\n",
      "\n",
      "    between, first, last\n",
      "\n",
      "\n",
      "The following object is masked from ‘package:purrr’:\n",
      "\n",
      "    transpose\n",
      "\n",
      "\n"
     ]
    },
    {
     "ename": "ERROR",
     "evalue": "Error in library(ggtext): there is no package called ‘ggtext’\n",
     "output_type": "error",
     "traceback": [
      "Error in library(ggtext): there is no package called ‘ggtext’\nTraceback:\n",
      "1. library(ggtext)"
     ]
    }
   ],
   "source": [
    "setwd(\"/Users/User_1/Desktop/rAF_project_2\")\n",
    "\n",
    "# Load in packages\n",
    "library(tidyverse)\n",
    "library(data.table)\n",
    "library(readxl)\n",
    "library(dplyr)\n",
    "library(stringr)\n",
    "library(ggplot2)\n",
    "library(ggpubr)\n",
    "library(ggtext)"
   ]
  },
  {
   "cell_type": "code",
   "execution_count": 5,
   "id": "a96c1088-c992-4766-a875-05807475fd05",
   "metadata": {
    "vscode": {
     "languageId": "r"
    }
   },
   "outputs": [],
   "source": [
    "#Clear environment: \n",
    "rm(list=ls())"
   ]
  },
  {
   "cell_type": "markdown",
   "id": "f02f155b-94d5-48b4-8fec-368e85c5e105",
   "metadata": {},
   "source": [
    "# Set your datasets below and read in the files containing all indels ≤ 50bp for each dataset:"
   ]
  },
  {
   "cell_type": "code",
   "execution_count": 6,
   "id": "b83effd6-f1e4-4e15-a115-88a9f2b990b0",
   "metadata": {
    "vscode": {
     "languageId": "r"
    }
   },
   "outputs": [],
   "source": [
    "## define dfs \n",
    "df_name_1 = \"gnomAD\"\n",
    "df_name_2 = \"IGM\"\n",
    "df_name_3 = \"UK.BB\""
   ]
  },
  {
   "cell_type": "code",
   "execution_count": 7,
   "id": "855f4ccb-7115-460b-a7a5-93a4cd3b1522",
   "metadata": {
    "vscode": {
     "languageId": "r"
    }
   },
   "outputs": [],
   "source": [
    "## Read in dataframe (total)\n",
    "df_1 = fread(\"gnomad.exomes.r2.1.1.sites_indelsonly_rAF_lt50bp.csv\")\n",
    "df_2 = fread(\"2023-03-23_IGM_n39367_indelsonly_rAF_lt50bp.csv\")\n",
    "df_3 = fread(\"/Users/User_1/Desktop/rAF_project_2/UK.BB.exomes.430k.sites_indelsonly_rAF_lt50bp.csv\")"
   ]
  },
  {
   "cell_type": "code",
   "execution_count": 8,
   "id": "72e87edc-db48-4710-a5b4-06953adfc91c",
   "metadata": {
    "vscode": {
     "languageId": "r"
    }
   },
   "outputs": [],
   "source": [
    "#Read in the rAF_hi, rAF_lo and sAF_hi files. \n",
    "#rAF_hi indels are sAF ≤ 10^-4 and rAF > 10^-4. \n",
    "# rAF_lo indels are sAF ≤ 10^-4 and rAF ≤ 10^-4. \n",
    "# sAF_hi indels are sAF > 10^-4."
   ]
  },
  {
   "cell_type": "markdown",
   "id": "df17ff39-f02e-4ef9-bdd7-9dcd51c5a7d2",
   "metadata": {},
   "source": [
    "## Read in rAF_hi "
   ]
  },
  {
   "cell_type": "code",
   "execution_count": 10,
   "id": "363fe18c-5a96-4424-984c-568383cd6c25",
   "metadata": {
    "vscode": {
     "languageId": "r"
    }
   },
   "outputs": [],
   "source": [
    "rAF_hi_bp_10_df_1 = fread(\"gnomad.exomes.r2.1.1.sites_indelsonly_rAF_bp10_rAF_hiIndels.lt50bp.csv\")\n",
    "rAF_hi_bp_20_df_1 = fread(\"gnomad.exomes.r2.1.1.sites_indelsonly_rAF_bp20_rAF_hiIndels.lt50bp.csv\")\n",
    "rAF_hi_bp_30_df_1 = fread(\"gnomad.exomes.r2.1.1.sites_indelsonly_rAF_bp30_rAF_hiIndels.lt50bp.csv\")\n",
    "rAF_hi_bp_40_df_1 = fread(\"gnomad.exomes.r2.1.1.sites_indelsonly_rAF_bp40_rAF_hiIndels.lt50bp.csv\")\n",
    "\n",
    "rAF_hi_bp_10_df_2 = fread(\"2023-03-23_IGM_n39367_indelsonly_rAF_bp10_rAF_hiIndels.lt50bp.csv\")\n",
    "rAF_hi_bp_20_df_2 = fread(\"2023-03-23_IGM_n39367_indelsonly_rAF_bp20_rAF_hiIndels.lt50bp.csv\")\n",
    "rAF_hi_bp_30_df_2 = fread(\"2023-03-23_IGM_n39367_indelsonly_rAF_bp30_rAF_hiIndels.lt50bp.csv\")\n",
    "rAF_hi_bp_40_df_2 = fread(\"2023-03-23_IGM_n39367_indelsonly_rAF_bp40_rAF_hiIndels.lt50bp.csv\")\n",
    "\n",
    "rAF_hi_bp_10_df_3 = fread(\"/Users/User_1/Desktop/rAF_project_2/UK.BB.exomes.430k.sites_indelsonly_rAF_bp10_rAF_hiIndels.lt50bp.csv\")\n",
    "rAF_hi_bp_20_df_3 = fread(\"/Users/User_1/Desktop/rAF_project_2/UK.BB.exomes.430k.sites_indelsonly_rAF_bp20_rAF_hiIndels.lt50bp.csv\")\n",
    "rAF_hi_bp_30_df_3 = fread(\"/Users/User_1/Desktop/rAF_project_2/UK.BB.exomes.430k.sites_indelsonly_rAF_bp30_rAF_hiIndels.lt50bp.csv\")\n",
    "rAF_hi_bp_40_df_3 = fread(\"/Users/User_1/Desktop/rAF_project_2/UK.BB.exomes.430k.sites_indelsonly_rAF_bp40_rAF_hiIndels.lt50bp.csv\")\n",
    "\n"
   ]
  },
  {
   "cell_type": "markdown",
   "id": "4b7718c7-92ea-4c85-a402-f0022262f15b",
   "metadata": {},
   "source": [
    "## Read in rAF_lo "
   ]
  },
  {
   "cell_type": "code",
   "execution_count": 11,
   "id": "22a1c4bf-0bbf-4d27-a206-fe3d95e2f938",
   "metadata": {
    "vscode": {
     "languageId": "r"
    }
   },
   "outputs": [],
   "source": [
    "rAF_lo_bp_10_df_1 = fread(\"gnomad.exomes.r2.1.1.sites_indelsonly_rAF_bp10_rAF_loIndels.lt50bp.csv\")\n",
    "rAF_lo_bp_20_df_1 = fread(\"gnomad.exomes.r2.1.1.sites_indelsonly_rAF_bp20_rAF_loIndels.lt50bp.csv\")\n",
    "rAF_lo_bp_30_df_1 = fread(\"gnomad.exomes.r2.1.1.sites_indelsonly_rAF_bp30_rAF_loIndels.lt50bp.csv\")\n",
    "rAF_lo_bp_40_df_1 = fread(\"gnomad.exomes.r2.1.1.sites_indelsonly_rAF_bp40_rAF_loIndels.lt50bp.csv\")\n",
    "\n",
    "rAF_lo_bp_10_df_2 = fread(\"2023-03-23_IGM_n39367_indelsonly_rAF_bp10_rAF_loIndels.lt50bp.csv\")\n",
    "rAF_lo_bp_20_df_2 = fread(\"2023-03-23_IGM_n39367_indelsonly_rAF_bp20_rAF_loIndels.lt50bp.csv\")\n",
    "rAF_lo_bp_30_df_2 = fread(\"2023-03-23_IGM_n39367_indelsonly_rAF_bp30_rAF_loIndels.lt50bp.csv\")\n",
    "rAF_lo_bp_40_df_2 = fread(\"2023-03-23_IGM_n39367_indelsonly_rAF_bp40_rAF_loIndels.lt50bp.csv\")\n",
    "\n",
    "rAF_lo_bp_10_df_3 = fread(\"/Users/User_1/Desktop/rAF_project_2/UK.BB.exomes.430k.sites_indelsonly_rAF_bp10_rAF_loIndels.lt50bp.csv\")\n",
    "rAF_lo_bp_20_df_3 = fread(\"/Users/User_1/Desktop/rAF_project_2/UK.BB.exomes.430k.sites_indelsonly_rAF_bp20_rAF_loIndels.lt50bp.csv\")\n",
    "rAF_lo_bp_30_df_3 = fread(\"/Users/User_1/Desktop/rAF_project_2/UK.BB.exomes.430k.sites_indelsonly_rAF_bp30_rAF_loIndels.lt50bp.csv\")\n",
    "rAF_lo_bp_40_df_3 = fread(\"/Users/User_1/Desktop/rAF_project_2/UK.BB.exomes.430k.sites_indelsonly_rAF_bp40_rAF_loIndels.lt50bp.csv\")\n"
   ]
  },
  {
   "cell_type": "markdown",
   "id": "13c01447-ecc8-4c0c-bbd2-11a6f1417924",
   "metadata": {},
   "source": [
    "## Read in sAF_hi"
   ]
  },
  {
   "cell_type": "code",
   "execution_count": 12,
   "id": "cea78d8b-cdd2-437f-8052-31af2b24308c",
   "metadata": {
    "vscode": {
     "languageId": "r"
    }
   },
   "outputs": [],
   "source": [
    "\n",
    "sAF_hi_bp_10_df_1 = fread(\"gnomad.exomes.r2.1.1.sites_indelsonly_rAF_bp10_sAF_hiIndels.lt50bp.csv\")\n",
    "sAF_hi_bp_20_df_1 = fread(\"gnomad.exomes.r2.1.1.sites_indelsonly_rAF_bp20_sAF_hiIndels.lt50bp.csv\")\n",
    "sAF_hi_bp_30_df_1 = fread(\"gnomad.exomes.r2.1.1.sites_indelsonly_rAF_bp30_sAF_hiIndels.lt50bp.csv\")\n",
    "sAF_hi_bp_40_df_1 = fread(\"gnomad.exomes.r2.1.1.sites_indelsonly_rAF_bp40_sAF_hiIndels.lt50bp.csv\")\n",
    "\n",
    "sAF_hi_bp_10_df_2 = fread(\"2023-03-23_IGM_n39367_indelsonly_rAF_bp10_sAF_hiIndels.lt50bp.csv\")\n",
    "sAF_hi_bp_20_df_2 = fread(\"2023-03-23_IGM_n39367_indelsonly_rAF_bp20_sAF_hiIndels.lt50bp.csv\")\n",
    "sAF_hi_bp_30_df_2 = fread(\"2023-03-23_IGM_n39367_indelsonly_rAF_bp30_sAF_hiIndels.lt50bp.csv\")\n",
    "sAF_hi_bp_40_df_2 = fread(\"2023-03-23_IGM_n39367_indelsonly_rAF_bp40_sAF_hiIndels.lt50bp.csv\")\n",
    "\n",
    "sAF_hi_bp_10_df_3 = fread(\"/Users/User_1/Desktop/rAF_project_2/UK.BB.exomes.430k.sites_indelsonly_rAF_bp10_sAF_hiIndels.lt50bp.csv\")\n",
    "sAF_hi_bp_20_df_3 = fread(\"/Users/User_1/Desktop/rAF_project_2/UK.BB.exomes.430k.sites_indelsonly_rAF_bp20_sAF_hiIndels.lt50bp.csv\")\n",
    "sAF_hi_bp_30_df_3 = fread(\"/Users/User_1/Desktop/rAF_project_2/UK.BB.exomes.430k.sites_indelsonly_rAF_bp30_sAF_hiIndels.lt50bp.csv\")\n",
    "sAF_hi_bp_40_df_3 = fread(\"/Users/User_1/Desktop/rAF_project_2/UK.BB.exomes.430k.sites_indelsonly_rAF_bp40_sAF_hiIndels.lt50bp.csv\")\n"
   ]
  },
  {
   "cell_type": "code",
   "execution_count": 13,
   "id": "152b890a-16a7-4644-b110-e14c21dcb06e",
   "metadata": {
    "vscode": {
     "languageId": "r"
    }
   },
   "outputs": [],
   "source": [
    "\n",
    "#Define rAF_lo. \n",
    "rAF_lo = (1 * 10^-4)\n",
    "\n",
    "#Read in ClinVar TSV file: \n",
    "clinvar = fread(\"/Users/User_1/Desktop/rAF_project_2/Clin_var_test.tsv\", sep='\\t', header = FALSE, quote=\"\")"
   ]
  },
  {
   "cell_type": "code",
   "execution_count": 14,
   "id": "630fbf5c-7287-4d49-be74-9d16d943e2d8",
   "metadata": {
    "vscode": {
     "languageId": "r"
    }
   },
   "outputs": [],
   "source": [
    "\n",
    "#Define ClinVar classfications. \n",
    "\n",
    "benign = c('Benign', 'Benign/Likely_benign', 'Benign|_drug_response')\n",
    "LB = c('Likely_benign', 'Likely_benign|_drug_response|_other',\n",
    "       'Likely_benign|_other')\n",
    "conflict = c('Conflicting_interpretations_of_pathogenicity',\n",
    "             'Conflicting_interpretations_of_pathogenicity|_association',\n",
    "             'Conflicting_interpretations_of_pathogenicity|_drug_response',\n",
    "             'Conflicting_interpretations_of_pathogenicity|_drug_response|_other',\n",
    "             'Conflicting_interpretations_of_pathogenicity|_other',\n",
    "             'Conflicting_interpretations_of_pathogenicity|_risk_factor',\n",
    "             'Uncertain_significance',\n",
    "             'Uncertain_significance|_risk_factor')  #conflict and uncertain significance\n",
    "LP = c('Likely_pathogenic',\n",
    "       'Likely_pathogenic|_risk_factor')\n",
    "patho = c('Pathogenic',\n",
    "          'Pathogenic/Likely_pathogenic',\n",
    "          'Pathogenic/Likely_pathogenic|_other', 'Pathogenic|_Affects',\n",
    "          'Pathogenic|_other', 'Pathogenic|_protective',\n",
    "          'Pathogenic|_risk_factor')\n",
    "other = c('Affects', '\\\\N', 'association',\n",
    "          'confers_sensitivity', 'drug_response', 'not_provided', 'other',\n",
    "          'protective', 'risk_factor')\n"
   ]
  },
  {
   "cell_type": "code",
   "execution_count": 15,
   "id": "0c53d562-b147-4b76-9b0e-d60140362929",
   "metadata": {
    "vscode": {
     "languageId": "r"
    }
   },
   "outputs": [],
   "source": [
    "#Define bp ranges for sliding windows. \n",
    "bp_range = c(\"10\", \"20\", \"30\", \"40\")"
   ]
  },
  {
   "cell_type": "code",
   "execution_count": 16,
   "id": "88a87552-909e-4594-b972-5228a16b5d9b",
   "metadata": {
    "vscode": {
     "languageId": "r"
    }
   },
   "outputs": [],
   "source": [
    "#Give ClinVar file a VarID column. \n",
    "clinvar$VarID = paste0(clinvar$V1, \"-\", clinvar$V2, \"-\", clinvar$V3, \"-\", clinvar$V4)"
   ]
  },
  {
   "cell_type": "markdown",
   "id": "6c121f7f-bd8b-44d6-9030-e119a3240907",
   "metadata": {},
   "source": [
    "# Merge sAF and rAF with ClinVar and keep only the rows that are in ClinVar. Remove any duplicates, if any. \n",
    "## Merge sAF and rAF with clinvar and ONLY KEEP THE ROWS THAT ARE IN CLINVAR "
   ]
  },
  {
   "cell_type": "code",
   "execution_count": 17,
   "id": "94350036-d1ba-4de5-804e-5c675b24d540",
   "metadata": {
    "vscode": {
     "languageId": "r"
    }
   },
   "outputs": [],
   "source": [
    "df_1_clinvar = merge(df_1, clinvar, by = \"VarID\") \n",
    "df_2_clinvar = merge(df_2, clinvar, by = \"VarID\") \n",
    "df_3_clinvar = merge(df_3, clinvar, by = \"VarID\") \n",
    "\n",
    "## Remove any duplicates, if any \n",
    "df_1_clinvar = distinct(df_1_clinvar) \n",
    "df_2_clinvar = distinct(df_2_clinvar) \n",
    "df_3_clinvar = distinct(df_3_clinvar) "
   ]
  },
  {
   "cell_type": "markdown",
   "id": "96dbfb77-93a9-48d0-aa09-eb0b3da75aac",
   "metadata": {},
   "source": [
    "# Identify rAF_lo sAF indels that are benign/likely benign or pathogenic/likely pathogenic in both datasets. "
   ]
  },
  {
   "cell_type": "markdown",
   "id": "fa6ba0fe-a8aa-4c6c-8a7e-0c677d44420e",
   "metadata": {},
   "source": [
    "## gnomAD "
   ]
  },
  {
   "cell_type": "code",
   "execution_count": 18,
   "id": "68219b36-b2d1-4f80-983b-52bd63ef363b",
   "metadata": {
    "vscode": {
     "languageId": "r"
    }
   },
   "outputs": [],
   "source": [
    "df_1_B_LB = df_1_clinvar %>% filter(V10 %in% benign | V10 %in% LB) %>% filter (sAF <= rAF_lo) \n",
    "df_1_P_LP = df_1_clinvar %>% filter(V10 %in% patho | V10 %in% LP) %>% filter (sAF <= rAF_lo) \n"
   ]
  },
  {
   "cell_type": "markdown",
   "id": "0452a1ac-a0fe-42ec-a714-438e7d85518b",
   "metadata": {},
   "source": [
    "## IGM"
   ]
  },
  {
   "cell_type": "code",
   "execution_count": 19,
   "id": "12dda4c9-405f-4b56-af13-b715c976fb6b",
   "metadata": {
    "vscode": {
     "languageId": "r"
    }
   },
   "outputs": [],
   "source": [
    "df_2_B_LB = df_2_clinvar %>% filter(V10 %in% benign | V10 %in% LB) %>% filter (sAF <= rAF_lo) \n",
    "df_2_P_LP = df_2_clinvar %>% filter(V10 %in% patho | V10 %in% LP) %>% filter (sAF <= rAF_lo) "
   ]
  },
  {
   "cell_type": "markdown",
   "id": "1fab31c5-de28-49f8-bd76-4e498f77c0ec",
   "metadata": {},
   "source": [
    "## UK.BB"
   ]
  },
  {
   "cell_type": "code",
   "execution_count": 20,
   "id": "2ccaa87f-8c5d-4c9d-8b91-013a353183ce",
   "metadata": {
    "vscode": {
     "languageId": "r"
    }
   },
   "outputs": [],
   "source": [
    "df_3_B_LB = df_3_clinvar %>% filter(V10 %in% benign | V10 %in% LB) %>% filter (sAF <= rAF_lo) \n",
    "df_3_P_LP = df_3_clinvar %>% filter(V10 %in% patho | V10 %in% LP) %>% filter (sAF <= rAF_lo) "
   ]
  },
  {
   "cell_type": "markdown",
   "id": "cf6f87da-dbab-4003-bf77-d151f36aad80",
   "metadata": {},
   "source": [
    "# Label indels with a log_key. A benign/likely benign indel has a log_key of 0. A pathogenic/likely pathogenic indel has a log key of 1. \n"
   ]
  },
  {
   "cell_type": "code",
   "execution_count": 21,
   "id": "e1d36fc6-be9e-4fb9-90af-5d63351c77f0",
   "metadata": {
    "vscode": {
     "languageId": "r"
    }
   },
   "outputs": [],
   "source": [
    "## Give benign/LB a 0 log_key\n",
    "## Give patho/LP a 1 log_key \n",
    "df_1_B_LB$log_key = 0 \n",
    "df_1_P_LP$log_key = 1 \n",
    "\n",
    "# #IGM\n",
    "df_2_B_LB$log_key = 0 \n",
    "df_2_P_LP$log_key = 1 \n",
    "\n",
    "#UK.BB\n",
    "df_3_B_LB$log_key = 0 \n",
    "df_3_P_LP$log_key = 1 "
   ]
  },
  {
   "cell_type": "markdown",
   "id": "9fdd6c53-339a-4fbb-8b50-e5e06bd41a74",
   "metadata": {},
   "source": [
    "# Create output dataframes for bargraphs and logistic regression graphs. For the bar graph, we want to zoom into rAF < 0.05 for the 10bp window. \n"
   ]
  },
  {
   "cell_type": "code",
   "execution_count": 22,
   "id": "da2ba23d-69c8-42c7-b7ad-bd88c7a0ebcf",
   "metadata": {
    "vscode": {
     "languageId": "r"
    }
   },
   "outputs": [],
   "source": [
    "df_1_output = rbind(df_1_B_LB, df_1_P_LP) %>% select (sAF, rAF_bp10, log_key)\n",
    "\n",
    "df_2_output = rbind(df_2_B_LB, df_2_P_LP)  %>% select (sAF, rAF_bp10, log_key)\n",
    "\n",
    "df_3_output = rbind(df_3_B_LB, df_3_P_LP)  %>% select (sAF, rAF_bp10, log_key)"
   ]
  },
  {
   "cell_type": "markdown",
   "id": "2b01c42a-2363-4231-adea-8b284cb150fb",
   "metadata": {},
   "source": [
    "## Mean Square Error "
   ]
  },
  {
   "cell_type": "code",
   "execution_count": 23,
   "id": "0178c730-2461-45e3-ad28-25aa7a157114",
   "metadata": {
    "vscode": {
     "languageId": "r"
    }
   },
   "outputs": [
    {
     "data": {
      "text/html": [
       "2.42152584580559"
      ],
      "text/latex": [
       "2.42152584580559"
      ],
      "text/markdown": [
       "2.42152584580559"
      ],
      "text/plain": [
       "[1] 2.421526"
      ]
     },
     "metadata": {},
     "output_type": "display_data"
    },
    {
     "data": {
      "text/html": [
       "0.51222240381212"
      ],
      "text/latex": [
       "0.51222240381212"
      ],
      "text/markdown": [
       "0.51222240381212"
      ],
      "text/plain": [
       "[1] 0.5122224"
      ]
     },
     "metadata": {},
     "output_type": "display_data"
    }
   ],
   "source": [
    "## Make logistic regression of the rAF/sAF dataframes \n",
    "model_rAF_df1  =  glm(formula = log_key ~ rAF_bp10, family = \"binomial\", data = df_1_output)\n",
    "model_rAF_df2  = glm(formula = log_key ~ rAF_bp10 , family = \"binomial\", data = df_2_output)\n",
    "model_rAF_df3  = glm(formula = log_key ~ rAF_bp10 , family = \"binomial\", data = df_3_output)\n",
    "\n",
    "model_sAF_df1  = glm(formula = log_key ~ sAF, family = \"binomial\", data = df_1_output)\n",
    "model_sAF_df2  =  glm(formula = log_key ~ sAF, family = \"binomial\", data = df_2_output)\n",
    "model_sAF_df3  =  glm(formula = log_key ~ sAF, family = \"binomial\", data = df_3_output)\n",
    "\n",
    "## Make dataframe with predicted and actual values \n",
    "pred_actual_rAF_df1 = data.frame(pred = predict(model_rAF_df1), actual = df_1_output$rAF_bp10)\n",
    "pred_actual_rAF_df2 = data.frame(pred = predict(model_rAF_df2), actual = df_2_output$rAF_bp10)\n",
    "pred_actual_rAF_df3 = data.frame(pred = predict(model_rAF_df3), actual = df_3_output$rAF_bp10)\n",
    "\n",
    "pred_actual_sAF_df1 = data.frame(pred = predict(model_sAF_df1), actual = df_1_output$sAF)\n",
    "pred_actual_sAF_df2 = data.frame(pred = predict(model_sAF_df2), actual = df_2_output$sAF)\n",
    "pred_actual_sAF_df3 = data.frame(pred = predict(model_sAF_df3), actual = df_3_output$sAF)\n",
    "\n",
    "\n",
    "## Mean square error calculation \n",
    "MSE_rAF_df1 = mean((pred_actual_rAF_df1$actual - pred_actual_rAF_df1$pred)^2)\n",
    "MSE_rAF_df2 = mean((pred_actual_rAF_df2$actual - pred_actual_rAF_df2$pred)^2)\n",
    "MSE_rAF_df3 = mean((pred_actual_rAF_df3$actual - pred_actual_rAF_df3$pred)^2)\n",
    "MSE_sAF_df1 = mean((pred_actual_sAF_df1$actual - pred_actual_sAF_df1$pred)^2)\n",
    "MSE_sAF_df2 = mean((pred_actual_sAF_df2$actual - pred_actual_sAF_df2$pred)^2)\n",
    "MSE_sAF_df3 = mean((pred_actual_sAF_df3$actual - pred_actual_sAF_df3$pred)^2)\n",
    "\n",
    "MSE_rAF_df1\n",
    "MSE_rAF_df2\n",
    "MSE_rAF_df3\n",
    "MSE_sAF_df1\n",
    "MSE_sAF_df2\n",
    "MSE_sAF_df3"
   ]
  },
  {
   "cell_type": "code",
   "execution_count": 24,
   "id": "36887961-a086-4a1f-a090-f43b15ebecf7",
   "metadata": {
    "vscode": {
     "languageId": "r"
    }
   },
   "outputs": [],
   "source": [
    "\n",
    "####### For the bargraph, we want to zoom into rAF < 0.05. \n",
    "bar_df_1 = df_1_output %>% filter(rAF_bp10 < 0.05)\n",
    "bar_df_2 = df_2_output %>% filter(rAF_bp10 < 0.05)\n",
    "bar_df_3 = df_3_output %>% filter(rAF_bp10 < 0.05)\n",
    "\n",
    "#Create bargraphs.\n",
    "\n",
    "bargraph_df_1 = ggplot (bar_df_1, aes(x = rAF_bp10 , fill = as.factor(log_key))) + geom_histogram(binwidth = 0.001, position = \"dodge\") + scale_y_continuous (trans = scales::pseudo_log_trans(), breaks = c(1,100, 1000, 10000)) + scale_fill_manual(labels = c(\"B/LB\", \"P/LP\"), values = c(\"#000000\", \"#989898\")) + labs( y = \"gnomAD Indels (log)\", x = \"rAF (10bp Sliding Window)\", fill = \"Classification\") +  theme(axis.text=element_text(size=20),  axis.title=element_text(size=20), legend.text = element_text(size = 20), legend.title = element_text(size = 20), legend.position = c(0.85,0.8), legend.background = element_rect(fill = \"white\", color = \"grey\"), panel.background = element_rect(fill = \"white\", color = \"grey\"), panel.grid.major = element_line(color = \"white\"), plot.margin = margin( 1, 1, 1, 1, \"cm\"), plot.title = element_text(hjust = 0.5, size = 32, margin = margin( 1, 1, 1, 1, \"cm\")), axis.title.y = element_text(margin = margin( 0.5, 0.5, 0.5, 0.5, \"cm\"), angle = 90), axis.title.x = element_text(margin = margin( 1, 1, 1, 1, \"cm\"))) \n",
    "\n",
    "\n",
    "bargraph_df_2 = ggplot (bar_df_2, aes(x = rAF_bp10 , fill = as.factor(log_key))) + geom_histogram(binwidth = 0.001, position = \"dodge\") + scale_y_continuous (trans = scales::pseudo_log_trans(), breaks = c(1,100, 1000, 10000)) + scale_fill_manual(labels = c(\"B/LB\", \"P/LP\"), values = c(\"#000000\", \"#989898\")) + labs( y = \"IGM Indels (log)\", x = \"rAF (10bp Sliding Window)\", fill = \"Classification\") +  theme(axis.text=element_text(size=20),  axis.title=element_text(size=20), legend.text = element_text(size = 20), legend.title = element_text(size = 20), legend.position = c(0.85, 0.8), legend.background = element_rect(fill = \"white\", color = \"grey\") , panel.background = element_rect(fill = \"white\", color = \"grey\"), panel.grid.major = element_line(color = \"white\"), plot.margin = margin( 1, 1, 1, 1, \"cm\"), plot.title = element_text(hjust = 0.5, size = 32, margin = margin( 1, 1, 1, 1, \"cm\")), axis.title.y = element_text(margin = margin( 0.5, 0.5, 0.5, 0.5, \"cm\"), angle = 90), axis.title.x = element_text(margin = margin( 1, 1, 1, 1, \"cm\")))\n",
    "\n",
    "\n",
    "bargraph_df_3 = ggplot (bar_df_3, aes(x = rAF_bp10 , fill = as.factor(log_key))) + geom_histogram(binwidth = 0.001, position = \"dodge\") + scale_y_continuous (trans = scales::pseudo_log_trans(), breaks = c(1,100, 1000, 10000)) + scale_fill_manual(labels = c(\"B/LB\", \"P/LP\"), values = c(\"#000000\", \"#989898\")) + labs( y = \"UK.BB Indels (log)\", x = \"rAF (10bp Sliding Window)\", fill = \"Classification\") +  theme(axis.text=element_text(size=20),  axis.title=element_text(size=20), legend.text = element_text(size = 20), legend.title = element_text(size = 20), legend.position = c(0.85, 0.8), legend.background = element_rect(fill = \"white\", color = \"grey\") , panel.background = element_rect(fill = \"white\", color = \"grey\"), panel.grid.major = element_line(color = \"white\"), plot.margin = margin( 1, 1, 1, 1, \"cm\"), plot.title = element_text(hjust = 0.5, size = 32, margin = margin( 1, 1, 1, 1, \"cm\")), axis.title.y = element_text(margin = margin( 0.5, 0.5, 0.5, 0.5, \"cm\"), angle = 90), axis.title.x = element_text(margin = margin( 1, 1, 1, 1, \"cm\")))\n"
   ]
  },
  {
   "cell_type": "code",
   "execution_count": 25,
   "id": "2c5b3163-5702-4837-9507-83cd301332a4",
   "metadata": {
    "vscode": {
     "languageId": "r"
    }
   },
   "outputs": [],
   "source": [
    "#Create logistic regression graphs with rAF on the x-axis. \n",
    "\n",
    "logreg_df_1 = ggplot(df_1_output, aes(x=rAF_bp10, y=log_key)) + geom_point() +\n",
    "  stat_smooth(method=\"glm\", color=\"dark grey\", se=TRUE,\n",
    "              method.args = list(family=binomial)) + xlim (0,1.5) + labs( y = \"Log Odds (P/LP)\", x = \"gnomAD rAF\") +  theme(axis.text=element_text(size=20),  axis.title=element_text(size=20), plot.margin = margin( 1, 1, 1, 1, \"cm\"), axis.title.y = element_text(margin = margin( 1, 1, 1, 1, \"cm\"), angle = 90), axis.title.x = element_text(margin = margin( 1, 1, 1, 1, \"cm\"))) + geom_text(x = 1.5 ,y = 0.9,inherit.aes = FALSE,label = paste0(\"MSE: \", round(MSE_rAF_df1,2) ),check_overlap = TRUE,hjust = 1,fontface = 'bold',size = 10) + coord_cartesian(clip = \"off\") + geom_text(x = -0.23 ,y = 1,inherit.aes = FALSE,label = paste0(\"P/LP\" ),check_overlap = TRUE,hjust = 1,fontface = 'bold',size = 10) + geom_text(x = -0.23 ,y = 0,inherit.aes = FALSE,label = paste0(\"B/LB\" ),check_overlap = TRUE,hjust = 1,fontface = 'bold',size = 10)\n",
    "\n",
    "\n",
    "logreg_df_2 = ggplot(df_2_output, aes(x=rAF_bp10, y=log_key)) + geom_point() +\n",
    "  stat_smooth(method=\"glm\", color=\"dark grey\", se=TRUE,\n",
    "              method.args = list(family=binomial)) + labs( y = \"Log Odds (P/LP)\", x = \"IGM rAF\") +  theme(axis.text=element_text(size=20), axis.title=element_text(size=20), plot.margin = margin( 1, 1, 1, 1, \"cm\"), axis.title.y = element_text(margin = margin(1, 1, 1, 1, \"cm\"), angle = 90), axis.title.x = element_text(margin = margin( 1, 1, 1, 1, \"cm\"))) + geom_text(x = 1.5 ,y = 0.9,inherit.aes = FALSE,label = paste0(\"MSE: \", round(MSE_rAF_df2,2) ),check_overlap = TRUE,hjust = 1,fontface = 'bold',size = 10) + coord_cartesian(clip = \"off\") + geom_text(x = -0.23 ,y = 1,inherit.aes = FALSE,label = paste0(\"P/LP\" ),check_overlap = TRUE,hjust = 1,fontface = 'bold',size = 10) + geom_text(x = -0.23 ,y = 0,inherit.aes = FALSE,label = paste0(\"B/LB\" ),check_overlap = TRUE,hjust = 1,fontface = 'bold',size = 10)\n",
    "\n",
    "\n",
    "logreg_df_3 = ggplot(df_3_output, aes(x=rAF_bp10, y=log_key)) + geom_point() +\n",
    "  stat_smooth(method=\"glm\", color=\"dark grey\", se=TRUE,\n",
    "              method.args = list(family=binomial)) + labs( y = \"Log Odds (P/LP)\", x = \"UK.BB rAF\") +  theme(axis.text=element_text(size=20), axis.title=element_text(size=20), plot.margin = margin( 1, 1, 1, 1, \"cm\"), axis.title.y = element_text(margin = margin(1, 1, 1, 1, \"cm\"), angle = 90), axis.title.x = element_text(margin = margin( 1, 1, 1, 1, \"cm\"))) + geom_text(x = 1.5 ,y = 0.9,inherit.aes = FALSE,label = paste0(\"MSE: \", round(MSE_rAF_df3,2) ),check_overlap = TRUE,hjust = 1,fontface = 'bold',size = 10) + coord_cartesian(clip = \"off\") + geom_text(x = -0.23 ,y = 1,inherit.aes = FALSE,label = paste0(\"P/LP\" ),check_overlap = TRUE,hjust = 1,fontface = 'bold',size = 10) + geom_text(x = -0.23 ,y = 0,inherit.aes = FALSE,label = paste0(\"B/LB\" ),check_overlap = TRUE,hjust = 1,fontface = 'bold',size = 10)\n"
   ]
  },
  {
   "cell_type": "code",
   "execution_count": 26,
   "id": "86370ba9-f926-4eca-81f0-c5b44063780c",
   "metadata": {
    "vscode": {
     "languageId": "r"
    }
   },
   "outputs": [],
   "source": [
    "#Find the logistic regression for sAF \n",
    "\n",
    "rAF_logreg_df_1 = ggplot(df_1_output, aes(x=sAF, y=log_key)) + geom_point() +\n",
    "  stat_smooth(method=\"glm\", color=\"dark grey\", se=TRUE,\n",
    "              method.args = list(family=binomial)) + xlim (0, 0.0001) + labs( y = \"Log Odds (P/LP)\", x = \"gnomAD sAF\") +  theme(axis.text=element_text(size=20),  axis.title=element_text(size=20) , plot.margin = margin( 1, 1, 1, 1, \"cm\"), axis.title.y = element_text(margin = margin( 1, 1, 1, 1, \"cm\"), angle = 90), axis.title.x = element_text(margin = margin( 1, 1, 1, 1, \"cm\"))) + geom_text(x = 0.0001 ,y = 0.9,inherit.aes = FALSE,label = paste0(\"MSE: \", round(MSE_sAF_df1,2) ),check_overlap = TRUE,hjust = 1,fontface = 'bold',size = 10) + coord_cartesian(clip = \"off\") + geom_text(x = -0.000015 ,y = 1,inherit.aes = FALSE,label = paste0(\"P/LP\" ),check_overlap = TRUE,hjust = 1,fontface = 'bold',size = 10) + geom_text(x =  -0.000015 ,y = 0,inherit.aes = FALSE,label = paste0(\"B/LB\" ),check_overlap = TRUE,hjust = 1,fontface = 'bold',size = 10)\n",
    "\n",
    "rAF_logreg_df_2 = ggplot(df_2_output, aes(x=sAF, y=log_key)) + geom_point() +\n",
    "  stat_smooth(method=\"glm\", color=\"dark grey\", se=TRUE,\n",
    "              method.args = list(family=binomial)) + xlim (0, 0.0001) + labs( y = \"Log Odds (P/LP)\", x = \"IGM sAF\") +  theme(axis.text=element_text(size=20), axis.title=element_text(size=20), plot.margin = margin( 1, 1, 1, 1, \"cm\"), axis.title.y = element_text(margin = margin( 1, 1, 1, 1, \"cm\"), angle = 90), axis.title.x = element_text(margin = margin( 1, 1, 1, 1, \"cm\"))) + geom_text(x = 0.0001 ,y = 0.9,inherit.aes = FALSE,label = paste0(\"MSE: \", round(MSE_sAF_df2,2)) ,check_overlap = TRUE,hjust = 1,fontface = 'bold',size = 10) + coord_cartesian(clip = \"off\") + geom_text(x =  -0.000015 ,y = 1,inherit.aes = FALSE,label = paste0(\"P/LP\" ),check_overlap = TRUE,hjust = 1,fontface = 'bold',size = 10) + geom_text(x =  -0.000015 ,y = 0,inherit.aes = FALSE,label = paste0(\"B/LB\" ),check_overlap = TRUE,hjust = 1,fontface = 'bold',size = 10)\n",
    "\n",
    "\n",
    "rAF_logreg_df_3 = ggplot(df_3_output, aes(x=sAF, y=log_key)) + geom_point() +\n",
    "  stat_smooth(method=\"glm\", color=\"dark grey\", se=TRUE,\n",
    "              method.args = list(family=binomial)) + xlim (0, 0.0001) + labs( y = \"Log Odds (P/LP)\", x = \"UK.BB sAF\") +  theme(axis.text=element_text(size=20), axis.title=element_text(size=20), plot.margin = margin( 1, 1, 1, 1, \"cm\"), axis.title.y = element_text(margin = margin( 1, 1, 1, 1, \"cm\"), angle = 90), axis.title.x = element_text(margin = margin( 1, 1, 1, 1, \"cm\"))) + geom_text(x = 0.0001 ,y = 0.9,inherit.aes = FALSE,label = paste0(\"MSE: \", round(MSE_sAF_df3,2)) ,check_overlap = TRUE,hjust = 1,fontface = 'bold',size = 10) + coord_cartesian(clip = \"off\") + geom_text(x =  -0.000015 ,y = 1,inherit.aes = FALSE,label = paste0(\"P/LP\" ),check_overlap = TRUE,hjust = 1,fontface = 'bold',size = 10) + geom_text(x =  -0.000015 ,y = 0,inherit.aes = FALSE,label = paste0(\"B/LB\" ),check_overlap = TRUE,hjust = 1,fontface = 'bold',size = 10)\n"
   ]
  },
  {
   "cell_type": "code",
   "execution_count": 27,
   "id": "0f999038-282b-49a3-9bb4-dd11f575e114",
   "metadata": {
    "vscode": {
     "languageId": "r"
    }
   },
   "outputs": [
    {
     "name": "stderr",
     "output_type": "stream",
     "text": [
      "\u001b[1m\u001b[22m`geom_smooth()` using formula = 'y ~ x'\n",
      "\u001b[1m\u001b[22m`geom_smooth()` using formula = 'y ~ x'\n",
      "\u001b[1m\u001b[22m`geom_smooth()` using formula = 'y ~ x'\n",
      "\u001b[1m\u001b[22m`geom_smooth()` using formula = 'y ~ x'\n"
     ]
    },
    {
     "data": {
      "image/png": "[encoded data removed]",
      "text/plain": [
       "plot without title"
      ]
     },
     "metadata": {
      "image/png": {
       "height": 420,
       "width": 420
      }
     },
     "output_type": "display_data"
    }
   ],
   "source": [
    "\n",
    "graph_summary = ggarrange(print(bargraph_df_1), print(logreg_df_1), print(rAF_logreg_df_1), print(bargraph_df_2), print(logreg_df_2), print(rAF_logreg_df_2), print(bargraph_df_3), print(logreg_df_3), print(rAF_logreg_df_3), labels = c(\"A\", \"B\", \"C\", \"D\", \"E\", \"F\", \"G\", \"H\", \"I\"), ncol = 3, nrow = 2, font.label = list(size = 28, color = \"black\")) + theme(plot.margin = unit(c(2,2,2,2), \"cm\"))\n",
    "\n",
    "\n",
    "graph_summary \n",
    "\n",
    "ggsave(\"Fig5.jpg\", width = 80, height = 40, units = c(\"cm\"), dpi = 300)"
   ]
  },
  {
   "cell_type": "code",
   "execution_count": 28,
   "id": "fdb6b3ef-4389-464c-8796-cb1020bbd68b",
   "metadata": {
    "vscode": {
     "languageId": "r"
    }
   },
   "outputs": [],
   "source": [
    "\n",
    "conditions = c(\"rAF_hi\", \"rAF_lo\", \"sAF_hi\")\n",
    "\n",
    "categories = c(\"benign\", \"LB\", \"VUS/other\", \"LP\", \"patho\" )\n",
    "\n",
    "for (i in conditions ) {\n",
    "  for (j in categories) {\n",
    "    ## get temp variable for the condition \n",
    "    condition_df1 = paste0(i, \"_bp_10_df_1\")\n",
    "    condition_df2 = paste0(i, \"_bp_10_df_2\")\n",
    "    condition_df3 = paste0(i, \"_bp_10_df_3\")\n",
    "    \n",
    "    ## set a temp variable for a clinvar merge \n",
    "    clinvar_cond_df1 = paste0(\"clinvar_\", i, \"_bp_10_df_1\")\n",
    "    clinvar_cond_df2 = paste0(\"clinvar_\", i, \"_bp_10_df_2\")\n",
    "    clinvar_cond_df3 = paste0(\"clinvar_\", i, \"_bp_10_df_3\")\n",
    "    \n",
    "    ## merge with clinvar\n",
    "    assign (clinvar_cond_df1, merge(get(condition_df1), clinvar, by = \"VarID\"))\n",
    "    assign (clinvar_cond_df2, merge(get(condition_df2), clinvar, by = \"VarID\"))\n",
    "    assign (clinvar_cond_df3, merge(get(condition_df3), clinvar, by = \"VarID\"))\n",
    "    \n",
    "    ## get a dataframe only for the category (ie. benign, LB, conflict, LP, patho, other)\n",
    "    if (j != \"VUS/other\") {\n",
    "      ##  set a temp variable for a clinvar merge\n",
    "      category_cond_df1 = paste0(j , \"_\", i, \"_bp_10_df1\")\n",
    "      category_cond_df2 = paste0(j , \"_\", i, \"_bp_10_df2\")\n",
    "      category_cond_df3 = paste0(j , \"_\", i, \"_bp_10_df3\")\n",
    "      \n",
    "      #assign temp variable\n",
    "      assign (category_cond_df1, get(clinvar_cond_df1) %>% filter(V10 %in% get(j)))\n",
    "      assign (category_cond_df2, get(clinvar_cond_df2) %>% filter(V10 %in% get(j)))\n",
    "      assign (category_cond_df3, get(clinvar_cond_df3) %>% filter(V10 %in% get(j)))\n",
    "    }\n",
    "    \n",
    "    else {\n",
    "      ##  set a temp variable for a clinvar merge\n",
    "      category_cond_df1 = paste0(\"VUS_other_\", i, \"_bp_10_df1\")\n",
    "      category_cond_df2 = paste0(\"VUS_other_\", i, \"_bp_10_df2\")\n",
    "      category_cond_df3 = paste0(\"VUS_other_\", i, \"_bp_10_df3\")\n",
    "      \n",
    "      #assign temp variable\n",
    "      assign (category_cond_df1, get(clinvar_cond_df1) %>% filter(V10 %in% other | V10 %in% conflict))\n",
    "      assign (category_cond_df2, get(clinvar_cond_df2) %>% filter(V10 %in% other | V10 %in% conflict))\n",
    "      assign (category_cond_df3, get(clinvar_cond_df3) %>% filter(V10 %in% other | V10 %in% conflict))\n",
    "    }\n",
    "    \n",
    "  }\n",
    "}\n"
   ]
  },
  {
   "cell_type": "markdown",
   "id": "c9e91ab6-07b5-4cdb-bca8-96f1f9a99a92",
   "metadata": {},
   "source": [
    "## make the df for each category for db 1 "
   ]
  },
  {
   "cell_type": "code",
   "execution_count": 62,
   "id": "466b3e9e-c7bc-411a-a55a-b9a2c52d5a41",
   "metadata": {
    "vscode": {
     "languageId": "r"
    }
   },
   "outputs": [
    {
     "ename": "ERROR",
     "evalue": "Error in eval(expr, envir, enclos): object 'benign_sAF_lo_bp_40_df3' not found\n",
     "output_type": "error",
     "traceback": [
      "Error in eval(expr, envir, enclos): object 'benign_sAF_lo_bp_40_df3' not found\nTraceback:\n",
      "1. nrow(benign_sAF_lo_bp_40_df3)"
     ]
    }
   ],
   "source": [
    "sAF_hi_categories_df1 = c(nrow(benign_sAF_hi_bp_10_df1), nrow(LB_sAF_hi_bp_10_df1), nrow(VUS_other_sAF_hi_bp_10_df1), nrow(LP_sAF_hi_bp_10_df1), nrow(patho_sAF_hi_bp_10_df1))\n",
    "\n",
    "rAF_hi_categories_df1 = c(nrow(benign_rAF_hi_bp_10_df1), nrow(LB_rAF_hi_bp_10_df1), nrow(VUS_other_rAF_hi_bp_10_df1), nrow(LP_rAF_hi_bp_10_df1), nrow(patho_rAF_hi_bp_10_df1))\n",
    "\n",
    "rAF_lo_categories_df1 = c(nrow(benign_rAF_lo_bp_10_df1), nrow(LB_rAF_lo_bp_10_df1), nrow(VUS_other_rAF_lo_bp_10_df1), nrow(LP_rAF_lo_bp_10_df1), nrow(patho_rAF_lo_bp_10_df1))\n",
    "\n",
    "categories_df1 = data.frame(categories, sAF_hi_categories_df1, rAF_hi_categories_df1, rAF_lo_categories_df1)\n",
    "\n",
    "\n",
    "## make the df for each category for db 2\n",
    "sAF_hi_categories_df2 = c(nrow(benign_sAF_hi_bp_10_df2), nrow(LB_sAF_hi_bp_10_df2), nrow(VUS_other_sAF_hi_bp_10_df2), nrow(LP_sAF_hi_bp_10_df2), nrow(patho_sAF_hi_bp_10_df2))\n",
    "\n",
    "rAF_hi_categories_df2 = c(nrow(benign_rAF_hi_bp_10_df2), nrow(LB_rAF_hi_bp_10_df2), nrow(VUS_other_rAF_hi_bp_10_df2), nrow(LP_rAF_hi_bp_10_df2), nrow(patho_rAF_hi_bp_10_df2))\n",
    "\n",
    "rAF_lo_categories_df2 = c(nrow(benign_rAF_lo_bp_10_df2), nrow(LB_rAF_lo_bp_10_df2), nrow(VUS_other_rAF_lo_bp_10_df2), nrow(LP_rAF_lo_bp_10_df2), nrow(patho_rAF_lo_bp_10_df2))\n",
    "\n",
    "categories_df2 = data.frame(categories, sAF_hi_categories_df2, rAF_hi_categories_df2, rAF_lo_categories_df2)\n",
    "\n",
    "\n",
    "sAF_hi_categories_df3 = c(nrow(benign_sAF_hi_bp_10_df3), nrow(LB_sAF_hi_bp_10_df3), nrow(VUS_other_sAF_hi_bp_10_df3), nrow(LP_sAF_hi_bp_10_df3), nrow(patho_sAF_hi_bp_10_df3))\n",
    "\n",
    "rAF_hi_categories_df3 = c(nrow(benign_rAF_hi_bp_10_df3), nrow(LB_rAF_hi_bp_10_df3), nrow(VUS_other_rAF_hi_bp_10_df3), nrow(LP_rAF_hi_bp_10_df3), nrow(patho_rAF_hi_bp_10_df3))\n",
    "\n",
    "rAF_lo_categories_df3 = c(nrow(benign_rAF_lo_bp_10_df3), nrow(LB_rAF_lo_bp_10_df3), nrow(VUS_other_rAF_lo_bp_10_df3), nrow(LP_rAF_lo_bp_10_df3), nrow(patho_rAF_lo_bp_10_df3))\n",
    "\n",
    "categories_df3 = data.frame(categories, sAF_hi_categories_df3, rAF_hi_categories_df3, rAF_lo_categories_df3)\n",
    "\n",
    "categories_df1\n",
    "categories_df2\n",
    "categories_df3\n",
    "\n",
    "fwrite(categories_df1, \"2023-05-08_pvalues_clinvar_gnomad.csv\")\n",
    "fwrite(categories_df2, \"2023-05-08_pvalues_clinvar_igm.csv\")\n",
    "fwrite(categories_df3, \"2023-05-08_pvalues_clinvar_UK.BB.csv\") #may have to change name scheme later \n"
   ]
  },
  {
   "cell_type": "markdown",
   "id": "7df4da8b-d6fe-47cb-b285-0f5c946d7822",
   "metadata": {},
   "source": [
    "# Make Table S9/S10"
   ]
  },
  {
   "cell_type": "code",
   "execution_count": 61,
   "id": "10849387-e06e-442e-8d69-395f8ba1510c",
   "metadata": {
    "vscode": {
     "languageId": "r"
    }
   },
   "outputs": [
    {
     "data": {
      "text/html": [
       "<table class=\"dataframe\">\n",
       "<caption>A data.frame: 4 × 6</caption>\n",
       "<thead>\n",
       "\t<tr><th scope=col>cat</th><th scope=col>sAF_lo_sAF_df3</th><th scope=col>prct_rAF_hi_10bp_df3</th><th scope=col>prct_rAF_hi_20bp_df3</th><th scope=col>prct_rAF_hi_30bp_df3</th><th scope=col>prct_rAF_hi_40bp_df3</th></tr>\n",
       "\t<tr><th scope=col>&lt;chr&gt;</th><th scope=col>&lt;int&gt;</th><th scope=col>&lt;chr&gt;</th><th scope=col>&lt;chr&gt;</th><th scope=col>&lt;chr&gt;</th><th scope=col>&lt;chr&gt;</th></tr>\n",
       "</thead>\n",
       "<tbody>\n",
       "\t<tr><td>benign</td><td> 550</td><td>13%</td><td>16%</td><td>17%</td><td>19%</td></tr>\n",
       "\t<tr><td>LB    </td><td>2582</td><td>9% </td><td>11%</td><td>12%</td><td>13%</td></tr>\n",
       "\t<tr><td>patho </td><td>2109</td><td>0% </td><td>1% </td><td>1% </td><td>1% </td></tr>\n",
       "\t<tr><td>LP    </td><td> 407</td><td>0% </td><td>1% </td><td>1% </td><td>3% </td></tr>\n",
       "</tbody>\n",
       "</table>\n"
      ],
      "text/latex": [
       "A data.frame: 4 × 6\n",
       "\\begin{tabular}{llllll}\n",
       " cat & sAF\\_lo\\_sAF\\_df3 & prct\\_rAF\\_hi\\_10bp\\_df3 & prct\\_rAF\\_hi\\_20bp\\_df3 & prct\\_rAF\\_hi\\_30bp\\_df3 & prct\\_rAF\\_hi\\_40bp\\_df3\\\\\n",
       " <chr> & <int> & <chr> & <chr> & <chr> & <chr>\\\\\n",
       "\\hline\n",
       "\t benign &  550 & 13\\% & 16\\% & 17\\% & 19\\%\\\\\n",
       "\t LB     & 2582 & 9\\%  & 11\\% & 12\\% & 13\\%\\\\\n",
       "\t patho  & 2109 & 0\\%  & 1\\%  & 1\\%  & 1\\% \\\\\n",
       "\t LP     &  407 & 0\\%  & 1\\%  & 1\\%  & 3\\% \\\\\n",
       "\\end{tabular}\n"
      ],
      "text/markdown": [
       "\n",
       "A data.frame: 4 × 6\n",
       "\n",
       "| cat &lt;chr&gt; | sAF_lo_sAF_df3 &lt;int&gt; | prct_rAF_hi_10bp_df3 &lt;chr&gt; | prct_rAF_hi_20bp_df3 &lt;chr&gt; | prct_rAF_hi_30bp_df3 &lt;chr&gt; | prct_rAF_hi_40bp_df3 &lt;chr&gt; |\n",
       "|---|---|---|---|---|---|\n",
       "| benign |  550 | 13% | 16% | 17% | 19% |\n",
       "| LB     | 2582 | 9%  | 11% | 12% | 13% |\n",
       "| patho  | 2109 | 0%  | 1%  | 1%  | 1%  |\n",
       "| LP     |  407 | 0%  | 1%  | 1%  | 3%  |\n",
       "\n"
      ],
      "text/plain": [
       "  cat    sAF_lo_sAF_df3 prct_rAF_hi_10bp_df3 prct_rAF_hi_20bp_df3\n",
       "1 benign  550           13%                  16%                 \n",
       "2 LB     2582           9%                   11%                 \n",
       "3 patho  2109           0%                   1%                  \n",
       "4 LP      407           0%                   1%                  \n",
       "  prct_rAF_hi_30bp_df3 prct_rAF_hi_40bp_df3\n",
       "1 17%                  19%                 \n",
       "2 12%                  13%                 \n",
       "3 1%                   1%                  \n",
       "4 1%                   3%                  "
      ]
     },
     "metadata": {},
     "output_type": "display_data"
    }
   ],
   "source": [
    "#Find the percentage of rAF_hi indels for each bp window for each of the following categories: Benign/likely benign (LB), pathogenic (patho) and likey pathogenic (LP) \n",
    "\n",
    "cat = c(\"benign\", \"LB\", \"patho\", \"LP\")\n",
    "\n",
    "## Find rAF_lo \n",
    "for (i in cat) {\n",
    "  ## set var \n",
    "  cat_1 = paste0(i, \"_rAF_lo_sAF_df1\")\n",
    "  cat_2 = paste0(i, \"_rAF_lo_sAF_df2\")\n",
    "  cat_3 = paste0(i, \"_rAF_lo_sAF_df3\")\n",
    "  \n",
    "  #assign\n",
    "  assign(cat_1, df_1_clinvar %>% filter(sAF <= rAF_lo) %>% filter(V10 %in% get(i)))\n",
    "  assign(cat_2, df_2_clinvar %>% filter(sAF <= rAF_lo) %>% filter(V10 %in% get(i)))\n",
    "  assign(cat_3, df_3_clinvar %>% filter(sAF <= rAF_lo) %>% filter(V10 %in% get(i)))\n",
    "}\n",
    "\n",
    "## Find percentage\n",
    "for (i in bp_range) {\n",
    "  for (j in cat) {\n",
    "    ## get denominator (rAF_lo)\n",
    "    rAF_lo_sAF_df1 = paste0(j, \"_rAF_lo_sAF_df1\")\n",
    "    rAF_lo_sAF_df2 = paste0(j, \"_rAF_lo_sAF_df2\")\n",
    "    rAF_lo_sAF_df3 = paste0(j, \"_rAF_lo_sAF_df3\")\n",
    "    \n",
    "    ## set percent output \n",
    "    prct_rAF_hi_1 = paste0(\"prct_bp_\", i, \"_\", j, \"_df1\")\n",
    "    prct_rAF_hi_2 = paste0(\"prct_bp_\", i, \"_\", j, \"_df2\")\n",
    "    prct_rAF_hi_3 = paste0(\"prct_bp_\", i, \"_\", j, \"_df3\")\n",
    "    ## set rAF window \n",
    "    temp_window = paste0(\"rAF_bp\", i)\n",
    "    \n",
    "    ## assign percentage \n",
    "    assign (prct_rAF_hi_1, paste0(round(nrow(get(rAF_lo_sAF_df1) %>% filter(get(temp_window) > rAF_lo)) / nrow(get(rAF_lo_sAF_df1)) * 100 , 0), \"%\"))\n",
    "    assign (prct_rAF_hi_2, paste0(round(nrow(get(rAF_lo_sAF_df2) %>% filter(get(temp_window) > rAF_lo)) / nrow(get(rAF_lo_sAF_df2)) * 100 , 0), \"%\"))\n",
    "    assign (prct_rAF_hi_3, paste0(round(nrow(get(rAF_lo_sAF_df3) %>% filter(get(temp_window) > rAF_lo)) / nrow(get(rAF_lo_sAF_df3)) * 100 , 0), \"%\"))\n",
    "    \n",
    "  }\n",
    "}\n",
    "\n",
    "## make df that show the percentage of rAF_hi indels for each categories for dataframe 1 \n",
    "rAF_lo_sAF_df1 = c(nrow(benign_rAF_lo_sAF_df1), nrow(LB_rAF_lo_sAF_df1), nrow(patho_rAF_lo_sAF_df1), nrow(LP_rAF_lo_sAF_df1))\n",
    "prct_rAF_hi_10bp_df1 = c(prct_bp_10_benign_df1, prct_bp_10_LB_df1, prct_bp_10_patho_df1, prct_bp_10_LP_df1)\n",
    "prct_rAF_hi_20bp_df1 = c(prct_bp_20_benign_df1, prct_bp_20_LB_df1, prct_bp_20_patho_df1, prct_bp_20_LP_df1)\n",
    "prct_rAF_hi_30bp_df1 = c(prct_bp_30_benign_df1, prct_bp_30_LB_df1, prct_bp_30_patho_df1, prct_bp_30_LP_df1)\n",
    "prct_rAF_hi_40bp_df1 = c(prct_bp_40_benign_df1, prct_bp_40_LB_df1, prct_bp_40_patho_df1, prct_bp_40_LP_df1)\n",
    "\n",
    "prct_rAF_hi_cat_df_1 = data.frame (cat, rAF_lo_sAF_df1, prct_rAF_hi_10bp_df1, prct_rAF_hi_20bp_df1, prct_rAF_hi_30bp_df1, prct_rAF_hi_40bp_df1)\n",
    "\n",
    "\n",
    "## make df that show the percentage of rAF_hi indels for each categories for dataframe 2 \n",
    "rAF_lo_sAF_df2 = c(nrow(benign_rAF_lo_sAF_df2), nrow(LB_rAF_lo_sAF_df2), nrow(patho_rAF_lo_bp_10_df2), nrow(LP_rAF_lo_sAF_df2))\n",
    "prct_rAF_hi_10bp_df2 = c(prct_bp_10_benign_df2, prct_bp_10_LB_df2, prct_bp_10_patho_df2, prct_bp_10_LP_df2)\n",
    "prct_rAF_hi_20bp_df2 = c(prct_bp_20_benign_df2, prct_bp_20_LB_df2, prct_bp_20_patho_df2, prct_bp_20_LP_df2)\n",
    "prct_rAF_hi_30bp_df2 = c(prct_bp_30_benign_df2, prct_bp_30_LB_df2, prct_bp_30_patho_df2, prct_bp_30_LP_df2)\n",
    "prct_rAF_hi_40bp_df2 = c(prct_bp_40_benign_df2, prct_bp_40_LB_df2, prct_bp_40_patho_df2, prct_bp_40_LP_df2)\n",
    "\n",
    "prct_rAF_hi_cat_df_2 = data.frame (cat, rAF_lo_sAF_df2, prct_rAF_hi_10bp_df2, prct_rAF_hi_20bp_df2, prct_rAF_hi_30bp_df2, prct_rAF_hi_40bp_df2)\n",
    "\n",
    "## make df that show the percentage of rAF_hi indels for each categories for dataframe 2 \n",
    "rAF_lo_sAF_df3 = c(nrow(benign_rAF_lo_sAF_df3), nrow(LB_rAF_lo_sAF_df3), nrow(patho_rAF_lo_bp_10_df3), nrow(LP_rAF_lo_sAF_df3))  \n",
    "prct_rAF_hi_10bp_df3 = c(prct_bp_10_benign_df3, prct_bp_10_LB_df3, prct_bp_10_patho_df3, prct_bp_10_LP_df3)\n",
    "prct_rAF_hi_20bp_df3 = c(prct_bp_20_benign_df3, prct_bp_20_LB_df3, prct_bp_20_patho_df3, prct_bp_20_LP_df3)\n",
    "prct_rAF_hi_30bp_df3 = c(prct_bp_30_benign_df3, prct_bp_30_LB_df3, prct_bp_30_patho_df3, prct_bp_30_LP_df3)\n",
    "prct_rAF_hi_40bp_df3 = c(prct_bp_40_benign_df3, prct_bp_40_LB_df3, prct_bp_40_patho_df3, prct_bp_40_LP_df3)\n",
    "\n",
    "prct_rAF_hi_cat_df_3 = data.frame (cat, rAF_lo_sAF_df3, prct_rAF_hi_10bp_df3, prct_rAF_hi_20bp_df3, prct_rAF_hi_30bp_df3, prct_rAF_hi_40bp_df3)\n",
    "\n",
    "prct_rAF_hi_cat_df_1\n",
    "prct_rAF_hi_cat_df_2\n",
    "prct_rAF_hi_cat_df_3\n"
   ]
  },
  {
   "cell_type": "markdown",
   "id": "3180a91f-9c3a-47dc-bd26-7a29ee5916ba",
   "metadata": {},
   "source": [
    "## Find the number of rAF_hi by sAF P/LP indels that have a rAF > 1% "
   ]
  },
  {
   "cell_type": "code",
   "execution_count": 86,
   "id": "9b51d5cc-49fb-4590-878d-c9dd69ed2c46",
   "metadata": {
    "vscode": {
     "languageId": "r"
    }
   },
   "outputs": [
    {
     "data": {
      "text/html": [
       "<table class=\"dataframe\">\n",
       "<caption>A data.frame: 4 × 2</caption>\n",
       "<thead>\n",
       "\t<tr><th scope=col>bp_range</th><th scope=col>P_LP_rAF_gt_1_df3</th></tr>\n",
       "\t<tr><th scope=col>&lt;chr&gt;</th><th scope=col>&lt;int&gt;</th></tr>\n",
       "</thead>\n",
       "<tbody>\n",
       "\t<tr><td>10</td><td>2</td></tr>\n",
       "\t<tr><td>20</td><td>2</td></tr>\n",
       "\t<tr><td>30</td><td>2</td></tr>\n",
       "\t<tr><td>40</td><td>2</td></tr>\n",
       "</tbody>\n",
       "</table>\n"
      ],
      "text/latex": [
       "A data.frame: 4 × 2\n",
       "\\begin{tabular}{ll}\n",
       " bp\\_range & P\\_LP\\_rAF\\_gt\\_1\\_df3\\\\\n",
       " <chr> & <int>\\\\\n",
       "\\hline\n",
       "\t 10 & 2\\\\\n",
       "\t 20 & 2\\\\\n",
       "\t 30 & 2\\\\\n",
       "\t 40 & 2\\\\\n",
       "\\end{tabular}\n"
      ],
      "text/markdown": [
       "\n",
       "A data.frame: 4 × 2\n",
       "\n",
       "| bp_range &lt;chr&gt; | P_LP_rAF_gt_1_df3 &lt;int&gt; |\n",
       "|---|---|\n",
       "| 10 | 2 |\n",
       "| 20 | 2 |\n",
       "| 30 | 2 |\n",
       "| 40 | 2 |\n",
       "\n"
      ],
      "text/plain": [
       "  bp_range P_LP_rAF_gt_1_df3\n",
       "1 10       2                \n",
       "2 20       2                \n",
       "3 30       2                \n",
       "4 40       2                "
      ]
     },
     "metadata": {},
     "output_type": "display_data"
    }
   ],
   "source": [
    "\n",
    "for (i in bp_range) {\n",
    "  \n",
    "  temp_df1 = paste0(\"bp_\", i,\"_P_LP_rAF_gt_1_df1\")\n",
    "  temp_df2 = paste0(\"bp_\", i,\"_P_LP_rAF_gt_1_df2\")\n",
    "  temp_df3 = paste0(\"bp_\", i,\"_P_LP_rAF_gt_1_df3\")\n",
    "  \n",
    "  ## set rAF window \n",
    "  temp_window = paste0(\"rAF_bp\", i)\n",
    "  \n",
    "  assign(temp_df1, nrow(df_1_clinvar %>% filter (sAF <= rAF_lo & get(temp_window) > rAF_lo) %>%  filter(V10 %in% patho | V10 %in% LP) %>% filter(get(temp_window) > 0.01)))\n",
    "  assign(temp_df2, nrow(df_2_clinvar %>% filter (sAF <= rAF_lo & get(temp_window) > rAF_lo) %>% filter(V10 %in% patho | V10 %in% LP) %>% filter(get(temp_window) > 0.01)))\n",
    "  assign(temp_df3, nrow(df_3_clinvar %>% filter (sAF <= rAF_lo & get(temp_window) > rAF_lo) %>% filter(V10 %in% patho | V10 %in% LP) %>% filter(get(temp_window) > 0.01)))\n",
    "}\n",
    "\n",
    "P_LP_rAF_gt_1_df1 = c(bp_10_P_LP_rAF_gt_1_df1, bp_20_P_LP_rAF_gt_1_df1, bp_30_P_LP_rAF_gt_1_df1, bp_40_P_LP_rAF_gt_1_df1)\n",
    "P_LP_rAF_gt_1_df2 = c(bp_10_P_LP_rAF_gt_1_df2, bp_20_P_LP_rAF_gt_1_df2, bp_30_P_LP_rAF_gt_1_df2, bp_40_P_LP_rAF_gt_1_df2)\n",
    "P_LP_rAF_gt_1_df3 = c(bp_10_P_LP_rAF_gt_1_df3, bp_20_P_LP_rAF_gt_1_df3, bp_30_P_LP_rAF_gt_1_df3, bp_40_P_LP_rAF_gt_1_df3)\n",
    "\n",
    "dataframe_P_LP_gt_1 = data.frame(bp_range, P_LP_rAF_gt_1_df1, P_LP_rAF_gt_1_df2, P_LP_rAF_gt_1_df3)\n",
    "\n",
    "\n",
    "dataframe_P_LP_gt_1\n"
   ]
  },
  {
   "cell_type": "markdown",
   "id": "42250fcd-c280-4e92-b86e-a44bd56b2d5d",
   "metadata": {},
   "source": [
    "## Supplementary Excel 1 and Excel 2 "
   ]
  },
  {
   "cell_type": "code",
   "execution_count": 33,
   "id": "008283f8-9da1-4f4d-85ff-083d9efea8c4",
   "metadata": {
    "vscode": {
     "languageId": "r"
    }
   },
   "outputs": [
    {
     "data": {
      "text/html": [
       "<table class=\"dataframe\">\n",
       "<caption>A data.frame: 316 × 3</caption>\n",
       "<thead>\n",
       "\t<tr><th scope=col>rAF_bp10</th><th scope=col>count_B_LB</th><th scope=col>count_P_LP</th></tr>\n",
       "\t<tr><th scope=col>&lt;dbl&gt;</th><th scope=col>&lt;dbl&gt;</th><th scope=col>&lt;dbl&gt;</th></tr>\n",
       "</thead>\n",
       "<tbody>\n",
       "\t<tr><td>1.0e-06</td><td>443</td><td>768</td></tr>\n",
       "\t<tr><td>2.0e-06</td><td>219</td><td>268</td></tr>\n",
       "\t<tr><td>3.0e-06</td><td>194</td><td>314</td></tr>\n",
       "\t<tr><td>4.0e-06</td><td> 78</td><td> 65</td></tr>\n",
       "\t<tr><td>5.0e-06</td><td>158</td><td>182</td></tr>\n",
       "\t<tr><td>6.0e-06</td><td>128</td><td> 98</td></tr>\n",
       "\t<tr><td>7.0e-06</td><td> 96</td><td> 84</td></tr>\n",
       "\t<tr><td>8.0e-06</td><td> 77</td><td> 65</td></tr>\n",
       "\t<tr><td>9.0e-06</td><td> 43</td><td> 28</td></tr>\n",
       "\t<tr><td>1.0e-05</td><td> 71</td><td> 46</td></tr>\n",
       "\t<tr><td>1.1e-05</td><td> 63</td><td> 43</td></tr>\n",
       "\t<tr><td>1.2e-05</td><td> 65</td><td> 48</td></tr>\n",
       "\t<tr><td>1.3e-05</td><td> 26</td><td> 29</td></tr>\n",
       "\t<tr><td>1.4e-05</td><td> 51</td><td> 40</td></tr>\n",
       "\t<tr><td>1.5e-05</td><td> 51</td><td> 35</td></tr>\n",
       "\t<tr><td>1.6e-05</td><td> 33</td><td> 28</td></tr>\n",
       "\t<tr><td>1.7e-05</td><td> 20</td><td>  8</td></tr>\n",
       "\t<tr><td>1.8e-05</td><td> 47</td><td> 30</td></tr>\n",
       "\t<tr><td>1.9e-05</td><td> 41</td><td> 12</td></tr>\n",
       "\t<tr><td>2.0e-05</td><td> 31</td><td> 19</td></tr>\n",
       "\t<tr><td>2.1e-05</td><td> 21</td><td> 16</td></tr>\n",
       "\t<tr><td>2.2e-05</td><td> 22</td><td> 11</td></tr>\n",
       "\t<tr><td>2.3e-05</td><td> 27</td><td> 11</td></tr>\n",
       "\t<tr><td>2.4e-05</td><td> 31</td><td> 11</td></tr>\n",
       "\t<tr><td>2.5e-05</td><td> 31</td><td>  7</td></tr>\n",
       "\t<tr><td>2.6e-05</td><td> 11</td><td> 13</td></tr>\n",
       "\t<tr><td>2.7e-05</td><td> 27</td><td> 10</td></tr>\n",
       "\t<tr><td>2.8e-05</td><td> 24</td><td> 13</td></tr>\n",
       "\t<tr><td>2.9e-05</td><td> 30</td><td> 11</td></tr>\n",
       "\t<tr><td>3.0e-05</td><td> 19</td><td> 11</td></tr>\n",
       "\t<tr><td>⋮</td><td>⋮</td><td>⋮</td></tr>\n",
       "\t<tr><td>0.131524</td><td>2</td><td>0</td></tr>\n",
       "\t<tr><td>0.135309</td><td>1</td><td>0</td></tr>\n",
       "\t<tr><td>0.139011</td><td>1</td><td>0</td></tr>\n",
       "\t<tr><td>0.153493</td><td>1</td><td>0</td></tr>\n",
       "\t<tr><td>0.157689</td><td>1</td><td>0</td></tr>\n",
       "\t<tr><td>0.162736</td><td>2</td><td>0</td></tr>\n",
       "\t<tr><td>0.166922</td><td>1</td><td>0</td></tr>\n",
       "\t<tr><td>0.167011</td><td>1</td><td>0</td></tr>\n",
       "\t<tr><td>0.168343</td><td>8</td><td>0</td></tr>\n",
       "\t<tr><td>0.173662</td><td>1</td><td>0</td></tr>\n",
       "\t<tr><td>0.179490</td><td>1</td><td>0</td></tr>\n",
       "\t<tr><td>0.180585</td><td>1</td><td>0</td></tr>\n",
       "\t<tr><td>0.190901</td><td>1</td><td>0</td></tr>\n",
       "\t<tr><td>0.192385</td><td>1</td><td>0</td></tr>\n",
       "\t<tr><td>0.194151</td><td>1</td><td>0</td></tr>\n",
       "\t<tr><td>0.198085</td><td>2</td><td>0</td></tr>\n",
       "\t<tr><td>0.202713</td><td>3</td><td>0</td></tr>\n",
       "\t<tr><td>0.217911</td><td>1</td><td>0</td></tr>\n",
       "\t<tr><td>0.219208</td><td>1</td><td>0</td></tr>\n",
       "\t<tr><td>0.220073</td><td>1</td><td>0</td></tr>\n",
       "\t<tr><td>0.230458</td><td>1</td><td>0</td></tr>\n",
       "\t<tr><td>0.234282</td><td>1</td><td>0</td></tr>\n",
       "\t<tr><td>0.240624</td><td>0</td><td>1</td></tr>\n",
       "\t<tr><td>0.250244</td><td>1</td><td>0</td></tr>\n",
       "\t<tr><td>0.263607</td><td>2</td><td>0</td></tr>\n",
       "\t<tr><td>0.269930</td><td>1</td><td>0</td></tr>\n",
       "\t<tr><td>0.275912</td><td>1</td><td>0</td></tr>\n",
       "\t<tr><td>0.277437</td><td>2</td><td>0</td></tr>\n",
       "\t<tr><td>0.327657</td><td>1</td><td>0</td></tr>\n",
       "\t<tr><td>0.337150</td><td>2</td><td>0</td></tr>\n",
       "</tbody>\n",
       "</table>\n"
      ],
      "text/latex": [
       "A data.frame: 316 × 3\n",
       "\\begin{tabular}{lll}\n",
       " rAF\\_bp10 & count\\_B\\_LB & count\\_P\\_LP\\\\\n",
       " <dbl> & <dbl> & <dbl>\\\\\n",
       "\\hline\n",
       "\t 1.0e-06 & 443 & 768\\\\\n",
       "\t 2.0e-06 & 219 & 268\\\\\n",
       "\t 3.0e-06 & 194 & 314\\\\\n",
       "\t 4.0e-06 &  78 &  65\\\\\n",
       "\t 5.0e-06 & 158 & 182\\\\\n",
       "\t 6.0e-06 & 128 &  98\\\\\n",
       "\t 7.0e-06 &  96 &  84\\\\\n",
       "\t 8.0e-06 &  77 &  65\\\\\n",
       "\t 9.0e-06 &  43 &  28\\\\\n",
       "\t 1.0e-05 &  71 &  46\\\\\n",
       "\t 1.1e-05 &  63 &  43\\\\\n",
       "\t 1.2e-05 &  65 &  48\\\\\n",
       "\t 1.3e-05 &  26 &  29\\\\\n",
       "\t 1.4e-05 &  51 &  40\\\\\n",
       "\t 1.5e-05 &  51 &  35\\\\\n",
       "\t 1.6e-05 &  33 &  28\\\\\n",
       "\t 1.7e-05 &  20 &   8\\\\\n",
       "\t 1.8e-05 &  47 &  30\\\\\n",
       "\t 1.9e-05 &  41 &  12\\\\\n",
       "\t 2.0e-05 &  31 &  19\\\\\n",
       "\t 2.1e-05 &  21 &  16\\\\\n",
       "\t 2.2e-05 &  22 &  11\\\\\n",
       "\t 2.3e-05 &  27 &  11\\\\\n",
       "\t 2.4e-05 &  31 &  11\\\\\n",
       "\t 2.5e-05 &  31 &   7\\\\\n",
       "\t 2.6e-05 &  11 &  13\\\\\n",
       "\t 2.7e-05 &  27 &  10\\\\\n",
       "\t 2.8e-05 &  24 &  13\\\\\n",
       "\t 2.9e-05 &  30 &  11\\\\\n",
       "\t 3.0e-05 &  19 &  11\\\\\n",
       "\t ⋮ & ⋮ & ⋮\\\\\n",
       "\t 0.131524 & 2 & 0\\\\\n",
       "\t 0.135309 & 1 & 0\\\\\n",
       "\t 0.139011 & 1 & 0\\\\\n",
       "\t 0.153493 & 1 & 0\\\\\n",
       "\t 0.157689 & 1 & 0\\\\\n",
       "\t 0.162736 & 2 & 0\\\\\n",
       "\t 0.166922 & 1 & 0\\\\\n",
       "\t 0.167011 & 1 & 0\\\\\n",
       "\t 0.168343 & 8 & 0\\\\\n",
       "\t 0.173662 & 1 & 0\\\\\n",
       "\t 0.179490 & 1 & 0\\\\\n",
       "\t 0.180585 & 1 & 0\\\\\n",
       "\t 0.190901 & 1 & 0\\\\\n",
       "\t 0.192385 & 1 & 0\\\\\n",
       "\t 0.194151 & 1 & 0\\\\\n",
       "\t 0.198085 & 2 & 0\\\\\n",
       "\t 0.202713 & 3 & 0\\\\\n",
       "\t 0.217911 & 1 & 0\\\\\n",
       "\t 0.219208 & 1 & 0\\\\\n",
       "\t 0.220073 & 1 & 0\\\\\n",
       "\t 0.230458 & 1 & 0\\\\\n",
       "\t 0.234282 & 1 & 0\\\\\n",
       "\t 0.240624 & 0 & 1\\\\\n",
       "\t 0.250244 & 1 & 0\\\\\n",
       "\t 0.263607 & 2 & 0\\\\\n",
       "\t 0.269930 & 1 & 0\\\\\n",
       "\t 0.275912 & 1 & 0\\\\\n",
       "\t 0.277437 & 2 & 0\\\\\n",
       "\t 0.327657 & 1 & 0\\\\\n",
       "\t 0.337150 & 2 & 0\\\\\n",
       "\\end{tabular}\n"
      ],
      "text/markdown": [
       "\n",
       "A data.frame: 316 × 3\n",
       "\n",
       "| rAF_bp10 &lt;dbl&gt; | count_B_LB &lt;dbl&gt; | count_P_LP &lt;dbl&gt; |\n",
       "|---|---|---|\n",
       "| 1.0e-06 | 443 | 768 |\n",
       "| 2.0e-06 | 219 | 268 |\n",
       "| 3.0e-06 | 194 | 314 |\n",
       "| 4.0e-06 |  78 |  65 |\n",
       "| 5.0e-06 | 158 | 182 |\n",
       "| 6.0e-06 | 128 |  98 |\n",
       "| 7.0e-06 |  96 |  84 |\n",
       "| 8.0e-06 |  77 |  65 |\n",
       "| 9.0e-06 |  43 |  28 |\n",
       "| 1.0e-05 |  71 |  46 |\n",
       "| 1.1e-05 |  63 |  43 |\n",
       "| 1.2e-05 |  65 |  48 |\n",
       "| 1.3e-05 |  26 |  29 |\n",
       "| 1.4e-05 |  51 |  40 |\n",
       "| 1.5e-05 |  51 |  35 |\n",
       "| 1.6e-05 |  33 |  28 |\n",
       "| 1.7e-05 |  20 |   8 |\n",
       "| 1.8e-05 |  47 |  30 |\n",
       "| 1.9e-05 |  41 |  12 |\n",
       "| 2.0e-05 |  31 |  19 |\n",
       "| 2.1e-05 |  21 |  16 |\n",
       "| 2.2e-05 |  22 |  11 |\n",
       "| 2.3e-05 |  27 |  11 |\n",
       "| 2.4e-05 |  31 |  11 |\n",
       "| 2.5e-05 |  31 |   7 |\n",
       "| 2.6e-05 |  11 |  13 |\n",
       "| 2.7e-05 |  27 |  10 |\n",
       "| 2.8e-05 |  24 |  13 |\n",
       "| 2.9e-05 |  30 |  11 |\n",
       "| 3.0e-05 |  19 |  11 |\n",
       "| ⋮ | ⋮ | ⋮ |\n",
       "| 0.131524 | 2 | 0 |\n",
       "| 0.135309 | 1 | 0 |\n",
       "| 0.139011 | 1 | 0 |\n",
       "| 0.153493 | 1 | 0 |\n",
       "| 0.157689 | 1 | 0 |\n",
       "| 0.162736 | 2 | 0 |\n",
       "| 0.166922 | 1 | 0 |\n",
       "| 0.167011 | 1 | 0 |\n",
       "| 0.168343 | 8 | 0 |\n",
       "| 0.173662 | 1 | 0 |\n",
       "| 0.179490 | 1 | 0 |\n",
       "| 0.180585 | 1 | 0 |\n",
       "| 0.190901 | 1 | 0 |\n",
       "| 0.192385 | 1 | 0 |\n",
       "| 0.194151 | 1 | 0 |\n",
       "| 0.198085 | 2 | 0 |\n",
       "| 0.202713 | 3 | 0 |\n",
       "| 0.217911 | 1 | 0 |\n",
       "| 0.219208 | 1 | 0 |\n",
       "| 0.220073 | 1 | 0 |\n",
       "| 0.230458 | 1 | 0 |\n",
       "| 0.234282 | 1 | 0 |\n",
       "| 0.240624 | 0 | 1 |\n",
       "| 0.250244 | 1 | 0 |\n",
       "| 0.263607 | 2 | 0 |\n",
       "| 0.269930 | 1 | 0 |\n",
       "| 0.275912 | 1 | 0 |\n",
       "| 0.277437 | 2 | 0 |\n",
       "| 0.327657 | 1 | 0 |\n",
       "| 0.337150 | 2 | 0 |\n",
       "\n"
      ],
      "text/plain": [
       "    rAF_bp10 count_B_LB count_P_LP\n",
       "1   1.0e-06  443        768       \n",
       "2   2.0e-06  219        268       \n",
       "3   3.0e-06  194        314       \n",
       "4   4.0e-06   78         65       \n",
       "5   5.0e-06  158        182       \n",
       "6   6.0e-06  128         98       \n",
       "7   7.0e-06   96         84       \n",
       "8   8.0e-06   77         65       \n",
       "9   9.0e-06   43         28       \n",
       "10  1.0e-05   71         46       \n",
       "11  1.1e-05   63         43       \n",
       "12  1.2e-05   65         48       \n",
       "13  1.3e-05   26         29       \n",
       "14  1.4e-05   51         40       \n",
       "15  1.5e-05   51         35       \n",
       "16  1.6e-05   33         28       \n",
       "17  1.7e-05   20          8       \n",
       "18  1.8e-05   47         30       \n",
       "19  1.9e-05   41         12       \n",
       "20  2.0e-05   31         19       \n",
       "21  2.1e-05   21         16       \n",
       "22  2.2e-05   22         11       \n",
       "23  2.3e-05   27         11       \n",
       "24  2.4e-05   31         11       \n",
       "25  2.5e-05   31          7       \n",
       "26  2.6e-05   11         13       \n",
       "27  2.7e-05   27         10       \n",
       "28  2.8e-05   24         13       \n",
       "29  2.9e-05   30         11       \n",
       "30  3.0e-05   19         11       \n",
       "⋮   ⋮        ⋮          ⋮         \n",
       "287 0.131524 2          0         \n",
       "288 0.135309 1          0         \n",
       "289 0.139011 1          0         \n",
       "290 0.153493 1          0         \n",
       "291 0.157689 1          0         \n",
       "292 0.162736 2          0         \n",
       "293 0.166922 1          0         \n",
       "294 0.167011 1          0         \n",
       "295 0.168343 8          0         \n",
       "296 0.173662 1          0         \n",
       "297 0.179490 1          0         \n",
       "298 0.180585 1          0         \n",
       "299 0.190901 1          0         \n",
       "300 0.192385 1          0         \n",
       "301 0.194151 1          0         \n",
       "302 0.198085 2          0         \n",
       "303 0.202713 3          0         \n",
       "304 0.217911 1          0         \n",
       "305 0.219208 1          0         \n",
       "306 0.220073 1          0         \n",
       "307 0.230458 1          0         \n",
       "308 0.234282 1          0         \n",
       "309 0.240624 0          1         \n",
       "310 0.250244 1          0         \n",
       "311 0.263607 2          0         \n",
       "312 0.269930 1          0         \n",
       "313 0.275912 1          0         \n",
       "314 0.277437 2          0         \n",
       "315 0.327657 1          0         \n",
       "316 0.337150 2          0         "
      ]
     },
     "metadata": {},
     "output_type": "display_data"
    }
   ],
   "source": [
    "\n",
    "#Make supplementary excel files that show the number of pathogenic/likely pathogenic and benign/likely benign indels there are for each rAF value (rounded to the 6th decimal place) for both datasets. \n",
    "\n",
    "### Supplementary excel 1: for database 1 \n",
    "df_1_B_LB$rAF_bp10 = round(df_1_B_LB$rAF_bp10, 6 )\n",
    "df_1_P_LP$rAF_bp10 = round(df_1_P_LP$rAF_bp10, 6 )\n",
    "\n",
    "\n",
    "df_1_freq_B_LB =  df_1_B_LB %>% group_by(rAF_bp10) %>% summarise(count_B_LB=n())\n",
    "df_1_freq_P_LP =  df_1_P_LP %>% group_by(rAF_bp10) %>% summarise(count_P_LP=n())\n",
    "\n",
    "df_1_freq = merge(df_1_freq_B_LB, df_1_freq_P_LP, by = \"rAF_bp10\", all = TRUE)\n",
    "df_1_freq[is.na(df_1_freq)] = 0\n",
    "\n",
    "df_1_freq\n",
    "\n",
    "fwrite(df_1_freq, \"supplementary_excel_1.csv\")\n",
    "\n",
    " ### Supplementary excel 1: for database 2\n",
    "df_2_B_LB$rAF_bp10 = round(df_2_B_LB$rAF_bp10, 6 )\n",
    "df_2_P_LP$rAF_bp10 = round(df_2_P_LP$rAF_bp10, 6 )\n",
    "\n",
    "\n",
    "df_2_freq_B_LB =  df_2_B_LB %>% group_by(rAF_bp10) %>% summarise(count_B_LB=n())\n",
    "df_2_freq_P_LP =  df_2_P_LP %>% group_by(rAF_bp10) %>% summarise(count_P_LP=n())\n",
    "\n",
    "df_2_freq = merge(df_2_freq_B_LB, df_2_freq_P_LP, by = \"rAF_bp10\", all = TRUE)\n",
    "df_2_freq[is.na(df_2_freq)] = 0\n",
    "\n",
    "df_2_freq\n",
    "\n",
    "fwrite(df_2_freq, \"supplementary_excel_2.csv\")\n",
    "\n",
    "\n",
    "### Supplementary excel 1: for database 3\n",
    "df_3_B_LB$rAF_bp10 = round(df_3_B_LB$rAF_bp10, 6 )\n",
    "df_3_P_LP$rAF_bp10 = round(df_3_P_LP$rAF_bp10, 6 )\n",
    "\n",
    "\n",
    "df_3_freq_B_LB =  df_3_B_LB %>% group_by(rAF_bp10) %>% summarise(count_B_LB=n())\n",
    "df_3_freq_P_LP =  df_3_P_LP %>% group_by(rAF_bp10) %>% summarise(count_P_LP=n())\n",
    "\n",
    "df_3_freq = merge(df_3_freq_B_LB, df_3_freq_P_LP, by = \"rAF_bp10\", all = TRUE)\n",
    "df_3_freq[is.na(df_3_freq)] = 0\n",
    "\n",
    "df_3_freq\n",
    "\n",
    "fwrite(df_3_freq, \"supplementary_excel_2.csv\")"
   ]
  },
  {
   "cell_type": "code",
   "execution_count": null,
   "id": "c6001cd4-c833-410b-b74c-71a36ff664ea",
   "metadata": {
    "vscode": {
     "languageId": "r"
    }
   },
   "outputs": [],
   "source": []
  }
 ],
 "metadata": {
  "kernelspec": {
   "display_name": "R",
   "language": "R",
   "name": "ir"
  },
  "language_info": {
   "codemirror_mode": "r",
   "file_extension": ".r",
   "mimetype": "text/x-r-source",
   "name": "R",
   "pygments_lexer": "r",
   "version": "4.3.1"
  }
 },
 "nbformat": 4,
 "nbformat_minor": 5
}
