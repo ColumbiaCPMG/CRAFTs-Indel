{
 "cells": [
  {
   "cell_type": "markdown",
   "id": "07ffef85",
   "metadata": {},
   "source": [
    "# Figure 5"
   ]
  },
  {
   "cell_type": "code",
   "execution_count": 1,
   "id": "ef50b9a4",
   "metadata": {},
   "outputs": [],
   "source": [
    "setwd(\"/Users/sy3115/Desktop/figures\")"
   ]
  },
  {
   "cell_type": "code",
   "execution_count": 2,
   "id": "65f973e3",
   "metadata": {
    "scrolled": true,
    "vscode": {
     "languageId": "r"
    }
   },
   "outputs": [
    {
     "name": "stderr",
     "output_type": "stream",
     "text": [
      "── \u001b[1mAttaching core tidyverse packages\u001b[22m ──────────────────────── tidyverse 2.0.0 ──\n",
      "\u001b[32m✔\u001b[39m \u001b[34mdplyr    \u001b[39m 1.1.1     \u001b[32m✔\u001b[39m \u001b[34mreadr    \u001b[39m 2.1.4\n",
      "\u001b[32m✔\u001b[39m \u001b[34mforcats  \u001b[39m 1.0.0     \u001b[32m✔\u001b[39m \u001b[34mstringr  \u001b[39m 1.5.0\n",
      "\u001b[32m✔\u001b[39m \u001b[34mggplot2  \u001b[39m 3.4.1     \u001b[32m✔\u001b[39m \u001b[34mtibble   \u001b[39m 3.2.1\n",
      "\u001b[32m✔\u001b[39m \u001b[34mlubridate\u001b[39m 1.9.2     \u001b[32m✔\u001b[39m \u001b[34mtidyr    \u001b[39m 1.3.0\n",
      "\u001b[32m✔\u001b[39m \u001b[34mpurrr    \u001b[39m 1.0.1     \n",
      "── \u001b[1mConflicts\u001b[22m ────────────────────────────────────────── tidyverse_conflicts() ──\n",
      "\u001b[31m✖\u001b[39m \u001b[34mdplyr\u001b[39m::\u001b[32mfilter()\u001b[39m masks \u001b[34mstats\u001b[39m::filter()\n",
      "\u001b[31m✖\u001b[39m \u001b[34mdplyr\u001b[39m::\u001b[32mlag()\u001b[39m    masks \u001b[34mstats\u001b[39m::lag()\n",
      "\u001b[36mℹ\u001b[39m Use the conflicted package (\u001b[3m\u001b[34m<http://conflicted.r-lib.org/>\u001b[39m\u001b[23m) to force all conflicts to become errors\n",
      "\n",
      "Attaching package: ‘data.table’\n",
      "\n",
      "\n",
      "The following objects are masked from ‘package:lubridate’:\n",
      "\n",
      "    hour, isoweek, mday, minute, month, quarter, second, wday, week,\n",
      "    yday, year\n",
      "\n",
      "\n",
      "The following objects are masked from ‘package:dplyr’:\n",
      "\n",
      "    between, first, last\n",
      "\n",
      "\n",
      "The following object is masked from ‘package:purrr’:\n",
      "\n",
      "    transpose\n",
      "\n",
      "\n"
     ]
    }
   ],
   "source": [
    "# Load in packages\n",
    "library(tidyverse)\n",
    "library(data.table)\n",
    "library(readxl)\n",
    "library(dplyr)\n",
    "library(stringr)\n",
    "library(ggplot2)\n",
    "library(ggpubr)\n",
    "library(ggtext)\n"
   ]
  },
  {
   "cell_type": "markdown",
   "id": "9a80d53c",
   "metadata": {},
   "source": [
    "Clear environment: "
   ]
  },
  {
   "cell_type": "code",
   "execution_count": 3,
   "id": "903d01f9",
   "metadata": {
    "vscode": {
     "languageId": "r"
    }
   },
   "outputs": [],
   "source": [
    "rm(list=ls())"
   ]
  },
  {
   "cell_type": "markdown",
   "id": "6033e4d5",
   "metadata": {},
   "source": [
    "Set your datasets below and read in the files containing all indels ≤ 50bp for each dataset:"
   ]
  },
  {
   "cell_type": "code",
   "execution_count": 4,
   "id": "30511a11",
   "metadata": {
    "vscode": {
     "languageId": "r"
    }
   },
   "outputs": [],
   "source": [
    "## define dfs \n",
    "df_name_1 = \"gnomAD\"\n",
    "df_name_2 = \"IGM\"\n",
    "\n",
    "## Read in dataframe (total)\n",
    "df_1 = fread(\"gnomad.exomes.r2.1.1.sites_indelsonly_rAF_lt50bp.csv\")\n",
    "df_2 = fread(\"2023-03-23_IGM_n39367_indelsonly_rAF_lt50bp.csv\")"
   ]
  },
  {
   "cell_type": "markdown",
   "id": "1c72f89c",
   "metadata": {},
   "source": [
    "Read in the suspicious, rare and common files. \n",
    "Suspicious indels are sAF ≤ 10^-4 and rAF > 10^-4. \n",
    "Rare indels are sAF ≤ 10^-4 and rAF ≤ 10^-4. \n",
    "Common indels are sAF > 10^-4."
   ]
  },
  {
   "cell_type": "code",
   "execution_count": 5,
   "id": "ba8bba70",
   "metadata": {
    "vscode": {
     "languageId": "r"
    }
   },
   "outputs": [],
   "source": [
    "## Read in suspicious \n",
    "sus_bp_10_df_1 = fread(\"gnomad.exomes.r2.1.1.sites_indelsonly_rAF_bp10_SuspiciousIndels.lt50bp.csv\")\n",
    "sus_bp_20_df_1 = fread(\"gnomad.exomes.r2.1.1.sites_indelsonly_rAF_bp20_SuspiciousIndels.lt50bp.csv\")\n",
    "sus_bp_30_df_1 = fread(\"gnomad.exomes.r2.1.1.sites_indelsonly_rAF_bp30_SuspiciousIndels.lt50bp.csv\")\n",
    "sus_bp_40_df_1 = fread(\"gnomad.exomes.r2.1.1.sites_indelsonly_rAF_bp40_SuspiciousIndels.lt50bp.csv\")\n",
    "\n",
    "sus_bp_10_df_2 = fread(\"2023-03-23_IGM_n39367_indelsonly_rAF_bp10_SuspiciousIndels.lt50bp.csv\")\n",
    "sus_bp_20_df_2 = fread(\"2023-03-23_IGM_n39367_indelsonly_rAF_bp20_SuspiciousIndels.lt50bp.csv\")\n",
    "sus_bp_30_df_2 = fread(\"2023-03-23_IGM_n39367_indelsonly_rAF_bp30_SuspiciousIndels.lt50bp.csv\")\n",
    "sus_bp_40_df_2 = fread(\"2023-03-23_IGM_n39367_indelsonly_rAF_bp40_SuspiciousIndels.lt50bp.csv\")\n",
    "\n",
    "\n",
    "## Read in rare \n",
    "rare_bp_10_df_1 = fread(\"gnomad.exomes.r2.1.1.sites_indelsonly_rAF_bp10_RareIndels.lt50bp.csv\")\n",
    "rare_bp_20_df_1 = fread(\"gnomad.exomes.r2.1.1.sites_indelsonly_rAF_bp20_RareIndels.lt50bp.csv\")\n",
    "rare_bp_30_df_1 = fread(\"gnomad.exomes.r2.1.1.sites_indelsonly_rAF_bp30_RareIndels.lt50bp.csv\")\n",
    "rare_bp_40_df_1 = fread(\"gnomad.exomes.r2.1.1.sites_indelsonly_rAF_bp40_RareIndels.lt50bp.csv\")\n",
    "\n",
    "rare_bp_10_df_2 = fread(\"2023-03-23_IGM_n39367_indelsonly_rAF_bp10_RareIndels.lt50bp.csv\")\n",
    "rare_bp_20_df_2 = fread(\"2023-03-23_IGM_n39367_indelsonly_rAF_bp20_RareIndels.lt50bp.csv\")\n",
    "rare_bp_30_df_2 = fread(\"2023-03-23_IGM_n39367_indelsonly_rAF_bp30_RareIndels.lt50bp.csv\")\n",
    "rare_bp_40_df_2 = fread(\"2023-03-23_IGM_n39367_indelsonly_rAF_bp40_RareIndels.lt50bp.csv\")\n",
    "\n",
    "## Read in common\n",
    "common_bp_10_df_1 = fread(\"gnomad.exomes.r2.1.1.sites_indelsonly_rAF_bp10_CommonIndels.lt50bp.csv\")\n",
    "common_bp_20_df_1 = fread(\"gnomad.exomes.r2.1.1.sites_indelsonly_rAF_bp20_CommonIndels.lt50bp.csv\")\n",
    "common_bp_30_df_1 = fread(\"gnomad.exomes.r2.1.1.sites_indelsonly_rAF_bp30_CommonIndels.lt50bp.csv\")\n",
    "common_bp_40_df_1 = fread(\"gnomad.exomes.r2.1.1.sites_indelsonly_rAF_bp40_CommonIndels.lt50bp.csv\")\n",
    "\n",
    "common_bp_10_df_2 = fread(\"2023-03-23_IGM_n39367_indelsonly_rAF_bp10_CommonIndels.lt50bp.csv\")\n",
    "common_bp_20_df_2 = fread(\"2023-03-23_IGM_n39367_indelsonly_rAF_bp20_CommonIndels.lt50bp.csv\")\n",
    "common_bp_30_df_2 = fread(\"2023-03-23_IGM_n39367_indelsonly_rAF_bp30_CommonIndels.lt50bp.csv\")\n",
    "common_bp_40_df_2 = fread(\"2023-03-23_IGM_n39367_indelsonly_rAF_bp40_CommonIndels.lt50bp.csv\")\n"
   ]
  },
  {
   "cell_type": "markdown",
   "id": "eee76265",
   "metadata": {},
   "source": [
    "Define rare. "
   ]
  },
  {
   "cell_type": "code",
   "execution_count": 6,
   "id": "5fceef80",
   "metadata": {
    "vscode": {
     "languageId": "r"
    }
   },
   "outputs": [],
   "source": [
    "rare = (1 * 10^-4)"
   ]
  },
  {
   "cell_type": "markdown",
   "id": "a3430138",
   "metadata": {},
   "source": [
    "Read in ClinVar TSV file: "
   ]
  },
  {
   "cell_type": "code",
   "execution_count": 7,
   "id": "33a6deca",
   "metadata": {
    "vscode": {
     "languageId": "r"
    }
   },
   "outputs": [],
   "source": [
    "clinvar = fread('ClinVar_2023_03_18.tsv', sep='\\t', header = FALSE, quote=\"\")"
   ]
  },
  {
   "cell_type": "markdown",
   "id": "33a0f5b1",
   "metadata": {},
   "source": [
    "Define ClinVar classfications. "
   ]
  },
  {
   "cell_type": "code",
   "execution_count": 8,
   "id": "784f62f7",
   "metadata": {
    "vscode": {
     "languageId": "r"
    }
   },
   "outputs": [],
   "source": [
    "benign = c('Benign', 'Benign/Likely_benign', 'Benign|_drug_response')\n",
    "LB = c('Likely_benign', 'Likely_benign|_drug_response|_other',\n",
    "       'Likely_benign|_other')\n",
    "conflict = c('Conflicting_interpretations_of_pathogenicity',\n",
    "             'Conflicting_interpretations_of_pathogenicity|_association',\n",
    "             'Conflicting_interpretations_of_pathogenicity|_drug_response',\n",
    "             'Conflicting_interpretations_of_pathogenicity|_drug_response|_other',\n",
    "             'Conflicting_interpretations_of_pathogenicity|_other',\n",
    "             'Conflicting_interpretations_of_pathogenicity|_risk_factor',\n",
    "             'Uncertain_significance',\n",
    "             'Uncertain_significance|_risk_factor')  #conflict and uncertain significance\n",
    "LP = c('Likely_pathogenic',\n",
    "       'Likely_pathogenic|_risk_factor')\n",
    "patho = c('Pathogenic',\n",
    "          'Pathogenic/Likely_pathogenic',\n",
    "          'Pathogenic/Likely_pathogenic|_other', 'Pathogenic|_Affects',\n",
    "          'Pathogenic|_other', 'Pathogenic|_protective',\n",
    "          'Pathogenic|_risk_factor')\n",
    "other = c('Affects', '\\\\N', 'association',\n",
    "          'confers_sensitivity', 'drug_response', 'not_provided', 'other',\n",
    "          'protective', 'risk_factor')"
   ]
  },
  {
   "cell_type": "markdown",
   "id": "a4d28ad1",
   "metadata": {},
   "source": [
    "Define bp ranges for sliding windows. "
   ]
  },
  {
   "cell_type": "code",
   "execution_count": 9,
   "id": "301d66cd",
   "metadata": {
    "vscode": {
     "languageId": "r"
    }
   },
   "outputs": [],
   "source": [
    "bp_range = c(\"10\", \"20\", \"30\", \"40\")"
   ]
  },
  {
   "cell_type": "markdown",
   "id": "194b3e05",
   "metadata": {},
   "source": [
    "Give ClinVar file a VarID column. "
   ]
  },
  {
   "cell_type": "code",
   "execution_count": 10,
   "id": "5ee84b1d",
   "metadata": {
    "vscode": {
     "languageId": "r"
    }
   },
   "outputs": [],
   "source": [
    "clinvar$VarID = paste0(clinvar$V1, \"-\", clinvar$V2, \"-\", clinvar$V3, \"-\", clinvar$V4)"
   ]
  },
  {
   "cell_type": "markdown",
   "id": "41a5ffe0",
   "metadata": {},
   "source": [
    "Merge sAF and rAF with ClinVar and keep only the rows that are in ClinVar. Remove any duplicates, if any. "
   ]
  },
  {
   "cell_type": "code",
   "execution_count": 11,
   "id": "e4bc34db",
   "metadata": {
    "vscode": {
     "languageId": "r"
    }
   },
   "outputs": [],
   "source": [
    "## Merge sAF and rAF with clinvar and ONLY KEEP THE ROWS THAT ARE IN CLINVAR \n",
    "df_1_clinvar = merge(df_1, clinvar, by = \"VarID\") \n",
    "df_2_clinvar = merge(df_2, clinvar, by = \"VarID\") \n",
    "\n",
    "## Remove any duplicates, if any \n",
    "df_1_clinvar = distinct(df_1_clinvar) \n",
    "df_2_clinvar = distinct(df_2_clinvar) "
   ]
  },
  {
   "cell_type": "markdown",
   "id": "f45b6bbe",
   "metadata": {},
   "source": [
    "Identify rare sAF indels that are benign/likely benign or pathogenic/likely pathogenic in both datasets. "
   ]
  },
  {
   "cell_type": "code",
   "execution_count": 12,
   "id": "92f0ebe5",
   "metadata": {
    "vscode": {
     "languageId": "r"
    }
   },
   "outputs": [],
   "source": [
    "## gnomAD \n",
    "df_1_B_LB = df_1_clinvar %>% filter(V10 %in% benign | V10 %in% LB) %>% filter (sAF <= rare) \n",
    "df_1_P_LP = df_1_clinvar %>% filter(V10 %in% patho | V10 %in% LP) %>% filter (sAF <= rare) \n",
    "\n",
    "\n",
    "## IGM\n",
    "df_2_B_LB = df_2_clinvar %>% filter(V10 %in% benign | V10 %in% LB) %>% filter (sAF <= rare) \n",
    "df_2_P_LP = df_2_clinvar %>% filter(V10 %in% patho | V10 %in% LP) %>% filter (sAF <= rare) "
   ]
  },
  {
   "cell_type": "markdown",
   "id": "c226918a",
   "metadata": {},
   "source": [
    "Label indels with a log_key. A benign/likely benign indel has a log_key of 0. A pathogenic/likely pathogenic indel has a log key of 1. "
   ]
  },
  {
   "cell_type": "code",
   "execution_count": 13,
   "id": "39b097e2",
   "metadata": {
    "vscode": {
     "languageId": "r"
    }
   },
   "outputs": [],
   "source": [
    "## Give benign/LB a 0 log_key\n",
    "## Give patho/LP a 1 log_key \n",
    "df_1_B_LB$log_key = 0 \n",
    "df_1_P_LP$log_key = 1 \n",
    "\n",
    "#IGM\n",
    "df_2_B_LB$log_key = 0 \n",
    "df_2_P_LP$log_key = 1 "
   ]
  },
  {
   "cell_type": "markdown",
   "id": "cd360c6c",
   "metadata": {},
   "source": [
    "Create output dataframes for bargraphs and logistic regression graphs. For the bar graph, we want to zoom into rAF < 0.05 for the 10bp window. "
   ]
  },
  {
   "cell_type": "code",
   "execution_count": 14,
   "id": "f450430a",
   "metadata": {
    "vscode": {
     "languageId": "r"
    }
   },
   "outputs": [],
   "source": [
    "df_1_output = rbind(df_1_B_LB, df_1_P_LP) %>% select (sAF, rAF_bp10, log_key)\n",
    "\n",
    "df_2_output = rbind(df_2_B_LB, df_2_P_LP)  %>% select (sAF, rAF_bp10, log_key)"
   ]
  },
  {
   "cell_type": "markdown",
   "id": "4ccc4a88",
   "metadata": {},
   "source": [
    "# Mean Square Error "
   ]
  },
  {
   "cell_type": "code",
   "execution_count": 15,
   "id": "daf269cf",
   "metadata": {},
   "outputs": [
    {
     "data": {
      "text/html": [
       "0.35049802137506"
      ],
      "text/latex": [
       "0.35049802137506"
      ],
      "text/markdown": [
       "0.35049802137506"
      ],
      "text/plain": [
       "[1] 0.350498"
      ]
     },
     "metadata": {},
     "output_type": "display_data"
    },
    {
     "data": {
      "text/html": [
       "4.14271899863632"
      ],
      "text/latex": [
       "4.14271899863632"
      ],
      "text/markdown": [
       "4.14271899863632"
      ],
      "text/plain": [
       "[1] 4.142719"
      ]
     },
     "metadata": {},
     "output_type": "display_data"
    },
    {
     "data": {
      "text/html": [
       "0.57521924764413"
      ],
      "text/latex": [
       "0.57521924764413"
      ],
      "text/markdown": [
       "0.57521924764413"
      ],
      "text/plain": [
       "[1] 0.5752192"
      ]
     },
     "metadata": {},
     "output_type": "display_data"
    },
    {
     "data": {
      "text/html": [
       "4.92514409918353"
      ],
      "text/latex": [
       "4.92514409918353"
      ],
      "text/markdown": [
       "4.92514409918353"
      ],
      "text/plain": [
       "[1] 4.925144"
      ]
     },
     "metadata": {},
     "output_type": "display_data"
    }
   ],
   "source": [
    "## Make logistic regression of the rAF/sAF dataframes \n",
    "model_rAF_df1  =  glm(formula = log_key ~ rAF_bp10, family = \"binomial\", data = df_1_output)\n",
    "model_rAF_df2  = glm(formula = log_key ~ rAF_bp10 , family = \"binomial\", data = df_2_output)\n",
    "\n",
    "model_sAF_df1  = glm(formula = log_key ~ sAF, family = \"binomial\", data = df_1_output)\n",
    "model_sAF_df2  =  glm(formula = log_key ~ sAF, family = \"binomial\", data = df_2_output)\n",
    "\n",
    "## Make dataframe with predicted and actual values \n",
    "pred_actual_rAF_df1 = data.frame(pred = predict(model_rAF_df1), actual = df_1_output$rAF_bp10)\n",
    "pred_actual_rAF_df2 = data.frame(pred = predict(model_rAF_df2), actual = df_2_output$rAF_bp10)\n",
    "\n",
    "pred_actual_sAF_df1 = data.frame(pred = predict(model_sAF_df1), actual = df_1_output$sAF)\n",
    "pred_actual_sAF_df2 = data.frame(pred = predict(model_sAF_df2), actual = df_2_output$sAF)\n",
    "\n",
    "\n",
    "## Mean square error calculation \n",
    "MSE_rAF_df1 = mean((pred_actual_rAF_df1$actual - pred_actual_rAF_df1$pred)^2)\n",
    "MSE_rAF_df2 = mean((pred_actual_rAF_df2$actual - pred_actual_rAF_df2$pred)^2)\n",
    "MSE_sAF_df1 = mean((pred_actual_sAF_df1$actual - pred_actual_sAF_df1$pred)^2)\n",
    "MSE_sAF_df2 = mean((pred_actual_sAF_df2$actual - pred_actual_sAF_df2$pred)^2)\n",
    "\n",
    "MSE_rAF_df1\n",
    "MSE_rAF_df2\n",
    "MSE_sAF_df1\n",
    "MSE_sAF_df2\n"
   ]
  },
  {
   "cell_type": "code",
   "execution_count": 16,
   "id": "320ec968",
   "metadata": {},
   "outputs": [],
   "source": [
    "####### For the bargraph, we want to zoom into rAF < 0.05. \n",
    "bar_df_1 = df_1_output %>% filter(rAF_bp10 < 0.05)\n",
    "bar_df_2 = df_2_output %>% filter(rAF_bp10 < 0.05)"
   ]
  },
  {
   "cell_type": "markdown",
   "id": "0e042587",
   "metadata": {},
   "source": [
    "Create bargraphs."
   ]
  },
  {
   "cell_type": "code",
   "execution_count": 17,
   "id": "723cf6ae",
   "metadata": {
    "vscode": {
     "languageId": "r"
    }
   },
   "outputs": [],
   "source": [
    "bargraph_df_1 = ggplot (bar_df_1, aes(x = rAF_bp10 , fill = as.factor(log_key))) + geom_histogram(binwidth = 0.001, position = \"dodge\") + scale_y_continuous (trans = scales::pseudo_log_trans(), breaks = c(1,100, 1000, 10000)) + scale_fill_manual(labels = c(\"B/LB\", \"P/LP\"), values = c(\"#000000\", \"#989898\")) + labs( y = \"gnomAD Indels (log)\", x = \"rAF (10bp Sliding Window)\", fill = \"Classification\") +  theme(axis.text=element_text(size=20),  axis.title=element_text(size=20), legend.text = element_text(size = 20), legend.title = element_text(size = 20), legend.position = c(0.85,0.8), legend.background = element_rect(fill = \"white\", color = \"grey\"), panel.background = element_rect(fill = \"white\", color = \"grey\"), panel.grid.major = element_line(color = \"white\"), plot.margin = margin( 1, 1, 1, 1, \"cm\"), plot.title = element_text(hjust = 0.5, size = 32, margin = margin( 1, 1, 1, 1, \"cm\")), axis.title.y = element_text(margin = margin( 0.5, 0.5, 0.5, 0.5, \"cm\"), angle = 90), axis.title.x = element_text(margin = margin( 1, 1, 1, 1, \"cm\"))) \n",
    "\n",
    "\n",
    "bargraph_df_2 = ggplot (bar_df_2, aes(x = rAF_bp10 , fill = as.factor(log_key))) + geom_histogram(binwidth = 0.001, position = \"dodge\") + scale_y_continuous (trans = scales::pseudo_log_trans(), breaks = c(1,100, 1000, 10000)) + scale_fill_manual(labels = c(\"B/LB\", \"P/LP\"), values = c(\"#000000\", \"#989898\")) + labs( y = \"IGM Indels (log)\", x = \"rAF (10bp Sliding Window)\", fill = \"Classification\") +  theme(axis.text=element_text(size=20),  axis.title=element_text(size=20), legend.text = element_text(size = 20), legend.title = element_text(size = 20), legend.position = c(0.85, 0.8), legend.background = element_rect(fill = \"white\", color = \"grey\") , panel.background = element_rect(fill = \"white\", color = \"grey\"), panel.grid.major = element_line(color = \"white\"), plot.margin = margin( 1, 1, 1, 1, \"cm\"), plot.title = element_text(hjust = 0.5, size = 32, margin = margin( 1, 1, 1, 1, \"cm\")), axis.title.y = element_text(margin = margin( 0.5, 0.5, 0.5, 0.5, \"cm\"), angle = 90), axis.title.x = element_text(margin = margin( 1, 1, 1, 1, \"cm\")))"
   ]
  },
  {
   "cell_type": "markdown",
   "id": "f6ee192f",
   "metadata": {},
   "source": [
    "Create logistic regression graphs with rAF on the x-axis. "
   ]
  },
  {
   "cell_type": "code",
   "execution_count": 18,
   "id": "366216b9",
   "metadata": {
    "vscode": {
     "languageId": "r"
    }
   },
   "outputs": [],
   "source": [
    "logreg_df_1 = ggplot(df_1_output, aes(x=rAF_bp10, y=log_key)) + geom_point() +\n",
    "  stat_smooth(method=\"glm\", color=\"dark grey\", se=TRUE,\n",
    "              method.args = list(family=binomial)) + xlim (0,1.5) + labs( y = \"Log Odds (P/LP)\", x = \"gnomAD rAF\") +  theme(axis.text=element_text(size=20),  axis.title=element_text(size=20), plot.margin = margin( 1, 1, 1, 1, \"cm\"), axis.title.y = element_text(margin = margin( 1, 1, 1, 1, \"cm\"), angle = 90), axis.title.x = element_text(margin = margin( 1, 1, 1, 1, \"cm\"))) + geom_text(x = 1.5 ,y = 0.9,inherit.aes = FALSE,label = paste0(\"MSE: \", round(MSE_rAF_df1,2) ),check_overlap = TRUE,hjust = 1,fontface = 'bold',size = 10) + coord_cartesian(clip = \"off\") + geom_text(x = -0.23 ,y = 1,inherit.aes = FALSE,label = paste0(\"P/LP\" ),check_overlap = TRUE,hjust = 1,fontface = 'bold',size = 10) + geom_text(x = -0.23 ,y = 0,inherit.aes = FALSE,label = paste0(\"B/LB\" ),check_overlap = TRUE,hjust = 1,fontface = 'bold',size = 10)\n",
    "                                                                                                                                                                            \n",
    "\n",
    "logreg_df_2 = ggplot(df_2_output, aes(x=rAF_bp10, y=log_key)) + geom_point() +\n",
    "  stat_smooth(method=\"glm\", color=\"dark grey\", se=TRUE,\n",
    "              method.args = list(family=binomial)) + labs( y = \"Log Odds (P/LP)\", x = \"IGM rAF\") +  theme(axis.text=element_text(size=20), axis.title=element_text(size=20), plot.margin = margin( 1, 1, 1, 1, \"cm\"), axis.title.y = element_text(margin = margin(1, 1, 1, 1, \"cm\"), angle = 90), axis.title.x = element_text(margin = margin( 1, 1, 1, 1, \"cm\"))) + geom_text(x = 1.5 ,y = 0.9,inherit.aes = FALSE,label = paste0(\"MSE: \", round(MSE_rAF_df2,2) ),check_overlap = TRUE,hjust = 1,fontface = 'bold',size = 10) + coord_cartesian(clip = \"off\") + geom_text(x = -0.23 ,y = 1,inherit.aes = FALSE,label = paste0(\"P/LP\" ),check_overlap = TRUE,hjust = 1,fontface = 'bold',size = 10) + geom_text(x = -0.23 ,y = 0,inherit.aes = FALSE,label = paste0(\"B/LB\" ),check_overlap = TRUE,hjust = 1,fontface = 'bold',size = 10)"
   ]
  },
  {
   "cell_type": "markdown",
   "id": "9094705f",
   "metadata": {},
   "source": [
    "Find the logistic regression for sAF "
   ]
  },
  {
   "cell_type": "code",
   "execution_count": 19,
   "id": "b8905253",
   "metadata": {
    "vscode": {
     "languageId": "r"
    }
   },
   "outputs": [],
   "source": [
    "sAF_logreg_df_1 = ggplot(df_1_output, aes(x=sAF, y=log_key)) + geom_point() +\n",
    "  stat_smooth(method=\"glm\", color=\"dark grey\", se=TRUE,\n",
    "              method.args = list(family=binomial)) + xlim (0, 0.0001) + labs( y = \"Log Odds (P/LP)\", x = \"gnomAD sAF\") +  theme(axis.text=element_text(size=20),  axis.title=element_text(size=20) , plot.margin = margin( 1, 1, 1, 1, \"cm\"), axis.title.y = element_text(margin = margin( 1, 1, 1, 1, \"cm\"), angle = 90), axis.title.x = element_text(margin = margin( 1, 1, 1, 1, \"cm\"))) + geom_text(x = 0.0001 ,y = 0.9,inherit.aes = FALSE,label = paste0(\"MSE: \", round(MSE_sAF_df1,2) ),check_overlap = TRUE,hjust = 1,fontface = 'bold',size = 10) + coord_cartesian(clip = \"off\") + geom_text(x = -0.000015 ,y = 1,inherit.aes = FALSE,label = paste0(\"P/LP\" ),check_overlap = TRUE,hjust = 1,fontface = 'bold',size = 10) + geom_text(x =  -0.000015 ,y = 0,inherit.aes = FALSE,label = paste0(\"B/LB\" ),check_overlap = TRUE,hjust = 1,fontface = 'bold',size = 10)\n",
    "\n",
    "sAF_logreg_df_2 = ggplot(df_2_output, aes(x=sAF, y=log_key)) + geom_point() +\n",
    "  stat_smooth(method=\"glm\", color=\"dark grey\", se=TRUE,\n",
    "              method.args = list(family=binomial)) + xlim (0, 0.0001) + labs( y = \"Log Odds (P/LP)\", x = \"IGM sAF\") +  theme(axis.text=element_text(size=20), axis.title=element_text(size=20), plot.margin = margin( 1, 1, 1, 1, \"cm\"), axis.title.y = element_text(margin = margin( 1, 1, 1, 1, \"cm\"), angle = 90), axis.title.x = element_text(margin = margin( 1, 1, 1, 1, \"cm\"))) + geom_text(x = 0.0001 ,y = 0.9,inherit.aes = FALSE,label = paste0(\"MSE: \", round(MSE_sAF_df2,2)) ,check_overlap = TRUE,hjust = 1,fontface = 'bold',size = 10) + coord_cartesian(clip = \"off\") + geom_text(x =  -0.000015 ,y = 1,inherit.aes = FALSE,label = paste0(\"P/LP\" ),check_overlap = TRUE,hjust = 1,fontface = 'bold',size = 10) + geom_text(x =  -0.000015 ,y = 0,inherit.aes = FALSE,label = paste0(\"B/LB\" ),check_overlap = TRUE,hjust = 1,fontface = 'bold',size = 10)\n"
   ]
  },
  {
   "cell_type": "code",
   "execution_count": 20,
   "id": "a56e36cf",
   "metadata": {
    "scrolled": true
   },
   "outputs": [
    {
     "name": "stderr",
     "output_type": "stream",
     "text": [
      "\u001b[1m\u001b[22m`geom_smooth()` using formula = 'y ~ x'\n",
      "\u001b[1m\u001b[22m`geom_smooth()` using formula = 'y ~ x'\n",
      "\u001b[1m\u001b[22m`geom_smooth()` using formula = 'y ~ x'\n",
      "\u001b[1m\u001b[22m`geom_smooth()` using formula = 'y ~ x'\n",
      "\u001b[1m\u001b[22m`geom_smooth()` using formula = 'y ~ x'\n",
      "\u001b[1m\u001b[22m`geom_smooth()` using formula = 'y ~ x'\n",
      "\u001b[1m\u001b[22m`geom_smooth()` using formula = 'y ~ x'\n",
      "\u001b[1m\u001b[22m`geom_smooth()` using formula = 'y ~ x'\n"
     ]
    },
    {
     "data": {
      "image/png": "[encoded data removed]",
      "text/plain": [
       "plot without title"
      ]
     },
     "metadata": {
      "image/png": {
       "height": 420,
       "width": 420
      }
     },
     "output_type": "display_data"
    }
   ],
   "source": [
    "graph_summary = ggarrange(print(bargraph_df_1), print(logreg_df_1), print(sAF_logreg_df_1), print(bargraph_df_2), print(logreg_df_2), print(sAF_logreg_df_2), labels = c(\"A\", \"B\", \"C\", \"D\", \"E\", \"F\"), ncol = 3, nrow = 2, font.label = list(size = 28, color = \"black\")) + theme(plot.margin = unit(c(2,2,2,2), \"cm\"))\n",
    "\n",
    "graph_summary "
   ]
  },
  {
   "cell_type": "code",
   "execution_count": 21,
   "id": "41d343de",
   "metadata": {},
   "outputs": [],
   "source": [
    "ggsave(\"Fig5.jpg\", width = 80, height = 40, units = c(\"cm\"), dpi = 300)"
   ]
  },
  {
   "cell_type": "markdown",
   "id": "30d4989a",
   "metadata": {},
   "source": [
    "# Quantify the number of indels in each category."
   ]
  },
  {
   "cell_type": "code",
   "execution_count": 22,
   "id": "c447d808",
   "metadata": {
    "vscode": {
     "languageId": "r"
    }
   },
   "outputs": [
    {
     "data": {
      "text/html": [
       "<table class=\"dataframe\">\n",
       "<caption>A data.frame: 5 × 4</caption>\n",
       "<thead>\n",
       "\t<tr><th scope=col>categories</th><th scope=col>common_categories_df1</th><th scope=col>sus_categories_df1</th><th scope=col>rare_categories_df1</th></tr>\n",
       "\t<tr><th scope=col>&lt;chr&gt;</th><th scope=col>&lt;int&gt;</th><th scope=col>&lt;int&gt;</th><th scope=col>&lt;int&gt;</th></tr>\n",
       "</thead>\n",
       "<tbody>\n",
       "\t<tr><td>benign   </td><td>6962</td><td>458</td><td>1935</td></tr>\n",
       "\t<tr><td>LB       </td><td>1885</td><td>871</td><td>5559</td></tr>\n",
       "\t<tr><td>VUS/other</td><td>1445</td><td>920</td><td>9663</td></tr>\n",
       "\t<tr><td>LP       </td><td>  23</td><td> 26</td><td>1304</td></tr>\n",
       "\t<tr><td>patho    </td><td> 227</td><td>136</td><td>7975</td></tr>\n",
       "</tbody>\n",
       "</table>\n"
      ],
      "text/latex": [
       "A data.frame: 5 × 4\n",
       "\\begin{tabular}{llll}\n",
       " categories & common\\_categories\\_df1 & sus\\_categories\\_df1 & rare\\_categories\\_df1\\\\\n",
       " <chr> & <int> & <int> & <int>\\\\\n",
       "\\hline\n",
       "\t benign    & 6962 & 458 & 1935\\\\\n",
       "\t LB        & 1885 & 871 & 5559\\\\\n",
       "\t VUS/other & 1445 & 920 & 9663\\\\\n",
       "\t LP        &   23 &  26 & 1304\\\\\n",
       "\t patho     &  227 & 136 & 7975\\\\\n",
       "\\end{tabular}\n"
      ],
      "text/markdown": [
       "\n",
       "A data.frame: 5 × 4\n",
       "\n",
       "| categories &lt;chr&gt; | common_categories_df1 &lt;int&gt; | sus_categories_df1 &lt;int&gt; | rare_categories_df1 &lt;int&gt; |\n",
       "|---|---|---|---|\n",
       "| benign    | 6962 | 458 | 1935 |\n",
       "| LB        | 1885 | 871 | 5559 |\n",
       "| VUS/other | 1445 | 920 | 9663 |\n",
       "| LP        |   23 |  26 | 1304 |\n",
       "| patho     |  227 | 136 | 7975 |\n",
       "\n"
      ],
      "text/plain": [
       "  categories common_categories_df1 sus_categories_df1 rare_categories_df1\n",
       "1 benign     6962                  458                1935               \n",
       "2 LB         1885                  871                5559               \n",
       "3 VUS/other  1445                  920                9663               \n",
       "4 LP           23                   26                1304               \n",
       "5 patho       227                  136                7975               "
      ]
     },
     "metadata": {},
     "output_type": "display_data"
    },
    {
     "data": {
      "text/html": [
       "<table class=\"dataframe\">\n",
       "<caption>A data.frame: 5 × 4</caption>\n",
       "<thead>\n",
       "\t<tr><th scope=col>categories</th><th scope=col>common_categories_df2</th><th scope=col>sus_categories_df2</th><th scope=col>rare_categories_df2</th></tr>\n",
       "\t<tr><th scope=col>&lt;chr&gt;</th><th scope=col>&lt;int&gt;</th><th scope=col>&lt;int&gt;</th><th scope=col>&lt;int&gt;</th></tr>\n",
       "</thead>\n",
       "<tbody>\n",
       "\t<tr><td>benign   </td><td>1556</td><td> 59</td><td> 101</td></tr>\n",
       "\t<tr><td>LB       </td><td> 723</td><td>229</td><td> 313</td></tr>\n",
       "\t<tr><td>VUS/other</td><td>1766</td><td>876</td><td>4951</td></tr>\n",
       "\t<tr><td>LP       </td><td>  43</td><td> 27</td><td> 638</td></tr>\n",
       "\t<tr><td>patho    </td><td> 452</td><td>166</td><td>4086</td></tr>\n",
       "</tbody>\n",
       "</table>\n"
      ],
      "text/latex": [
       "A data.frame: 5 × 4\n",
       "\\begin{tabular}{llll}\n",
       " categories & common\\_categories\\_df2 & sus\\_categories\\_df2 & rare\\_categories\\_df2\\\\\n",
       " <chr> & <int> & <int> & <int>\\\\\n",
       "\\hline\n",
       "\t benign    & 1556 &  59 &  101\\\\\n",
       "\t LB        &  723 & 229 &  313\\\\\n",
       "\t VUS/other & 1766 & 876 & 4951\\\\\n",
       "\t LP        &   43 &  27 &  638\\\\\n",
       "\t patho     &  452 & 166 & 4086\\\\\n",
       "\\end{tabular}\n"
      ],
      "text/markdown": [
       "\n",
       "A data.frame: 5 × 4\n",
       "\n",
       "| categories &lt;chr&gt; | common_categories_df2 &lt;int&gt; | sus_categories_df2 &lt;int&gt; | rare_categories_df2 &lt;int&gt; |\n",
       "|---|---|---|---|\n",
       "| benign    | 1556 |  59 |  101 |\n",
       "| LB        |  723 | 229 |  313 |\n",
       "| VUS/other | 1766 | 876 | 4951 |\n",
       "| LP        |   43 |  27 |  638 |\n",
       "| patho     |  452 | 166 | 4086 |\n",
       "\n"
      ],
      "text/plain": [
       "  categories common_categories_df2 sus_categories_df2 rare_categories_df2\n",
       "1 benign     1556                   59                 101               \n",
       "2 LB          723                  229                 313               \n",
       "3 VUS/other  1766                  876                4951               \n",
       "4 LP           43                   27                 638               \n",
       "5 patho       452                  166                4086               "
      ]
     },
     "metadata": {},
     "output_type": "display_data"
    }
   ],
   "source": [
    "\n",
    "conditions = c(\"sus\", \"rare\", \"common\")\n",
    "\n",
    "categories = c(\"benign\", \"LB\", \"VUS/other\", \"LP\", \"patho\" )\n",
    "\n",
    "for (i in conditions ) {\n",
    "  for (j in categories) {\n",
    "    ## get temp variable for the condition \n",
    "    condition_df1 = paste0(i, \"_bp_10_df_1\")\n",
    "    condition_df2 = paste0(i, \"_bp_10_df_2\")\n",
    "  \n",
    "    ## set a temp variable for a clinvar merge \n",
    "    clinvar_cond_df1 = paste0(\"clinvar_\", i, \"_bp_10_df_1\")\n",
    "    clinvar_cond_df2 = paste0(\"clinvar_\", i, \"_bp_10_df_2\")\n",
    "    \n",
    "    ## merge with clinvar\n",
    "    assign (clinvar_cond_df1, merge(get(condition_df1), clinvar, by = \"VarID\"))\n",
    "    assign (clinvar_cond_df2, merge(get(condition_df2), clinvar, by = \"VarID\"))\n",
    "    \n",
    "    ## get a dataframe only for the category (ie. benign, LB, conflict, LP, patho, other)\n",
    "    if (j != \"VUS/other\") {\n",
    "      ##  set a temp variable for a clinvar merge\n",
    "      category_cond_df1 = paste0(j , \"_\", i, \"_bp_10_df1\")\n",
    "      category_cond_df2 = paste0(j , \"_\", i, \"_bp_10_df2\")\n",
    "      \n",
    "      #assign temp variable\n",
    "      assign (category_cond_df1, get(clinvar_cond_df1) %>% filter(V10 %in% get(j)))\n",
    "      assign (category_cond_df2, get(clinvar_cond_df2) %>% filter(V10 %in% get(j)))\n",
    "    }\n",
    "    \n",
    "    else {\n",
    "      ##  set a temp variable for a clinvar merge\n",
    "      category_cond_df1 = paste0(\"VUS_other_\", i, \"_bp_10_df1\")\n",
    "      category_cond_df2 = paste0(\"VUS_other_\", i, \"_bp_10_df2\")\n",
    "      \n",
    "      #assign temp variable\n",
    "      assign (category_cond_df1, get(clinvar_cond_df1) %>% filter(V10 %in% other | V10 %in% conflict))\n",
    "      assign (category_cond_df2, get(clinvar_cond_df2) %>% filter(V10 %in% other | V10 %in% conflict))\n",
    "    }\n",
    "    \n",
    "  }\n",
    "}\n",
    "\n",
    "## make the df for each category for db 1 \n",
    "common_categories_df1 = c(nrow(benign_common_bp_10_df1), nrow(LB_common_bp_10_df1), nrow(VUS_other_common_bp_10_df1), nrow(LP_common_bp_10_df1), nrow(patho_common_bp_10_df1))\n",
    "\n",
    "sus_categories_df1 = c(nrow(benign_sus_bp_10_df1), nrow(LB_sus_bp_10_df1), nrow(VUS_other_sus_bp_10_df1), nrow(LP_sus_bp_10_df1), nrow(patho_sus_bp_10_df1))\n",
    "\n",
    "rare_categories_df1 = c(nrow(benign_rare_bp_10_df1), nrow(LB_rare_bp_10_df1), nrow(VUS_other_rare_bp_10_df1), nrow(LP_rare_bp_10_df1), nrow(patho_rare_bp_10_df1))\n",
    "\n",
    "categories_df1 = data.frame(categories, common_categories_df1, sus_categories_df1, rare_categories_df1)\n",
    "\n",
    "\n",
    "## make the df for each category for db 2\n",
    "common_categories_df2 = c(nrow(benign_common_bp_10_df2), nrow(LB_common_bp_10_df2), nrow(VUS_other_common_bp_10_df2), nrow(LP_common_bp_10_df2), nrow(patho_common_bp_10_df2))\n",
    "\n",
    "sus_categories_df2 = c(nrow(benign_sus_bp_10_df2), nrow(LB_sus_bp_10_df2), nrow(VUS_other_sus_bp_10_df2), nrow(LP_sus_bp_10_df2), nrow(patho_sus_bp_10_df2))\n",
    "\n",
    "rare_categories_df2 = c(nrow(benign_rare_bp_10_df2), nrow(LB_rare_bp_10_df2), nrow(VUS_other_rare_bp_10_df2), nrow(LP_rare_bp_10_df2), nrow(patho_rare_bp_10_df2))\n",
    "\n",
    "categories_df2 = data.frame(categories, common_categories_df2, sus_categories_df2, rare_categories_df2)\n",
    "\n",
    "categories_df1\n",
    "categories_df2\n",
    "\n",
    "fwrite(categories_df1, \"2023-05-08_pvalues_clinvar_gnomad.csv\")\n",
    "fwrite(categories_df2, \"2023-05-08_pvalues_clinvar_igm.csv\")\n"
   ]
  },
  {
   "cell_type": "markdown",
   "id": "0c30aa6e",
   "metadata": {},
   "source": [
    "# Make Table S9/S10\n",
    "Find the percentage of suspicious indels for each bp window for each of the following categories: Benign/likely benign (LB), pathogenic (patho) and likey pathogenic (LP) "
   ]
  },
  {
   "cell_type": "code",
   "execution_count": 23,
   "id": "5c3bbdd9",
   "metadata": {
    "vscode": {
     "languageId": "r"
    }
   },
   "outputs": [
    {
     "data": {
      "text/html": [
       "<table class=\"dataframe\">\n",
       "<caption>A data.frame: 4 × 6</caption>\n",
       "<thead>\n",
       "\t<tr><th scope=col>cat</th><th scope=col>rare_sAF_df1</th><th scope=col>prct_sus_10bp_df1</th><th scope=col>prct_sus_20bp_df1</th><th scope=col>prct_sus_30bp_df1</th><th scope=col>prct_sus_40bp_df1</th></tr>\n",
       "\t<tr><th scope=col>&lt;chr&gt;</th><th scope=col>&lt;int&gt;</th><th scope=col>&lt;chr&gt;</th><th scope=col>&lt;chr&gt;</th><th scope=col>&lt;chr&gt;</th><th scope=col>&lt;chr&gt;</th></tr>\n",
       "</thead>\n",
       "<tbody>\n",
       "\t<tr><td>benign</td><td>2393</td><td>19%</td><td>23%</td><td>25%</td><td>27%</td></tr>\n",
       "\t<tr><td>LB    </td><td>6430</td><td>14%</td><td>18%</td><td>21%</td><td>22%</td></tr>\n",
       "\t<tr><td>patho </td><td>8111</td><td>2% </td><td>3% </td><td>3% </td><td>4% </td></tr>\n",
       "\t<tr><td>LP    </td><td>1330</td><td>2% </td><td>3% </td><td>4% </td><td>5% </td></tr>\n",
       "</tbody>\n",
       "</table>\n"
      ],
      "text/latex": [
       "A data.frame: 4 × 6\n",
       "\\begin{tabular}{llllll}\n",
       " cat & rare\\_sAF\\_df1 & prct\\_sus\\_10bp\\_df1 & prct\\_sus\\_20bp\\_df1 & prct\\_sus\\_30bp\\_df1 & prct\\_sus\\_40bp\\_df1\\\\\n",
       " <chr> & <int> & <chr> & <chr> & <chr> & <chr>\\\\\n",
       "\\hline\n",
       "\t benign & 2393 & 19\\% & 23\\% & 25\\% & 27\\%\\\\\n",
       "\t LB     & 6430 & 14\\% & 18\\% & 21\\% & 22\\%\\\\\n",
       "\t patho  & 8111 & 2\\%  & 3\\%  & 3\\%  & 4\\% \\\\\n",
       "\t LP     & 1330 & 2\\%  & 3\\%  & 4\\%  & 5\\% \\\\\n",
       "\\end{tabular}\n"
      ],
      "text/markdown": [
       "\n",
       "A data.frame: 4 × 6\n",
       "\n",
       "| cat &lt;chr&gt; | rare_sAF_df1 &lt;int&gt; | prct_sus_10bp_df1 &lt;chr&gt; | prct_sus_20bp_df1 &lt;chr&gt; | prct_sus_30bp_df1 &lt;chr&gt; | prct_sus_40bp_df1 &lt;chr&gt; |\n",
       "|---|---|---|---|---|---|\n",
       "| benign | 2393 | 19% | 23% | 25% | 27% |\n",
       "| LB     | 6430 | 14% | 18% | 21% | 22% |\n",
       "| patho  | 8111 | 2%  | 3%  | 3%  | 4%  |\n",
       "| LP     | 1330 | 2%  | 3%  | 4%  | 5%  |\n",
       "\n"
      ],
      "text/plain": [
       "  cat    rare_sAF_df1 prct_sus_10bp_df1 prct_sus_20bp_df1 prct_sus_30bp_df1\n",
       "1 benign 2393         19%               23%               25%              \n",
       "2 LB     6430         14%               18%               21%              \n",
       "3 patho  8111         2%                3%                3%               \n",
       "4 LP     1330         2%                3%                4%               \n",
       "  prct_sus_40bp_df1\n",
       "1 27%              \n",
       "2 22%              \n",
       "3 4%               \n",
       "4 5%               "
      ]
     },
     "metadata": {},
     "output_type": "display_data"
    },
    {
     "data": {
      "text/html": [
       "<table class=\"dataframe\">\n",
       "<caption>A data.frame: 4 × 6</caption>\n",
       "<thead>\n",
       "\t<tr><th scope=col>cat</th><th scope=col>rare_sAF_df2</th><th scope=col>prct_sus_10bp_df2</th><th scope=col>prct_sus_20bp_df2</th><th scope=col>prct_sus_30bp_df2</th><th scope=col>prct_sus_40bp_df2</th></tr>\n",
       "\t<tr><th scope=col>&lt;chr&gt;</th><th scope=col>&lt;int&gt;</th><th scope=col>&lt;chr&gt;</th><th scope=col>&lt;chr&gt;</th><th scope=col>&lt;chr&gt;</th><th scope=col>&lt;chr&gt;</th></tr>\n",
       "</thead>\n",
       "<tbody>\n",
       "\t<tr><td>benign</td><td> 160</td><td>37%</td><td>43%</td><td>44%</td><td>45%</td></tr>\n",
       "\t<tr><td>LB    </td><td> 542</td><td>42%</td><td>51%</td><td>54%</td><td>55%</td></tr>\n",
       "\t<tr><td>patho </td><td>4086</td><td>4% </td><td>6% </td><td>7% </td><td>8% </td></tr>\n",
       "\t<tr><td>LP    </td><td> 665</td><td>4% </td><td>6% </td><td>9% </td><td>10%</td></tr>\n",
       "</tbody>\n",
       "</table>\n"
      ],
      "text/latex": [
       "A data.frame: 4 × 6\n",
       "\\begin{tabular}{llllll}\n",
       " cat & rare\\_sAF\\_df2 & prct\\_sus\\_10bp\\_df2 & prct\\_sus\\_20bp\\_df2 & prct\\_sus\\_30bp\\_df2 & prct\\_sus\\_40bp\\_df2\\\\\n",
       " <chr> & <int> & <chr> & <chr> & <chr> & <chr>\\\\\n",
       "\\hline\n",
       "\t benign &  160 & 37\\% & 43\\% & 44\\% & 45\\%\\\\\n",
       "\t LB     &  542 & 42\\% & 51\\% & 54\\% & 55\\%\\\\\n",
       "\t patho  & 4086 & 4\\%  & 6\\%  & 7\\%  & 8\\% \\\\\n",
       "\t LP     &  665 & 4\\%  & 6\\%  & 9\\%  & 10\\%\\\\\n",
       "\\end{tabular}\n"
      ],
      "text/markdown": [
       "\n",
       "A data.frame: 4 × 6\n",
       "\n",
       "| cat &lt;chr&gt; | rare_sAF_df2 &lt;int&gt; | prct_sus_10bp_df2 &lt;chr&gt; | prct_sus_20bp_df2 &lt;chr&gt; | prct_sus_30bp_df2 &lt;chr&gt; | prct_sus_40bp_df2 &lt;chr&gt; |\n",
       "|---|---|---|---|---|---|\n",
       "| benign |  160 | 37% | 43% | 44% | 45% |\n",
       "| LB     |  542 | 42% | 51% | 54% | 55% |\n",
       "| patho  | 4086 | 4%  | 6%  | 7%  | 8%  |\n",
       "| LP     |  665 | 4%  | 6%  | 9%  | 10% |\n",
       "\n"
      ],
      "text/plain": [
       "  cat    rare_sAF_df2 prct_sus_10bp_df2 prct_sus_20bp_df2 prct_sus_30bp_df2\n",
       "1 benign  160         37%               43%               44%              \n",
       "2 LB      542         42%               51%               54%              \n",
       "3 patho  4086         4%                6%                7%               \n",
       "4 LP      665         4%                6%                9%               \n",
       "  prct_sus_40bp_df2\n",
       "1 45%              \n",
       "2 55%              \n",
       "3 8%               \n",
       "4 10%              "
      ]
     },
     "metadata": {},
     "output_type": "display_data"
    }
   ],
   "source": [
    "cat = c(\"benign\", \"LB\", \"patho\", \"LP\")\n",
    "\n",
    "## Find rare \n",
    "for (i in cat) {\n",
    "  ## set var \n",
    "  cat_1 = paste0(i, \"_rare_sAF_df1\")\n",
    "  cat_2 = paste0(i, \"_rare_sAF_df2\")\n",
    "  \n",
    "  #assign\n",
    "  assign(cat_1, df_1_clinvar %>% filter(sAF <= rare) %>% filter(V10 %in% get(i)))\n",
    "  assign(cat_2, df_2_clinvar %>% filter(sAF <= rare) %>% filter(V10 %in% get(i)))\n",
    "}\n",
    "\n",
    "## Find percentage\n",
    "for (i in bp_range) {\n",
    "  for (j in cat) {\n",
    "    ## get denominator (rare)\n",
    "    rare_sAF_df1 = paste0(j, \"_rare_sAF_df1\")\n",
    "    rare_sAF_df2 = paste0(j, \"_rare_sAF_df2\")\n",
    "    \n",
    "    ## set percent output \n",
    "    prct_sus_1 = paste0(\"prct_bp_\", i, \"_\", j, \"_df1\")\n",
    "    prct_sus_2 = paste0(\"prct_bp_\", i, \"_\", j, \"_df2\")\n",
    "    \n",
    "    ## set rAF window \n",
    "    temp_window = paste0(\"rAF_bp\", i)\n",
    "    \n",
    "    ## assign percentage \n",
    "    assign (prct_sus_1, paste0(round(nrow(get(rare_sAF_df1) %>% filter(get(temp_window) > rare)) / nrow(get(rare_sAF_df1)) * 100 , 0), \"%\"))\n",
    "    assign (prct_sus_2, paste0(round(nrow(get(rare_sAF_df2) %>% filter(get(temp_window) > rare)) / nrow(get(rare_sAF_df2)) * 100 , 0), \"%\"))\n",
    "    \n",
    "  }\n",
    "}\n",
    "\n",
    "## make df that show the percentage of suspicious indels for each categories for dataframe 1 \n",
    "rare_sAF_df1 = c(nrow(benign_rare_sAF_df1), nrow(LB_rare_sAF_df1), nrow(patho_rare_sAF_df1), nrow(LP_rare_sAF_df1))\n",
    "prct_sus_10bp_df1 = c(prct_bp_10_benign_df1, prct_bp_10_LB_df1, prct_bp_10_patho_df1, prct_bp_10_LP_df1)\n",
    "prct_sus_20bp_df1 = c(prct_bp_20_benign_df1, prct_bp_20_LB_df1, prct_bp_20_patho_df1, prct_bp_20_LP_df1)\n",
    "prct_sus_30bp_df1 = c(prct_bp_30_benign_df1, prct_bp_30_LB_df1, prct_bp_30_patho_df1, prct_bp_30_LP_df1)\n",
    "prct_sus_40bp_df1 = c(prct_bp_40_benign_df1, prct_bp_40_LB_df1, prct_bp_40_patho_df1, prct_bp_40_LP_df1)\n",
    "\n",
    "prct_sus_cat_df_1 = data.frame (cat, rare_sAF_df1, prct_sus_10bp_df1, prct_sus_20bp_df1, prct_sus_30bp_df1, prct_sus_40bp_df1)\n",
    "\n",
    "\n",
    "## make df that show the percentage of suspicious indels for each categories for dataframe 2 \n",
    "rare_sAF_df2 = c(nrow(benign_rare_sAF_df2), nrow(LB_rare_sAF_df2), nrow(patho_rare_bp_10_df2), nrow(LP_rare_sAF_df2))\n",
    "prct_sus_10bp_df2 = c(prct_bp_10_benign_df2, prct_bp_10_LB_df2, prct_bp_10_patho_df2, prct_bp_10_LP_df2)\n",
    "prct_sus_20bp_df2 = c(prct_bp_20_benign_df2, prct_bp_20_LB_df2, prct_bp_20_patho_df2, prct_bp_20_LP_df2)\n",
    "prct_sus_30bp_df2 = c(prct_bp_30_benign_df2, prct_bp_30_LB_df2, prct_bp_30_patho_df2, prct_bp_30_LP_df2)\n",
    "prct_sus_40bp_df2 = c(prct_bp_40_benign_df2, prct_bp_40_LB_df2, prct_bp_40_patho_df2, prct_bp_40_LP_df2)\n",
    "\n",
    "prct_sus_cat_df_2 = data.frame (cat, rare_sAF_df2, prct_sus_10bp_df2, prct_sus_20bp_df2, prct_sus_30bp_df2, prct_sus_40bp_df2)\n",
    "\n",
    "prct_sus_cat_df_1\n",
    "prct_sus_cat_df_2\n",
    "\n"
   ]
  },
  {
   "cell_type": "markdown",
   "id": "b075541b",
   "metadata": {},
   "source": [
    "# Find the number of suspicious by sAF P/LP indels that have a rAF > 1% "
   ]
  },
  {
   "cell_type": "code",
   "execution_count": 24,
   "id": "6f2f6a9a",
   "metadata": {
    "vscode": {
     "languageId": "r"
    }
   },
   "outputs": [
    {
     "data": {
      "text/html": [
       "<table class=\"dataframe\">\n",
       "<caption>A data.frame: 4 × 3</caption>\n",
       "<thead>\n",
       "\t<tr><th scope=col>bp_range</th><th scope=col>P_LP_rAF_gt_1_df1</th><th scope=col>P_LP_rAF_gt_1_df2</th></tr>\n",
       "\t<tr><th scope=col>&lt;chr&gt;</th><th scope=col>&lt;int&gt;</th><th scope=col>&lt;int&gt;</th></tr>\n",
       "</thead>\n",
       "<tbody>\n",
       "\t<tr><td>10</td><td>15</td><td>14</td></tr>\n",
       "\t<tr><td>20</td><td>28</td><td>21</td></tr>\n",
       "\t<tr><td>30</td><td>45</td><td>26</td></tr>\n",
       "\t<tr><td>40</td><td>56</td><td>29</td></tr>\n",
       "</tbody>\n",
       "</table>\n"
      ],
      "text/latex": [
       "A data.frame: 4 × 3\n",
       "\\begin{tabular}{lll}\n",
       " bp\\_range & P\\_LP\\_rAF\\_gt\\_1\\_df1 & P\\_LP\\_rAF\\_gt\\_1\\_df2\\\\\n",
       " <chr> & <int> & <int>\\\\\n",
       "\\hline\n",
       "\t 10 & 15 & 14\\\\\n",
       "\t 20 & 28 & 21\\\\\n",
       "\t 30 & 45 & 26\\\\\n",
       "\t 40 & 56 & 29\\\\\n",
       "\\end{tabular}\n"
      ],
      "text/markdown": [
       "\n",
       "A data.frame: 4 × 3\n",
       "\n",
       "| bp_range &lt;chr&gt; | P_LP_rAF_gt_1_df1 &lt;int&gt; | P_LP_rAF_gt_1_df2 &lt;int&gt; |\n",
       "|---|---|---|\n",
       "| 10 | 15 | 14 |\n",
       "| 20 | 28 | 21 |\n",
       "| 30 | 45 | 26 |\n",
       "| 40 | 56 | 29 |\n",
       "\n"
      ],
      "text/plain": [
       "  bp_range P_LP_rAF_gt_1_df1 P_LP_rAF_gt_1_df2\n",
       "1 10       15                14               \n",
       "2 20       28                21               \n",
       "3 30       45                26               \n",
       "4 40       56                29               "
      ]
     },
     "metadata": {},
     "output_type": "display_data"
    }
   ],
   "source": [
    "for (i in bp_range) {\n",
    "\n",
    "  temp_df1 = paste0(\"bp_\", i,\"_P_LP_rAF_gt_1_df1\")\n",
    "  temp_df2 = paste0(\"bp_\", i,\"_P_LP_rAF_gt_1_df2\")\n",
    "  \n",
    "  ## set rAF window \n",
    "  temp_window = paste0(\"rAF_bp\", i)\n",
    "  \n",
    "  assign(temp_df1, nrow(df_1_clinvar %>% filter (sAF <= rare & get(temp_window) > rare) %>%  filter(V10 %in% patho | V10 %in% LP) %>% filter(get(temp_window) > 0.01)))\n",
    "  assign(temp_df2, nrow(df_2_clinvar %>% filter (sAF <= rare & get(temp_window) > rare) %>% filter(V10 %in% patho | V10 %in% LP) %>% filter(get(temp_window) > 0.01)))\n",
    "}\n",
    "\n",
    "P_LP_rAF_gt_1_df1 = c(bp_10_P_LP_rAF_gt_1_df1, bp_20_P_LP_rAF_gt_1_df1, bp_30_P_LP_rAF_gt_1_df1, bp_40_P_LP_rAF_gt_1_df1)\n",
    "P_LP_rAF_gt_1_df2 = c(bp_10_P_LP_rAF_gt_1_df2, bp_20_P_LP_rAF_gt_1_df2, bp_30_P_LP_rAF_gt_1_df2, bp_40_P_LP_rAF_gt_1_df2)\n",
    "\n",
    "dataframe_P_LP_gt_1 = data.frame(bp_range, P_LP_rAF_gt_1_df1, P_LP_rAF_gt_1_df2)\n",
    "\n",
    "dataframe_P_LP_gt_1\n"
   ]
  },
  {
   "cell_type": "markdown",
   "id": "a11eb5a5",
   "metadata": {},
   "source": [
    "# Supplementary Excel 1 and Excel 2 \n",
    "\n",
    "Make supplementary excel files that show the number of pathogenic/likely pathogenic and benign/likely benign indels there are for each rAF value (rounded to the 6th decimal place) for both datasets. "
   ]
  },
  {
   "cell_type": "code",
   "execution_count": 25,
   "id": "453cdc92",
   "metadata": {
    "vscode": {
     "languageId": "r"
    }
   },
   "outputs": [
    {
     "data": {
      "text/html": [
       "<table class=\"dataframe\">\n",
       "<caption>A data.frame: 897 × 3</caption>\n",
       "<thead>\n",
       "\t<tr><th scope=col>rAF_bp10</th><th scope=col>count_B_LB</th><th scope=col>count_P_LP</th></tr>\n",
       "\t<tr><th scope=col>&lt;dbl&gt;</th><th scope=col>&lt;dbl&gt;</th><th scope=col>&lt;dbl&gt;</th></tr>\n",
       "</thead>\n",
       "<tbody>\n",
       "\t<tr><td>2.0e-06</td><td>1225</td><td>3478</td></tr>\n",
       "\t<tr><td>3.0e-06</td><td> 159</td><td> 190</td></tr>\n",
       "\t<tr><td>4.0e-06</td><td> 816</td><td>1633</td></tr>\n",
       "\t<tr><td>5.0e-06</td><td>  81</td><td>  65</td></tr>\n",
       "\t<tr><td>6.0e-06</td><td> 557</td><td> 856</td></tr>\n",
       "\t<tr><td>7.0e-06</td><td>  93</td><td>  64</td></tr>\n",
       "\t<tr><td>8.0e-06</td><td> 448</td><td> 536</td></tr>\n",
       "\t<tr><td>9.0e-06</td><td>  84</td><td>  42</td></tr>\n",
       "\t<tr><td>1.0e-05</td><td> 361</td><td> 376</td></tr>\n",
       "\t<tr><td>1.1e-05</td><td>  82</td><td>  42</td></tr>\n",
       "\t<tr><td>1.2e-05</td><td> 264</td><td> 248</td></tr>\n",
       "\t<tr><td>1.3e-05</td><td>  56</td><td>  45</td></tr>\n",
       "\t<tr><td>1.4e-05</td><td> 233</td><td> 191</td></tr>\n",
       "\t<tr><td>1.5e-05</td><td>  60</td><td>  28</td></tr>\n",
       "\t<tr><td>1.6e-05</td><td> 176</td><td> 164</td></tr>\n",
       "\t<tr><td>1.7e-05</td><td>  67</td><td>  19</td></tr>\n",
       "\t<tr><td>1.8e-05</td><td> 162</td><td> 144</td></tr>\n",
       "\t<tr><td>1.9e-05</td><td>  44</td><td>  23</td></tr>\n",
       "\t<tr><td>2.0e-05</td><td> 155</td><td>  87</td></tr>\n",
       "\t<tr><td>2.1e-05</td><td>  35</td><td>  13</td></tr>\n",
       "\t<tr><td>2.2e-05</td><td> 111</td><td>  84</td></tr>\n",
       "\t<tr><td>2.3e-05</td><td>  41</td><td>  17</td></tr>\n",
       "\t<tr><td>2.4e-05</td><td>  83</td><td>  71</td></tr>\n",
       "\t<tr><td>2.5e-05</td><td>  36</td><td>  19</td></tr>\n",
       "\t<tr><td>2.6e-05</td><td>  85</td><td>  75</td></tr>\n",
       "\t<tr><td>2.7e-05</td><td>  36</td><td>   9</td></tr>\n",
       "\t<tr><td>2.8e-05</td><td>  97</td><td>  58</td></tr>\n",
       "\t<tr><td>2.9e-05</td><td>  36</td><td>  10</td></tr>\n",
       "\t<tr><td>3.0e-05</td><td>  95</td><td>  58</td></tr>\n",
       "\t<tr><td>3.1e-05</td><td>  40</td><td>   5</td></tr>\n",
       "\t<tr><td>⋮</td><td>⋮</td><td>⋮</td></tr>\n",
       "\t<tr><td>0.353995</td><td>3</td><td>0</td></tr>\n",
       "\t<tr><td>0.355096</td><td>1</td><td>0</td></tr>\n",
       "\t<tr><td>0.359840</td><td>1</td><td>0</td></tr>\n",
       "\t<tr><td>0.366764</td><td>1</td><td>0</td></tr>\n",
       "\t<tr><td>0.370540</td><td>2</td><td>0</td></tr>\n",
       "\t<tr><td>0.370865</td><td>1</td><td>0</td></tr>\n",
       "\t<tr><td>0.377203</td><td>1</td><td>0</td></tr>\n",
       "\t<tr><td>0.390296</td><td>2</td><td>0</td></tr>\n",
       "\t<tr><td>0.390494</td><td>1</td><td>0</td></tr>\n",
       "\t<tr><td>0.393725</td><td>1</td><td>0</td></tr>\n",
       "\t<tr><td>0.405230</td><td>1</td><td>0</td></tr>\n",
       "\t<tr><td>0.405850</td><td>1</td><td>0</td></tr>\n",
       "\t<tr><td>0.408720</td><td>1</td><td>0</td></tr>\n",
       "\t<tr><td>0.411588</td><td>1</td><td>0</td></tr>\n",
       "\t<tr><td>0.418791</td><td>1</td><td>0</td></tr>\n",
       "\t<tr><td>0.429284</td><td>4</td><td>0</td></tr>\n",
       "\t<tr><td>0.450047</td><td>2</td><td>0</td></tr>\n",
       "\t<tr><td>0.465440</td><td>1</td><td>0</td></tr>\n",
       "\t<tr><td>0.472946</td><td>1</td><td>0</td></tr>\n",
       "\t<tr><td>0.477988</td><td>1</td><td>0</td></tr>\n",
       "\t<tr><td>0.487543</td><td>4</td><td>0</td></tr>\n",
       "\t<tr><td>0.495435</td><td>1</td><td>0</td></tr>\n",
       "\t<tr><td>0.499819</td><td>4</td><td>0</td></tr>\n",
       "\t<tr><td>0.524268</td><td>1</td><td>0</td></tr>\n",
       "\t<tr><td>0.585609</td><td>1</td><td>0</td></tr>\n",
       "\t<tr><td>0.599912</td><td>1</td><td>0</td></tr>\n",
       "\t<tr><td>0.645827</td><td>1</td><td>0</td></tr>\n",
       "\t<tr><td>0.694214</td><td>0</td><td>5</td></tr>\n",
       "\t<tr><td>0.749740</td><td>0</td><td>1</td></tr>\n",
       "\t<tr><td>1.162041</td><td>2</td><td>0</td></tr>\n",
       "</tbody>\n",
       "</table>\n"
      ],
      "text/latex": [
       "A data.frame: 897 × 3\n",
       "\\begin{tabular}{lll}\n",
       " rAF\\_bp10 & count\\_B\\_LB & count\\_P\\_LP\\\\\n",
       " <dbl> & <dbl> & <dbl>\\\\\n",
       "\\hline\n",
       "\t 2.0e-06 & 1225 & 3478\\\\\n",
       "\t 3.0e-06 &  159 &  190\\\\\n",
       "\t 4.0e-06 &  816 & 1633\\\\\n",
       "\t 5.0e-06 &   81 &   65\\\\\n",
       "\t 6.0e-06 &  557 &  856\\\\\n",
       "\t 7.0e-06 &   93 &   64\\\\\n",
       "\t 8.0e-06 &  448 &  536\\\\\n",
       "\t 9.0e-06 &   84 &   42\\\\\n",
       "\t 1.0e-05 &  361 &  376\\\\\n",
       "\t 1.1e-05 &   82 &   42\\\\\n",
       "\t 1.2e-05 &  264 &  248\\\\\n",
       "\t 1.3e-05 &   56 &   45\\\\\n",
       "\t 1.4e-05 &  233 &  191\\\\\n",
       "\t 1.5e-05 &   60 &   28\\\\\n",
       "\t 1.6e-05 &  176 &  164\\\\\n",
       "\t 1.7e-05 &   67 &   19\\\\\n",
       "\t 1.8e-05 &  162 &  144\\\\\n",
       "\t 1.9e-05 &   44 &   23\\\\\n",
       "\t 2.0e-05 &  155 &   87\\\\\n",
       "\t 2.1e-05 &   35 &   13\\\\\n",
       "\t 2.2e-05 &  111 &   84\\\\\n",
       "\t 2.3e-05 &   41 &   17\\\\\n",
       "\t 2.4e-05 &   83 &   71\\\\\n",
       "\t 2.5e-05 &   36 &   19\\\\\n",
       "\t 2.6e-05 &   85 &   75\\\\\n",
       "\t 2.7e-05 &   36 &    9\\\\\n",
       "\t 2.8e-05 &   97 &   58\\\\\n",
       "\t 2.9e-05 &   36 &   10\\\\\n",
       "\t 3.0e-05 &   95 &   58\\\\\n",
       "\t 3.1e-05 &   40 &    5\\\\\n",
       "\t ⋮ & ⋮ & ⋮\\\\\n",
       "\t 0.353995 & 3 & 0\\\\\n",
       "\t 0.355096 & 1 & 0\\\\\n",
       "\t 0.359840 & 1 & 0\\\\\n",
       "\t 0.366764 & 1 & 0\\\\\n",
       "\t 0.370540 & 2 & 0\\\\\n",
       "\t 0.370865 & 1 & 0\\\\\n",
       "\t 0.377203 & 1 & 0\\\\\n",
       "\t 0.390296 & 2 & 0\\\\\n",
       "\t 0.390494 & 1 & 0\\\\\n",
       "\t 0.393725 & 1 & 0\\\\\n",
       "\t 0.405230 & 1 & 0\\\\\n",
       "\t 0.405850 & 1 & 0\\\\\n",
       "\t 0.408720 & 1 & 0\\\\\n",
       "\t 0.411588 & 1 & 0\\\\\n",
       "\t 0.418791 & 1 & 0\\\\\n",
       "\t 0.429284 & 4 & 0\\\\\n",
       "\t 0.450047 & 2 & 0\\\\\n",
       "\t 0.465440 & 1 & 0\\\\\n",
       "\t 0.472946 & 1 & 0\\\\\n",
       "\t 0.477988 & 1 & 0\\\\\n",
       "\t 0.487543 & 4 & 0\\\\\n",
       "\t 0.495435 & 1 & 0\\\\\n",
       "\t 0.499819 & 4 & 0\\\\\n",
       "\t 0.524268 & 1 & 0\\\\\n",
       "\t 0.585609 & 1 & 0\\\\\n",
       "\t 0.599912 & 1 & 0\\\\\n",
       "\t 0.645827 & 1 & 0\\\\\n",
       "\t 0.694214 & 0 & 5\\\\\n",
       "\t 0.749740 & 0 & 1\\\\\n",
       "\t 1.162041 & 2 & 0\\\\\n",
       "\\end{tabular}\n"
      ],
      "text/markdown": [
       "\n",
       "A data.frame: 897 × 3\n",
       "\n",
       "| rAF_bp10 &lt;dbl&gt; | count_B_LB &lt;dbl&gt; | count_P_LP &lt;dbl&gt; |\n",
       "|---|---|---|\n",
       "| 2.0e-06 | 1225 | 3478 |\n",
       "| 3.0e-06 |  159 |  190 |\n",
       "| 4.0e-06 |  816 | 1633 |\n",
       "| 5.0e-06 |   81 |   65 |\n",
       "| 6.0e-06 |  557 |  856 |\n",
       "| 7.0e-06 |   93 |   64 |\n",
       "| 8.0e-06 |  448 |  536 |\n",
       "| 9.0e-06 |   84 |   42 |\n",
       "| 1.0e-05 |  361 |  376 |\n",
       "| 1.1e-05 |   82 |   42 |\n",
       "| 1.2e-05 |  264 |  248 |\n",
       "| 1.3e-05 |   56 |   45 |\n",
       "| 1.4e-05 |  233 |  191 |\n",
       "| 1.5e-05 |   60 |   28 |\n",
       "| 1.6e-05 |  176 |  164 |\n",
       "| 1.7e-05 |   67 |   19 |\n",
       "| 1.8e-05 |  162 |  144 |\n",
       "| 1.9e-05 |   44 |   23 |\n",
       "| 2.0e-05 |  155 |   87 |\n",
       "| 2.1e-05 |   35 |   13 |\n",
       "| 2.2e-05 |  111 |   84 |\n",
       "| 2.3e-05 |   41 |   17 |\n",
       "| 2.4e-05 |   83 |   71 |\n",
       "| 2.5e-05 |   36 |   19 |\n",
       "| 2.6e-05 |   85 |   75 |\n",
       "| 2.7e-05 |   36 |    9 |\n",
       "| 2.8e-05 |   97 |   58 |\n",
       "| 2.9e-05 |   36 |   10 |\n",
       "| 3.0e-05 |   95 |   58 |\n",
       "| 3.1e-05 |   40 |    5 |\n",
       "| ⋮ | ⋮ | ⋮ |\n",
       "| 0.353995 | 3 | 0 |\n",
       "| 0.355096 | 1 | 0 |\n",
       "| 0.359840 | 1 | 0 |\n",
       "| 0.366764 | 1 | 0 |\n",
       "| 0.370540 | 2 | 0 |\n",
       "| 0.370865 | 1 | 0 |\n",
       "| 0.377203 | 1 | 0 |\n",
       "| 0.390296 | 2 | 0 |\n",
       "| 0.390494 | 1 | 0 |\n",
       "| 0.393725 | 1 | 0 |\n",
       "| 0.405230 | 1 | 0 |\n",
       "| 0.405850 | 1 | 0 |\n",
       "| 0.408720 | 1 | 0 |\n",
       "| 0.411588 | 1 | 0 |\n",
       "| 0.418791 | 1 | 0 |\n",
       "| 0.429284 | 4 | 0 |\n",
       "| 0.450047 | 2 | 0 |\n",
       "| 0.465440 | 1 | 0 |\n",
       "| 0.472946 | 1 | 0 |\n",
       "| 0.477988 | 1 | 0 |\n",
       "| 0.487543 | 4 | 0 |\n",
       "| 0.495435 | 1 | 0 |\n",
       "| 0.499819 | 4 | 0 |\n",
       "| 0.524268 | 1 | 0 |\n",
       "| 0.585609 | 1 | 0 |\n",
       "| 0.599912 | 1 | 0 |\n",
       "| 0.645827 | 1 | 0 |\n",
       "| 0.694214 | 0 | 5 |\n",
       "| 0.749740 | 0 | 1 |\n",
       "| 1.162041 | 2 | 0 |\n",
       "\n"
      ],
      "text/plain": [
       "    rAF_bp10 count_B_LB count_P_LP\n",
       "1   2.0e-06  1225       3478      \n",
       "2   3.0e-06   159        190      \n",
       "3   4.0e-06   816       1633      \n",
       "4   5.0e-06    81         65      \n",
       "5   6.0e-06   557        856      \n",
       "6   7.0e-06    93         64      \n",
       "7   8.0e-06   448        536      \n",
       "8   9.0e-06    84         42      \n",
       "9   1.0e-05   361        376      \n",
       "10  1.1e-05    82         42      \n",
       "11  1.2e-05   264        248      \n",
       "12  1.3e-05    56         45      \n",
       "13  1.4e-05   233        191      \n",
       "14  1.5e-05    60         28      \n",
       "15  1.6e-05   176        164      \n",
       "16  1.7e-05    67         19      \n",
       "17  1.8e-05   162        144      \n",
       "18  1.9e-05    44         23      \n",
       "19  2.0e-05   155         87      \n",
       "20  2.1e-05    35         13      \n",
       "21  2.2e-05   111         84      \n",
       "22  2.3e-05    41         17      \n",
       "23  2.4e-05    83         71      \n",
       "24  2.5e-05    36         19      \n",
       "25  2.6e-05    85         75      \n",
       "26  2.7e-05    36          9      \n",
       "27  2.8e-05    97         58      \n",
       "28  2.9e-05    36         10      \n",
       "29  3.0e-05    95         58      \n",
       "30  3.1e-05    40          5      \n",
       "⋮   ⋮        ⋮          ⋮         \n",
       "868 0.353995 3          0         \n",
       "869 0.355096 1          0         \n",
       "870 0.359840 1          0         \n",
       "871 0.366764 1          0         \n",
       "872 0.370540 2          0         \n",
       "873 0.370865 1          0         \n",
       "874 0.377203 1          0         \n",
       "875 0.390296 2          0         \n",
       "876 0.390494 1          0         \n",
       "877 0.393725 1          0         \n",
       "878 0.405230 1          0         \n",
       "879 0.405850 1          0         \n",
       "880 0.408720 1          0         \n",
       "881 0.411588 1          0         \n",
       "882 0.418791 1          0         \n",
       "883 0.429284 4          0         \n",
       "884 0.450047 2          0         \n",
       "885 0.465440 1          0         \n",
       "886 0.472946 1          0         \n",
       "887 0.477988 1          0         \n",
       "888 0.487543 4          0         \n",
       "889 0.495435 1          0         \n",
       "890 0.499819 4          0         \n",
       "891 0.524268 1          0         \n",
       "892 0.585609 1          0         \n",
       "893 0.599912 1          0         \n",
       "894 0.645827 1          0         \n",
       "895 0.694214 0          5         \n",
       "896 0.749740 0          1         \n",
       "897 1.162041 2          0         "
      ]
     },
     "metadata": {},
     "output_type": "display_data"
    }
   ],
   "source": [
    "### Supplementary excel 1: for database 1 \n",
    "df_1_B_LB$rAF_bp10 = round(df_1_B_LB$rAF_bp10, 6 )\n",
    "df_1_P_LP$rAF_bp10 = round(df_1_P_LP$rAF_bp10, 6 )\n",
    "\n",
    "\n",
    "df_1_freq_B_LB =  df_1_B_LB %>% group_by(rAF_bp10) %>% summarise(count_B_LB=n())\n",
    "df_1_freq_P_LP =  df_1_P_LP %>% group_by(rAF_bp10) %>% summarise(count_P_LP=n())\n",
    "\n",
    "df_1_freq = merge(df_1_freq_B_LB, df_1_freq_P_LP, by = \"rAF_bp10\", all = TRUE)\n",
    "df_1_freq[is.na(df_1_freq)] = 0\n",
    "\n",
    "df_1_freq\n",
    "\n",
    "fwrite(df_1_freq, \"supplementary_excel_1.csv\")"
   ]
  },
  {
   "cell_type": "code",
   "execution_count": 26,
   "id": "ac718a39",
   "metadata": {
    "vscode": {
     "languageId": "r"
    }
   },
   "outputs": [
    {
     "data": {
      "text/html": [
       "<table class=\"dataframe\">\n",
       "<caption>A data.frame: 332 × 3</caption>\n",
       "<thead>\n",
       "\t<tr><th scope=col>rAF_bp10</th><th scope=col>count_B_LB</th><th scope=col>count_P_LP</th></tr>\n",
       "\t<tr><th scope=col>&lt;dbl&gt;</th><th scope=col>&lt;dbl&gt;</th><th scope=col>&lt;dbl&gt;</th></tr>\n",
       "</thead>\n",
       "<tbody>\n",
       "\t<tr><td>1.3e-05</td><td>100</td><td>2446</td></tr>\n",
       "\t<tr><td>1.4e-05</td><td>  7</td><td>  42</td></tr>\n",
       "\t<tr><td>1.5e-05</td><td>  4</td><td>  21</td></tr>\n",
       "\t<tr><td>1.6e-05</td><td>  4</td><td>  16</td></tr>\n",
       "\t<tr><td>1.7e-05</td><td>  2</td><td>  13</td></tr>\n",
       "\t<tr><td>1.8e-05</td><td>  0</td><td>   5</td></tr>\n",
       "\t<tr><td>1.9e-05</td><td>  0</td><td>   6</td></tr>\n",
       "\t<tr><td>2.0e-05</td><td>  0</td><td>   4</td></tr>\n",
       "\t<tr><td>2.1e-05</td><td>  1</td><td>   7</td></tr>\n",
       "\t<tr><td>2.2e-05</td><td>  0</td><td>   4</td></tr>\n",
       "\t<tr><td>2.3e-05</td><td>  1</td><td>   8</td></tr>\n",
       "\t<tr><td>2.4e-05</td><td>  0</td><td>   6</td></tr>\n",
       "\t<tr><td>2.5e-05</td><td> 27</td><td> 483</td></tr>\n",
       "\t<tr><td>2.6e-05</td><td> 47</td><td> 401</td></tr>\n",
       "\t<tr><td>2.7e-05</td><td>  7</td><td>  23</td></tr>\n",
       "\t<tr><td>2.8e-05</td><td>  3</td><td>  12</td></tr>\n",
       "\t<tr><td>2.9e-05</td><td>  2</td><td>  11</td></tr>\n",
       "\t<tr><td>3.0e-05</td><td>  2</td><td>   9</td></tr>\n",
       "\t<tr><td>3.1e-05</td><td>  1</td><td>   7</td></tr>\n",
       "\t<tr><td>3.2e-05</td><td>  1</td><td>   2</td></tr>\n",
       "\t<tr><td>3.3e-05</td><td>  1</td><td>   3</td></tr>\n",
       "\t<tr><td>3.4e-05</td><td>  1</td><td>   7</td></tr>\n",
       "\t<tr><td>3.5e-05</td><td>  1</td><td>   3</td></tr>\n",
       "\t<tr><td>3.6e-05</td><td>  0</td><td>   2</td></tr>\n",
       "\t<tr><td>3.7e-05</td><td>  1</td><td>   2</td></tr>\n",
       "\t<tr><td>3.8e-05</td><td> 31</td><td> 335</td></tr>\n",
       "\t<tr><td>3.9e-05</td><td> 12</td><td>  97</td></tr>\n",
       "\t<tr><td>4.0e-05</td><td>  0</td><td>  19</td></tr>\n",
       "\t<tr><td>4.1e-05</td><td>  1</td><td>  17</td></tr>\n",
       "\t<tr><td>4.2e-05</td><td>  1</td><td>   9</td></tr>\n",
       "\t<tr><td>⋮</td><td>⋮</td><td>⋮</td></tr>\n",
       "\t<tr><td>0.208931</td><td>7</td><td>0</td></tr>\n",
       "\t<tr><td>0.219445</td><td>4</td><td>0</td></tr>\n",
       "\t<tr><td>0.230902</td><td>1</td><td>0</td></tr>\n",
       "\t<tr><td>0.248443</td><td>1</td><td>0</td></tr>\n",
       "\t<tr><td>0.252324</td><td>1</td><td>0</td></tr>\n",
       "\t<tr><td>0.291674</td><td>1</td><td>0</td></tr>\n",
       "\t<tr><td>0.309782</td><td>1</td><td>0</td></tr>\n",
       "\t<tr><td>0.324128</td><td>3</td><td>0</td></tr>\n",
       "\t<tr><td>0.347254</td><td>1</td><td>0</td></tr>\n",
       "\t<tr><td>0.354453</td><td>0</td><td>1</td></tr>\n",
       "\t<tr><td>0.379732</td><td>1</td><td>1</td></tr>\n",
       "\t<tr><td>0.422749</td><td>2</td><td>0</td></tr>\n",
       "\t<tr><td>0.430974</td><td>1</td><td>0</td></tr>\n",
       "\t<tr><td>0.473692</td><td>0</td><td>1</td></tr>\n",
       "\t<tr><td>0.492842</td><td>1</td><td>0</td></tr>\n",
       "\t<tr><td>0.501268</td><td>0</td><td>1</td></tr>\n",
       "\t<tr><td>0.529052</td><td>0</td><td>1</td></tr>\n",
       "\t<tr><td>0.581483</td><td>1</td><td>0</td></tr>\n",
       "\t<tr><td>0.594033</td><td>1</td><td>0</td></tr>\n",
       "\t<tr><td>0.596489</td><td>0</td><td>2</td></tr>\n",
       "\t<tr><td>0.604755</td><td>1</td><td>0</td></tr>\n",
       "\t<tr><td>0.636315</td><td>3</td><td>0</td></tr>\n",
       "\t<tr><td>0.705033</td><td>2</td><td>0</td></tr>\n",
       "\t<tr><td>0.720425</td><td>1</td><td>0</td></tr>\n",
       "\t<tr><td>0.745262</td><td>1</td><td>0</td></tr>\n",
       "\t<tr><td>0.761774</td><td>1</td><td>0</td></tr>\n",
       "\t<tr><td>0.780858</td><td>1</td><td>0</td></tr>\n",
       "\t<tr><td>0.836157</td><td>6</td><td>0</td></tr>\n",
       "\t<tr><td>1.088336</td><td>1</td><td>0</td></tr>\n",
       "\t<tr><td>1.453588</td><td>0</td><td>3</td></tr>\n",
       "</tbody>\n",
       "</table>\n"
      ],
      "text/latex": [
       "A data.frame: 332 × 3\n",
       "\\begin{tabular}{lll}\n",
       " rAF\\_bp10 & count\\_B\\_LB & count\\_P\\_LP\\\\\n",
       " <dbl> & <dbl> & <dbl>\\\\\n",
       "\\hline\n",
       "\t 1.3e-05 & 100 & 2446\\\\\n",
       "\t 1.4e-05 &   7 &   42\\\\\n",
       "\t 1.5e-05 &   4 &   21\\\\\n",
       "\t 1.6e-05 &   4 &   16\\\\\n",
       "\t 1.7e-05 &   2 &   13\\\\\n",
       "\t 1.8e-05 &   0 &    5\\\\\n",
       "\t 1.9e-05 &   0 &    6\\\\\n",
       "\t 2.0e-05 &   0 &    4\\\\\n",
       "\t 2.1e-05 &   1 &    7\\\\\n",
       "\t 2.2e-05 &   0 &    4\\\\\n",
       "\t 2.3e-05 &   1 &    8\\\\\n",
       "\t 2.4e-05 &   0 &    6\\\\\n",
       "\t 2.5e-05 &  27 &  483\\\\\n",
       "\t 2.6e-05 &  47 &  401\\\\\n",
       "\t 2.7e-05 &   7 &   23\\\\\n",
       "\t 2.8e-05 &   3 &   12\\\\\n",
       "\t 2.9e-05 &   2 &   11\\\\\n",
       "\t 3.0e-05 &   2 &    9\\\\\n",
       "\t 3.1e-05 &   1 &    7\\\\\n",
       "\t 3.2e-05 &   1 &    2\\\\\n",
       "\t 3.3e-05 &   1 &    3\\\\\n",
       "\t 3.4e-05 &   1 &    7\\\\\n",
       "\t 3.5e-05 &   1 &    3\\\\\n",
       "\t 3.6e-05 &   0 &    2\\\\\n",
       "\t 3.7e-05 &   1 &    2\\\\\n",
       "\t 3.8e-05 &  31 &  335\\\\\n",
       "\t 3.9e-05 &  12 &   97\\\\\n",
       "\t 4.0e-05 &   0 &   19\\\\\n",
       "\t 4.1e-05 &   1 &   17\\\\\n",
       "\t 4.2e-05 &   1 &    9\\\\\n",
       "\t ⋮ & ⋮ & ⋮\\\\\n",
       "\t 0.208931 & 7 & 0\\\\\n",
       "\t 0.219445 & 4 & 0\\\\\n",
       "\t 0.230902 & 1 & 0\\\\\n",
       "\t 0.248443 & 1 & 0\\\\\n",
       "\t 0.252324 & 1 & 0\\\\\n",
       "\t 0.291674 & 1 & 0\\\\\n",
       "\t 0.309782 & 1 & 0\\\\\n",
       "\t 0.324128 & 3 & 0\\\\\n",
       "\t 0.347254 & 1 & 0\\\\\n",
       "\t 0.354453 & 0 & 1\\\\\n",
       "\t 0.379732 & 1 & 1\\\\\n",
       "\t 0.422749 & 2 & 0\\\\\n",
       "\t 0.430974 & 1 & 0\\\\\n",
       "\t 0.473692 & 0 & 1\\\\\n",
       "\t 0.492842 & 1 & 0\\\\\n",
       "\t 0.501268 & 0 & 1\\\\\n",
       "\t 0.529052 & 0 & 1\\\\\n",
       "\t 0.581483 & 1 & 0\\\\\n",
       "\t 0.594033 & 1 & 0\\\\\n",
       "\t 0.596489 & 0 & 2\\\\\n",
       "\t 0.604755 & 1 & 0\\\\\n",
       "\t 0.636315 & 3 & 0\\\\\n",
       "\t 0.705033 & 2 & 0\\\\\n",
       "\t 0.720425 & 1 & 0\\\\\n",
       "\t 0.745262 & 1 & 0\\\\\n",
       "\t 0.761774 & 1 & 0\\\\\n",
       "\t 0.780858 & 1 & 0\\\\\n",
       "\t 0.836157 & 6 & 0\\\\\n",
       "\t 1.088336 & 1 & 0\\\\\n",
       "\t 1.453588 & 0 & 3\\\\\n",
       "\\end{tabular}\n"
      ],
      "text/markdown": [
       "\n",
       "A data.frame: 332 × 3\n",
       "\n",
       "| rAF_bp10 &lt;dbl&gt; | count_B_LB &lt;dbl&gt; | count_P_LP &lt;dbl&gt; |\n",
       "|---|---|---|\n",
       "| 1.3e-05 | 100 | 2446 |\n",
       "| 1.4e-05 |   7 |   42 |\n",
       "| 1.5e-05 |   4 |   21 |\n",
       "| 1.6e-05 |   4 |   16 |\n",
       "| 1.7e-05 |   2 |   13 |\n",
       "| 1.8e-05 |   0 |    5 |\n",
       "| 1.9e-05 |   0 |    6 |\n",
       "| 2.0e-05 |   0 |    4 |\n",
       "| 2.1e-05 |   1 |    7 |\n",
       "| 2.2e-05 |   0 |    4 |\n",
       "| 2.3e-05 |   1 |    8 |\n",
       "| 2.4e-05 |   0 |    6 |\n",
       "| 2.5e-05 |  27 |  483 |\n",
       "| 2.6e-05 |  47 |  401 |\n",
       "| 2.7e-05 |   7 |   23 |\n",
       "| 2.8e-05 |   3 |   12 |\n",
       "| 2.9e-05 |   2 |   11 |\n",
       "| 3.0e-05 |   2 |    9 |\n",
       "| 3.1e-05 |   1 |    7 |\n",
       "| 3.2e-05 |   1 |    2 |\n",
       "| 3.3e-05 |   1 |    3 |\n",
       "| 3.4e-05 |   1 |    7 |\n",
       "| 3.5e-05 |   1 |    3 |\n",
       "| 3.6e-05 |   0 |    2 |\n",
       "| 3.7e-05 |   1 |    2 |\n",
       "| 3.8e-05 |  31 |  335 |\n",
       "| 3.9e-05 |  12 |   97 |\n",
       "| 4.0e-05 |   0 |   19 |\n",
       "| 4.1e-05 |   1 |   17 |\n",
       "| 4.2e-05 |   1 |    9 |\n",
       "| ⋮ | ⋮ | ⋮ |\n",
       "| 0.208931 | 7 | 0 |\n",
       "| 0.219445 | 4 | 0 |\n",
       "| 0.230902 | 1 | 0 |\n",
       "| 0.248443 | 1 | 0 |\n",
       "| 0.252324 | 1 | 0 |\n",
       "| 0.291674 | 1 | 0 |\n",
       "| 0.309782 | 1 | 0 |\n",
       "| 0.324128 | 3 | 0 |\n",
       "| 0.347254 | 1 | 0 |\n",
       "| 0.354453 | 0 | 1 |\n",
       "| 0.379732 | 1 | 1 |\n",
       "| 0.422749 | 2 | 0 |\n",
       "| 0.430974 | 1 | 0 |\n",
       "| 0.473692 | 0 | 1 |\n",
       "| 0.492842 | 1 | 0 |\n",
       "| 0.501268 | 0 | 1 |\n",
       "| 0.529052 | 0 | 1 |\n",
       "| 0.581483 | 1 | 0 |\n",
       "| 0.594033 | 1 | 0 |\n",
       "| 0.596489 | 0 | 2 |\n",
       "| 0.604755 | 1 | 0 |\n",
       "| 0.636315 | 3 | 0 |\n",
       "| 0.705033 | 2 | 0 |\n",
       "| 0.720425 | 1 | 0 |\n",
       "| 0.745262 | 1 | 0 |\n",
       "| 0.761774 | 1 | 0 |\n",
       "| 0.780858 | 1 | 0 |\n",
       "| 0.836157 | 6 | 0 |\n",
       "| 1.088336 | 1 | 0 |\n",
       "| 1.453588 | 0 | 3 |\n",
       "\n"
      ],
      "text/plain": [
       "    rAF_bp10 count_B_LB count_P_LP\n",
       "1   1.3e-05  100        2446      \n",
       "2   1.4e-05    7          42      \n",
       "3   1.5e-05    4          21      \n",
       "4   1.6e-05    4          16      \n",
       "5   1.7e-05    2          13      \n",
       "6   1.8e-05    0           5      \n",
       "7   1.9e-05    0           6      \n",
       "8   2.0e-05    0           4      \n",
       "9   2.1e-05    1           7      \n",
       "10  2.2e-05    0           4      \n",
       "11  2.3e-05    1           8      \n",
       "12  2.4e-05    0           6      \n",
       "13  2.5e-05   27         483      \n",
       "14  2.6e-05   47         401      \n",
       "15  2.7e-05    7          23      \n",
       "16  2.8e-05    3          12      \n",
       "17  2.9e-05    2          11      \n",
       "18  3.0e-05    2           9      \n",
       "19  3.1e-05    1           7      \n",
       "20  3.2e-05    1           2      \n",
       "21  3.3e-05    1           3      \n",
       "22  3.4e-05    1           7      \n",
       "23  3.5e-05    1           3      \n",
       "24  3.6e-05    0           2      \n",
       "25  3.7e-05    1           2      \n",
       "26  3.8e-05   31         335      \n",
       "27  3.9e-05   12          97      \n",
       "28  4.0e-05    0          19      \n",
       "29  4.1e-05    1          17      \n",
       "30  4.2e-05    1           9      \n",
       "⋮   ⋮        ⋮          ⋮         \n",
       "303 0.208931 7          0         \n",
       "304 0.219445 4          0         \n",
       "305 0.230902 1          0         \n",
       "306 0.248443 1          0         \n",
       "307 0.252324 1          0         \n",
       "308 0.291674 1          0         \n",
       "309 0.309782 1          0         \n",
       "310 0.324128 3          0         \n",
       "311 0.347254 1          0         \n",
       "312 0.354453 0          1         \n",
       "313 0.379732 1          1         \n",
       "314 0.422749 2          0         \n",
       "315 0.430974 1          0         \n",
       "316 0.473692 0          1         \n",
       "317 0.492842 1          0         \n",
       "318 0.501268 0          1         \n",
       "319 0.529052 0          1         \n",
       "320 0.581483 1          0         \n",
       "321 0.594033 1          0         \n",
       "322 0.596489 0          2         \n",
       "323 0.604755 1          0         \n",
       "324 0.636315 3          0         \n",
       "325 0.705033 2          0         \n",
       "326 0.720425 1          0         \n",
       "327 0.745262 1          0         \n",
       "328 0.761774 1          0         \n",
       "329 0.780858 1          0         \n",
       "330 0.836157 6          0         \n",
       "331 1.088336 1          0         \n",
       "332 1.453588 0          3         "
      ]
     },
     "metadata": {},
     "output_type": "display_data"
    }
   ],
   "source": [
    "### Supplementary excel 1: for database 2\n",
    "df_2_B_LB$rAF_bp10 = round(df_2_B_LB$rAF_bp10, 6 )\n",
    "df_2_P_LP$rAF_bp10 = round(df_2_P_LP$rAF_bp10, 6 )\n",
    "\n",
    "\n",
    "df_2_freq_B_LB =  df_2_B_LB %>% group_by(rAF_bp10) %>% summarise(count_B_LB=n())\n",
    "df_2_freq_P_LP =  df_2_P_LP %>% group_by(rAF_bp10) %>% summarise(count_P_LP=n())\n",
    "\n",
    "df_2_freq = merge(df_2_freq_B_LB, df_2_freq_P_LP, by = \"rAF_bp10\", all = TRUE)\n",
    "df_2_freq[is.na(df_2_freq)] = 0\n",
    "\n",
    "df_2_freq\n",
    "\n",
    "fwrite(df_2_freq, \"supplementary_excel_2.csv\")"
   ]
  },
  {
   "cell_type": "code",
   "execution_count": null,
   "id": "9ed09175",
   "metadata": {},
   "outputs": [],
   "source": []
  }
 ],
 "metadata": {
  "kernelspec": {
   "display_name": "R",
   "language": "R",
   "name": "ir"
  },
  "language_info": {
   "codemirror_mode": "r",
   "file_extension": ".r",
   "mimetype": "text/x-r-source",
   "name": "R",
   "pygments_lexer": "r",
   "version": "4.2.1"
  }
 },
 "nbformat": 4,
 "nbformat_minor": 5
}
