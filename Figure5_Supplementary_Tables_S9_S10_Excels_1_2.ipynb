{
 "cells": [
  {
   "cell_type": "markdown",
   "id": "66c151dc-5045-4749-bf2d-8bd92c9c1ac5",
   "metadata": {},
   "source": [
    "# Figure 5"
   ]
  },
  {
   "cell_type": "code",
   "execution_count": 30,
   "id": "85b0ab5b-8a22-4fa9-aa6b-95c0d1561310",
   "metadata": {
    "vscode": {
     "languageId": "r"
    }
   },
   "outputs": [
    {
     "name": "stderr",
     "output_type": "stream",
     "text": [
      "also installing the dependencies ‘nloptr’, ‘pbkrtest’, ‘lme4’, ‘car’, ‘rstatix’\n",
      "\n",
      "\n",
      "Warning message in install.packages(\"ggpubr\"):\n",
      "“installation of package ‘nloptr’ had non-zero exit status”\n",
      "Warning message in install.packages(\"ggpubr\"):\n",
      "“installation of package ‘lme4’ had non-zero exit status”\n",
      "Warning message in install.packages(\"ggpubr\"):\n",
      "“installation of package ‘pbkrtest’ had non-zero exit status”\n",
      "Warning message in install.packages(\"ggpubr\"):\n",
      "“installation of package ‘car’ had non-zero exit status”\n",
      "Warning message in install.packages(\"ggpubr\"):\n",
      "“installation of package ‘rstatix’ had non-zero exit status”\n",
      "Warning message in install.packages(\"ggpubr\"):\n",
      "“installation of package ‘ggpubr’ had non-zero exit status”\n",
      "Updating HTML index of packages in '.Library'\n",
      "\n",
      "Making 'packages.html' ...\n",
      " done\n",
      "\n"
     ]
    },
    {
     "ename": "ERROR",
     "evalue": "Error in library(ggpubr): there is no package called ‘ggpubr’\n",
     "output_type": "error",
     "traceback": [
      "Error in library(ggpubr): there is no package called ‘ggpubr’\nTraceback:\n",
      "1. library(ggpubr)"
     ]
    }
   ],
   "source": [
    "setwd(\"\")\n",
    "\n",
    "# Load in packages\n",
    "library(tidyverse)\n",
    "library(data.table)\n",
    "library(readxl)\n",
    "library(dplyr)\n",
    "library(stringr)\n",
    "library(ggplot2)\n",
    "install.packages(\"ggpubr\")\n",
    "library(ggpubr)\n",
    "library(ggtext)"
   ]
  },
  {
   "cell_type": "code",
   "execution_count": 4,
   "id": "31602699-5b32-4dfd-8ea6-0737c1eda125",
   "metadata": {
    "vscode": {
     "languageId": "r"
    }
   },
   "outputs": [],
   "source": [
    "#Clear environment: \n",
    "rm(list=ls())\n"
   ]
  },
  {
   "cell_type": "markdown",
   "id": "fb43d434-d776-47da-9dc0-fbd3f00b7fd4",
   "metadata": {},
   "source": [
    "# Set your datasets below and read in the files containing all indels ≤ 50bp for each dataset:"
   ]
  },
  {
   "cell_type": "code",
   "execution_count": 9,
   "id": "9753800f-5e82-471b-9edb-e1fc3c2964a1",
   "metadata": {
    "vscode": {
     "languageId": "r"
    }
   },
   "outputs": [
    {
     "ename": "ERROR",
     "evalue": "Error in fread(\"/UK.BB.exomes.430k.sites_indelsonly_rAF_lt50bp.csv\"): File '/UK.BB.exomes.430k.sites_indelsonly_rAF_lt50bp.csv' does not exist or is non-readable. getwd()=='/Users/User_1/Desktop/rAF_project_2'\n",
     "output_type": "error",
     "traceback": [
      "Error in fread(\"/UK.BB.exomes.430k.sites_indelsonly_rAF_lt50bp.csv\"): File '/UK.BB.exomes.430k.sites_indelsonly_rAF_lt50bp.csv' does not exist or is non-readable. getwd()=='/Users/User_1/Desktop/rAF_project_2'\nTraceback:\n",
      "1. fread(\"/UK.BB.exomes.430k.sites_indelsonly_rAF_lt50bp.csv\")",
      "2. stop(\"File '\", file, \"' does not exist or is non-readable. getwd()=='\", \n .     getwd(), \"'\")"
     ]
    }
   ],
   "source": [
    "## define dfs \n",
    "df_name_1 = \"gnomAD\"\n",
    "df_name_2 = \"IGM\"\n",
    "df_name_3 = \"UK.BB\"\n",
    "\n",
    "## Read in dataframe (total)\n",
    "df_1 = fread(\"gnomad.exomes.r2.1.1.sites_indelsonly_rAF_lt50bp.csv\")\n",
    "df_2 = fread(\"2023-03-23_IGM_n39367_indelsonly_rAF_lt50bp.csv\")\n",
    "df_3 = fread(\"/UK.BB.exomes.430k.sites_indelsonly_rAF_lt50bp.csv\")"
   ]
  },
  {
   "cell_type": "code",
   "execution_count": 10,
   "id": "64e92108-13db-4d14-8887-bae219e4d16a",
   "metadata": {
    "vscode": {
     "languageId": "r"
    }
   },
   "outputs": [],
   "source": [
    "#Read in the rAF_hi, rAF_lo and sAF_hi files. \n",
    "#rAF_hi indels are sAF ≤ 10^-4 and rAF > 10^-4. \n",
    "# rAF_lo indels are sAF ≤ 10^-4 and rAF ≤ 10^-4. \n",
    "# sAF_hi indels are sAF > 10^-4.\n"
   ]
  },
  {
   "cell_type": "markdown",
   "id": "8f2d4dc1-4eee-485b-818e-993b8ce1b795",
   "metadata": {},
   "source": [
    "# Read in rAF_hi "
   ]
  },
  {
   "cell_type": "code",
   "execution_count": 11,
   "id": "86280316-75ce-4e22-b03f-d586d1ada7d1",
   "metadata": {
    "vscode": {
     "languageId": "r"
    }
   },
   "outputs": [],
   "source": [
    "\n",
    "rAF_hi_bp_10_df_1 = fread(\"gnomad.exomes.r2.1.1.sites_indelsonly_rAF_bp10_rAF_hiIndels.lt50bp.csv\")\n",
    "rAF_hi_bp_20_df_1 = fread(\"gnomad.exomes.r2.1.1.sites_indelsonly_rAF_bp20_rAF_hiIndels.lt50bp.csv\")\n",
    "rAF_hi_bp_30_df_1 = fread(\"gnomad.exomes.r2.1.1.sites_indelsonly_rAF_bp30_rAF_hiIndels.lt50bp.csv\")\n",
    "rAF_hi_bp_40_df_1 = fread(\"gnomad.exomes.r2.1.1.sites_indelsonly_rAF_bp40_rAF_hiIndels.lt50bp.csv\")\n",
    "\n",
    "rAF_hi_bp_10_df_2 = fread(\"2023-03-23_IGM_n39367_indelsonly_rAF_bp10_rAF_hiIndels.lt50bp.csv\")\n",
    "rAF_hi_bp_20_df_2 = fread(\"2023-03-23_IGM_n39367_indelsonly_rAF_bp20_rAF_hiIndels.lt50bp.csv\")\n",
    "rAF_hi_bp_30_df_2 = fread(\"2023-03-23_IGM_n39367_indelsonly_rAF_bp30_rAF_hiIndels.lt50bp.csv\")\n",
    "rAF_hi_bp_40_df_2 = fread(\"2023-03-23_IGM_n39367_indelsonly_rAF_bp40_rAF_hiIndels.lt50bp.csv\")\n",
    "\n",
    "rAF_hi_bp_10_df_3 = fread(\"UK.BB.exomes.430k.sites_indelsonly_rAF_bp10_rAF_hiIndels.lt50bp.csv\")\n",
    "rAF_hi_bp_20_df_3 = fread(\"UK.BB.exomes.430k.sites_indelsonly_rAF_bp20_rAF_hiIndels.lt50bp.csv\")\n",
    "rAF_hi_bp_30_df_3 = fread(\"UK.BB.exomes.430k.sites_indelsonly_rAF_bp30_rAF_hiIndels.lt50bp.csv\")\n",
    "rAF_hi_bp_40_df_3 = fread(\"UK.BB.exomes.430k.sites_indelsonly_rAF_bp40_rAF_hiIndels.lt50bp.csv\")\n"
   ]
  },
  {
   "cell_type": "markdown",
   "id": "c75990f9-cb9b-4cb4-b225-11551f8baa57",
   "metadata": {},
   "source": [
    "# Read in rAF_lo "
   ]
  },
  {
   "cell_type": "code",
   "execution_count": 12,
   "id": "141cc1cf-5966-4cf5-abbe-1541224a48a9",
   "metadata": {
    "vscode": {
     "languageId": "r"
    }
   },
   "outputs": [],
   "source": [
    "rAF_lo_bp_10_df_1 = fread(\"gnomad.exomes.r2.1.1.sites_indelsonly_rAF_bp10_rAF_loIndels.lt50bp.csv\")\n",
    "rAF_lo_bp_20_df_1 = fread(\"gnomad.exomes.r2.1.1.sites_indelsonly_rAF_bp20_rAF_loIndels.lt50bp.csv\")\n",
    "rAF_lo_bp_30_df_1 = fread(\"gnomad.exomes.r2.1.1.sites_indelsonly_rAF_bp30_rAF_loIndels.lt50bp.csv\")\n",
    "rAF_lo_bp_40_df_1 = fread(\"gnomad.exomes.r2.1.1.sites_indelsonly_rAF_bp40_rAF_loIndels.lt50bp.csv\")\n",
    "\n",
    "rAF_lo_bp_10_df_2 = fread(\"2023-03-23_IGM_n39367_indelsonly_rAF_bp10_rAF_loIndels.lt50bp.csv\")\n",
    "rAF_lo_bp_20_df_2 = fread(\"2023-03-23_IGM_n39367_indelsonly_rAF_bp20_rAF_loIndels.lt50bp.csv\")\n",
    "rAF_lo_bp_30_df_2 = fread(\"2023-03-23_IGM_n39367_indelsonly_rAF_bp30_rAF_loIndels.lt50bp.csv\")\n",
    "rAF_lo_bp_40_df_2 = fread(\"2023-03-23_IGM_n39367_indelsonly_rAF_bp40_rAF_loIndels.lt50bp.csv\")\n",
    "\n",
    "rAF_lo_bp_10_df_3 = fread(\"UK.BB.exomes.430k.sites_indelsonly_rAF_bp10_rAF_loIndels.lt50bp.csv\")\n",
    "rAF_lo_bp_20_df_3 = fread(\"UK.BB.exomes.430k.sites_indelsonly_rAF_bp20_rAF_loIndels.lt50bp.csv\")\n",
    "rAF_lo_bp_30_df_3 = fread(\"UK.BB.exomes.430k.sites_indelsonly_rAF_bp30_rAF_loIndels.lt50bp.csv\")\n",
    "rAF_lo_bp_40_df_3 = fread(\"UK.BB.exomes.430k.sites_indelsonly_rAF_bp40_rAF_loIndels.lt50bp.csv\")\n"
   ]
  },
  {
   "cell_type": "markdown",
   "id": "018528e8-d458-45c8-b7cb-7f3c1bc3e9e0",
   "metadata": {},
   "source": [
    "# Read in sAF_hi"
   ]
  },
  {
   "cell_type": "code",
   "execution_count": 13,
   "id": "94fc5351-d204-4f99-bb02-d2809b10cd8b",
   "metadata": {
    "vscode": {
     "languageId": "r"
    }
   },
   "outputs": [],
   "source": [
    "sAF_hi_bp_10_df_1 = fread(\"gnomad.exomes.r2.1.1.sites_indelsonly_rAF_bp10_sAF_hiIndels.lt50bp.csv\")\n",
    "sAF_hi_bp_20_df_1 = fread(\"gnomad.exomes.r2.1.1.sites_indelsonly_rAF_bp20_sAF_hiIndels.lt50bp.csv\")\n",
    "sAF_hi_bp_30_df_1 = fread(\"gnomad.exomes.r2.1.1.sites_indelsonly_rAF_bp30_sAF_hiIndels.lt50bp.csv\")\n",
    "sAF_hi_bp_40_df_1 = fread(\"gnomad.exomes.r2.1.1.sites_indelsonly_rAF_bp40_sAF_hiIndels.lt50bp.csv\")\n",
    "\n",
    "sAF_hi_bp_10_df_2 = fread(\"2023-03-23_IGM_n39367_indelsonly_rAF_bp10_sAF_hiIndels.lt50bp.csv\")\n",
    "sAF_hi_bp_20_df_2 = fread(\"2023-03-23_IGM_n39367_indelsonly_rAF_bp20_sAF_hiIndels.lt50bp.csv\")\n",
    "sAF_hi_bp_30_df_2 = fread(\"2023-03-23_IGM_n39367_indelsonly_rAF_bp30_sAF_hiIndels.lt50bp.csv\")\n",
    "sAF_hi_bp_40_df_2 = fread(\"2023-03-23_IGM_n39367_indelsonly_rAF_bp40_sAF_hiIndels.lt50bp.csv\")\n",
    "\n",
    "sAF_hi_bp_10_df_3 = fread(\"UK.BB.exomes.430k.sites_indelsonly_rAF_bp10_sAF_hiIndels.lt50bp.csv\")\n",
    "sAF_hi_bp_20_df_3 = fread(\"UK.BB.exomes.430k.sites_indelsonly_rAF_bp20_sAF_hiIndels.lt50bp.csv\")\n",
    "sAF_hi_bp_30_df_3 = fread(\"UK.BB.exomes.430k.sites_indelsonly_rAF_bp30_sAF_hiIndels.lt50bp.csv\")\n",
    "sAF_hi_bp_40_df_3 = fread(\"UK.BB.exomes.430k.sites_indelsonly_rAF_bp40_sAF_hiIndels.lt50bp.csv\")\n"
   ]
  },
  {
   "cell_type": "code",
   "execution_count": 14,
   "id": "52e4e85d-a8df-4d87-9103-6a814334ca8e",
   "metadata": {
    "vscode": {
     "languageId": "r"
    }
   },
   "outputs": [],
   "source": [
    "#Define rAF_lo. \n",
    "rAF_lo = (1 * 10^-4)\n",
    "#Read in ClinVar TSV files: \n",
    "clinvar_2 = fread(\"clinvar38_20230730_onlyClinSig.txt\",header = FALSE, quote=\"\")\n",
    "colnames(clinvar_2) = c(\"V1\", \"V2\", \"V3\", \"V4\", \"V10\")\n",
    "clinvar = fread(\"clinvar_20230318_onlyClinSig.txt\", header = FALSE, quote=\"\")\n",
    "colnames(clinvar) = c(\"V1\", \"V2\", \"V3\", \"V4\", \"V10\")\n"
   ]
  },
  {
   "cell_type": "code",
   "execution_count": 15,
   "id": "7d8b181c-e8e6-42a9-84a6-dc9628aba807",
   "metadata": {
    "vscode": {
     "languageId": "r"
    }
   },
   "outputs": [],
   "source": [
    "#Define ClinVar classfications. \n",
    "\n",
    "benign = c('Benign', 'Benign/Likely_benign', 'Benign|_drug_response')\n",
    "LB = c('Likely_benign', 'Likely_benign|_drug_response|_other',\n",
    "       'Likely_benign|_other')\n",
    "conflict = c('Conflicting_interpretations_of_pathogenicity',\n",
    "             'Conflicting_interpretations_of_pathogenicity|_association',\n",
    "             'Conflicting_interpretations_of_pathogenicity|_drug_response',\n",
    "             'Conflicting_interpretations_of_pathogenicity|_drug_response|_other',\n",
    "             'Conflicting_interpretations_of_pathogenicity|_other',\n",
    "             'Conflicting_interpretations_of_pathogenicity|_risk_factor',\n",
    "             'Uncertain_significance',\n",
    "             'Uncertain_significance|_risk_factor')  #conflict and uncertain significance\n",
    "LP = c('Likely_pathogenic',\n",
    "       'Likely_pathogenic|_risk_factor')\n",
    "patho = c('Pathogenic',\n",
    "          'Pathogenic/Likely_pathogenic',\n",
    "          'Pathogenic/Likely_pathogenic|_other', 'Pathogenic|_Affects',\n",
    "          'Pathogenic|_other', 'Pathogenic|_protective',\n",
    "          'Pathogenic|_risk_factor')\n",
    "other = c('Affects', '\\\\N', 'association',\n",
    "          'confers_sensitivity', 'drug_response', 'not_provided', 'other',\n",
    "          'protective', 'risk_factor')"
   ]
  },
  {
   "cell_type": "code",
   "execution_count": 16,
   "id": "f443ded1-ce39-4265-9480-32c6d255c4cb",
   "metadata": {
    "vscode": {
     "languageId": "r"
    }
   },
   "outputs": [],
   "source": [
    "#Define bp ranges for sliding regions. \n",
    "bp_range = c(\"10\", \"20\", \"30\", \"40\")\n"
   ]
  },
  {
   "cell_type": "code",
   "execution_count": 17,
   "id": "9992a720-7966-4b2e-b51c-acfeb070a18c",
   "metadata": {
    "vscode": {
     "languageId": "r"
    }
   },
   "outputs": [],
   "source": [
    "#Give ClinVar file a VarID column. \n",
    "clinvar$VarID = paste0(clinvar$V1, \"-\", clinvar$V2, \"-\", clinvar$V3, \"-\", clinvar$V4)\n",
    "clinvar_2$VarID = paste0(clinvar_2$V1, \"-\", clinvar_2$V2, \"-\", clinvar_2$V3, \"-\", clinvar_2$V4)"
   ]
  },
  {
   "cell_type": "markdown",
   "id": "1e062134-370e-4ee8-b3ca-efe8f63bcdaa",
   "metadata": {},
   "source": [
    "# Merge sAF and rAF with ClinVar and keep only the rows that are in ClinVar. Remove any duplicates, if any. \n"
   ]
  },
  {
   "cell_type": "markdown",
   "id": "d5a2425e-2d7d-42d1-ade1-c4162f108175",
   "metadata": {},
   "source": [
    "# Merge sAF and rAF with clinvar and ONLY KEEP THE ROWS THAT ARE IN CLINVAR "
   ]
  },
  {
   "cell_type": "code",
   "execution_count": 18,
   "id": "58300dfe-ed80-485b-a187-37e06fa11ed3",
   "metadata": {
    "vscode": {
     "languageId": "r"
    }
   },
   "outputs": [],
   "source": [
    "df_1_clinvar = merge(df_1, clinvar, by = \"VarID\") \n",
    "df_2_clinvar = merge(df_2, clinvar, by = \"VarID\") \n",
    "df_3_clinvar = merge(df_3, clinvar_2, by = \"VarID\") \n",
    "\n",
    "## Remove any duplicates, if any \n",
    "df_1_clinvar = distinct(df_1_clinvar) \n",
    "df_2_clinvar = distinct(df_2_clinvar) \n",
    "df_3_clinvar = distinct(df_3_clinvar) "
   ]
  },
  {
   "cell_type": "markdown",
   "id": "50d88414-0f8f-4e77-baa8-9f4239a3bf45",
   "metadata": {},
   "source": [
    "# Identify rAF_lo sAF indels that are benign/likely benign or pathogenic/likely pathogenic in both datasets. "
   ]
  },
  {
   "cell_type": "markdown",
   "id": "7f50bcc6-04eb-4e6c-9fd4-f4fe0343f8db",
   "metadata": {},
   "source": [
    "# gnomAD "
   ]
  },
  {
   "cell_type": "code",
   "execution_count": 19,
   "id": "f244873f-d285-4bfa-be8f-3d2cb8211cc0",
   "metadata": {
    "vscode": {
     "languageId": "r"
    }
   },
   "outputs": [],
   "source": [
    "df_1_B_LB = df_1_clinvar %>% filter(V10 %in% benign | V10 %in% LB) %>% filter (sAF <= rAF_lo) \n",
    "df_1_P_LP = df_1_clinvar %>% filter(V10 %in% patho | V10 %in% LP) %>% filter (sAF <= rAF_lo) \n"
   ]
  },
  {
   "cell_type": "markdown",
   "id": "f27abd5e-1e28-46fe-9582-6e7853ae2b90",
   "metadata": {},
   "source": [
    "# IGM"
   ]
  },
  {
   "cell_type": "code",
   "execution_count": 20,
   "id": "6e137e37-7847-4898-9f54-39112c66ee81",
   "metadata": {
    "vscode": {
     "languageId": "r"
    }
   },
   "outputs": [],
   "source": [
    "df_2_B_LB = df_2_clinvar %>% filter(V10 %in% benign | V10 %in% LB) %>% filter (sAF <= rAF_lo) \n",
    "df_2_P_LP = df_2_clinvar %>% filter(V10 %in% patho | V10 %in% LP) %>% filter (sAF <= rAF_lo) \n"
   ]
  },
  {
   "cell_type": "markdown",
   "id": "ea19e4aa-e459-46a8-a1a6-143a85951bb0",
   "metadata": {},
   "source": [
    "# UK.BB"
   ]
  },
  {
   "cell_type": "code",
   "execution_count": 21,
   "id": "a1c049ca-e7ba-4477-8f98-6db0d83f3cea",
   "metadata": {
    "vscode": {
     "languageId": "r"
    }
   },
   "outputs": [],
   "source": [
    "df_3_B_LB = df_3_clinvar %>% filter(V10 %in% benign | V10 %in% LB) %>% filter (sAF <= rAF_lo) \n",
    "df_3_P_LP = df_3_clinvar %>% filter(V10 %in% patho | V10 %in% LP) %>% filter (sAF <= rAF_lo) \n"
   ]
  },
  {
   "cell_type": "markdown",
   "id": "50b19b2e-3f64-47c0-afd1-a5c7bf0bfe0d",
   "metadata": {},
   "source": [
    "# Label indels with a log_key. A benign/likely benign indel has a log_key of 0. A pathogenic/likely pathogenic indel has a log key of 1. \n"
   ]
  },
  {
   "cell_type": "code",
   "execution_count": 22,
   "id": "0203417b-9f63-469b-9c9c-eedb34053300",
   "metadata": {
    "vscode": {
     "languageId": "r"
    }
   },
   "outputs": [],
   "source": [
    "\n",
    "## Give benign/LB a 0 log_key\n",
    "## Give patho/LP a 1 log_key \n",
    "df_1_B_LB$log_key = 0 \n",
    "df_1_P_LP$log_key = 1 \n",
    "\n",
    "# #IGM\n",
    "df_2_B_LB$log_key = 0 \n",
    "df_2_P_LP$log_key = 1 \n",
    "\n",
    "#UK.BB\n",
    "df_3_B_LB$log_key = 0 \n",
    "df_3_P_LP$log_key = 1 \n"
   ]
  },
  {
   "cell_type": "markdown",
   "id": "d5c7fd58-d786-4396-bcdd-26c4f11cc53d",
   "metadata": {},
   "source": [
    "# Create output dataframes for bargraphs and logistic regression graphs. For the bar graph, we want to zoom into rAF < 0.05 for the 10bp region. \n"
   ]
  },
  {
   "cell_type": "code",
   "execution_count": 23,
   "id": "4de9d642-943c-434d-89d1-3437f4768824",
   "metadata": {
    "vscode": {
     "languageId": "r"
    }
   },
   "outputs": [],
   "source": [
    "df_1_output = rbind(df_1_B_LB, df_1_P_LP) %>% select (sAF, rAF_bp10, log_key)\n",
    "\n",
    "df_2_output = rbind(df_2_B_LB, df_2_P_LP)  %>% select (sAF, rAF_bp10, log_key)\n",
    "\n",
    "df_3_output = rbind(df_3_B_LB, df_3_P_LP)  %>% select (sAF, rAF_bp10, log_key)\n"
   ]
  },
  {
   "cell_type": "markdown",
   "id": "971503f8-0e69-484f-9870-73f939d40b04",
   "metadata": {},
   "source": [
    "# Mean Square Error "
   ]
  },
  {
   "cell_type": "code",
   "execution_count": 24,
   "id": "5f27b69f-36a5-48a3-beee-e811aaaaf6d2",
   "metadata": {
    "vscode": {
     "languageId": "r"
    }
   },
   "outputs": [
    {
     "data": {
      "text/html": [
       "0.350888338127765"
      ],
      "text/latex": [
       "0.350888338127765"
      ],
      "text/markdown": [
       "0.350888338127765"
      ],
      "text/plain": [
       "[1] 0.3508883"
      ]
     },
     "metadata": {},
     "output_type": "display_data"
    },
    {
     "data": {
      "text/html": [
       "4.1427189986363"
      ],
      "text/latex": [
       "4.1427189986363"
      ],
      "text/markdown": [
       "4.1427189986363"
      ],
      "text/plain": [
       "[1] 4.142719"
      ]
     },
     "metadata": {},
     "output_type": "display_data"
    },
    {
     "data": {
      "text/html": [
       "2.4243477551637"
      ],
      "text/latex": [
       "2.4243477551637"
      ],
      "text/markdown": [
       "2.4243477551637"
      ],
      "text/plain": [
       "[1] 2.424348"
      ]
     },
     "metadata": {},
     "output_type": "display_data"
    },
    {
     "data": {
      "text/html": [
       "0.576054614818865"
      ],
      "text/latex": [
       "0.576054614818865"
      ],
      "text/markdown": [
       "0.576054614818865"
      ],
      "text/plain": [
       "[1] 0.5760546"
      ]
     },
     "metadata": {},
     "output_type": "display_data"
    },
    {
     "data": {
      "text/html": [
       "4.92514409918348"
      ],
      "text/latex": [
       "4.92514409918348"
      ],
      "text/markdown": [
       "4.92514409918348"
      ],
      "text/plain": [
       "[1] 4.925144"
      ]
     },
     "metadata": {},
     "output_type": "display_data"
    },
    {
     "data": {
      "text/html": [
       "0.508310109769807"
      ],
      "text/latex": [
       "0.508310109769807"
      ],
      "text/markdown": [
       "0.508310109769807"
      ],
      "text/plain": [
       "[1] 0.5083101"
      ]
     },
     "metadata": {},
     "output_type": "display_data"
    }
   ],
   "source": [
    "## Make logistic regression of the rAF/sAF dataframes \n",
    "model_rAF_df1  =  glm(formula = log_key ~ rAF_bp10, family = \"binomial\", data = df_1_output)\n",
    "model_rAF_df2  = glm(formula = log_key ~ rAF_bp10 , family = \"binomial\", data = df_2_output)\n",
    "model_rAF_df3  = glm(formula = log_key ~ rAF_bp10 , family = \"binomial\", data = df_3_output)\n",
    "\n",
    "model_sAF_df1  = glm(formula = log_key ~ sAF, family = \"binomial\", data = df_1_output)\n",
    "model_sAF_df2  =  glm(formula = log_key ~ sAF, family = \"binomial\", data = df_2_output)\n",
    "model_sAF_df3  =  glm(formula = log_key ~ sAF, family = \"binomial\", data = df_3_output)\n",
    "\n",
    "## Make dataframe with predicted and actual values \n",
    "pred_actual_rAF_df1 = data.frame(pred = predict(model_rAF_df1), actual = df_1_output$rAF_bp10)\n",
    "pred_actual_rAF_df2 = data.frame(pred = predict(model_rAF_df2), actual = df_2_output$rAF_bp10)\n",
    "pred_actual_rAF_df3 = data.frame(pred = predict(model_rAF_df3), actual = df_3_output$rAF_bp10)\n",
    "\n",
    "pred_actual_sAF_df1 = data.frame(pred = predict(model_sAF_df1), actual = df_1_output$sAF)\n",
    "pred_actual_sAF_df2 = data.frame(pred = predict(model_sAF_df2), actual = df_2_output$sAF)\n",
    "pred_actual_sAF_df3 = data.frame(pred = predict(model_sAF_df3), actual = df_3_output$sAF)\n",
    "\n",
    "\n",
    "## Mean square error calculation \n",
    "MSE_rAF_df1 = mean((pred_actual_rAF_df1$actual - pred_actual_rAF_df1$pred)^2)\n",
    "MSE_rAF_df2 = mean((pred_actual_rAF_df2$actual - pred_actual_rAF_df2$pred)^2)\n",
    "MSE_rAF_df3 = mean((pred_actual_rAF_df3$actual - pred_actual_rAF_df3$pred)^2)\n",
    "MSE_sAF_df1 = mean((pred_actual_sAF_df1$actual - pred_actual_sAF_df1$pred)^2)\n",
    "MSE_sAF_df2 = mean((pred_actual_sAF_df2$actual - pred_actual_sAF_df2$pred)^2)\n",
    "MSE_sAF_df3 = mean((pred_actual_sAF_df3$actual - pred_actual_sAF_df3$pred)^2)\n",
    "\n",
    "MSE_rAF_df1\n",
    "MSE_rAF_df2\n",
    "MSE_rAF_df3\n",
    "MSE_sAF_df1\n",
    "MSE_sAF_df2\n",
    "MSE_sAF_df3\n"
   ]
  },
  {
   "cell_type": "code",
   "execution_count": 25,
   "id": "78002405-da28-48c3-9f64-34440c4e25d3",
   "metadata": {
    "vscode": {
     "languageId": "r"
    }
   },
   "outputs": [],
   "source": [
    "####### For the bargraph, we want to zoom into rAF < 0.05. \n",
    "bar_df_1 = df_1_output %>% filter(rAF_bp10 < 0.05)\n",
    "bar_df_2 = df_2_output %>% filter(rAF_bp10 < 0.05)\n",
    "bar_df_3 = df_3_output %>% filter(rAF_bp10 < 0.05)\n",
    "\n",
    "#Create bargraphs.\n",
    "\n",
    "bargraph_df_1 = ggplot (bar_df_1, aes(x = rAF_bp10 , fill = as.factor(log_key))) + geom_histogram(binwidth = 0.001, position = \"dodge\") + scale_y_continuous (trans = scales::pseudo_log_trans(), breaks = c(1,100, 1000, 10000)) + scale_fill_manual(labels = c(\"B/LB\", \"P/LP\"), values = c(\"#000000\", \"#989898\")) + labs( y = \"gnomAD Indels (log)\", x = \"rAF (10bp Sliding region)\", fill = \"Classification\") +  theme(axis.text=element_text(size=20),  axis.title=element_text(size=20), legend.text = element_text(size = 20), legend.title = element_text(size = 20), legend.position = c(0.85,0.8), legend.background = element_rect(fill = \"white\", color = \"grey\"), panel.background = element_rect(fill = \"white\", color = \"grey\"), panel.grid.major = element_line(color = \"white\"), plot.margin = margin( 1, 1, 1, 1, \"cm\"), plot.title = element_text(hjust = 0.5, size = 32, margin = margin( 1, 1, 1, 1, \"cm\")), axis.title.y = element_text(margin = margin( 0.5, 0.5, 0.5, 0.5, \"cm\"), angle = 90), axis.title.x = element_text(margin = margin( 1, 1, 1, 1, \"cm\"))) \n",
    "\n",
    "\n",
    "bargraph_df_2 = ggplot (bar_df_2, aes(x = rAF_bp10 , fill = as.factor(log_key))) + geom_histogram(binwidth = 0.001, position = \"dodge\") + scale_y_continuous (trans = scales::pseudo_log_trans(), breaks = c(1,100, 1000, 10000)) + scale_fill_manual(labels = c(\"B/LB\", \"P/LP\"), values = c(\"#000000\", \"#989898\")) + labs( y = \"IGM Indels (log)\", x = \"rAF (10bp Sliding region)\", fill = \"Classification\") +  theme(axis.text=element_text(size=20),  axis.title=element_text(size=20), legend.text = element_text(size = 20), legend.title = element_text(size = 20), legend.position = c(0.85, 0.8), legend.background = element_rect(fill = \"white\", color = \"grey\") , panel.background = element_rect(fill = \"white\", color = \"grey\"), panel.grid.major = element_line(color = \"white\"), plot.margin = margin( 1, 1, 1, 1, \"cm\"), plot.title = element_text(hjust = 0.5, size = 32, margin = margin( 1, 1, 1, 1, \"cm\")), axis.title.y = element_text(margin = margin( 0.5, 0.5, 0.5, 0.5, \"cm\"), angle = 90), axis.title.x = element_text(margin = margin( 1, 1, 1, 1, \"cm\")))\n",
    "\n",
    "\n",
    "bargraph_df_3 = ggplot (bar_df_3, aes(x = rAF_bp10 , fill = as.factor(log_key))) + geom_histogram(binwidth = 0.001, position = \"dodge\") + scale_y_continuous (trans = scales::pseudo_log_trans(), breaks = c(1,100, 1000, 10000)) + scale_fill_manual(labels = c(\"B/LB\", \"P/LP\"), values = c(\"#000000\", \"#989898\")) + labs( y = \"UK.BB Indels (log)\", x = \"rAF (10bp Sliding region)\", fill = \"Classification\") +  theme(axis.text=element_text(size=20),  axis.title=element_text(size=20), legend.text = element_text(size = 20), legend.title = element_text(size = 20), legend.position = c(0.85, 0.8), legend.background = element_rect(fill = \"white\", color = \"grey\") , panel.background = element_rect(fill = \"white\", color = \"grey\"), panel.grid.major = element_line(color = \"white\"), plot.margin = margin( 1, 1, 1, 1, \"cm\"), plot.title = element_text(hjust = 0.5, size = 32, margin = margin( 1, 1, 1, 1, \"cm\")), axis.title.y = element_text(margin = margin( 0.5, 0.5, 0.5, 0.5, \"cm\"), angle = 90), axis.title.x = element_text(margin = margin( 1, 1, 1, 1, \"cm\")))\n"
   ]
  },
  {
   "cell_type": "code",
   "execution_count": 26,
   "id": "80376ce5-cbb7-436e-847f-3c83db28ad7b",
   "metadata": {
    "vscode": {
     "languageId": "r"
    }
   },
   "outputs": [],
   "source": [
    "\n",
    "#Create logistic regression graphs with rAF on the x-axis. \n",
    "\n",
    "logreg_df_1 = ggplot(df_1_output, aes(x=rAF_bp10, y=log_key)) + geom_point() +\n",
    "  stat_smooth(method=\"glm\", color=\"dark grey\", se=TRUE,\n",
    "              method.args = list(family=binomial)) + xlim (0,1.5) + labs( y = \"Log Odds (P/LP)\", x = \"gnomAD rAF\") +  theme(axis.text=element_text(size=20),  axis.title=element_text(size=20), plot.margin = margin( 1, 1, 1, 1, \"cm\"), axis.title.y = element_text(margin = margin( 1, 1, 1, 1, \"cm\"), angle = 90), axis.title.x = element_text(margin = margin( 1, 1, 1, 1, \"cm\"))) + geom_text(x = 1.5 ,y = 0.9,inherit.aes = FALSE,label = paste0(\"\"),check_overlap = TRUE,hjust = 1,fontface = 'bold',size = 10) + coord_cartesian(clip = \"off\") + geom_text(x = -0.23 ,y = 1,inherit.aes = FALSE,label = paste0(\"P/LP\" ),check_overlap = TRUE,hjust = 1,fontface = 'bold',size = 10) + geom_text(x = -0.23 ,y = 0,inherit.aes = FALSE,label = paste0(\"B/LB\" ),check_overlap = TRUE,hjust = 1,fontface = 'bold',size = 10)\n",
    "\n",
    "\n",
    "logreg_df_2 = ggplot(df_2_output, aes(x=rAF_bp10, y=log_key)) + geom_point() +\n",
    "  stat_smooth(method=\"glm\", color=\"dark grey\", se=TRUE,\n",
    "              method.args = list(family=binomial)) + labs( y = \"Log Odds (P/LP)\", x = \"IGM rAF\") +  theme(axis.text=element_text(size=20), axis.title=element_text(size=20), plot.margin = margin( 1, 1, 1, 1, \"cm\"), axis.title.y = element_text(margin = margin(1, 1, 1, 1, \"cm\"), angle = 90), axis.title.x = element_text(margin = margin( 1, 1, 1, 1, \"cm\"))) + geom_text(x = 1.5 ,y = 0.9,inherit.aes = FALSE,label = paste0(\"\"),check_overlap = TRUE,hjust = 1,fontface = 'bold',size = 10) + coord_cartesian(clip = \"off\") + geom_text(x = -0.23 ,y = 1,inherit.aes = FALSE,label = paste0(\"P/LP\" ),check_overlap = TRUE,hjust = 1,fontface = 'bold',size = 10) + geom_text(x = -0.23 ,y = 0,inherit.aes = FALSE,label = paste0(\"B/LB\" ),check_overlap = TRUE,hjust = 1,fontface = 'bold',size = 10)\n",
    "\n",
    "\n",
    "logreg_df_3 = ggplot(df_3_output, aes(x=rAF_bp10, y=log_key)) + geom_point() +\n",
    "  stat_smooth(method=\"glm\", color=\"dark grey\", se=TRUE,\n",
    "              method.args = list(family=binomial))+ xlim (0,1.5) + labs( y = \"Log Odds (P/LP)\", x = \"UK.BB rAF\") +  theme(axis.text=element_text(size=20), axis.title=element_text(size=20), plot.margin = margin( 1, 1, 1, 1, \"cm\"), axis.title.y = element_text(margin = margin(1, 1, 1, 1, \"cm\"), angle = 90), axis.title.x = element_text(margin = margin( 1, 1, 1, 1, \"cm\"))) + geom_text(x = 1.5 ,y = 0.9,inherit.aes = FALSE,label = paste0(\"\"),check_overlap = TRUE,hjust = 1,fontface = 'bold',size = 10) + coord_cartesian(clip = \"off\") + geom_text(x = -0.23 ,y = 1,inherit.aes = FALSE,label = paste0(\"P/LP\" ),check_overlap = TRUE,hjust = 1,fontface = 'bold',size = 10) + geom_text(x = -0.23 ,y = 0,inherit.aes = FALSE,label = paste0(\"B/LB\" ),check_overlap = TRUE,hjust = 1,fontface = 'bold',size = 10)\n",
    "\n"
   ]
  },
  {
   "cell_type": "code",
   "execution_count": 27,
   "id": "a843b0ab-d626-4d63-a82d-1086075daf68",
   "metadata": {
    "vscode": {
     "languageId": "r"
    }
   },
   "outputs": [],
   "source": [
    "#Find the logistic regression for sAF \n",
    "\n",
    "rAF_logreg_df_1 = ggplot(df_1_output, aes(x=sAF, y=log_key)) + geom_point() +\n",
    "  stat_smooth(method=\"glm\", color=\"dark grey\", se=TRUE,\n",
    "              method.args = list(family=binomial)) + xlim (0, 0.0001) + labs( y = \"Log Odds (P/LP)\", x = \"gnomAD sAF\") +  theme(axis.text=element_text(size=20),  axis.title=element_text(size=20) , plot.margin = margin( 1, 1, 1, 1, \"cm\"), axis.title.y = element_text(margin = margin( 1, 1, 1, 1, \"cm\"), angle = 90), axis.title.x = element_text(margin = margin( 1, 1, 1, 1, \"cm\"))) + geom_text(x = 0.0001 ,y = 0.9,inherit.aes = FALSE,label = paste0(\"\"),check_overlap = TRUE,hjust = 1,fontface = 'bold',size = 10) + coord_cartesian(clip = \"off\") + geom_text(x = -0.000015 ,y = 1,inherit.aes = FALSE,label = paste0(\"P/LP\" ),check_overlap = TRUE,hjust = 1,fontface = 'bold',size = 10) + geom_text(x =  -0.000015 ,y = 0,inherit.aes = FALSE,label = paste0(\"B/LB\" ),check_overlap = TRUE,hjust = 1,fontface = 'bold',size = 10)\n",
    "\n",
    "rAF_logreg_df_2 = ggplot(df_2_output, aes(x=sAF, y=log_key)) + geom_point() +\n",
    "  stat_smooth(method=\"glm\", color=\"dark grey\", se=TRUE,\n",
    "              method.args = list(family=binomial)) + xlim (0, 0.0001) + labs( y = \"Log Odds (P/LP)\", x = \"IGM sAF\") +  theme(axis.text=element_text(size=20), axis.title=element_text(size=20), plot.margin = margin( 1, 1, 1, 1, \"cm\"), axis.title.y = element_text(margin = margin( 1, 1, 1, 1, \"cm\"), angle = 90), axis.title.x = element_text(margin = margin( 1, 1, 1, 1, \"cm\"))) + geom_text(x = 0.0001 ,y = 0.9,inherit.aes = FALSE,label = paste0(\"\"),check_overlap = TRUE,hjust = 1,fontface = 'bold',size = 10) + coord_cartesian(clip = \"off\") + geom_text(x =  -0.000015 ,y = 1,inherit.aes = FALSE,label = paste0(\"P/LP\" ),check_overlap = TRUE,hjust = 1,fontface = 'bold',size = 10) + geom_text(x =  -0.000015 ,y = 0,inherit.aes = FALSE,label = paste0(\"B/LB\" ),check_overlap = TRUE,hjust = 1,fontface = 'bold',size = 10)\n",
    "\n",
    "\n",
    "rAF_logreg_df_3 = ggplot(df_3_output, aes(x=sAF, y=log_key)) + geom_point() +\n",
    "  stat_smooth(method=\"glm\", color=\"dark grey\", se=TRUE,\n",
    "              method.args = list(family=binomial)) + xlim (0, 0.0001) + labs( y = \"Log Odds (P/LP)\", x = \"UK.BB sAF\") +  theme(axis.text=element_text(size=20), axis.title=element_text(size=20), plot.margin = margin( 1, 1, 1, 1, \"cm\"), axis.title.y = element_text(margin = margin( 1, 1, 1, 1, \"cm\"), angle = 90), axis.title.x = element_text(margin = margin( 1, 1, 1, 1, \"cm\"))) + geom_text(x = 0.0001 ,y = 0.9,inherit.aes = FALSE,label = paste0(\"\") ,check_overlap = TRUE,hjust = 1,fontface = 'bold',size = 10) + coord_cartesian(clip = \"off\") + geom_text(x =  -0.000015 ,y = 1,inherit.aes = FALSE,label = paste0(\"P/LP\" ),check_overlap = TRUE,hjust = 1,fontface = 'bold',size = 10) + geom_text(x =  -0.000015 ,y = 0,inherit.aes = FALSE,label = paste0(\"B/LB\" ),check_overlap = TRUE,hjust = 1,fontface = 'bold',size = 10)\n",
    "\n"
   ]
  },
  {
   "cell_type": "code",
   "execution_count": 28,
   "id": "6aa0128a-b447-4e38-ac8d-78fca710e0cc",
   "metadata": {
    "vscode": {
     "languageId": "r"
    }
   },
   "outputs": [
    {
     "ename": "ERROR",
     "evalue": "Error in ggarrange(print(bargraph_df_1), print(logreg_df_1), print(rAF_logreg_df_1), : could not find function \"ggarrange\"\n",
     "output_type": "error",
     "traceback": [
      "Error in ggarrange(print(bargraph_df_1), print(logreg_df_1), print(rAF_logreg_df_1), : could not find function \"ggarrange\"\nTraceback:\n"
     ]
    }
   ],
   "source": [
    "graph_summary = ggarrange(print(bargraph_df_1), \n",
    "                          print(logreg_df_1), \n",
    "                          print(rAF_logreg_df_1), \n",
    "                          print(bargraph_df_2), \n",
    "                          print(logreg_df_2), \n",
    "                          print(rAF_logreg_df_2), \n",
    "                          print(bargraph_df_3), \n",
    "                          print(logreg_df_3), \n",
    "                          print(rAF_logreg_df_3), \n",
    "                          labels = c(\"A\", \"B\", \"C\", \"D\", \"E\", \"F\", \"G\", \"H\", \"I\"), \n",
    "                          ncol = 3, nrow = 3, font.label = list(size = 32, color = \"black\")) + theme(plot.margin = unit(c(2,2,2,2), \"cm\"))\n",
    "\n",
    "\n",
    "graph_summary \n",
    "\n",
    "ggsave(\"Fig5.jpg\", width = 80, height = 60, units = c(\"cm\"), dpi = 300)\n"
   ]
  },
  {
   "cell_type": "code",
   "execution_count": null,
   "id": "cd51fb04-24fe-4e87-bb37-fe1be8ba9087",
   "metadata": {
    "vscode": {
     "languageId": "r"
    }
   },
   "outputs": [],
   "source": [
    "conditions = c(\"rAF_hi\", \"rAF_lo\", \"sAF_hi\")\n",
    "\n",
    "categories = c(\"benign\", \"LB\", \"VUS/other\", \"LP\", \"patho\" )\n",
    "\n",
    "for (i in conditions ) {\n",
    "  for (j in categories) {\n",
    "    ## get temp variable for the condition \n",
    "    condition_df1 = paste0(i, \"_bp_10_df_1\")\n",
    "    condition_df2 = paste0(i, \"_bp_10_df_2\")\n",
    "    condition_df3 = paste0(i, \"_bp_10_df_3\")\n",
    "    \n",
    "    ## set a temp variable for a clinvar merge \n",
    "    clinvar_cond_df1 = paste0(\"clinvar_\", i, \"_bp_10_df_1\")\n",
    "    clinvar_cond_df2 = paste0(\"clinvar_\", i, \"_bp_10_df_2\")\n",
    "    clinvar_cond_df3 = paste0(\"clinvar_\", i, \"_bp_10_df_3\")\n",
    "    \n",
    "    ## merge with clinvar\n",
    "    assign (clinvar_cond_df1, merge(get(condition_df1), clinvar, by = \"VarID\"))\n",
    "    assign (clinvar_cond_df2, merge(get(condition_df2), clinvar, by = \"VarID\"))\n",
    "    ## we think that there is smth going on with the clinvar merging here. \n",
    "    assign (clinvar_cond_df3, merge(get(condition_df3), clinvar_2, by = \"VarID\"))\n",
    "    \n",
    "    ## get a dataframe only for the category (ie. benign, LB, conflict, LP, patho, other)\n",
    "    if (j != \"VUS/other\") {\n",
    "      ##  set a temp variable for a clinvar merge\n",
    "      category_cond_df1 = paste0(j , \"_\", i, \"_bp_10_df1\")\n",
    "      category_cond_df2 = paste0(j , \"_\", i, \"_bp_10_df2\")\n",
    "      category_cond_df3 = paste0(j , \"_\", i, \"_bp_10_df3\")\n",
    "      \n",
    "      #assign temp variable\n",
    "      assign (category_cond_df1, get(clinvar_cond_df1) %>% filter(V10 %in% get(j)))\n",
    "      assign (category_cond_df2, get(clinvar_cond_df2) %>% filter(V10 %in% get(j)))\n",
    "      assign (category_cond_df3, get(clinvar_cond_df3) %>% filter(V10 %in% get(j)))\n",
    "    }\n",
    "    \n",
    "    else {\n",
    "      ##  set a temp variable for a clinvar merge\n",
    "      category_cond_df1 = paste0(\"VUS_other_\", i, \"_bp_10_df1\")\n",
    "      category_cond_df2 = paste0(\"VUS_other_\", i, \"_bp_10_df2\")\n",
    "      category_cond_df3 = paste0(\"VUS_other_\", i, \"_bp_10_df3\")\n",
    "      \n",
    "      #assign temp variable\n",
    "      assign (category_cond_df1, get(clinvar_cond_df1) %>% filter(V10 %in% other | V10 %in% conflict))\n",
    "      assign (category_cond_df2, get(clinvar_cond_df2) %>% filter(V10 %in% other | V10 %in% conflict))\n",
    "      assign (category_cond_df3, get(clinvar_cond_df3) %>% filter(V10 %in% other | V10 %in% conflict))\n",
    "    }\n",
    "    \n",
    "  }\n",
    "}\n",
    "\n"
   ]
  },
  {
   "cell_type": "markdown",
   "id": "37bb49f0-f3bb-49a8-9b46-96894064806b",
   "metadata": {},
   "source": [
    "# make the df for each category for db 1 "
   ]
  },
  {
   "cell_type": "code",
   "execution_count": null,
   "id": "0c0b27e6-9a0f-4c5d-a95d-7c95679d229d",
   "metadata": {
    "vscode": {
     "languageId": "r"
    }
   },
   "outputs": [],
   "source": [
    "\n",
    "sAF_hi_categories_df1 = c(nrow(benign_sAF_hi_bp_10_df1), nrow(LB_sAF_hi_bp_10_df1), nrow(VUS_other_sAF_hi_bp_10_df1), nrow(LP_sAF_hi_bp_10_df1), nrow(patho_sAF_hi_bp_10_df1))\n",
    "\n",
    "rAF_hi_categories_df1 = c(nrow(benign_rAF_hi_bp_10_df1), nrow(LB_rAF_hi_bp_10_df1), nrow(VUS_other_rAF_hi_bp_10_df1), nrow(LP_rAF_hi_bp_10_df1), nrow(patho_rAF_hi_bp_10_df1))\n",
    "\n",
    "rAF_lo_categories_df1 = c(nrow(benign_rAF_lo_bp_10_df1), nrow(LB_rAF_lo_bp_10_df1), nrow(VUS_other_rAF_lo_bp_10_df1), nrow(LP_rAF_lo_bp_10_df1), nrow(patho_rAF_lo_bp_10_df1))\n",
    "\n",
    "categories_df1 = data.frame(categories, sAF_hi_categories_df1, rAF_hi_categories_df1, rAF_lo_categories_df1)\n",
    "\n",
    "\n",
    "## make the df for each category for db 2\n",
    "sAF_hi_categories_df2 = c(nrow(benign_sAF_hi_bp_10_df2), nrow(LB_sAF_hi_bp_10_df2), nrow(VUS_other_sAF_hi_bp_10_df2), nrow(LP_sAF_hi_bp_10_df2), nrow(patho_sAF_hi_bp_10_df2))\n",
    "\n",
    "rAF_hi_categories_df2 = c(nrow(benign_rAF_hi_bp_10_df2), nrow(LB_rAF_hi_bp_10_df2), nrow(VUS_other_rAF_hi_bp_10_df2), nrow(LP_rAF_hi_bp_10_df2), nrow(patho_rAF_hi_bp_10_df2))\n",
    "\n",
    "rAF_lo_categories_df2 = c(nrow(benign_rAF_lo_bp_10_df2), nrow(LB_rAF_lo_bp_10_df2), nrow(VUS_other_rAF_lo_bp_10_df2), nrow(LP_rAF_lo_bp_10_df2), nrow(patho_rAF_lo_bp_10_df2))\n",
    "\n",
    "categories_df2 = data.frame(categories, sAF_hi_categories_df2, rAF_hi_categories_df2, rAF_lo_categories_df2)\n",
    "\n",
    "## make the df for each category for db 3\n",
    "sAF_hi_categories_df3 = c(nrow(benign_sAF_hi_bp_10_df3), nrow(LB_sAF_hi_bp_10_df3), nrow(VUS_other_sAF_hi_bp_10_df3), nrow(LP_sAF_hi_bp_10_df3), nrow(patho_sAF_hi_bp_10_df3))\n",
    "\n",
    "rAF_hi_categories_df3 = c(nrow(benign_rAF_hi_bp_10_df3), nrow(LB_rAF_hi_bp_10_df3), nrow(VUS_other_rAF_hi_bp_10_df3), nrow(LP_rAF_hi_bp_10_df3), nrow(patho_rAF_hi_bp_10_df3))\n",
    "\n",
    "rAF_lo_categories_df3 = c(nrow(benign_rAF_lo_bp_10_df3), nrow(LB_rAF_lo_bp_10_df3), nrow(VUS_other_rAF_lo_bp_10_df3), nrow(LP_rAF_lo_bp_10_df3), nrow(patho_rAF_lo_bp_10_df3))\n",
    "\n",
    "categories_df3 = data.frame(categories, sAF_hi_categories_df3, rAF_hi_categories_df3, rAF_lo_categories_df3)\n",
    "\n",
    "categories_df1\n",
    "categories_df2\n",
    "categories_df3\n",
    "\n",
    "fwrite(categories_df1, \"2023-05-08_pvalues_clinvar_gnomad.csv\")\n",
    "fwrite(categories_df2, \"2023-05-08_pvalues_clinvar_igm.csv\")\n",
    "fwrite(categories_df3, \"2023-05-08_pvalues_clinvar_UK.BB.csv\") \n"
   ]
  },
  {
   "cell_type": "markdown",
   "id": "50edc283-0e6f-44b8-a33f-4bc003bb2ee1",
   "metadata": {},
   "source": [
    "# Make Table S9/S10"
   ]
  },
  {
   "cell_type": "code",
   "execution_count": null,
   "id": "050bbb0b-ed39-4a8c-a824-a5007c3a2397",
   "metadata": {
    "vscode": {
     "languageId": "r"
    }
   },
   "outputs": [],
   "source": [
    "\n",
    "#Find the percentage of rAF_hi indels for each bp region for each of the following categories: Benign/likely benign (LB), pathogenic (patho) and likey pathogenic (LP) \n",
    "\n",
    "cat = c(\"benign\", \"LB\", \"patho\", \"LP\")\n",
    "\n",
    "## Find rAF_lo \n",
    "for (i in cat) {\n",
    "  ## set var \n",
    "  cat_1 = paste0(i, \"_rAF_lo_sAF_df1\")\n",
    "  cat_2 = paste0(i, \"_rAF_lo_sAF_df2\")\n",
    "  cat_3 = paste0(i, \"_rAF_lo_sAF_df3\")\n",
    "  \n",
    "  #assign\n",
    "  assign(cat_1, df_1_clinvar %>% filter(sAF <= rAF_lo) %>% filter(V10 %in% get(i)))\n",
    "  assign(cat_2, df_2_clinvar %>% filter(sAF <= rAF_lo) %>% filter(V10 %in% get(i)))\n",
    "  assign(cat_3, df_3_clinvar %>% filter(sAF <= rAF_lo) %>% filter(V10 %in% get(i)))\n",
    "}\n",
    "\n",
    "## Find percentage\n",
    "for (i in bp_range) {\n",
    "  for (j in cat) {\n",
    "    ## get denominator (rAF_lo)\n",
    "    rAF_lo_sAF_df1 = paste0(j, \"_rAF_lo_sAF_df1\")\n",
    "    rAF_lo_sAF_df2 = paste0(j, \"_rAF_lo_sAF_df2\")\n",
    "    rAF_lo_sAF_df3 = paste0(j, \"_rAF_lo_sAF_df3\")\n",
    "    \n",
    "    ## set percent output \n",
    "    prct_rAF_hi_1 = paste0(\"prct_bp_\", i, \"_\", j, \"_df1\")\n",
    "    prct_rAF_hi_2 = paste0(\"prct_bp_\", i, \"_\", j, \"_df2\")\n",
    "    prct_rAF_hi_3 = paste0(\"prct_bp_\", i, \"_\", j, \"_df3\")\n",
    "    \n",
    "    #set total output\n",
    "    total_rAF_hi_1 = paste0(\"total_bp_\", i, \"_\", j, \"_df1\")\n",
    "    total_rAF_hi_2 = paste0(\"total_bp_\", i, \"_\", j, \"_df2\")\n",
    "    total_rAF_hi_3 = paste0(\"total_bp_\", i, \"_\", j, \"_df3\")\n",
    "    ## set rAF region \n",
    "    temp_region = paste0(\"rAF_bp\", i)\n",
    "    \n",
    "    ## assign percentage \n",
    "    assign (prct_rAF_hi_1, paste0(round(nrow(get(rAF_lo_sAF_df1) %>% filter(get(temp_region) > rAF_lo)) / nrow(get(rAF_lo_sAF_df1)) * 100 , 0), \"%\"))\n",
    "    assign(total_rAF_hi_1, paste0(nrow(get(rAF_lo_sAF_df1) %>% filter(get(temp_region) > rAF_lo))))\n",
    "    \n",
    "    assign (prct_rAF_hi_2, paste0(round(nrow(get(rAF_lo_sAF_df2) %>% filter(get(temp_region) > rAF_lo)) / nrow(get(rAF_lo_sAF_df2)) * 100 , 0), \"%\"))\n",
    "    assign(total_rAF_hi_2, paste0(nrow(get(rAF_lo_sAF_df2) %>% filter(get(temp_region) > rAF_lo))))\n",
    "    \n",
    "    assign (prct_rAF_hi_3, paste0(round(nrow(get(rAF_lo_sAF_df3) %>% filter(get(temp_region) > rAF_lo)) / nrow(get(rAF_lo_sAF_df3)) * 100 , 0), \"%\"))\n",
    "    assign(total_rAF_hi_3, paste0(nrow(get(rAF_lo_sAF_df3) %>% filter(get(temp_region) > rAF_lo))))\n",
    "    print(total_rAF_hi_3)\n",
    "    \n",
    "  }\n",
    "}\n",
    "\n",
    "## make df that show the percentage of rAF_hi indels for each categories for dataframe 1 \n",
    "rAF_lo_sAF_df1 = c(nrow(benign_rAF_lo_sAF_df1), nrow(LB_rAF_lo_sAF_df1), nrow(patho_rAF_lo_sAF_df1), nrow(LP_rAF_lo_sAF_df1))\n",
    "prct_rAF_hi_10bp_df1 = c(paste0(total_bp_10_benign_df1,\" (\",prct_bp_10_benign_df1,\")\"), paste0(total_bp_10_LB_df1,\" (\",prct_bp_10_LB_df1,\")\"), paste0(total_bp_10_patho_df1,\" (\",prct_bp_10_patho_df1,\")\"), paste0(total_bp_10_LP_df1,\" (\",prct_bp_10_LP_df1,\")\"))\n",
    "prct_rAF_hi_20bp_df1 = c(paste0(total_bp_20_benign_df1,\" (\",prct_bp_20_benign_df1,\")\"), paste0(total_bp_20_LB_df1,\" (\",prct_bp_20_LB_df1,\")\"), paste0(total_bp_20_patho_df1,\" (\",prct_bp_20_patho_df1,\")\"), paste0(total_bp_20_LP_df1,\" (\",prct_bp_20_LP_df1,\")\"))\n",
    "prct_rAF_hi_30bp_df1 = c(paste0(total_bp_30_benign_df1,\" (\",prct_bp_30_benign_df1,\")\"), paste0(total_bp_30_LB_df1,\" (\",prct_bp_30_LB_df1,\")\"), paste0(total_bp_30_patho_df1,\" (\",prct_bp_30_patho_df1,\")\"), paste0(total_bp_30_LP_df1,\" (\",prct_bp_30_LP_df1,\")\"))\n",
    "prct_rAF_hi_40bp_df1 = c(paste0(total_bp_40_benign_df1,\" (\",prct_bp_40_benign_df1,\")\"), paste0(total_bp_40_LB_df1,\" (\",prct_bp_40_LB_df1,\")\"), paste0(total_bp_40_patho_df1,\" (\",prct_bp_40_patho_df1,\")\"), paste0(total_bp_40_LP_df1,\" (\",prct_bp_40_LP_df1,\")\"))\n",
    "\n",
    "prct_rAF_hi_cat_df_1 = data.frame (cat, rAF_lo_sAF_df1, prct_rAF_hi_10bp_df1, prct_rAF_hi_20bp_df1, prct_rAF_hi_30bp_df1, prct_rAF_hi_40bp_df1)\n",
    "\n",
    "\n",
    "## make df that show the percentage of rAF_hi indels for each categories for dataframe 2 \n",
    "rAF_lo_sAF_df2 = c(nrow(benign_rAF_lo_sAF_df2), nrow(LB_rAF_lo_sAF_df2), nrow(patho_rAF_lo_bp_10_df2), nrow(LP_rAF_lo_sAF_df2))\n",
    "prct_rAF_hi_10bp_df2 = c(paste0(total_bp_10_benign_df2,\" (\",prct_bp_10_benign_df2,\")\"), paste0(total_bp_10_LB_df2,\" (\",prct_bp_10_LB_df2,\")\"), paste0(total_bp_10_patho_df2,\" (\",prct_bp_10_patho_df2,\")\"), paste0(total_bp_10_LP_df2,\" (\",prct_bp_10_LP_df2,\")\"))\n",
    "prct_rAF_hi_20bp_df2 = c(paste0(total_bp_20_benign_df2,\" (\",prct_bp_20_benign_df2,\")\"), paste0(total_bp_20_LB_df2,\" (\",prct_bp_20_LB_df2,\")\"), paste0(total_bp_20_patho_df2,\" (\",prct_bp_20_patho_df2,\")\"), paste0(total_bp_20_LP_df2,\" (\",prct_bp_20_LP_df2,\")\"))\n",
    "prct_rAF_hi_30bp_df2 = c(paste0(total_bp_30_benign_df2,\" (\",prct_bp_30_benign_df2,\")\"), paste0(total_bp_30_LB_df2,\" (\",prct_bp_30_LB_df2,\")\"), paste0(total_bp_30_patho_df2,\" (\",prct_bp_30_patho_df2,\")\"), paste0(total_bp_30_LP_df2,\" (\",prct_bp_30_LP_df2,\")\"))\n",
    "prct_rAF_hi_40bp_df2 = c(paste0(total_bp_40_benign_df2,\" (\",prct_bp_40_benign_df2,\")\"), paste0(total_bp_40_LB_df2,\" (\",prct_bp_40_LB_df2,\")\"), paste0(total_bp_40_patho_df2,\" (\",prct_bp_40_patho_df2,\")\"), paste0(total_bp_40_LP_df2,\" (\",prct_bp_40_LP_df2,\")\"))\n",
    "\n",
    "prct_rAF_hi_cat_df_2 = data.frame (cat, rAF_lo_sAF_df2, prct_rAF_hi_10bp_df2, prct_rAF_hi_20bp_df2, prct_rAF_hi_30bp_df2, prct_rAF_hi_40bp_df2)\n",
    "\n",
    "## make df that show the percentage of rAF_hi indels for each categories for dataframe 2 \n",
    "rAF_lo_sAF_df3 = c(nrow(benign_rAF_lo_sAF_df3), nrow(LB_rAF_lo_sAF_df3), nrow(patho_rAF_lo_bp_10_df3), nrow(LP_rAF_lo_sAF_df3))  \n",
    "# prct_rAF_hi_10bp_df3 = c(prct_bp_10_benign_df3, prct_bp_10_LB_df3, prct_bp_10_patho_df3, prct_bp_10_LP_df3)\n",
    "# prct_rAF_hi_20bp_df3 = c(prct_bp_20_benign_df3, prct_bp_20_LB_df3, prct_bp_20_patho_df3, prct_bp_20_LP_df3)\n",
    "#prct_rAF_hi_30bp_df3 = c(prct_bp_30_benign_df3, prct_bp_30_LB_df3, prct_bp_30_patho_df3, prct_bp_30_LP_df3)\n",
    "prct_rAF_hi_10bp_df3 = c(paste0(total_bp_10_benign_df3,\" (\",prct_bp_10_benign_df3,\")\"), paste0(total_bp_10_LB_df3,\" (\",prct_bp_10_LB_df3,\")\"), paste0(total_bp_10_patho_df3,\" (\",prct_bp_10_patho_df3,\")\"), paste0(total_bp_10_LP_df3,\" (\",prct_bp_10_LP_df3,\")\"))\n",
    "prct_rAF_hi_20bp_df3 = c(paste0(total_bp_20_benign_df3,\" (\",prct_bp_20_benign_df3,\")\"), paste0(total_bp_20_LB_df3,\" (\",prct_bp_20_LB_df3,\")\"), paste0(total_bp_20_patho_df3,\" (\",prct_bp_20_patho_df3,\")\"), paste0(total_bp_20_LP_df3,\" (\",prct_bp_20_LP_df3,\")\"))\n",
    "prct_rAF_hi_30bp_df3 = c(paste0(total_bp_30_benign_df3,\" (\",prct_bp_30_benign_df3,\")\"), paste0(total_bp_30_LB_df3,\" (\",prct_bp_30_LB_df3,\")\"), paste0(total_bp_30_patho_df3,\" (\",prct_bp_30_patho_df3,\")\"), paste0(total_bp_30_LP_df3,\" (\",prct_bp_30_LP_df3,\")\"))\n",
    "prct_rAF_hi_40bp_df3 = c(paste0(total_bp_40_benign_df3,\" (\",prct_bp_40_benign_df3,\")\"), paste0(total_bp_40_LB_df3,\" (\",prct_bp_40_LB_df3,\")\"), paste0(total_bp_40_patho_df3,\" (\",prct_bp_40_patho_df3,\")\"), paste0(total_bp_40_LP_df3,\" (\",prct_bp_40_LP_df3,\")\"))\n",
    "\n",
    "prct_rAF_hi_cat_df_3 = data.frame (cat, rAF_lo_sAF_df3, prct_rAF_hi_10bp_df3, prct_rAF_hi_20bp_df3, prct_rAF_hi_30bp_df3, prct_rAF_hi_40bp_df3)\n",
    "\n",
    "prct_rAF_hi_cat_df_1\n",
    "prct_rAF_hi_cat_df_2\n",
    "prct_rAF_hi_cat_df_3\n"
   ]
  },
  {
   "cell_type": "markdown",
   "id": "874f6a24-81d0-4b7b-94df-c91edbe6d258",
   "metadata": {},
   "source": [
    "# Find the number of rAF_hi by sAF P/LP indels that have a rAF > 1% \n"
   ]
  },
  {
   "cell_type": "code",
   "execution_count": null,
   "id": "c1b67bdf-f240-4810-9846-d3b69cd8b34c",
   "metadata": {
    "vscode": {
     "languageId": "r"
    }
   },
   "outputs": [],
   "source": [
    "\n",
    "for (i in bp_range) {\n",
    "  \n",
    "  temp_df1 = paste0(\"bp_\", i,\"_P_LP_rAF_gt_1_df1\")\n",
    "  temp_df2 = paste0(\"bp_\", i,\"_P_LP_rAF_gt_1_df2\")\n",
    "  temp_df3 = paste0(\"bp_\", i,\"_P_LP_rAF_gt_1_df3\")\n",
    "  \n",
    "  ## set rAF region \n",
    "  temp_region = paste0(\"rAF_bp\", i)\n",
    "  \n",
    "  assign(temp_df1, nrow(df_1_clinvar %>% filter (sAF <= rAF_lo & get(temp_region) > rAF_lo) %>%  filter(V10 %in% patho | V10 %in% LP) %>% filter(get(temp_region) > 0.01)))\n",
    "  assign(temp_df2, nrow(df_2_clinvar %>% filter (sAF <= rAF_lo & get(temp_region) > rAF_lo) %>% filter(V10 %in% patho | V10 %in% LP) %>% filter(get(temp_region) > 0.01)))\n",
    "  assign(temp_df3, nrow(df_3_clinvar %>% filter (sAF <= rAF_lo & get(temp_region) > rAF_lo) %>% filter(V10 %in% patho | V10 %in% LP) %>% filter(get(temp_region) > 0.01)))\n",
    "}\n",
    "\n",
    "P_LP_rAF_gt_1_df1 = c(bp_10_P_LP_rAF_gt_1_df1, bp_20_P_LP_rAF_gt_1_df1, bp_30_P_LP_rAF_gt_1_df1, bp_40_P_LP_rAF_gt_1_df1)\n",
    "P_LP_rAF_gt_1_df2 = c(bp_10_P_LP_rAF_gt_1_df2, bp_20_P_LP_rAF_gt_1_df2, bp_30_P_LP_rAF_gt_1_df2, bp_40_P_LP_rAF_gt_1_df2)\n",
    "P_LP_rAF_gt_1_df3 = c(bp_10_P_LP_rAF_gt_1_df3, bp_20_P_LP_rAF_gt_1_df3, bp_30_P_LP_rAF_gt_1_df3, bp_40_P_LP_rAF_gt_1_df3)\n",
    "\n",
    "dataframe_P_LP_gt_1 = data.frame(bp_range, P_LP_rAF_gt_1_df1, P_LP_rAF_gt_1_df2, P_LP_rAF_gt_1_df3)\n",
    "\n",
    "\n",
    "dataframe_P_LP_gt_1\n"
   ]
  },
  {
   "cell_type": "markdown",
   "id": "ba76900d-827f-421b-ad99-2fe6779d73d9",
   "metadata": {},
   "source": [
    "# Supplementary Excel 1 and Excel 2 "
   ]
  },
  {
   "cell_type": "code",
   "execution_count": null,
   "id": "64742cf2-a392-4d78-a960-d2f84837da63",
   "metadata": {
    "vscode": {
     "languageId": "r"
    }
   },
   "outputs": [],
   "source": [
    "#Make supplementary excel files that show the number of pathogenic/likely pathogenic and benign/likely benign indels there are for each rAF value (rounded to the 6th decimal place) for both datasets. \n",
    "\n",
    "### Supplementary excel 1: for database 1 \n",
    "df_1_B_LB$rAF_bp10 = round(df_1_B_LB$rAF_bp10, 6 )\n",
    "df_1_P_LP$rAF_bp10 = round(df_1_P_LP$rAF_bp10, 6 )\n",
    "\n",
    "\n",
    "df_1_freq_B_LB =  df_1_B_LB %>% group_by(rAF_bp10) %>% summarise(count_B_LB=n())\n",
    "df_1_freq_P_LP =  df_1_P_LP %>% group_by(rAF_bp10) %>% summarise(count_P_LP=n())\n",
    "\n",
    "df_1_freq = merge(df_1_freq_B_LB, df_1_freq_P_LP, by = \"rAF_bp10\", all = TRUE)\n",
    "df_1_freq[is.na(df_1_freq)] = 0\n",
    "\n",
    "df_1_freq\n",
    "\n",
    "fwrite(df_1_freq, \"supplementary_excel_1.csv\")\n",
    "\n",
    "### Supplementary excel 1: for database 2\n",
    "df_2_B_LB$rAF_bp10 = round(df_2_B_LB$rAF_bp10, 6 )\n",
    "df_2_P_LP$rAF_bp10 = round(df_2_P_LP$rAF_bp10, 6 )\n",
    "\n",
    "\n",
    "df_2_freq_B_LB =  df_2_B_LB %>% group_by(rAF_bp10) %>% summarise(count_B_LB=n())\n",
    "df_2_freq_P_LP =  df_2_P_LP %>% group_by(rAF_bp10) %>% summarise(count_P_LP=n())\n",
    "\n",
    "df_2_freq = merge(df_2_freq_B_LB, df_2_freq_P_LP, by = \"rAF_bp10\", all = TRUE)\n",
    "df_2_freq[is.na(df_2_freq)] = 0\n",
    "\n",
    "df_2_freq\n",
    "\n",
    "fwrite(df_2_freq, \"supplementary_excel_2.csv\")\n",
    "\n",
    "\n",
    "### Supplementary excel 1: for database 3\n",
    "df_3_B_LB$rAF_bp10 = round(df_3_B_LB$rAF_bp10, 6 )\n",
    "df_3_P_LP$rAF_bp10 = round(df_3_P_LP$rAF_bp10, 6 )\n",
    "\n",
    "\n",
    "df_3_freq_B_LB =  df_3_B_LB %>% group_by(rAF_bp10) %>% summarise(count_B_LB=n())\n",
    "df_3_freq_P_LP =  df_3_P_LP %>% group_by(rAF_bp10) %>% summarise(count_P_LP=n())\n",
    "\n",
    "df_3_freq = merge(df_3_freq_B_LB, df_3_freq_P_LP, by = \"rAF_bp10\", all = TRUE)\n",
    "df_3_freq[is.na(df_3_freq)] = 0\n",
    "\n",
    "df_3_freq\n",
    "\n",
    "fwrite(df_3_freq, \"supplementary_excel_3.csv\")\n"
   ]
  }
 ],
 "metadata": {
  "kernelspec": {
   "display_name": "R",
   "language": "R",
   "name": "ir"
  },
  "language_info": {
   "codemirror_mode": "r",
   "file_extension": ".r",
   "mimetype": "text/x-r-source",
   "name": "R",
   "pygments_lexer": "r",
   "version": "4.3.1"
  }
 },
 "nbformat": 4,
 "nbformat_minor": 5
}
