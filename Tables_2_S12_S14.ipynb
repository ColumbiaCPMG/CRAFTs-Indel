{
 "cells": [
  {
   "attachments": {},
   "cell_type": "markdown",
   "id": "22578111",
   "metadata": {},
   "source": [
    "# The purpose of this code is to investigate the relationship between the prevalence of suspicious deleterious indels in genes associated with dominant disorders. \n",
    "\n",
    "Deleterious indels were defined as those annotated as frameshift, splice region, splice donor, splice acceptor, stop gained, start lost, stop lost, or exon loss. "
   ]
  },
  {
   "cell_type": "code",
   "execution_count": 1,
   "id": "b5c9a9ec",
   "metadata": {
    "vscode": {
     "languageId": "r"
    }
   },
   "outputs": [
    {
     "name": "stderr",
     "output_type": "stream",
     "text": [
      "── \u001b[1mAttaching core tidyverse packages\u001b[22m ──────────────────────── tidyverse 2.0.0 ──\n",
      "\u001b[32m✔\u001b[39m \u001b[34mdplyr    \u001b[39m 1.1.1     \u001b[32m✔\u001b[39m \u001b[34mreadr    \u001b[39m 2.1.4\n",
      "\u001b[32m✔\u001b[39m \u001b[34mforcats  \u001b[39m 1.0.0     \u001b[32m✔\u001b[39m \u001b[34mstringr  \u001b[39m 1.5.0\n",
      "\u001b[32m✔\u001b[39m \u001b[34mggplot2  \u001b[39m 3.4.1     \u001b[32m✔\u001b[39m \u001b[34mtibble   \u001b[39m 3.2.1\n",
      "\u001b[32m✔\u001b[39m \u001b[34mlubridate\u001b[39m 1.9.2     \u001b[32m✔\u001b[39m \u001b[34mtidyr    \u001b[39m 1.3.0\n",
      "\u001b[32m✔\u001b[39m \u001b[34mpurrr    \u001b[39m 1.0.1     \n",
      "── \u001b[1mConflicts\u001b[22m ────────────────────────────────────────── tidyverse_conflicts() ──\n",
      "\u001b[31m✖\u001b[39m \u001b[34mdplyr\u001b[39m::\u001b[32mfilter()\u001b[39m masks \u001b[34mstats\u001b[39m::filter()\n",
      "\u001b[31m✖\u001b[39m \u001b[34mdplyr\u001b[39m::\u001b[32mlag()\u001b[39m    masks \u001b[34mstats\u001b[39m::lag()\n",
      "\u001b[36mℹ\u001b[39m Use the conflicted package (\u001b[3m\u001b[34m<http://conflicted.r-lib.org/>\u001b[39m\u001b[23m) to force all conflicts to become errors\n",
      "\n",
      "Attaching package: ‘data.table’\n",
      "\n",
      "\n",
      "The following objects are masked from ‘package:lubridate’:\n",
      "\n",
      "    hour, isoweek, mday, minute, month, quarter, second, wday, week,\n",
      "    yday, year\n",
      "\n",
      "\n",
      "The following objects are masked from ‘package:dplyr’:\n",
      "\n",
      "    between, first, last\n",
      "\n",
      "\n",
      "The following object is masked from ‘package:purrr’:\n",
      "\n",
      "    transpose\n",
      "\n",
      "\n"
     ]
    }
   ],
   "source": [
    "library(tidyverse)\n",
    "library(data.table)\n",
    "library(readxl)\n",
    "library(dplyr)\n",
    "library(stringr)"
   ]
  },
  {
   "attachments": {},
   "cell_type": "markdown",
   "id": "232e8f6a",
   "metadata": {},
   "source": [
    "Set rare."
   ]
  },
  {
   "cell_type": "code",
   "execution_count": 2,
   "id": "e203f758",
   "metadata": {
    "vscode": {
     "languageId": "r"
    }
   },
   "outputs": [],
   "source": [
    "rare_IGM = 10^-4 "
   ]
  },
  {
   "attachments": {},
   "cell_type": "markdown",
   "id": "fd19760d",
   "metadata": {},
   "source": [
    "Set bp ranges. "
   ]
  },
  {
   "cell_type": "code",
   "execution_count": 3,
   "id": "4d677bba",
   "metadata": {
    "vscode": {
     "languageId": "r"
    }
   },
   "outputs": [],
   "source": [
    "bp_range = c(\"10\", \"20\", \"30\", \"40\")"
   ]
  },
  {
   "attachments": {},
   "cell_type": "markdown",
   "id": "0a94c5f3",
   "metadata": {},
   "source": [
    "Set variant effects. "
   ]
  },
  {
   "cell_type": "code",
   "execution_count": 4,
   "id": "03f8dcff",
   "metadata": {
    "vscode": {
     "languageId": "r"
    }
   },
   "outputs": [],
   "source": [
    "variants_effects = c(\"frameshift_variant\", \"splice_donor_variant\", \"splice_acceptor_variant\", \"stop_gained\", \"start_lost\", \"stop_lost\", \"exon_loss_variant\")"
   ]
  },
  {
   "attachments": {},
   "cell_type": "markdown",
   "id": "f4f248eb",
   "metadata": {},
   "source": [
    "Set the total number of samples. "
   ]
  },
  {
   "cell_type": "code",
   "execution_count": 5,
   "id": "e73c0509",
   "metadata": {
    "vscode": {
     "languageId": "r"
    }
   },
   "outputs": [],
   "source": [
    "tot_num_samples = 39367"
   ]
  },
  {
   "attachments": {},
   "cell_type": "markdown",
   "id": "c7229c62",
   "metadata": {},
   "source": [
    "Read in all files."
   ]
  },
  {
   "cell_type": "code",
   "execution_count": 6,
   "id": "2428a4ee",
   "metadata": {
    "vscode": {
     "languageId": "r"
    }
   },
   "outputs": [],
   "source": [
    "all_sus_bp10 = fread(\"IGM_all_suspicious_bp10.csv\")\n",
    "all_sus_bp20 = fread(\"IGM_all_suspicious_bp20.csv\")\n",
    "all_sus_bp30 = fread(\"IGM_all_suspicious_bp30.csv\")\n",
    "all_sus_bp40 = fread(\"IGM_all_suspicious_bp40.csv\")"
   ]
  },
  {
   "cell_type": "code",
   "execution_count": 7,
   "id": "691b63f0",
   "metadata": {
    "vscode": {
     "languageId": "r"
    }
   },
   "outputs": [],
   "source": [
    "seqDB = fread(\"2023-05-31_seqDB_exome_genome_in_dragendb.csv\")"
   ]
  },
  {
   "cell_type": "code",
   "execution_count": 8,
   "id": "b11b1896",
   "metadata": {
    "vscode": {
     "languageId": "r"
    }
   },
   "outputs": [],
   "source": [
    "sample_name_gene_name = fread(\"2023-03-24_11-47-14_IGM_n39367_indels_genotypes_selectcols.csv\") \n",
    "colnames(sample_name_gene_name) = c(\"VarID\", \"geneName\", \"sampleName\", \"coveredCtrl\", \"AC\")\n",
    "\n",
    "\n",
    "effects = fread(\"2023-04-21_IGM_n39367_indels_genotypes_effects.csv\", header = TRUE)\n",
    "colnames(effects) = c(\"VarID\", \"Effect\")\n",
    "\n",
    "annotations = distinct(fread (\"2023-04-21_IGM_genename_gnomadpli_gnomadloeuf_omimdisease.csv\")) #18231 \n",
    "colnames(annotations) = c(\"geneName\", \"pLI\", \"oe_lof_upper\", \"OMIM_disease\")\n"
   ]
  },
  {
   "cell_type": "code",
   "execution_count": 9,
   "id": "8f52289b",
   "metadata": {
    "vscode": {
     "languageId": "r"
    }
   },
   "outputs": [],
   "source": [
    "annotations[geneName == \"'HTT'\"]$OMIM_disease = \"Huntington disease, 143100 (3), Autosomal dominant\"\n",
    "annotations[geneName == \"'GLTSCR1'\"]$geneName = \"BICRA\"\n",
    "annotations[geneName == \"'FAM46A'\"]$geneName = \"TENT5A\""
   ]
  },
  {
   "attachments": {},
   "cell_type": "markdown",
   "id": "4a817709",
   "metadata": {},
   "source": [
    "# Supplementary Tables S12-S14"
   ]
  },
  {
   "cell_type": "code",
   "execution_count": 10,
   "id": "7262d844",
   "metadata": {
    "vscode": {
     "languageId": "r"
    }
   },
   "outputs": [],
   "source": [
    "for (i in bp_range) {\n",
    "  \n",
    "  ## get sus df \n",
    "  get_sus_df = paste0(\"all_sus_bp\", i)\n",
    "  \n",
    "  ## merge with all the annotations files \n",
    "  with_effects = paste0(\"with_effects_bp\", i)\n",
    "  with_samples = paste0(\"with_samples_bp\", i)\n",
    "  with_annotations = paste0(\"with_annotations_bp\", i)\n",
    "  masterfile = paste0(\"masterfile_sus_bp\", i)\n",
    "  \n",
    "  assign(with_effects, merge(get(get_sus_df), effects, by = \"VarID\"))\n",
    "  assign(with_samples, merge(get(with_effects), sample_name_gene_name, by = \"VarID\"))\n",
    "  assign(with_annotations, merge(get(with_samples), annotations, by = \"geneName\"))\n",
    "  assign(masterfile, get(with_annotations))\n",
    "  \n",
    "  masterfile = get(with_annotations)\n",
    "  \n",
    "  #sus indels \n",
    "  #filter for certain effects \n",
    "  #constrained (gnomAD pLI > 0.5, oe_lof_upper < 0.35)\n",
    "\n",
    "  constrained_sus = paste0(\"constrained_sus_\", i)\n",
    "  \n",
    "  assign(constrained_sus, masterfile %>% filter(Effect %in% variants_effects) %>% filter(oe_lof_upper < 0.35) %>% filter(pLI > 0.5)) \n",
    "  \n",
    "  ## Find more than 50bp individuals \n",
    "  \n",
    "  table = paste0(\"table_\", i)\n",
    "  \n",
    "  assign(table, get(constrained_sus) %>% group_by(geneName) %>% mutate(uniqSamples = n_distinct(sampleName)) %>% filter(uniqSamples > 50) %>% ungroup())\n",
    "  \n",
    "  assign(table, get(table) %>% mutate(geneName = gsub(\"'\", \"\", get(table)$geneName)))\n",
    "  \n",
    "  assign(table, get(table) %>% mutate(prevalence_percent = round (get(table)$uniqSamples / tot_num_samples * 100, digits = 2 )))\n",
    "  \n",
    "  assign(table, distinct(get(table) %>% select(\"geneName\", \"uniqSamples\", \"prevalence_percent\", \"pLI\", \"oe_lof_upper\", \"OMIM_disease\")))\n",
    "  \n",
    "}\n"
   ]
  },
  {
   "cell_type": "code",
   "execution_count": 11,
   "id": "6b72fa9e",
   "metadata": {
    "vscode": {
     "languageId": "r"
    }
   },
   "outputs": [
    {
     "data": {
      "text/html": [
       "<table class=\"dataframe\">\n",
       "<caption>A tibble: 6 × 6</caption>\n",
       "<thead>\n",
       "\t<tr><th scope=col>geneName</th><th scope=col>uniqSamples</th><th scope=col>prevalence_percent</th><th scope=col>pLI</th><th scope=col>oe_lof_upper</th><th scope=col>OMIM_disease</th></tr>\n",
       "\t<tr><th scope=col>&lt;chr&gt;</th><th scope=col>&lt;int&gt;</th><th scope=col>&lt;dbl&gt;</th><th scope=col>&lt;dbl&gt;</th><th scope=col>&lt;dbl&gt;</th><th scope=col>&lt;chr&gt;</th></tr>\n",
       "</thead>\n",
       "<tbody>\n",
       "\t<tr><td>ATXN2</td><td> 59</td><td>0.15</td><td>0.85289</td><td>0.333</td><td>{Amyotrophic lateral sclerosis, susceptibility to, 13}, 183090 (3), Autosomal dominant; Spinocerebellar ataxia 2, 183090 (3), Autosomal dominant; {Parkinson disease, late-onset, susceptibility to}, 168600 (3), Autosomal dominant, Multifactorial</td></tr>\n",
       "\t<tr><td>EP400</td><td>112</td><td>0.28</td><td>1.00000</td><td>0.208</td><td>NA                                                                                                                                                                                                                                                  </td></tr>\n",
       "\t<tr><td>HTT  </td><td> 63</td><td>0.16</td><td>1.00000</td><td>0.176</td><td>Huntington disease, 143100 (3), Autosomal dominant                                                                                                                                                                                                  </td></tr>\n",
       "\t<tr><td>KMT2B</td><td> 84</td><td>0.21</td><td>1.00000</td><td>0.070</td><td>Intellectual developmental disorder, autosomal dominant 68, 619934 (3), Autosomal dominant; Dystonia 28, childhood-onset, 617284 (3), Autosomal dominant                                                                                            </td></tr>\n",
       "\t<tr><td>NABP2</td><td> 57</td><td>0.14</td><td>0.97257</td><td>0.270</td><td>NA                                                                                                                                                                                                                                                  </td></tr>\n",
       "\t<tr><td>TRRAP</td><td> 69</td><td>0.18</td><td>1.00000</td><td>0.060</td><td>?Deafness, autosomal dominant 75, 618778 (3), Autosomal dominant; Developmental delay with or without dysmorphic facies and autism, 618454 (3), Autosomal dominant                                                                                  </td></tr>\n",
       "</tbody>\n",
       "</table>\n"
      ],
      "text/latex": [
       "A tibble: 6 × 6\n",
       "\\begin{tabular}{llllll}\n",
       " geneName & uniqSamples & prevalence\\_percent & pLI & oe\\_lof\\_upper & OMIM\\_disease\\\\\n",
       " <chr> & <int> & <dbl> & <dbl> & <dbl> & <chr>\\\\\n",
       "\\hline\n",
       "\t ATXN2 &  59 & 0.15 & 0.85289 & 0.333 & \\{Amyotrophic lateral sclerosis, susceptibility to, 13\\}, 183090 (3), Autosomal dominant; Spinocerebellar ataxia 2, 183090 (3), Autosomal dominant; \\{Parkinson disease, late-onset, susceptibility to\\}, 168600 (3), Autosomal dominant, Multifactorial\\\\\n",
       "\t EP400 & 112 & 0.28 & 1.00000 & 0.208 & NA                                                                                                                                                                                                                                                  \\\\\n",
       "\t HTT   &  63 & 0.16 & 1.00000 & 0.176 & Huntington disease, 143100 (3), Autosomal dominant                                                                                                                                                                                                  \\\\\n",
       "\t KMT2B &  84 & 0.21 & 1.00000 & 0.070 & Intellectual developmental disorder, autosomal dominant 68, 619934 (3), Autosomal dominant; Dystonia 28, childhood-onset, 617284 (3), Autosomal dominant                                                                                            \\\\\n",
       "\t NABP2 &  57 & 0.14 & 0.97257 & 0.270 & NA                                                                                                                                                                                                                                                  \\\\\n",
       "\t TRRAP &  69 & 0.18 & 1.00000 & 0.060 & ?Deafness, autosomal dominant 75, 618778 (3), Autosomal dominant; Developmental delay with or without dysmorphic facies and autism, 618454 (3), Autosomal dominant                                                                                  \\\\\n",
       "\\end{tabular}\n"
      ],
      "text/markdown": [
       "\n",
       "A tibble: 6 × 6\n",
       "\n",
       "| geneName &lt;chr&gt; | uniqSamples &lt;int&gt; | prevalence_percent &lt;dbl&gt; | pLI &lt;dbl&gt; | oe_lof_upper &lt;dbl&gt; | OMIM_disease &lt;chr&gt; |\n",
       "|---|---|---|---|---|---|\n",
       "| ATXN2 |  59 | 0.15 | 0.85289 | 0.333 | {Amyotrophic lateral sclerosis, susceptibility to, 13}, 183090 (3), Autosomal dominant; Spinocerebellar ataxia 2, 183090 (3), Autosomal dominant; {Parkinson disease, late-onset, susceptibility to}, 168600 (3), Autosomal dominant, Multifactorial |\n",
       "| EP400 | 112 | 0.28 | 1.00000 | 0.208 | NA                                                                                                                                                                                                                                                   |\n",
       "| HTT   |  63 | 0.16 | 1.00000 | 0.176 | Huntington disease, 143100 (3), Autosomal dominant                                                                                                                                                                                                   |\n",
       "| KMT2B |  84 | 0.21 | 1.00000 | 0.070 | Intellectual developmental disorder, autosomal dominant 68, 619934 (3), Autosomal dominant; Dystonia 28, childhood-onset, 617284 (3), Autosomal dominant                                                                                             |\n",
       "| NABP2 |  57 | 0.14 | 0.97257 | 0.270 | NA                                                                                                                                                                                                                                                   |\n",
       "| TRRAP |  69 | 0.18 | 1.00000 | 0.060 | ?Deafness, autosomal dominant 75, 618778 (3), Autosomal dominant; Developmental delay with or without dysmorphic facies and autism, 618454 (3), Autosomal dominant                                                                                   |\n",
       "\n"
      ],
      "text/plain": [
       "  geneName uniqSamples prevalence_percent pLI     oe_lof_upper\n",
       "1 ATXN2     59         0.15               0.85289 0.333       \n",
       "2 EP400    112         0.28               1.00000 0.208       \n",
       "3 HTT       63         0.16               1.00000 0.176       \n",
       "4 KMT2B     84         0.21               1.00000 0.070       \n",
       "5 NABP2     57         0.14               0.97257 0.270       \n",
       "6 TRRAP     69         0.18               1.00000 0.060       \n",
       "  OMIM_disease                                                                                                                                                                                                                                        \n",
       "1 {Amyotrophic lateral sclerosis, susceptibility to, 13}, 183090 (3), Autosomal dominant; Spinocerebellar ataxia 2, 183090 (3), Autosomal dominant; {Parkinson disease, late-onset, susceptibility to}, 168600 (3), Autosomal dominant, Multifactorial\n",
       "2 NA                                                                                                                                                                                                                                                  \n",
       "3 Huntington disease, 143100 (3), Autosomal dominant                                                                                                                                                                                                  \n",
       "4 Intellectual developmental disorder, autosomal dominant 68, 619934 (3), Autosomal dominant; Dystonia 28, childhood-onset, 617284 (3), Autosomal dominant                                                                                            \n",
       "5 NA                                                                                                                                                                                                                                                  \n",
       "6 ?Deafness, autosomal dominant 75, 618778 (3), Autosomal dominant; Developmental delay with or without dysmorphic facies and autism, 618454 (3), Autosomal dominant                                                                                  "
      ]
     },
     "metadata": {},
     "output_type": "display_data"
    },
    {
     "data": {
      "text/html": [
       "<table class=\"dataframe\">\n",
       "<caption>A tibble: 6 × 6</caption>\n",
       "<thead>\n",
       "\t<tr><th scope=col>geneName</th><th scope=col>uniqSamples</th><th scope=col>prevalence_percent</th><th scope=col>pLI</th><th scope=col>oe_lof_upper</th><th scope=col>OMIM_disease</th></tr>\n",
       "\t<tr><th scope=col>&lt;chr&gt;</th><th scope=col>&lt;int&gt;</th><th scope=col>&lt;dbl&gt;</th><th scope=col>&lt;dbl&gt;</th><th scope=col>&lt;dbl&gt;</th><th scope=col>&lt;chr&gt;</th></tr>\n",
       "</thead>\n",
       "<tbody>\n",
       "\t<tr><td>ATXN2</td><td> 62</td><td>0.16</td><td>0.85289</td><td>0.333</td><td>{Amyotrophic lateral sclerosis, susceptibility to, 13}, 183090 (3), Autosomal dominant; Spinocerebellar ataxia 2, 183090 (3), Autosomal dominant; {Parkinson disease, late-onset, susceptibility to}, 168600 (3), Autosomal dominant, Multifactorial</td></tr>\n",
       "\t<tr><td>EP400</td><td>112</td><td>0.28</td><td>1.00000</td><td>0.208</td><td>NA                                                                                                                                                                                                                                                  </td></tr>\n",
       "\t<tr><td>HTT  </td><td> 63</td><td>0.16</td><td>1.00000</td><td>0.176</td><td>Huntington disease, 143100 (3), Autosomal dominant                                                                                                                                                                                                  </td></tr>\n",
       "\t<tr><td>KMT2B</td><td> 89</td><td>0.23</td><td>1.00000</td><td>0.070</td><td>Intellectual developmental disorder, autosomal dominant 68, 619934 (3), Autosomal dominant; Dystonia 28, childhood-onset, 617284 (3), Autosomal dominant                                                                                            </td></tr>\n",
       "\t<tr><td>NABP2</td><td> 57</td><td>0.14</td><td>0.97257</td><td>0.270</td><td>NA                                                                                                                                                                                                                                                  </td></tr>\n",
       "\t<tr><td>TRRAP</td><td> 69</td><td>0.18</td><td>1.00000</td><td>0.060</td><td>?Deafness, autosomal dominant 75, 618778 (3), Autosomal dominant; Developmental delay with or without dysmorphic facies and autism, 618454 (3), Autosomal dominant                                                                                  </td></tr>\n",
       "</tbody>\n",
       "</table>\n"
      ],
      "text/latex": [
       "A tibble: 6 × 6\n",
       "\\begin{tabular}{llllll}\n",
       " geneName & uniqSamples & prevalence\\_percent & pLI & oe\\_lof\\_upper & OMIM\\_disease\\\\\n",
       " <chr> & <int> & <dbl> & <dbl> & <dbl> & <chr>\\\\\n",
       "\\hline\n",
       "\t ATXN2 &  62 & 0.16 & 0.85289 & 0.333 & \\{Amyotrophic lateral sclerosis, susceptibility to, 13\\}, 183090 (3), Autosomal dominant; Spinocerebellar ataxia 2, 183090 (3), Autosomal dominant; \\{Parkinson disease, late-onset, susceptibility to\\}, 168600 (3), Autosomal dominant, Multifactorial\\\\\n",
       "\t EP400 & 112 & 0.28 & 1.00000 & 0.208 & NA                                                                                                                                                                                                                                                  \\\\\n",
       "\t HTT   &  63 & 0.16 & 1.00000 & 0.176 & Huntington disease, 143100 (3), Autosomal dominant                                                                                                                                                                                                  \\\\\n",
       "\t KMT2B &  89 & 0.23 & 1.00000 & 0.070 & Intellectual developmental disorder, autosomal dominant 68, 619934 (3), Autosomal dominant; Dystonia 28, childhood-onset, 617284 (3), Autosomal dominant                                                                                            \\\\\n",
       "\t NABP2 &  57 & 0.14 & 0.97257 & 0.270 & NA                                                                                                                                                                                                                                                  \\\\\n",
       "\t TRRAP &  69 & 0.18 & 1.00000 & 0.060 & ?Deafness, autosomal dominant 75, 618778 (3), Autosomal dominant; Developmental delay with or without dysmorphic facies and autism, 618454 (3), Autosomal dominant                                                                                  \\\\\n",
       "\\end{tabular}\n"
      ],
      "text/markdown": [
       "\n",
       "A tibble: 6 × 6\n",
       "\n",
       "| geneName &lt;chr&gt; | uniqSamples &lt;int&gt; | prevalence_percent &lt;dbl&gt; | pLI &lt;dbl&gt; | oe_lof_upper &lt;dbl&gt; | OMIM_disease &lt;chr&gt; |\n",
       "|---|---|---|---|---|---|\n",
       "| ATXN2 |  62 | 0.16 | 0.85289 | 0.333 | {Amyotrophic lateral sclerosis, susceptibility to, 13}, 183090 (3), Autosomal dominant; Spinocerebellar ataxia 2, 183090 (3), Autosomal dominant; {Parkinson disease, late-onset, susceptibility to}, 168600 (3), Autosomal dominant, Multifactorial |\n",
       "| EP400 | 112 | 0.28 | 1.00000 | 0.208 | NA                                                                                                                                                                                                                                                   |\n",
       "| HTT   |  63 | 0.16 | 1.00000 | 0.176 | Huntington disease, 143100 (3), Autosomal dominant                                                                                                                                                                                                   |\n",
       "| KMT2B |  89 | 0.23 | 1.00000 | 0.070 | Intellectual developmental disorder, autosomal dominant 68, 619934 (3), Autosomal dominant; Dystonia 28, childhood-onset, 617284 (3), Autosomal dominant                                                                                             |\n",
       "| NABP2 |  57 | 0.14 | 0.97257 | 0.270 | NA                                                                                                                                                                                                                                                   |\n",
       "| TRRAP |  69 | 0.18 | 1.00000 | 0.060 | ?Deafness, autosomal dominant 75, 618778 (3), Autosomal dominant; Developmental delay with or without dysmorphic facies and autism, 618454 (3), Autosomal dominant                                                                                   |\n",
       "\n"
      ],
      "text/plain": [
       "  geneName uniqSamples prevalence_percent pLI     oe_lof_upper\n",
       "1 ATXN2     62         0.16               0.85289 0.333       \n",
       "2 EP400    112         0.28               1.00000 0.208       \n",
       "3 HTT       63         0.16               1.00000 0.176       \n",
       "4 KMT2B     89         0.23               1.00000 0.070       \n",
       "5 NABP2     57         0.14               0.97257 0.270       \n",
       "6 TRRAP     69         0.18               1.00000 0.060       \n",
       "  OMIM_disease                                                                                                                                                                                                                                        \n",
       "1 {Amyotrophic lateral sclerosis, susceptibility to, 13}, 183090 (3), Autosomal dominant; Spinocerebellar ataxia 2, 183090 (3), Autosomal dominant; {Parkinson disease, late-onset, susceptibility to}, 168600 (3), Autosomal dominant, Multifactorial\n",
       "2 NA                                                                                                                                                                                                                                                  \n",
       "3 Huntington disease, 143100 (3), Autosomal dominant                                                                                                                                                                                                  \n",
       "4 Intellectual developmental disorder, autosomal dominant 68, 619934 (3), Autosomal dominant; Dystonia 28, childhood-onset, 617284 (3), Autosomal dominant                                                                                            \n",
       "5 NA                                                                                                                                                                                                                                                  \n",
       "6 ?Deafness, autosomal dominant 75, 618778 (3), Autosomal dominant; Developmental delay with or without dysmorphic facies and autism, 618454 (3), Autosomal dominant                                                                                  "
      ]
     },
     "metadata": {},
     "output_type": "display_data"
    },
    {
     "data": {
      "text/html": [
       "<table class=\"dataframe\">\n",
       "<caption>A tibble: 7 × 6</caption>\n",
       "<thead>\n",
       "\t<tr><th scope=col>geneName</th><th scope=col>uniqSamples</th><th scope=col>prevalence_percent</th><th scope=col>pLI</th><th scope=col>oe_lof_upper</th><th scope=col>OMIM_disease</th></tr>\n",
       "\t<tr><th scope=col>&lt;chr&gt;</th><th scope=col>&lt;int&gt;</th><th scope=col>&lt;dbl&gt;</th><th scope=col>&lt;dbl&gt;</th><th scope=col>&lt;dbl&gt;</th><th scope=col>&lt;chr&gt;</th></tr>\n",
       "</thead>\n",
       "<tbody>\n",
       "\t<tr><td>APC2 </td><td> 56</td><td>0.14</td><td>0.99994</td><td>0.225</td><td>Cortical dysplasia, complex, with other brain malformations 10, 618677 (3), Autosomal recessive; Intellectual developmental disorder, autosomal recessive 74, 617169 (3), Autosomal recessive                                                       </td></tr>\n",
       "\t<tr><td>ATXN2</td><td> 70</td><td>0.18</td><td>0.85289</td><td>0.333</td><td>{Amyotrophic lateral sclerosis, susceptibility to, 13}, 183090 (3), Autosomal dominant; Spinocerebellar ataxia 2, 183090 (3), Autosomal dominant; {Parkinson disease, late-onset, susceptibility to}, 168600 (3), Autosomal dominant, Multifactorial</td></tr>\n",
       "\t<tr><td>EP400</td><td>112</td><td>0.28</td><td>1.00000</td><td>0.208</td><td>NA                                                                                                                                                                                                                                                  </td></tr>\n",
       "\t<tr><td>HTT  </td><td> 63</td><td>0.16</td><td>1.00000</td><td>0.176</td><td>Huntington disease, 143100 (3), Autosomal dominant                                                                                                                                                                                                  </td></tr>\n",
       "\t<tr><td>KMT2B</td><td> 90</td><td>0.23</td><td>1.00000</td><td>0.070</td><td>Intellectual developmental disorder, autosomal dominant 68, 619934 (3), Autosomal dominant; Dystonia 28, childhood-onset, 617284 (3), Autosomal dominant                                                                                            </td></tr>\n",
       "\t<tr><td>NABP2</td><td> 57</td><td>0.14</td><td>0.97257</td><td>0.270</td><td>NA                                                                                                                                                                                                                                                  </td></tr>\n",
       "\t<tr><td>TRRAP</td><td> 69</td><td>0.18</td><td>1.00000</td><td>0.060</td><td>?Deafness, autosomal dominant 75, 618778 (3), Autosomal dominant; Developmental delay with or without dysmorphic facies and autism, 618454 (3), Autosomal dominant                                                                                  </td></tr>\n",
       "</tbody>\n",
       "</table>\n"
      ],
      "text/latex": [
       "A tibble: 7 × 6\n",
       "\\begin{tabular}{llllll}\n",
       " geneName & uniqSamples & prevalence\\_percent & pLI & oe\\_lof\\_upper & OMIM\\_disease\\\\\n",
       " <chr> & <int> & <dbl> & <dbl> & <dbl> & <chr>\\\\\n",
       "\\hline\n",
       "\t APC2  &  56 & 0.14 & 0.99994 & 0.225 & Cortical dysplasia, complex, with other brain malformations 10, 618677 (3), Autosomal recessive; Intellectual developmental disorder, autosomal recessive 74, 617169 (3), Autosomal recessive                                                       \\\\\n",
       "\t ATXN2 &  70 & 0.18 & 0.85289 & 0.333 & \\{Amyotrophic lateral sclerosis, susceptibility to, 13\\}, 183090 (3), Autosomal dominant; Spinocerebellar ataxia 2, 183090 (3), Autosomal dominant; \\{Parkinson disease, late-onset, susceptibility to\\}, 168600 (3), Autosomal dominant, Multifactorial\\\\\n",
       "\t EP400 & 112 & 0.28 & 1.00000 & 0.208 & NA                                                                                                                                                                                                                                                  \\\\\n",
       "\t HTT   &  63 & 0.16 & 1.00000 & 0.176 & Huntington disease, 143100 (3), Autosomal dominant                                                                                                                                                                                                  \\\\\n",
       "\t KMT2B &  90 & 0.23 & 1.00000 & 0.070 & Intellectual developmental disorder, autosomal dominant 68, 619934 (3), Autosomal dominant; Dystonia 28, childhood-onset, 617284 (3), Autosomal dominant                                                                                            \\\\\n",
       "\t NABP2 &  57 & 0.14 & 0.97257 & 0.270 & NA                                                                                                                                                                                                                                                  \\\\\n",
       "\t TRRAP &  69 & 0.18 & 1.00000 & 0.060 & ?Deafness, autosomal dominant 75, 618778 (3), Autosomal dominant; Developmental delay with or without dysmorphic facies and autism, 618454 (3), Autosomal dominant                                                                                  \\\\\n",
       "\\end{tabular}\n"
      ],
      "text/markdown": [
       "\n",
       "A tibble: 7 × 6\n",
       "\n",
       "| geneName &lt;chr&gt; | uniqSamples &lt;int&gt; | prevalence_percent &lt;dbl&gt; | pLI &lt;dbl&gt; | oe_lof_upper &lt;dbl&gt; | OMIM_disease &lt;chr&gt; |\n",
       "|---|---|---|---|---|---|\n",
       "| APC2  |  56 | 0.14 | 0.99994 | 0.225 | Cortical dysplasia, complex, with other brain malformations 10, 618677 (3), Autosomal recessive; Intellectual developmental disorder, autosomal recessive 74, 617169 (3), Autosomal recessive                                                        |\n",
       "| ATXN2 |  70 | 0.18 | 0.85289 | 0.333 | {Amyotrophic lateral sclerosis, susceptibility to, 13}, 183090 (3), Autosomal dominant; Spinocerebellar ataxia 2, 183090 (3), Autosomal dominant; {Parkinson disease, late-onset, susceptibility to}, 168600 (3), Autosomal dominant, Multifactorial |\n",
       "| EP400 | 112 | 0.28 | 1.00000 | 0.208 | NA                                                                                                                                                                                                                                                   |\n",
       "| HTT   |  63 | 0.16 | 1.00000 | 0.176 | Huntington disease, 143100 (3), Autosomal dominant                                                                                                                                                                                                   |\n",
       "| KMT2B |  90 | 0.23 | 1.00000 | 0.070 | Intellectual developmental disorder, autosomal dominant 68, 619934 (3), Autosomal dominant; Dystonia 28, childhood-onset, 617284 (3), Autosomal dominant                                                                                             |\n",
       "| NABP2 |  57 | 0.14 | 0.97257 | 0.270 | NA                                                                                                                                                                                                                                                   |\n",
       "| TRRAP |  69 | 0.18 | 1.00000 | 0.060 | ?Deafness, autosomal dominant 75, 618778 (3), Autosomal dominant; Developmental delay with or without dysmorphic facies and autism, 618454 (3), Autosomal dominant                                                                                   |\n",
       "\n"
      ],
      "text/plain": [
       "  geneName uniqSamples prevalence_percent pLI     oe_lof_upper\n",
       "1 APC2      56         0.14               0.99994 0.225       \n",
       "2 ATXN2     70         0.18               0.85289 0.333       \n",
       "3 EP400    112         0.28               1.00000 0.208       \n",
       "4 HTT       63         0.16               1.00000 0.176       \n",
       "5 KMT2B     90         0.23               1.00000 0.070       \n",
       "6 NABP2     57         0.14               0.97257 0.270       \n",
       "7 TRRAP     69         0.18               1.00000 0.060       \n",
       "  OMIM_disease                                                                                                                                                                                                                                        \n",
       "1 Cortical dysplasia, complex, with other brain malformations 10, 618677 (3), Autosomal recessive; Intellectual developmental disorder, autosomal recessive 74, 617169 (3), Autosomal recessive                                                       \n",
       "2 {Amyotrophic lateral sclerosis, susceptibility to, 13}, 183090 (3), Autosomal dominant; Spinocerebellar ataxia 2, 183090 (3), Autosomal dominant; {Parkinson disease, late-onset, susceptibility to}, 168600 (3), Autosomal dominant, Multifactorial\n",
       "3 NA                                                                                                                                                                                                                                                  \n",
       "4 Huntington disease, 143100 (3), Autosomal dominant                                                                                                                                                                                                  \n",
       "5 Intellectual developmental disorder, autosomal dominant 68, 619934 (3), Autosomal dominant; Dystonia 28, childhood-onset, 617284 (3), Autosomal dominant                                                                                            \n",
       "6 NA                                                                                                                                                                                                                                                  \n",
       "7 ?Deafness, autosomal dominant 75, 618778 (3), Autosomal dominant; Developmental delay with or without dysmorphic facies and autism, 618454 (3), Autosomal dominant                                                                                  "
      ]
     },
     "metadata": {},
     "output_type": "display_data"
    },
    {
     "data": {
      "text/html": [
       "<table class=\"dataframe\">\n",
       "<caption>A tibble: 9 × 6</caption>\n",
       "<thead>\n",
       "\t<tr><th scope=col>geneName</th><th scope=col>uniqSamples</th><th scope=col>prevalence_percent</th><th scope=col>pLI</th><th scope=col>oe_lof_upper</th><th scope=col>OMIM_disease</th></tr>\n",
       "\t<tr><th scope=col>&lt;chr&gt;</th><th scope=col>&lt;int&gt;</th><th scope=col>&lt;dbl&gt;</th><th scope=col>&lt;dbl&gt;</th><th scope=col>&lt;dbl&gt;</th><th scope=col>&lt;chr&gt;</th></tr>\n",
       "</thead>\n",
       "<tbody>\n",
       "\t<tr><td>APC2  </td><td> 93</td><td>0.24</td><td>0.99994</td><td>0.225</td><td>Cortical dysplasia, complex, with other brain malformations 10, 618677 (3), Autosomal recessive; Intellectual developmental disorder, autosomal recessive 74, 617169 (3), Autosomal recessive                                                       </td></tr>\n",
       "\t<tr><td>ARID1B</td><td> 56</td><td>0.14</td><td>1.00000</td><td>0.102</td><td>Coffin-Siris syndrome 1, 135900 (3), Autosomal dominant                                                                                                                                                                                             </td></tr>\n",
       "\t<tr><td>ATXN2 </td><td> 75</td><td>0.19</td><td>0.85289</td><td>0.333</td><td>{Amyotrophic lateral sclerosis, susceptibility to, 13}, 183090 (3), Autosomal dominant; Spinocerebellar ataxia 2, 183090 (3), Autosomal dominant; {Parkinson disease, late-onset, susceptibility to}, 168600 (3), Autosomal dominant, Multifactorial</td></tr>\n",
       "\t<tr><td>EP400 </td><td>114</td><td>0.29</td><td>1.00000</td><td>0.208</td><td>NA                                                                                                                                                                                                                                                  </td></tr>\n",
       "\t<tr><td>HTT   </td><td> 63</td><td>0.16</td><td>1.00000</td><td>0.176</td><td>Huntington disease, 143100 (3), Autosomal dominant                                                                                                                                                                                                  </td></tr>\n",
       "\t<tr><td>KMT2B </td><td> 90</td><td>0.23</td><td>1.00000</td><td>0.070</td><td>Intellectual developmental disorder, autosomal dominant 68, 619934 (3), Autosomal dominant; Dystonia 28, childhood-onset, 617284 (3), Autosomal dominant                                                                                            </td></tr>\n",
       "\t<tr><td>NABP2 </td><td> 57</td><td>0.14</td><td>0.97257</td><td>0.270</td><td>NA                                                                                                                                                                                                                                                  </td></tr>\n",
       "\t<tr><td>SCAF1 </td><td> 52</td><td>0.13</td><td>0.99819</td><td>0.254</td><td>NA                                                                                                                                                                                                                                                  </td></tr>\n",
       "\t<tr><td>TRRAP </td><td> 69</td><td>0.18</td><td>1.00000</td><td>0.060</td><td>?Deafness, autosomal dominant 75, 618778 (3), Autosomal dominant; Developmental delay with or without dysmorphic facies and autism, 618454 (3), Autosomal dominant                                                                                  </td></tr>\n",
       "</tbody>\n",
       "</table>\n"
      ],
      "text/latex": [
       "A tibble: 9 × 6\n",
       "\\begin{tabular}{llllll}\n",
       " geneName & uniqSamples & prevalence\\_percent & pLI & oe\\_lof\\_upper & OMIM\\_disease\\\\\n",
       " <chr> & <int> & <dbl> & <dbl> & <dbl> & <chr>\\\\\n",
       "\\hline\n",
       "\t APC2   &  93 & 0.24 & 0.99994 & 0.225 & Cortical dysplasia, complex, with other brain malformations 10, 618677 (3), Autosomal recessive; Intellectual developmental disorder, autosomal recessive 74, 617169 (3), Autosomal recessive                                                       \\\\\n",
       "\t ARID1B &  56 & 0.14 & 1.00000 & 0.102 & Coffin-Siris syndrome 1, 135900 (3), Autosomal dominant                                                                                                                                                                                             \\\\\n",
       "\t ATXN2  &  75 & 0.19 & 0.85289 & 0.333 & \\{Amyotrophic lateral sclerosis, susceptibility to, 13\\}, 183090 (3), Autosomal dominant; Spinocerebellar ataxia 2, 183090 (3), Autosomal dominant; \\{Parkinson disease, late-onset, susceptibility to\\}, 168600 (3), Autosomal dominant, Multifactorial\\\\\n",
       "\t EP400  & 114 & 0.29 & 1.00000 & 0.208 & NA                                                                                                                                                                                                                                                  \\\\\n",
       "\t HTT    &  63 & 0.16 & 1.00000 & 0.176 & Huntington disease, 143100 (3), Autosomal dominant                                                                                                                                                                                                  \\\\\n",
       "\t KMT2B  &  90 & 0.23 & 1.00000 & 0.070 & Intellectual developmental disorder, autosomal dominant 68, 619934 (3), Autosomal dominant; Dystonia 28, childhood-onset, 617284 (3), Autosomal dominant                                                                                            \\\\\n",
       "\t NABP2  &  57 & 0.14 & 0.97257 & 0.270 & NA                                                                                                                                                                                                                                                  \\\\\n",
       "\t SCAF1  &  52 & 0.13 & 0.99819 & 0.254 & NA                                                                                                                                                                                                                                                  \\\\\n",
       "\t TRRAP  &  69 & 0.18 & 1.00000 & 0.060 & ?Deafness, autosomal dominant 75, 618778 (3), Autosomal dominant; Developmental delay with or without dysmorphic facies and autism, 618454 (3), Autosomal dominant                                                                                  \\\\\n",
       "\\end{tabular}\n"
      ],
      "text/markdown": [
       "\n",
       "A tibble: 9 × 6\n",
       "\n",
       "| geneName &lt;chr&gt; | uniqSamples &lt;int&gt; | prevalence_percent &lt;dbl&gt; | pLI &lt;dbl&gt; | oe_lof_upper &lt;dbl&gt; | OMIM_disease &lt;chr&gt; |\n",
       "|---|---|---|---|---|---|\n",
       "| APC2   |  93 | 0.24 | 0.99994 | 0.225 | Cortical dysplasia, complex, with other brain malformations 10, 618677 (3), Autosomal recessive; Intellectual developmental disorder, autosomal recessive 74, 617169 (3), Autosomal recessive                                                        |\n",
       "| ARID1B |  56 | 0.14 | 1.00000 | 0.102 | Coffin-Siris syndrome 1, 135900 (3), Autosomal dominant                                                                                                                                                                                              |\n",
       "| ATXN2  |  75 | 0.19 | 0.85289 | 0.333 | {Amyotrophic lateral sclerosis, susceptibility to, 13}, 183090 (3), Autosomal dominant; Spinocerebellar ataxia 2, 183090 (3), Autosomal dominant; {Parkinson disease, late-onset, susceptibility to}, 168600 (3), Autosomal dominant, Multifactorial |\n",
       "| EP400  | 114 | 0.29 | 1.00000 | 0.208 | NA                                                                                                                                                                                                                                                   |\n",
       "| HTT    |  63 | 0.16 | 1.00000 | 0.176 | Huntington disease, 143100 (3), Autosomal dominant                                                                                                                                                                                                   |\n",
       "| KMT2B  |  90 | 0.23 | 1.00000 | 0.070 | Intellectual developmental disorder, autosomal dominant 68, 619934 (3), Autosomal dominant; Dystonia 28, childhood-onset, 617284 (3), Autosomal dominant                                                                                             |\n",
       "| NABP2  |  57 | 0.14 | 0.97257 | 0.270 | NA                                                                                                                                                                                                                                                   |\n",
       "| SCAF1  |  52 | 0.13 | 0.99819 | 0.254 | NA                                                                                                                                                                                                                                                   |\n",
       "| TRRAP  |  69 | 0.18 | 1.00000 | 0.060 | ?Deafness, autosomal dominant 75, 618778 (3), Autosomal dominant; Developmental delay with or without dysmorphic facies and autism, 618454 (3), Autosomal dominant                                                                                   |\n",
       "\n"
      ],
      "text/plain": [
       "  geneName uniqSamples prevalence_percent pLI     oe_lof_upper\n",
       "1 APC2      93         0.24               0.99994 0.225       \n",
       "2 ARID1B    56         0.14               1.00000 0.102       \n",
       "3 ATXN2     75         0.19               0.85289 0.333       \n",
       "4 EP400    114         0.29               1.00000 0.208       \n",
       "5 HTT       63         0.16               1.00000 0.176       \n",
       "6 KMT2B     90         0.23               1.00000 0.070       \n",
       "7 NABP2     57         0.14               0.97257 0.270       \n",
       "8 SCAF1     52         0.13               0.99819 0.254       \n",
       "9 TRRAP     69         0.18               1.00000 0.060       \n",
       "  OMIM_disease                                                                                                                                                                                                                                        \n",
       "1 Cortical dysplasia, complex, with other brain malformations 10, 618677 (3), Autosomal recessive; Intellectual developmental disorder, autosomal recessive 74, 617169 (3), Autosomal recessive                                                       \n",
       "2 Coffin-Siris syndrome 1, 135900 (3), Autosomal dominant                                                                                                                                                                                             \n",
       "3 {Amyotrophic lateral sclerosis, susceptibility to, 13}, 183090 (3), Autosomal dominant; Spinocerebellar ataxia 2, 183090 (3), Autosomal dominant; {Parkinson disease, late-onset, susceptibility to}, 168600 (3), Autosomal dominant, Multifactorial\n",
       "4 NA                                                                                                                                                                                                                                                  \n",
       "5 Huntington disease, 143100 (3), Autosomal dominant                                                                                                                                                                                                  \n",
       "6 Intellectual developmental disorder, autosomal dominant 68, 619934 (3), Autosomal dominant; Dystonia 28, childhood-onset, 617284 (3), Autosomal dominant                                                                                            \n",
       "7 NA                                                                                                                                                                                                                                                  \n",
       "8 NA                                                                                                                                                                                                                                                  \n",
       "9 ?Deafness, autosomal dominant 75, 618778 (3), Autosomal dominant; Developmental delay with or without dysmorphic facies and autism, 618454 (3), Autosomal dominant                                                                                  "
      ]
     },
     "metadata": {},
     "output_type": "display_data"
    }
   ],
   "source": [
    "table_10\n",
    "table_20\n",
    "table_30\n",
    "table_40"
   ]
  },
  {
   "attachments": {},
   "cell_type": "markdown",
   "id": "35a13ae7",
   "metadata": {},
   "source": [
    "# Table 2\n",
    "Find the Broad Phenotypes for the people who have suspicious indels in constrained genes. "
   ]
  },
  {
   "attachments": {},
   "cell_type": "markdown",
   "id": "5bac7ae9",
   "metadata": {},
   "source": [
    "Merge the suspicious indels in constrained genes with the seqDB data by sample name."
   ]
  },
  {
   "cell_type": "code",
   "execution_count": 12,
   "id": "367ec3f2",
   "metadata": {
    "vscode": {
     "languageId": "r"
    }
   },
   "outputs": [],
   "source": [
    "table2 = table_10[table_10$OMIM_disease %like% \"Autosomal dominant\",]"
   ]
  },
  {
   "cell_type": "code",
   "execution_count": 13,
   "id": "2bceeef5",
   "metadata": {
    "vscode": {
     "languageId": "r"
    }
   },
   "outputs": [],
   "source": [
    "constrained_sus_10_merged = merge(constrained_sus_10, seqDB, by.x = \"sampleName\", by.y = \"sample_internal_name\")"
   ]
  },
  {
   "cell_type": "code",
   "execution_count": 14,
   "id": "17e69d24",
   "metadata": {
    "vscode": {
     "languageId": "r"
    }
   },
   "outputs": [],
   "source": [
    "EP400 = as.data.frame(table((distinct(constrained_sus_10_merged %>% select(sampleName, BroadPhenotype, geneName)) %>% filter (geneName == \"'EP400'\"))$BroadPhenotype))\n",
    "KMT2B = as.data.frame(table((distinct(constrained_sus_10_merged %>% select(sampleName, BroadPhenotype, geneName)) %>% filter (geneName == \"'KMT2B'\"))$BroadPhenotype))\n",
    "TRRAP = as.data.frame(table((distinct(constrained_sus_10_merged %>% select(sampleName, BroadPhenotype, geneName)) %>% filter (geneName == \"'TRRAP'\"))$BroadPhenotype))\n",
    "HTT = as.data.frame(table((distinct(constrained_sus_10_merged %>% select(sampleName, BroadPhenotype, geneName)) %>% filter (geneName == \"'HTT'\"))$BroadPhenotype))\n",
    "ATXN2 = as.data.frame(table((distinct(constrained_sus_10_merged %>% select(sampleName, BroadPhenotype, geneName)) %>% filter (geneName == \"'ATXN2'\"))$BroadPhenotype))\n",
    "NABP2 = as.data.frame(table((distinct(constrained_sus_10_merged %>% select(sampleName, BroadPhenotype, geneName)) %>% filter (geneName == \"'NABP2'\"))$BroadPhenotype))"
   ]
  },
  {
   "cell_type": "code",
   "execution_count": 15,
   "id": "feb15eb1",
   "metadata": {
    "vscode": {
     "languageId": "r"
    }
   },
   "outputs": [
    {
     "data": {
      "text/html": [
       "<table class=\"dataframe\">\n",
       "<caption>A tibble: 4 × 6</caption>\n",
       "<thead>\n",
       "\t<tr><th scope=col>geneName</th><th scope=col>uniqSamples</th><th scope=col>prevalence_percent</th><th scope=col>pLI</th><th scope=col>oe_lof_upper</th><th scope=col>OMIM_disease</th></tr>\n",
       "\t<tr><th scope=col>&lt;chr&gt;</th><th scope=col>&lt;int&gt;</th><th scope=col>&lt;dbl&gt;</th><th scope=col>&lt;dbl&gt;</th><th scope=col>&lt;dbl&gt;</th><th scope=col>&lt;chr&gt;</th></tr>\n",
       "</thead>\n",
       "<tbody>\n",
       "\t<tr><td>ATXN2</td><td>59</td><td>0.15</td><td>0.85289</td><td>0.333</td><td>{Amyotrophic lateral sclerosis, susceptibility to, 13}, 183090 (3), Autosomal dominant; Spinocerebellar ataxia 2, 183090 (3), Autosomal dominant; {Parkinson disease, late-onset, susceptibility to}, 168600 (3), Autosomal dominant, Multifactorial</td></tr>\n",
       "\t<tr><td>HTT  </td><td>63</td><td>0.16</td><td>1.00000</td><td>0.176</td><td>Huntington disease, 143100 (3), Autosomal dominant                                                                                                                                                                                                  </td></tr>\n",
       "\t<tr><td>KMT2B</td><td>84</td><td>0.21</td><td>1.00000</td><td>0.070</td><td>Intellectual developmental disorder, autosomal dominant 68, 619934 (3), Autosomal dominant; Dystonia 28, childhood-onset, 617284 (3), Autosomal dominant                                                                                            </td></tr>\n",
       "\t<tr><td>TRRAP</td><td>69</td><td>0.18</td><td>1.00000</td><td>0.060</td><td>?Deafness, autosomal dominant 75, 618778 (3), Autosomal dominant; Developmental delay with or without dysmorphic facies and autism, 618454 (3), Autosomal dominant                                                                                  </td></tr>\n",
       "</tbody>\n",
       "</table>\n"
      ],
      "text/latex": [
       "A tibble: 4 × 6\n",
       "\\begin{tabular}{llllll}\n",
       " geneName & uniqSamples & prevalence\\_percent & pLI & oe\\_lof\\_upper & OMIM\\_disease\\\\\n",
       " <chr> & <int> & <dbl> & <dbl> & <dbl> & <chr>\\\\\n",
       "\\hline\n",
       "\t ATXN2 & 59 & 0.15 & 0.85289 & 0.333 & \\{Amyotrophic lateral sclerosis, susceptibility to, 13\\}, 183090 (3), Autosomal dominant; Spinocerebellar ataxia 2, 183090 (3), Autosomal dominant; \\{Parkinson disease, late-onset, susceptibility to\\}, 168600 (3), Autosomal dominant, Multifactorial\\\\\n",
       "\t HTT   & 63 & 0.16 & 1.00000 & 0.176 & Huntington disease, 143100 (3), Autosomal dominant                                                                                                                                                                                                  \\\\\n",
       "\t KMT2B & 84 & 0.21 & 1.00000 & 0.070 & Intellectual developmental disorder, autosomal dominant 68, 619934 (3), Autosomal dominant; Dystonia 28, childhood-onset, 617284 (3), Autosomal dominant                                                                                            \\\\\n",
       "\t TRRAP & 69 & 0.18 & 1.00000 & 0.060 & ?Deafness, autosomal dominant 75, 618778 (3), Autosomal dominant; Developmental delay with or without dysmorphic facies and autism, 618454 (3), Autosomal dominant                                                                                  \\\\\n",
       "\\end{tabular}\n"
      ],
      "text/markdown": [
       "\n",
       "A tibble: 4 × 6\n",
       "\n",
       "| geneName &lt;chr&gt; | uniqSamples &lt;int&gt; | prevalence_percent &lt;dbl&gt; | pLI &lt;dbl&gt; | oe_lof_upper &lt;dbl&gt; | OMIM_disease &lt;chr&gt; |\n",
       "|---|---|---|---|---|---|\n",
       "| ATXN2 | 59 | 0.15 | 0.85289 | 0.333 | {Amyotrophic lateral sclerosis, susceptibility to, 13}, 183090 (3), Autosomal dominant; Spinocerebellar ataxia 2, 183090 (3), Autosomal dominant; {Parkinson disease, late-onset, susceptibility to}, 168600 (3), Autosomal dominant, Multifactorial |\n",
       "| HTT   | 63 | 0.16 | 1.00000 | 0.176 | Huntington disease, 143100 (3), Autosomal dominant                                                                                                                                                                                                   |\n",
       "| KMT2B | 84 | 0.21 | 1.00000 | 0.070 | Intellectual developmental disorder, autosomal dominant 68, 619934 (3), Autosomal dominant; Dystonia 28, childhood-onset, 617284 (3), Autosomal dominant                                                                                             |\n",
       "| TRRAP | 69 | 0.18 | 1.00000 | 0.060 | ?Deafness, autosomal dominant 75, 618778 (3), Autosomal dominant; Developmental delay with or without dysmorphic facies and autism, 618454 (3), Autosomal dominant                                                                                   |\n",
       "\n"
      ],
      "text/plain": [
       "  geneName uniqSamples prevalence_percent pLI     oe_lof_upper\n",
       "1 ATXN2    59          0.15               0.85289 0.333       \n",
       "2 HTT      63          0.16               1.00000 0.176       \n",
       "3 KMT2B    84          0.21               1.00000 0.070       \n",
       "4 TRRAP    69          0.18               1.00000 0.060       \n",
       "  OMIM_disease                                                                                                                                                                                                                                        \n",
       "1 {Amyotrophic lateral sclerosis, susceptibility to, 13}, 183090 (3), Autosomal dominant; Spinocerebellar ataxia 2, 183090 (3), Autosomal dominant; {Parkinson disease, late-onset, susceptibility to}, 168600 (3), Autosomal dominant, Multifactorial\n",
       "2 Huntington disease, 143100 (3), Autosomal dominant                                                                                                                                                                                                  \n",
       "3 Intellectual developmental disorder, autosomal dominant 68, 619934 (3), Autosomal dominant; Dystonia 28, childhood-onset, 617284 (3), Autosomal dominant                                                                                            \n",
       "4 ?Deafness, autosomal dominant 75, 618778 (3), Autosomal dominant; Developmental delay with or without dysmorphic facies and autism, 618454 (3), Autosomal dominant                                                                                  "
      ]
     },
     "metadata": {},
     "output_type": "display_data"
    },
    {
     "data": {
      "text/html": [
       "<table class=\"dataframe\">\n",
       "<caption>A data.frame: 13 × 2</caption>\n",
       "<thead>\n",
       "\t<tr><th scope=col>Var1</th><th scope=col>Freq</th></tr>\n",
       "\t<tr><th scope=col>&lt;fct&gt;</th><th scope=col>&lt;int&gt;</th></tr>\n",
       "</thead>\n",
       "<tbody>\n",
       "\t<tr><td>amyotrophic lateral sclerosis</td><td> 8</td></tr>\n",
       "\t<tr><td>cardiovascular disease       </td><td> 1</td></tr>\n",
       "\t<tr><td>congenital disorder          </td><td> 2</td></tr>\n",
       "\t<tr><td>control                      </td><td> 5</td></tr>\n",
       "\t<tr><td>dementia                     </td><td> 2</td></tr>\n",
       "\t<tr><td>epilepsy                     </td><td>35</td></tr>\n",
       "\t<tr><td>healthy family member        </td><td>15</td></tr>\n",
       "\t<tr><td>kidney and urological disease</td><td>28</td></tr>\n",
       "\t<tr><td>liver disease                </td><td> 5</td></tr>\n",
       "\t<tr><td>obsessive compulsive disorder</td><td> 5</td></tr>\n",
       "\t<tr><td>other                        </td><td> 1</td></tr>\n",
       "\t<tr><td>other neurological disease   </td><td> 3</td></tr>\n",
       "\t<tr><td>pulmonary disease            </td><td> 2</td></tr>\n",
       "</tbody>\n",
       "</table>\n"
      ],
      "text/latex": [
       "A data.frame: 13 × 2\n",
       "\\begin{tabular}{ll}\n",
       " Var1 & Freq\\\\\n",
       " <fct> & <int>\\\\\n",
       "\\hline\n",
       "\t amyotrophic lateral sclerosis &  8\\\\\n",
       "\t cardiovascular disease        &  1\\\\\n",
       "\t congenital disorder           &  2\\\\\n",
       "\t control                       &  5\\\\\n",
       "\t dementia                      &  2\\\\\n",
       "\t epilepsy                      & 35\\\\\n",
       "\t healthy family member         & 15\\\\\n",
       "\t kidney and urological disease & 28\\\\\n",
       "\t liver disease                 &  5\\\\\n",
       "\t obsessive compulsive disorder &  5\\\\\n",
       "\t other                         &  1\\\\\n",
       "\t other neurological disease    &  3\\\\\n",
       "\t pulmonary disease             &  2\\\\\n",
       "\\end{tabular}\n"
      ],
      "text/markdown": [
       "\n",
       "A data.frame: 13 × 2\n",
       "\n",
       "| Var1 &lt;fct&gt; | Freq &lt;int&gt; |\n",
       "|---|---|\n",
       "| amyotrophic lateral sclerosis |  8 |\n",
       "| cardiovascular disease        |  1 |\n",
       "| congenital disorder           |  2 |\n",
       "| control                       |  5 |\n",
       "| dementia                      |  2 |\n",
       "| epilepsy                      | 35 |\n",
       "| healthy family member         | 15 |\n",
       "| kidney and urological disease | 28 |\n",
       "| liver disease                 |  5 |\n",
       "| obsessive compulsive disorder |  5 |\n",
       "| other                         |  1 |\n",
       "| other neurological disease    |  3 |\n",
       "| pulmonary disease             |  2 |\n",
       "\n"
      ],
      "text/plain": [
       "   Var1                          Freq\n",
       "1  amyotrophic lateral sclerosis  8  \n",
       "2  cardiovascular disease         1  \n",
       "3  congenital disorder            2  \n",
       "4  control                        5  \n",
       "5  dementia                       2  \n",
       "6  epilepsy                      35  \n",
       "7  healthy family member         15  \n",
       "8  kidney and urological disease 28  \n",
       "9  liver disease                  5  \n",
       "10 obsessive compulsive disorder  5  \n",
       "11 other                          1  \n",
       "12 other neurological disease     3  \n",
       "13 pulmonary disease              2  "
      ]
     },
     "metadata": {},
     "output_type": "display_data"
    },
    {
     "data": {
      "text/html": [
       "<table class=\"dataframe\">\n",
       "<caption>A data.frame: 11 × 2</caption>\n",
       "<thead>\n",
       "\t<tr><th scope=col>Var1</th><th scope=col>Freq</th></tr>\n",
       "\t<tr><th scope=col>&lt;fct&gt;</th><th scope=col>&lt;int&gt;</th></tr>\n",
       "</thead>\n",
       "<tbody>\n",
       "\t<tr><td>brain malformation           </td><td> 1</td></tr>\n",
       "\t<tr><td>congenital disorder          </td><td> 5</td></tr>\n",
       "\t<tr><td>control                      </td><td> 8</td></tr>\n",
       "\t<tr><td>dementia                     </td><td> 5</td></tr>\n",
       "\t<tr><td>epilepsy                     </td><td>17</td></tr>\n",
       "\t<tr><td>fetal ultrasound anomaly     </td><td> 1</td></tr>\n",
       "\t<tr><td>healthy family member        </td><td>14</td></tr>\n",
       "\t<tr><td>kidney and urological disease</td><td>24</td></tr>\n",
       "\t<tr><td>obsessive compulsive disorder</td><td> 1</td></tr>\n",
       "\t<tr><td>other neurological disease   </td><td> 2</td></tr>\n",
       "\t<tr><td>pulmonary disease            </td><td> 6</td></tr>\n",
       "</tbody>\n",
       "</table>\n"
      ],
      "text/latex": [
       "A data.frame: 11 × 2\n",
       "\\begin{tabular}{ll}\n",
       " Var1 & Freq\\\\\n",
       " <fct> & <int>\\\\\n",
       "\\hline\n",
       "\t brain malformation            &  1\\\\\n",
       "\t congenital disorder           &  5\\\\\n",
       "\t control                       &  8\\\\\n",
       "\t dementia                      &  5\\\\\n",
       "\t epilepsy                      & 17\\\\\n",
       "\t fetal ultrasound anomaly      &  1\\\\\n",
       "\t healthy family member         & 14\\\\\n",
       "\t kidney and urological disease & 24\\\\\n",
       "\t obsessive compulsive disorder &  1\\\\\n",
       "\t other neurological disease    &  2\\\\\n",
       "\t pulmonary disease             &  6\\\\\n",
       "\\end{tabular}\n"
      ],
      "text/markdown": [
       "\n",
       "A data.frame: 11 × 2\n",
       "\n",
       "| Var1 &lt;fct&gt; | Freq &lt;int&gt; |\n",
       "|---|---|\n",
       "| brain malformation            |  1 |\n",
       "| congenital disorder           |  5 |\n",
       "| control                       |  8 |\n",
       "| dementia                      |  5 |\n",
       "| epilepsy                      | 17 |\n",
       "| fetal ultrasound anomaly      |  1 |\n",
       "| healthy family member         | 14 |\n",
       "| kidney and urological disease | 24 |\n",
       "| obsessive compulsive disorder |  1 |\n",
       "| other neurological disease    |  2 |\n",
       "| pulmonary disease             |  6 |\n",
       "\n"
      ],
      "text/plain": [
       "   Var1                          Freq\n",
       "1  brain malformation             1  \n",
       "2  congenital disorder            5  \n",
       "3  control                        8  \n",
       "4  dementia                       5  \n",
       "5  epilepsy                      17  \n",
       "6  fetal ultrasound anomaly       1  \n",
       "7  healthy family member         14  \n",
       "8  kidney and urological disease 24  \n",
       "9  obsessive compulsive disorder  1  \n",
       "10 other neurological disease     2  \n",
       "11 pulmonary disease              6  "
      ]
     },
     "metadata": {},
     "output_type": "display_data"
    },
    {
     "data": {
      "text/html": [
       "<table class=\"dataframe\">\n",
       "<caption>A data.frame: 8 × 2</caption>\n",
       "<thead>\n",
       "\t<tr><th scope=col>Var1</th><th scope=col>Freq</th></tr>\n",
       "\t<tr><th scope=col>&lt;fct&gt;</th><th scope=col>&lt;int&gt;</th></tr>\n",
       "</thead>\n",
       "<tbody>\n",
       "\t<tr><td>amyotrophic lateral sclerosis</td><td> 4</td></tr>\n",
       "\t<tr><td>control                      </td><td> 6</td></tr>\n",
       "\t<tr><td>dementia                     </td><td> 2</td></tr>\n",
       "\t<tr><td>epilepsy                     </td><td>49</td></tr>\n",
       "\t<tr><td>healthy family member        </td><td> 1</td></tr>\n",
       "\t<tr><td>kidney and urological disease</td><td> 2</td></tr>\n",
       "\t<tr><td>obsessive compulsive disorder</td><td> 1</td></tr>\n",
       "\t<tr><td>pulmonary disease            </td><td> 4</td></tr>\n",
       "</tbody>\n",
       "</table>\n"
      ],
      "text/latex": [
       "A data.frame: 8 × 2\n",
       "\\begin{tabular}{ll}\n",
       " Var1 & Freq\\\\\n",
       " <fct> & <int>\\\\\n",
       "\\hline\n",
       "\t amyotrophic lateral sclerosis &  4\\\\\n",
       "\t control                       &  6\\\\\n",
       "\t dementia                      &  2\\\\\n",
       "\t epilepsy                      & 49\\\\\n",
       "\t healthy family member         &  1\\\\\n",
       "\t kidney and urological disease &  2\\\\\n",
       "\t obsessive compulsive disorder &  1\\\\\n",
       "\t pulmonary disease             &  4\\\\\n",
       "\\end{tabular}\n"
      ],
      "text/markdown": [
       "\n",
       "A data.frame: 8 × 2\n",
       "\n",
       "| Var1 &lt;fct&gt; | Freq &lt;int&gt; |\n",
       "|---|---|\n",
       "| amyotrophic lateral sclerosis |  4 |\n",
       "| control                       |  6 |\n",
       "| dementia                      |  2 |\n",
       "| epilepsy                      | 49 |\n",
       "| healthy family member         |  1 |\n",
       "| kidney and urological disease |  2 |\n",
       "| obsessive compulsive disorder |  1 |\n",
       "| pulmonary disease             |  4 |\n",
       "\n"
      ],
      "text/plain": [
       "  Var1                          Freq\n",
       "1 amyotrophic lateral sclerosis  4  \n",
       "2 control                        6  \n",
       "3 dementia                       2  \n",
       "4 epilepsy                      49  \n",
       "5 healthy family member          1  \n",
       "6 kidney and urological disease  2  \n",
       "7 obsessive compulsive disorder  1  \n",
       "8 pulmonary disease              4  "
      ]
     },
     "metadata": {},
     "output_type": "display_data"
    },
    {
     "data": {
      "text/html": [
       "<table class=\"dataframe\">\n",
       "<caption>A data.frame: 14 × 2</caption>\n",
       "<thead>\n",
       "\t<tr><th scope=col>Var1</th><th scope=col>Freq</th></tr>\n",
       "\t<tr><th scope=col>&lt;fct&gt;</th><th scope=col>&lt;int&gt;</th></tr>\n",
       "</thead>\n",
       "<tbody>\n",
       "\t<tr><td>                             </td><td> 1</td></tr>\n",
       "\t<tr><td>amyotrophic lateral sclerosis</td><td> 6</td></tr>\n",
       "\t<tr><td>congenital disorder          </td><td> 1</td></tr>\n",
       "\t<tr><td>control                      </td><td> 5</td></tr>\n",
       "\t<tr><td>covid-19                     </td><td> 1</td></tr>\n",
       "\t<tr><td>dementia                     </td><td> 4</td></tr>\n",
       "\t<tr><td>epilepsy                     </td><td>10</td></tr>\n",
       "\t<tr><td>fetal ultrasound anomaly     </td><td> 1</td></tr>\n",
       "\t<tr><td>healthy family member        </td><td> 8</td></tr>\n",
       "\t<tr><td>kidney and urological disease</td><td>14</td></tr>\n",
       "\t<tr><td>obsessive compulsive disorder</td><td> 3</td></tr>\n",
       "\t<tr><td>other                        </td><td> 1</td></tr>\n",
       "\t<tr><td>other neurological disease   </td><td> 2</td></tr>\n",
       "\t<tr><td>pulmonary disease            </td><td> 6</td></tr>\n",
       "</tbody>\n",
       "</table>\n"
      ],
      "text/latex": [
       "A data.frame: 14 × 2\n",
       "\\begin{tabular}{ll}\n",
       " Var1 & Freq\\\\\n",
       " <fct> & <int>\\\\\n",
       "\\hline\n",
       "\t                               &  1\\\\\n",
       "\t amyotrophic lateral sclerosis &  6\\\\\n",
       "\t congenital disorder           &  1\\\\\n",
       "\t control                       &  5\\\\\n",
       "\t covid-19                      &  1\\\\\n",
       "\t dementia                      &  4\\\\\n",
       "\t epilepsy                      & 10\\\\\n",
       "\t fetal ultrasound anomaly      &  1\\\\\n",
       "\t healthy family member         &  8\\\\\n",
       "\t kidney and urological disease & 14\\\\\n",
       "\t obsessive compulsive disorder &  3\\\\\n",
       "\t other                         &  1\\\\\n",
       "\t other neurological disease    &  2\\\\\n",
       "\t pulmonary disease             &  6\\\\\n",
       "\\end{tabular}\n"
      ],
      "text/markdown": [
       "\n",
       "A data.frame: 14 × 2\n",
       "\n",
       "| Var1 &lt;fct&gt; | Freq &lt;int&gt; |\n",
       "|---|---|\n",
       "| <!----> |  1 |\n",
       "| amyotrophic lateral sclerosis |  6 |\n",
       "| congenital disorder           |  1 |\n",
       "| control                       |  5 |\n",
       "| covid-19                      |  1 |\n",
       "| dementia                      |  4 |\n",
       "| epilepsy                      | 10 |\n",
       "| fetal ultrasound anomaly      |  1 |\n",
       "| healthy family member         |  8 |\n",
       "| kidney and urological disease | 14 |\n",
       "| obsessive compulsive disorder |  3 |\n",
       "| other                         |  1 |\n",
       "| other neurological disease    |  2 |\n",
       "| pulmonary disease             |  6 |\n",
       "\n"
      ],
      "text/plain": [
       "   Var1                          Freq\n",
       "1                                 1  \n",
       "2  amyotrophic lateral sclerosis  6  \n",
       "3  congenital disorder            1  \n",
       "4  control                        5  \n",
       "5  covid-19                       1  \n",
       "6  dementia                       4  \n",
       "7  epilepsy                      10  \n",
       "8  fetal ultrasound anomaly       1  \n",
       "9  healthy family member          8  \n",
       "10 kidney and urological disease 14  \n",
       "11 obsessive compulsive disorder  3  \n",
       "12 other                          1  \n",
       "13 other neurological disease     2  \n",
       "14 pulmonary disease              6  "
      ]
     },
     "metadata": {},
     "output_type": "display_data"
    },
    {
     "data": {
      "text/html": [
       "<table class=\"dataframe\">\n",
       "<caption>A data.frame: 12 × 2</caption>\n",
       "<thead>\n",
       "\t<tr><th scope=col>Var1</th><th scope=col>Freq</th></tr>\n",
       "\t<tr><th scope=col>&lt;fct&gt;</th><th scope=col>&lt;int&gt;</th></tr>\n",
       "</thead>\n",
       "<tbody>\n",
       "\t<tr><td>amyotrophic lateral sclerosis   </td><td>15</td></tr>\n",
       "\t<tr><td>control                         </td><td> 5</td></tr>\n",
       "\t<tr><td>dementia                        </td><td> 5</td></tr>\n",
       "\t<tr><td>epilepsy                        </td><td> 4</td></tr>\n",
       "\t<tr><td>healthy family member           </td><td> 9</td></tr>\n",
       "\t<tr><td>infectious disease              </td><td> 1</td></tr>\n",
       "\t<tr><td>kidney and urological disease   </td><td>12</td></tr>\n",
       "\t<tr><td>liver disease                   </td><td> 1</td></tr>\n",
       "\t<tr><td>obsessive compulsive disorder   </td><td> 3</td></tr>\n",
       "\t<tr><td>other neurodevelopmental disease</td><td> 1</td></tr>\n",
       "\t<tr><td>pulmonary disease               </td><td> 2</td></tr>\n",
       "\t<tr><td>schizophrenia                   </td><td> 1</td></tr>\n",
       "</tbody>\n",
       "</table>\n"
      ],
      "text/latex": [
       "A data.frame: 12 × 2\n",
       "\\begin{tabular}{ll}\n",
       " Var1 & Freq\\\\\n",
       " <fct> & <int>\\\\\n",
       "\\hline\n",
       "\t amyotrophic lateral sclerosis    & 15\\\\\n",
       "\t control                          &  5\\\\\n",
       "\t dementia                         &  5\\\\\n",
       "\t epilepsy                         &  4\\\\\n",
       "\t healthy family member            &  9\\\\\n",
       "\t infectious disease               &  1\\\\\n",
       "\t kidney and urological disease    & 12\\\\\n",
       "\t liver disease                    &  1\\\\\n",
       "\t obsessive compulsive disorder    &  3\\\\\n",
       "\t other neurodevelopmental disease &  1\\\\\n",
       "\t pulmonary disease                &  2\\\\\n",
       "\t schizophrenia                    &  1\\\\\n",
       "\\end{tabular}\n"
      ],
      "text/markdown": [
       "\n",
       "A data.frame: 12 × 2\n",
       "\n",
       "| Var1 &lt;fct&gt; | Freq &lt;int&gt; |\n",
       "|---|---|\n",
       "| amyotrophic lateral sclerosis    | 15 |\n",
       "| control                          |  5 |\n",
       "| dementia                         |  5 |\n",
       "| epilepsy                         |  4 |\n",
       "| healthy family member            |  9 |\n",
       "| infectious disease               |  1 |\n",
       "| kidney and urological disease    | 12 |\n",
       "| liver disease                    |  1 |\n",
       "| obsessive compulsive disorder    |  3 |\n",
       "| other neurodevelopmental disease |  1 |\n",
       "| pulmonary disease                |  2 |\n",
       "| schizophrenia                    |  1 |\n",
       "\n"
      ],
      "text/plain": [
       "   Var1                             Freq\n",
       "1  amyotrophic lateral sclerosis    15  \n",
       "2  control                           5  \n",
       "3  dementia                          5  \n",
       "4  epilepsy                          4  \n",
       "5  healthy family member             9  \n",
       "6  infectious disease                1  \n",
       "7  kidney and urological disease    12  \n",
       "8  liver disease                     1  \n",
       "9  obsessive compulsive disorder     3  \n",
       "10 other neurodevelopmental disease  1  \n",
       "11 pulmonary disease                 2  \n",
       "12 schizophrenia                     1  "
      ]
     },
     "metadata": {},
     "output_type": "display_data"
    },
    {
     "data": {
      "text/html": [
       "<table class=\"dataframe\">\n",
       "<caption>A data.frame: 9 × 2</caption>\n",
       "<thead>\n",
       "\t<tr><th scope=col>Var1</th><th scope=col>Freq</th></tr>\n",
       "\t<tr><th scope=col>&lt;fct&gt;</th><th scope=col>&lt;int&gt;</th></tr>\n",
       "</thead>\n",
       "<tbody>\n",
       "\t<tr><td>control                      </td><td> 1</td></tr>\n",
       "\t<tr><td>dementia                     </td><td> 1</td></tr>\n",
       "\t<tr><td>epilepsy                     </td><td>14</td></tr>\n",
       "\t<tr><td>gastrointestinal disease     </td><td> 1</td></tr>\n",
       "\t<tr><td>healthy family member        </td><td> 7</td></tr>\n",
       "\t<tr><td>kidney and urological disease</td><td>30</td></tr>\n",
       "\t<tr><td>liver disease                </td><td> 1</td></tr>\n",
       "\t<tr><td>obsessive compulsive disorder</td><td> 1</td></tr>\n",
       "\t<tr><td>schizophrenia                </td><td> 1</td></tr>\n",
       "</tbody>\n",
       "</table>\n"
      ],
      "text/latex": [
       "A data.frame: 9 × 2\n",
       "\\begin{tabular}{ll}\n",
       " Var1 & Freq\\\\\n",
       " <fct> & <int>\\\\\n",
       "\\hline\n",
       "\t control                       &  1\\\\\n",
       "\t dementia                      &  1\\\\\n",
       "\t epilepsy                      & 14\\\\\n",
       "\t gastrointestinal disease      &  1\\\\\n",
       "\t healthy family member         &  7\\\\\n",
       "\t kidney and urological disease & 30\\\\\n",
       "\t liver disease                 &  1\\\\\n",
       "\t obsessive compulsive disorder &  1\\\\\n",
       "\t schizophrenia                 &  1\\\\\n",
       "\\end{tabular}\n"
      ],
      "text/markdown": [
       "\n",
       "A data.frame: 9 × 2\n",
       "\n",
       "| Var1 &lt;fct&gt; | Freq &lt;int&gt; |\n",
       "|---|---|\n",
       "| control                       |  1 |\n",
       "| dementia                      |  1 |\n",
       "| epilepsy                      | 14 |\n",
       "| gastrointestinal disease      |  1 |\n",
       "| healthy family member         |  7 |\n",
       "| kidney and urological disease | 30 |\n",
       "| liver disease                 |  1 |\n",
       "| obsessive compulsive disorder |  1 |\n",
       "| schizophrenia                 |  1 |\n",
       "\n"
      ],
      "text/plain": [
       "  Var1                          Freq\n",
       "1 control                        1  \n",
       "2 dementia                       1  \n",
       "3 epilepsy                      14  \n",
       "4 gastrointestinal disease       1  \n",
       "5 healthy family member          7  \n",
       "6 kidney and urological disease 30  \n",
       "7 liver disease                  1  \n",
       "8 obsessive compulsive disorder  1  \n",
       "9 schizophrenia                  1  "
      ]
     },
     "metadata": {},
     "output_type": "display_data"
    }
   ],
   "source": [
    "table2\n",
    "EP400\n",
    "KMT2B\n",
    "TRRAP\n",
    "HTT\n",
    "ATXN2\n",
    "NABP2"
   ]
  },
  {
   "cell_type": "code",
   "execution_count": null,
   "id": "ffcb3222",
   "metadata": {
    "vscode": {
     "languageId": "r"
    }
   },
   "outputs": [],
   "source": []
  }
 ],
 "metadata": {
  "kernelspec": {
   "display_name": "R",
   "language": "R",
   "name": "ir"
  },
  "language_info": {
   "codemirror_mode": "r",
   "file_extension": ".r",
   "mimetype": "text/x-r-source",
   "name": "R",
   "pygments_lexer": "r",
   "version": "4.2.1"
  }
 },
 "nbformat": 4,
 "nbformat_minor": 5
}
