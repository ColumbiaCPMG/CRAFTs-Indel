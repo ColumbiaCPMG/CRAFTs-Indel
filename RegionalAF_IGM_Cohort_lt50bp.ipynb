{
 "cells": [
  {
   "cell_type": "markdown",
   "id": "47c3f8c7",
   "metadata": {},
   "source": [
    "# Regional Allele Frequency Calculation script for the IGM dataset\n",
    "\n",
    "Step 1: Pull the data from IGM ATAV database for unrelated samples available for control use"
   ]
  },
  {
   "cell_type": "markdown",
   "id": "e7e37855",
   "metadata": {},
   "source": [
    "ATAV command:\n",
    "atav_7.4.sh --list-var-geno --exclude-artifacts --exclude-snv --gene-boundary /nfs/goldstein/software/atav_home/data/ccds/addjusted.CCDS.genes.index.r20.hg19.ensembl87.txt --het-percent-alt-read 0.2-0.8 --sample 2023-03-23_n39367_IGM_cohort.txt --out /nfs/labs/gharavi/sk4759/RecurrentIndels/IGM_n39367_indels\n",
    "\n",
    "Database server: db11 (0 running jobs)\n",
    "\n",
    "Total samples: 39367 (0 cases and 39367 controls)\n",
    "\n",
    "Start running list variant genotype function\n",
    "\n",
    "\n",
    "\n",
    "Total runtime: 129470 seconds (aka 2157 minutes or 35 hours)"
   ]
  },
  {
   "cell_type": "markdown",
   "id": "201c1288",
   "metadata": {},
   "source": [
    "Step 2.1: Filter the large file into smaller dataset by selecting fewer columns\n",
    "\n",
    "\n"
   ]
  },
  {
   "cell_type": "code",
   "execution_count": null,
   "id": "cfcba556",
   "metadata": {},
   "outputs": [],
   "source": [
    "#!command csvcut -c 1,9,23,58,63 2023-03-24_11-47-14_IGM_n39367_indels_genotypes.csv >2023-03-24_11-47-14_IGM_n39367_indels_genotypes_selectcols.csv"
   ]
  },
  {
   "cell_type": "markdown",
   "id": "c041422e",
   "metadata": {},
   "source": [
    "Step 2.2: Format the data from comma delimiter to tab delimiter and add appropriate header"
   ]
  },
  {
   "cell_type": "code",
   "execution_count": null,
   "id": "08e65483",
   "metadata": {},
   "outputs": [],
   "source": [
    "!command cut -d, -f1,4,5 2023-03-24_11-47-14_IGM_n39367_indels_genotypes_selectcols.csv | sed 's/-/\\t/g;s/,/\\t/g' | sort -u | grep -v \"Variant ID\" >2023-03-23_IGM_n39367_unique_indel_ordered_noheader.csv\n",
    "!command echo -e \"CHR\\tPOS\\tREF\\tALT\\tAN\\tAC\" >header.txt\n",
    "!command cat header.txt 2023-03-23_IGM_n39367_unique_indel_ordered_noheader.csv >2023-03-23_IGM_n39367_unique_indel_ordered.csv\n",
    "!command rm 2023-03-23_IGM_n39367_unique_indel_ordered_noheader.csv header.txt\n"
   ]
  },
  {
   "cell_type": "markdown",
   "metadata": {},
   "source": [
    "Step 3: Create BINs for different genomic ranges (10bp,20bp,30bp,40bp)\n",
    "\n",
    "i) Load the file using pandas"
   ]
  },
  {
   "cell_type": "code",
   "execution_count": null,
   "id": "9e9ca04d",
   "metadata": {},
   "outputs": [],
   "source": [
    "import pandas as pd\n",
    "from functools import reduce\n",
    "df=pd.read_csv(\"2023-03-23_IGM_n39367_unique_indel_ordered.csv\",sep=\"\\t\",low_memory=False,dtype={'CHR': 'str', 'POS': 'str','REF':'str','ALT':'str','AC':'int'})\n"
   ]
  },
  {
   "cell_type": "code",
   "execution_count": null,
   "id": "9c91c816",
   "metadata": {},
   "outputs": [],
   "source": [
    "df['indel_length'] = abs(df['REF'].astype(str).map(len)-df['ALT'].astype(str).map(len))\n",
    "df = df[df['indel_length']<51]\n",
    "df = df.reset_index(drop= True)"
   ]
  },
  {
   "cell_type": "code",
   "execution_count": null,
   "id": "3467a6f4",
   "metadata": {},
   "outputs": [],
   "source": [
    "def cluster(pos_list, gap):\n",
    "    maxgap=gap/2\n",
    "    pos=pos_list.astype(int)\n",
    "    pos.sort_values(ascending=True, inplace=True)\n",
    "    groups = [[list(pos)[0]]]\n",
    "    for x in pos[1:]:\n",
    "        if abs(x - groups[-1][-1]) <= maxgap:\n",
    "            groups[-1].append(x)\n",
    "        else:\n",
    "            groups.append([x])\n",
    "    return groups\n",
    "\n",
    "def group_ids(pairs,chr,bp):\n",
    "    groups = cluster(pairs['POS'], bp)\n",
    "    d = {}\n",
    "    for i, group in enumerate(sorted(groups)):\n",
    "        for elem in group:\n",
    "            d[elem] = \"chr\"+str(chr)+\"_\"+str(i)\n",
    "    return d"
   ]
  },
  {
   "cell_type": "code",
   "execution_count": null,
   "id": "879e8223",
   "metadata": {
    "scrolled": true
   },
   "outputs": [],
   "source": [
    "chrom=df['CHR'].unique()\n",
    "bp=[10,20,30,40]\n",
    "\n",
    "chrom_output=[]\n",
    "creategroups={}\n",
    "binned_groups={}\n",
    "for i in chrom:\n",
    "    print(i)\n",
    "    input=df[df[\"CHR\"]==i]\n",
    "    for j in bp:\n",
    "        creategroups[j]=group_ids(input,i,j)\n",
    "        binned_groups[j] = pd.DataFrame(creategroups[j].items(), columns=['POS',\"GID_bp\"+str(j)])\n",
    "        binned_groups[j]['POS']=binned_groups[j]['POS'].astype(str)\n",
    "        \n",
    "    #define list of DataFrames\n",
    "    dfs = [input,binned_groups[10], binned_groups[20], binned_groups[30], binned_groups[40]]\n",
    "    \n",
    "    #merge all dataframes into one\n",
    "    final_df = reduce(lambda  left,right: pd.merge(left,right,on=['POS'], how='outer'), dfs)\n",
    "    #create bin level AC\n",
    "    for j in bp:\n",
    "        final_df[\"AC_bp\"+str(j)]= final_df['AC'].groupby(final_df[\"GID_bp\"+str(j)]).transform('sum')\n",
    "    chrom_output.append(final_df)\n",
    "IGM_rAF = pd.concat(chrom_output)"
   ]
  },
  {
   "cell_type": "markdown",
   "id": "ba5abab9",
   "metadata": {},
   "source": [
    "Step 4: Calculate sAF = AC/AN"
   ]
  },
  {
   "cell_type": "code",
   "execution_count": null,
   "id": "906448c2",
   "metadata": {},
   "outputs": [],
   "source": [
    "IGM_rAF['sAF'] = IGM_rAF['AC']/IGM_rAF['AN']"
   ]
  },
  {
   "cell_type": "markdown",
   "id": "6d4be0f4",
   "metadata": {},
   "source": [
    "Step 5: Calculate rAN value for different values by getting the mean of AN of the indels inside the same bin, Use the rAN to calculate rAF = rAC/rAN"
   ]
  },
  {
   "cell_type": "code",
   "execution_count": null,
   "id": "ecec0dcb",
   "metadata": {},
   "outputs": [],
   "source": [
    "for j in bp:\n",
    "    IGM_rAF[\"AN_bp\"+str(j)] = IGM_rAF.groupby(['CHR',\"GID_bp\"+str(j)])['AN'].transform('mean')\n",
    "    IGM_rAF[\"rAF_bp\"+str(j)] = IGM_rAF[\"AC_bp\"+str(j)]/IGM_rAF[\"AN_bp\"+str(j)]\n"
   ]
  },
  {
   "cell_type": "markdown",
   "id": "1c697c8a",
   "metadata": {},
   "source": [
    "Step 5: Save the output to a file"
   ]
  },
  {
   "cell_type": "code",
   "execution_count": null,
   "id": "eb7f4df3",
   "metadata": {},
   "outputs": [],
   "source": [
    "IGM_rAF.to_csv(\"2023-03-23_IGM_n39367_indelsonly_rAF_lt50bp.csv\",index = False)"
   ]
  },
  {
   "cell_type": "markdown",
   "id": "c8d9468e",
   "metadata": {},
   "source": [
    "Step 6: Subset for suspicious indels (SI) (sAF ≤ 10^-4 & rAF > 10^-4) "
   ]
  },
  {
   "cell_type": "code",
   "execution_count": null,
   "id": "f452dc7b",
   "metadata": {},
   "outputs": [],
   "source": [
    "si_AF=0.0001\n",
    "IGM_rAF_SI={}\n",
    "for i in bp:\n",
    "    IGM_rAF_SI[i] = IGM_rAF[ (IGM_rAF['sAF']<=si_AF) & (IGM_rAF[\"rAF_bp\"+str(i)]>si_AF) ]\n",
    "    IGM_rAF_SI[i].to_csv(\"2023-03-23_IGM_n39367_indelsonly_rAF_bp\"+str(i)+\"_SuspiciousIndels.lt50bp.csv\",index = False)\n"
   ]
  }
 ],
 "metadata": {
  "kernelspec": {
   "display_name": "Python 3 (ipykernel)",
   "language": "python",
   "name": "python3"
  },
  "language_info": {
   "codemirror_mode": {
    "name": "ipython",
    "version": 3
   },
   "file_extension": ".py",
   "mimetype": "text/x-python",
   "name": "python",
   "nbconvert_exporter": "python",
   "pygments_lexer": "ipython3",
   "version": "3.9.16"
  }
 },
 "nbformat": 4,
 "nbformat_minor": 5
}
