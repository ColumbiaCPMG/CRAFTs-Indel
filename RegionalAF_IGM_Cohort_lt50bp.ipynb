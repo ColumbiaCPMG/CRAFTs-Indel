{
 "cells": [
  {
   "cell_type": "markdown",
   "id": "47c3f8c7",
   "metadata": {},
   "source": [
    "# Regional Allele Frequency Calculation script for the IGM dataset\n",
    "\n",
    "Step 1: Pull the data from IGM ATAV database for unrelated samples available for control use"
   ]
  },
  {
   "cell_type": "markdown",
   "id": "e7e37855",
   "metadata": {},
   "source": [
    "ATAV command:\n",
    "atav_7.4.sh --list-var-geno --exclude-artifacts --exclude-snv --gene-boundary /nfs/goldstein/software/atav_home/data/ccds/addjusted.CCDS.genes.index.r20.hg19.ensembl87.txt --het-percent-alt-read 0.2-0.8 --sample 2023-03-23_n39367_IGM_cohort.txt --out /nfs/labs/gharavi/sk4759/RecurrentIndels/IGM_n39367_indels\n",
    "\n",
    "Database server: db11 (0 running jobs)\n",
    "\n",
    "Total samples: 39367 (0 cases and 39367 controls)\n",
    "\n",
    "Start running list variant genotype function\n",
    "\n",
    "\n",
    "\n",
    "Total runtime: 129470 seconds (aka 2157 minutes or 35 hours)"
   ]
  },
  {
   "cell_type": "markdown",
   "id": "201c1288",
   "metadata": {},
   "source": [
    "Step 2.1: Filter the large file into smaller dataset by selecting fewer columns\n",
    "\n",
    "\n"
   ]
  },
  {
   "cell_type": "code",
   "execution_count": null,
   "id": "cfcba556",
   "metadata": {},
   "outputs": [],
   "source": [
    "#select columns Variant ID,Genename,Sample ID, AC,Covered Controls\n",
    "#!command csvcut -c 1,9,23,58,63 2023-03-24_11-47-14_IGM_n39367_indels_genotypes.csv >2023-03-24_11-47-14_IGM_n39367_indels_genotypes_selectcols.csv\n",
    "\n",
    "#!command csvcut -c 1,7,9 2023-03-24_11-47-14_IGM_n39367_indels_genotypes.csv | sort -u | grep -v \"Variant ID\" >2023-03-24_11-47-14_IGM_n39367_indels_genotypes_effects_noheader.csv\n",
    "#!command echo -e \"CHR,POS,REF,ALT,Effect,Gene_Name\" >header.txt\n",
    "#!command cat header.txt 2023-03-24_11-47-14_IGM_n39367_indels_genotypes_effects_noheader.csv >2023-03-24_11-47-14_IGM_n39367_indels_genotypes_effects.csv \n",
    "#!command rm 2023-03-24_11-47-14_IGM_n39367_indels_genotypes_effects_noheader.csv header.txt"
   ]
  },
  {
   "cell_type": "markdown",
   "id": "c041422e",
   "metadata": {},
   "source": [
    "Step 2.2: Format the data from comma delimiter to tab delimiter and add appropriate header"
   ]
  },
  {
   "cell_type": "code",
   "execution_count": null,
   "id": "08e65483",
   "metadata": {},
   "outputs": [],
   "source": [
    "!command cut -d, -f1,4,5 2023-03-24_11-47-14_IGM_n39367_indels_genotypes_selectcols.csv | sed 's/-/\\t/g;s/,/\\t/g' | sort -u | grep -v \"Variant ID\" >2023-03-23_IGM_n39367_unique_indel_ordered_noheader.tsv\n",
    "!command echo -e \"CHR\\tPOS\\tREF\\tALT\\tAN\\tAC\" >header.txt\n",
    "!command cat header.txt 2023-03-23_IGM_n39367_unique_indel_ordered_noheader.tsv >2023-03-23_IGM_n39367_unique_indel_ordered.tsv\n",
    "!command rm 2023-03-23_IGM_n39367_unique_indel_ordered_noheader.tsv header.txt"
   ]
  },
  {
   "cell_type": "markdown",
   "id": "f697edcc",
   "metadata": {},
   "source": [
    "Setting up paramters"
   ]
  },
  {
   "cell_type": "code",
   "execution_count": null,
   "id": "a58de6da",
   "metadata": {},
   "outputs": [],
   "source": [
    "input_file=\"2023-03-23_IGM_n39367_unique_indel_ordered.csv\"\n",
    "out_prefix=\"2023-03-23_IGM_n39367_indelsonly_rAF\"\n",
    "#lo frequency cut off\n",
    "AF=0.0001\n",
    "#Genomic Ranges\n",
    "bp=[10,20,30,40]"
   ]
  },
  {
   "cell_type": "markdown",
   "id": "37b28f5a",
   "metadata": {},
   "source": [
    "Step 3: Create BINs for different genomic ranges (10bp,20bp,30bp,40bp)\n",
    "\n",
    "i) Load the file using pandas"
   ]
  },
  {
   "cell_type": "code",
   "execution_count": null,
   "id": "9e9ca04d",
   "metadata": {},
   "outputs": [],
   "source": [
    "import pandas as pd\n",
    "from functools import reduce\n",
    "df=pd.read_csv(input_file,sep=\"\\t\",low_memory=False,dtype={'CHR': 'str', 'POS': 'str','REF':'str','ALT':'str','AN':'int','AC':'int'})"
   ]
  },
  {
   "cell_type": "code",
   "execution_count": null,
   "id": "9c91c816",
   "metadata": {},
   "outputs": [],
   "source": [
    "df['indel_length'] = abs(df['REF'].astype(str).map(len)-df['ALT'].astype(str).map(len))\n",
    "df = df[df['indel_length']<51]\n",
    "df = df.reset_index(drop= True)"
   ]
  },
  {
   "cell_type": "code",
   "execution_count": null,
   "id": "3467a6f4",
   "metadata": {},
   "outputs": [],
   "source": [
    "def cluster(pos_list, gap):\n",
    "    maxgap=gap/2\n",
    "    pos=pos_list.astype(int)\n",
    "    pos.sort_values(ascending=True, inplace=True)\n",
    "    groups = [[list(pos)[0]]]\n",
    "    for x in pos[1:]:\n",
    "        if abs(x - groups[-1][-1]) <= maxgap:\n",
    "            groups[-1].append(x)\n",
    "        else:\n",
    "            groups.append([x])\n",
    "    return groups\n",
    "\n",
    "def group_ids(pairs,chr,bp):\n",
    "    groups = cluster(pairs['POS'], bp)\n",
    "    d = {}\n",
    "    for i, group in enumerate(sorted(groups)):\n",
    "        for elem in group:\n",
    "            d[elem] = \"chr\"+str(chr)+\"_\"+str(i)\n",
    "    return d"
   ]
  },
  {
   "cell_type": "code",
   "execution_count": null,
   "id": "879e8223",
   "metadata": {
    "scrolled": true
   },
   "outputs": [],
   "source": [
    "chrom=df['CHR'].unique()\n",
    "\n",
    "chrom_output=[]\n",
    "creategroups={}\n",
    "binned_groups={}\n",
    "for i in chrom:\n",
    "    input=df[df[\"CHR\"]==i]\n",
    "    for j in bp:\n",
    "        creategroups[j]=group_ids(input,i,j)\n",
    "        binned_groups[j] = pd.DataFrame(creategroups[j].items(), columns=['POS',\"GID_bp\"+str(j)])\n",
    "        binned_groups[j]['POS']=binned_groups[j]['POS'].astype(str)\n",
    "        \n",
    "    #define list of DataFrames\n",
    "    dfs = [input,binned_groups[10], binned_groups[20], binned_groups[30], binned_groups[40]]\n",
    "    \n",
    "    #merge all dataframes into one\n",
    "    final_df = reduce(lambda  left,right: pd.merge(left,right,on=['POS'], how='outer'), dfs)\n",
    "    #create bin level AC\n",
    "    for j in bp:\n",
    "        final_df[\"AC_bp\"+str(j)]= final_df['AC'].groupby(final_df[\"GID_bp\"+str(j)]).transform('sum')\n",
    "    chrom_output.append(final_df)\n",
    "df_rAF = pd.concat(chrom_output)"
   ]
  },
  {
   "cell_type": "markdown",
   "id": "ba5abab9",
   "metadata": {},
   "source": [
    "Step 4: Calculate sAF = AC/AN (For IGM data set, have to multiply AN by 2 to account for the fact that the AN column represents individuals not number of covered alternate alleles) "
   ]
  },
  {
   "cell_type": "code",
   "execution_count": null,
   "id": "906448c2",
   "metadata": {},
   "outputs": [],
   "source": [
    "df_rAF['sAF'] = (df_rAF['AC']/df_rAF['AN'])/2"
   ]
  },
  {
   "cell_type": "markdown",
   "id": "6d4be0f4",
   "metadata": {},
   "source": [
    "Step 5: Calculate rAN value for different values by getting the mean of AN of the indels inside the same bin, Use the rAN to calculate rAF = rAC/rAN (For IGM data set, have to multiply AN by 2 to account for the fact that the AN column represents individuals not the number of covered alternate alleles) "
   ]
  },
  {
   "cell_type": "code",
   "execution_count": null,
   "id": "ecec0dcb",
   "metadata": {},
   "outputs": [],
   "source": [
    "for j in bp:\n",
    "    df_rAF[\"AN_bp\"+str(j)] = df_rAF.groupby(['CHR',\"GID_bp\"+str(j)])['AN'].transform('mean')\n",
    "    df_rAF[\"rAF_bp\"+str(j)] = (df_rAF[\"AC_bp\"+str(j)]/df_rAF[\"AN_bp\"+str(j)])/2\n"
   ]
  },
  {
   "cell_type": "markdown",
   "id": "1c697c8a",
   "metadata": {},
   "source": [
    "Step 5: Save the output to a file"
   ]
  },
  {
   "cell_type": "code",
   "execution_count": null,
   "id": "eb7f4df3",
   "metadata": {},
   "outputs": [],
   "source": [
    "#Recreate the VarID column to further use\n",
    "df_rAF['VarID'] = df_rAF['CHR']+\"-\"+df_rAF['POS']+\"-\"+df_rAF['REF']+\"-\"+df_rAF['ALT']\n",
    "# Remove columns 'CHR', 'POS', 'REF', 'ALT' for reducing file size. \n",
    "#df_rAF=df_rAF.drop(['CHR', 'POS','REF','ALT'], axis=1)\n",
    "df_rAF = df_rAF[ ['VarID'] + [ col for col in df_rAF.columns if col != 'VarID' ] ]\n",
    "df_rAF.to_csv(out_prefix+\"_lt50bp.csv\",index = False)"
   ]
  },
  {
   "cell_type": "markdown",
   "id": "c8d9468e",
   "metadata": {},
   "source": [
    "Step 6: Subset for rAF-hi (sAF ≤ 10^-4 & rAF > 10^-4) "
   ]
  },
  {
   "cell_type": "code",
   "execution_count": null,
   "id": "f452dc7b",
   "metadata": {},
   "outputs": [],
   "source": [
    "df_rAF_hi={}\n",
    "for i in bp:\n",
    "    df_rAF_hi[i] = df_rAF[ (df_rAF['sAF']<=AF) & (df_rAF[\"rAF_bp\"+str(i)]>AF) ]\n",
    "    df_rAF_hi[i].to_csv(out_prefix+\"_bp\"+str(i)+\"_rAF_hiIndels.lt50bp.csv\",index = False)\n"
   ]
  },
  {
   "cell_type": "markdown",
   "id": "821f8741",
   "metadata": {},
   "source": [
    "Step 7: Subset for rAF-lo indels (sAF ≤ 10^-4 & rAF ≤ 10^-4)"
   ]
  },
  {
   "cell_type": "code",
   "execution_count": null,
   "id": "2d3824e5",
   "metadata": {},
   "outputs": [],
   "source": [
    "df_rAF_lo={}\n",
    "for i in bp:\n",
    "    df_rAF_lo[i] = df_rAF[ (df_rAF['sAF']<=AF) & (df_rAF[\"rAF_bp\"+str(i)]<=AF) ]\n",
    "    df_rAF_lo[i].to_csv(out_prefix+\"_bp\"+str(i)+\"_rAF_loIndels.lt50bp.csv\",index = False)\n"
   ]
  },
  {
   "cell_type": "markdown",
   "id": "2ebf5975",
   "metadata": {},
   "source": [
    "Step 8: Subset for sAF-hi indels (sAF > 10^-4)"
   ]
  },
  {
   "cell_type": "code",
   "execution_count": null,
   "id": "bf27fc35",
   "metadata": {},
   "outputs": [],
   "source": [
    "df_sAF_hi={}\n",
    "for i in bp:\n",
    "    df_sAF_hi[i] = df_rAF[ (df_rAF['sAF']>AF) ]\n",
    "    df_sAF_hi[i].to_csv(out_prefix+\"_bp\"+str(i)+\"_sAF_hiIndels.lt50bp.csv\",index = False)\n"
   ]
  },
  {
   "cell_type": "code",
   "execution_count": null,
   "id": "7ee3e43c",
   "metadata": {},
   "outputs": [],
   "source": [
    "df_rAF_hi_bin={}\n",
    "df_rAF_hi_bin_bed={}\n",
    "for i in bp:\n",
    "    df_rAF_hi_bin[i] = df_rAF[df_rAF['GID_bp'+str(i)].isin(df_rAF_hi[i]['GID_bp'+str(i)].unique())]\n",
    "    df_rAF_hi_bin_bed[i] = df_rAF_hi_bin[i].groupby([\"GID_bp\"+str(i)])['POS'].agg(['min', 'max'])\n",
    "    df_rAF_hi_bin_bed[i]['index'] = df_rAF_hi_bin_bed[i].index\n",
    "    df_rAF_hi_bin_bed[i]['Chr'] = df_rAF_hi_bin_bed[i]['index'].str.split('_',expand=True)[0].str.replace('chr' , '')\n",
    "    df_rAF_hi_bin_bed[i] = df_rAF_hi_bin_bed[i].drop(['index'],axis=1)\n",
    "    df_rAF_hi_bin_bed[i].columns = ['Start', 'End','Chr']\n",
    "    df_rAF_hi_bin_bed[i] = df_rAF_hi_bin_bed[i][['Chr','Start','End']]\n",
    "    df_rAF_hi_bin_bed[i] = df_rAF_hi_bin_bed[i].sort_values(by=['Chr'], ascending=True)\n",
    "    df_rAF_hi_bin_bed[i].to_csv(out_prefix+\"_bp\"+str(i)+\"_rAF_hiIndels.lt50bp.region.bed\",index = False,sep='\\t')\n"
   ]
  },
  {
   "cell_type": "markdown",
   "id": "176afaec",
   "metadata": {},
   "source": [
    "#Generate bed files for region with rAF-lo indels"
   ]
  },
  {
   "cell_type": "code",
   "execution_count": null,
   "id": "961cfea7",
   "metadata": {},
   "outputs": [],
   "source": [
    "df_rAF_lo_bin={}\n",
    "df_rAF_lo_bin_bed={}\n",
    "for i in bp:\n",
    "    df_rAF_lo_bin[i] = df_rAF[df_rAF['GID_bp'+str(i)].isin(df_rAF_lo[i]['GID_bp'+str(i)].unique())]\n",
    "    df_rAF_lo_bin_bed[i] = df_rAF_lo_bin[i].groupby([\"GID_bp\"+str(i)])['POS'].agg(['min', 'max'])\n",
    "    df_rAF_lo_bin_bed[i]['index'] = df_rAF_lo_bin_bed[i].index\n",
    "    df_rAF_lo_bin_bed[i]['Chr'] = df_rAF_lo_bin_bed[i]['index'].str.split('_',expand=True)[0].str.replace('chr' , '')\n",
    "    df_rAF_lo_bin_bed[i] = df_rAF_lo_bin_bed[i].drop(['index'],axis=1)\n",
    "    df_rAF_lo_bin_bed[i].columns = ['Start', 'End','Chr']\n",
    "    df_rAF_lo_bin_bed[i] = df_rAF_lo_bin_bed[i][['Chr','Start','End']]\n",
    "    df_rAF_lo_bin_bed[i] = df_rAF_lo_bin_bed[i].sort_values(by=['Chr'], ascending=True)\n",
    "    df_rAF_lo_bin_bed[i].to_csv(out_prefix+\"_bp\"+str(i)+\"_rAF_loIndels.lt50bp.region.bed\",index = False,sep='\\t')\n"
   ]
  },
  {
   "cell_type": "markdown",
   "id": "83d27c63",
   "metadata": {},
   "source": [
    "#Generate bed files for region with sAF-hi indels"
   ]
  },
  {
   "cell_type": "code",
   "execution_count": null,
   "id": "1613fda7",
   "metadata": {},
   "outputs": [],
   "source": [
    "df_sAF_hi_bin={}\n",
    "df_sAF_hi_bin_bed={}\n",
    "for i in bp:\n",
    "    df_sAF_hi_bin[i] = df_rAF[df_rAF['GID_bp'+str(i)].isin(df_sAF_hi[i]['GID_bp'+str(i)].unique())]\n",
    "    df_sAF_hi_bin_bed[i] = df_sAF_hi_bin[i].groupby([\"GID_bp\"+str(i)])['POS'].agg(['min', 'max'])\n",
    "    df_sAF_hi_bin_bed[i]['index'] = df_sAF_hi_bin_bed[i].index\n",
    "    df_sAF_hi_bin_bed[i]['Chr'] = df_sAF_hi_bin_bed[i]['index'].str.split('_',expand=True)[0].str.replace('chr' , '')\n",
    "    df_sAF_hi_bin_bed[i] = df_sAF_hi_bin_bed[i].drop(['index'],axis=1)\n",
    "    df_sAF_hi_bin_bed[i].columns = ['Start', 'End','Chr']\n",
    "    df_sAF_hi_bin_bed[i] = df_sAF_hi_bin_bed[i][['Chr','Start','End']]\n",
    "    df_sAF_hi_bin_bed[i] = df_sAF_hi_bin_bed[i].sort_values(by=['Chr'], ascending=True)\n",
    "    df_sAF_hi_bin_bed[i].to_csv(out_prefix+\"_bp\"+str(i)+\"_sAF_hiIndels.lt50bp.region.bed\",index = False,sep='\\t')"
   ]
  }
 ],
 "metadata": {
  "kernelspec": {
   "display_name": "Python 3 (ipykernel)",
   "language": "python",
   "name": "python3"
  },
  "language_info": {
   "codemirror_mode": {
    "name": "ipython",
    "version": 3
   },
   "file_extension": ".py",
   "mimetype": "text/x-python",
   "name": "python",
   "nbconvert_exporter": "python",
   "pygments_lexer": "ipython3",
   "version": "3.10.9"
  }
 },
 "nbformat": 4,
 "nbformat_minor": 5
}
