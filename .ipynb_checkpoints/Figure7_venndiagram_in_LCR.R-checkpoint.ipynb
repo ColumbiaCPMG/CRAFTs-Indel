{
 "cells": [
  {
   "cell_type": "markdown",
   "id": "6d8e9ff9",
   "metadata": {},
   "source": [
    "# Figure 7: Venn Diagram"
   ]
  },
  {
   "cell_type": "code",
   "execution_count": 1,
   "id": "7edff544",
   "metadata": {},
   "outputs": [],
   "source": [
    "setwd (\"\")"
   ]
  },
  {
   "cell_type": "markdown",
   "id": "a501f79d",
   "metadata": {},
   "source": [
    "Step 0: Make sure that the format of the bedfiles are all good "
   ]
  },
  {
   "cell_type": "code",
   "execution_count": 2,
   "id": "461e85b5",
   "metadata": {},
   "outputs": [
    {
     "data": {
      "text/html": [],
      "text/latex": [],
      "text/markdown": [],
      "text/plain": [
       "character(0)"
      ]
     },
     "metadata": {},
     "output_type": "display_data"
    }
   ],
   "source": [
    "system('cut -f 1,2,3 -d \"\\t\" UKBB/UKBB_rAF_hi_regions_10bp_CHGR37.bed | awk -F\"\\t\" \\'{gsub(\"chr\", \"\", $1)}1\\' OFS=\"\\t\" > UKBB/UKBB_rAF_hi_regions_10bp_CHGR37_formatted.bed', intern = TRUE)\n"
   ]
  },
  {
   "cell_type": "markdown",
   "id": "bcc1f286",
   "metadata": {},
   "source": [
    "Step 1: Find the regions that do overlap with LCR "
   ]
  },
  {
   "cell_type": "code",
   "execution_count": 3,
   "id": "e9966b68",
   "metadata": {},
   "outputs": [
    {
     "data": {
      "text/html": [
       "'/Users/sy3115/Library/CloudStorage/OneDrive-ColumbiaUniversityIrvingMedicalCenter/rAF_scripts_and_inputs/PublicationReady_Data'"
      ],
      "text/latex": [
       "'/Users/sy3115/Library/CloudStorage/OneDrive-ColumbiaUniversityIrvingMedicalCenter/rAF\\_scripts\\_and\\_inputs/PublicationReady\\_Data'"
      ],
      "text/markdown": [
       "'/Users/sy3115/Library/CloudStorage/OneDrive-ColumbiaUniversityIrvingMedicalCenter/rAF_scripts_and_inputs/PublicationReady_Data'"
      ],
      "text/plain": [
       "[1] \"/Users/sy3115/Library/CloudStorage/OneDrive-ColumbiaUniversityIrvingMedicalCenter/rAF_scripts_and_inputs/PublicationReady_Data\""
      ]
     },
     "metadata": {},
     "output_type": "display_data"
    },
    {
     "data": {
      "text/html": [],
      "text/latex": [],
      "text/markdown": [],
      "text/plain": [
       "character(0)"
      ]
     },
     "metadata": {},
     "output_type": "display_data"
    },
    {
     "data": {
      "text/html": [],
      "text/latex": [],
      "text/markdown": [],
      "text/plain": [
       "character(0)"
      ]
     },
     "metadata": {},
     "output_type": "display_data"
    },
    {
     "data": {
      "text/html": [],
      "text/latex": [],
      "text/markdown": [],
      "text/plain": [
       "character(0)"
      ]
     },
     "metadata": {},
     "output_type": "display_data"
    }
   ],
   "source": [
    "system(\"pwd\", intern = TRUE)\n",
    "\n",
    "system(\"bedtools intersect -a gnomAD/gnomad.exomes.r2.1.1.sites_indelsonly_rAF_bp10_rAF_hiIndels.lt50bp.region.bed -b LCR/GRCh37_AllTandemRepeatsandHomopolymers_slop5.bed | sort -k1,1 -k2,2n -k3,3n  | uniq > venn/gnomAD_10bp_rAF_hi_LCR_37.bed\", intern = TRUE)\n",
    "\n",
    "system(\"bedtools intersect -a IGM/2023-03-23_IGM_n39367_indelsonly_rAF_bp10_rAF_hiIndels.lt50bp.region.bed -b LCR/GRCh37_AllTandemRepeatsandHomopolymers_slop5.bed | sort -k1,1 -k2,2n -k3,3n  | uniq  > venn/IGM_10bp_rAF_hi_LCR_37.bed\", intern = TRUE)\n",
    "\n",
    "system(\"bedtools intersect -a UKBB/UKBB_rAF_hi_regions_10bp_CHGR37_formatted.bed -b LCR/GRCh37_AllTandemRepeatsandHomopolymers_slop5.bed | sort -k1,1 -k2,2n -k3,3n  | uniq  > venn/UKBB_10bp_rAF_hi_LCR_37.bed\", intern = TRUE)\n"
   ]
  },
  {
   "cell_type": "markdown",
   "id": "18dcba09",
   "metadata": {},
   "source": [
    "Step 2: Find the regions that are in all three data sets. Let's call this X."
   ]
  },
  {
   "cell_type": "code",
   "execution_count": 4,
   "id": "91485127",
   "metadata": {},
   "outputs": [
    {
     "data": {
      "text/html": [],
      "text/latex": [],
      "text/markdown": [],
      "text/plain": [
       "character(0)"
      ]
     },
     "metadata": {},
     "output_type": "display_data"
    },
    {
     "data": {
      "text/html": [],
      "text/latex": [],
      "text/markdown": [],
      "text/plain": [
       "character(0)"
      ]
     },
     "metadata": {},
     "output_type": "display_data"
    }
   ],
   "source": [
    "system(\"bedtools intersect -a venn/gnomAD_10bp_rAF_hi_LCR_37.bed -b venn/IGM_10bp_rAF_hi_LCR_37.bed | sort -k1,1 -k2,2n -k3,3n  | uniq > venn/gnomAD_v_IGM_LCR.bed\", intern = TRUE)\n",
    "\n",
    "system(\"bedtools intersect -a venn/gnomAD_v_IGM_LCR.bed -b venn/UKBB_10bp_rAF_hi_LCR_37.bed | sort -k1,1 -k2,2n -k3,3n  | uniq > venn/X_LCR.bed\", intern = TRUE)"
   ]
  },
  {
   "cell_type": "markdown",
   "id": "094d28ee",
   "metadata": {},
   "source": [
    "Step 3: Find these 3 intersecting regions\n",
    "\n",
    "    1) gnomAD v. IGM (Let's call this the D and X region)\n",
    "    \n",
    "    2) IGM v. UKBB (Let's call this the E and X region)\n",
    "    \n",
    "    3) gnomAD v. UKBB (Let's call this the F and X region)"
   ]
  },
  {
   "cell_type": "code",
   "execution_count": 5,
   "id": "f412ec6f",
   "metadata": {},
   "outputs": [
    {
     "data": {
      "text/html": [],
      "text/latex": [],
      "text/markdown": [],
      "text/plain": [
       "character(0)"
      ]
     },
     "metadata": {},
     "output_type": "display_data"
    },
    {
     "data": {
      "text/html": [],
      "text/latex": [],
      "text/markdown": [],
      "text/plain": [
       "character(0)"
      ]
     },
     "metadata": {},
     "output_type": "display_data"
    },
    {
     "data": {
      "text/html": [],
      "text/latex": [],
      "text/markdown": [],
      "text/plain": [
       "character(0)"
      ]
     },
     "metadata": {},
     "output_type": "display_data"
    }
   ],
   "source": [
    "system(\"bedtools intersect -a venn/gnomAD_10bp_rAF_hi_LCR_37.bed -b venn/IGM_10bp_rAF_hi_LCR_37.bed | sort -k1,1 -k2,2n -k3,3n  | uniq > venn/D_and_X_LCR.bed\", intern = TRUE)\n",
    "\n",
    "system(\"bedtools intersect -a venn/IGM_10bp_rAF_hi_LCR_37.bed -b venn/UKBB_10bp_rAF_hi_LCR_37.bed | sort -k1,1 -k2,2n -k3,3n  | uniq > venn/E_and_X_LCR.bed\", intern = TRUE)\n",
    "\n",
    "system(\"bedtools intersect -a venn/gnomAD_10bp_rAF_hi_LCR_37.bed -b venn/UKBB_10bp_rAF_hi_LCR_37.bed | sort -k1,1 -k2,2n -k3,3n  | uniq > venn/F_and_X_LCR.bed\", intern = TRUE)"
   ]
  },
  {
   "cell_type": "markdown",
   "id": "5e4aa628",
   "metadata": {},
   "source": [
    "Step 4: Read in all the files! Time to do some calculations. "
   ]
  },
  {
   "cell_type": "code",
   "execution_count": 6,
   "id": "a34c491a",
   "metadata": {},
   "outputs": [
    {
     "name": "stderr",
     "output_type": "stream",
     "text": [
      "── \u001b[1mAttaching core tidyverse packages\u001b[22m ─────────────────────────────────────────────────────────────────── tidyverse 2.0.0 ──\n",
      "\u001b[32m✔\u001b[39m \u001b[34mdplyr    \u001b[39m 1.1.3     \u001b[32m✔\u001b[39m \u001b[34mreadr    \u001b[39m 2.1.4\n",
      "\u001b[32m✔\u001b[39m \u001b[34mforcats  \u001b[39m 1.0.0     \u001b[32m✔\u001b[39m \u001b[34mstringr  \u001b[39m 1.5.0\n",
      "\u001b[32m✔\u001b[39m \u001b[34mggplot2  \u001b[39m 3.4.3     \u001b[32m✔\u001b[39m \u001b[34mtibble   \u001b[39m 3.2.1\n",
      "\u001b[32m✔\u001b[39m \u001b[34mlubridate\u001b[39m 1.9.2     \u001b[32m✔\u001b[39m \u001b[34mtidyr    \u001b[39m 1.3.0\n",
      "\u001b[32m✔\u001b[39m \u001b[34mpurrr    \u001b[39m 1.0.2     \n",
      "── \u001b[1mConflicts\u001b[22m ───────────────────────────────────────────────────────────────────────────────────── tidyverse_conflicts() ──\n",
      "\u001b[31m✖\u001b[39m \u001b[34mdplyr\u001b[39m::\u001b[32mfilter()\u001b[39m masks \u001b[34mstats\u001b[39m::filter()\n",
      "\u001b[31m✖\u001b[39m \u001b[34mdplyr\u001b[39m::\u001b[32mlag()\u001b[39m    masks \u001b[34mstats\u001b[39m::lag()\n",
      "\u001b[36mℹ\u001b[39m Use the conflicted package (\u001b[3m\u001b[34m<http://conflicted.r-lib.org/>\u001b[39m\u001b[23m) to force all conflicts to become errors\n",
      "\n",
      "Attaching package: ‘data.table’\n",
      "\n",
      "\n",
      "The following objects are masked from ‘package:lubridate’:\n",
      "\n",
      "    hour, isoweek, mday, minute, month, quarter, second, wday, week,\n",
      "    yday, year\n",
      "\n",
      "\n",
      "The following objects are masked from ‘package:dplyr’:\n",
      "\n",
      "    between, first, last\n",
      "\n",
      "\n",
      "The following object is masked from ‘package:purrr’:\n",
      "\n",
      "    transpose\n",
      "\n",
      "\n"
     ]
    }
   ],
   "source": [
    "library(tidyverse)\n",
    "library(data.table)\n",
    "library(readxl)\n",
    "library(dplyr)\n",
    "library(stringr)"
   ]
  },
  {
   "cell_type": "code",
   "execution_count": 7,
   "id": "1e5bf175",
   "metadata": {},
   "outputs": [],
   "source": [
    "gnomAD_tot = fread(\"venn/gnomAD_10bp_rAF_hi_LCR_37.bed\")\n",
    "IGM_tot = fread(\"venn/IGM_10bp_rAF_hi_LCR_37.bed\")\n",
    "UKBB_tot = fread(\"venn/UKBB_10bp_rAF_hi_LCR_37.bed\")\n",
    "\n",
    "X = fread(\"venn/X_LCR.bed\")\n",
    "\n",
    "D_and_X = fread(\"venn/D_and_X_LCR.bed\")\n",
    "E_and_X = fread(\"venn/E_and_X_LCR.bed\")\n",
    "F_and_X = fread(\"venn/F_and_X_LCR.bed\")"
   ]
  },
  {
   "cell_type": "code",
   "execution_count": 8,
   "id": "40d75a4b",
   "metadata": {},
   "outputs": [
    {
     "name": "stdout",
     "output_type": "stream",
     "text": [
      "[1] \"This is A: 93472\"\n",
      "[1] \"This is B: 13511\"\n",
      "[1] \"This is C: 12356\"\n",
      "[1] \"This is D: 11908\"\n",
      "[1] \"This is E: 743\"\n",
      "[1] \"This is F: 5821\"\n",
      "[1] \"This is X: 1972\"\n"
     ]
    }
   ],
   "source": [
    "\n",
    "## Calculate the pos col\n",
    "\n",
    "gnomAD_tot$bp_length = gnomAD_tot$V3 - gnomAD_tot$V2 + 1\n",
    "IGM_tot$bp_length = IGM_tot$V3 - IGM_tot$V2 + 1 \n",
    "UKBB_tot$bp_length = UKBB_tot$V3 - UKBB_tot$V2 + 1 \n",
    "\n",
    "X$bp_length = X$V3 - X$V2 + 1\n",
    "\n",
    "D_and_X$bp_length = D_and_X$V3 - D_and_X$V2 + 1 \n",
    "E_and_X$bp_length = E_and_X$V3 - E_and_X$V2 + 1\n",
    "F_and_X$bp_length = F_and_X$V3 - F_and_X$V2 + 1\n",
    "\n",
    "## sum up the column \n",
    "\n",
    "gnomAD_num = sum(gnomAD_tot$bp_length)\n",
    "IGM_num = sum(IGM_tot$bp_length)\n",
    "UKBB_num = sum(UKBB_tot$bp_length)\n",
    "\n",
    "X_num = sum(X$bp_length)\n",
    "\n",
    "D_and_X_num = sum(D_and_X$bp_length)\n",
    "E_and_X_num = sum(E_and_X$bp_length)\n",
    "F_and_X_num = sum(F_and_X$bp_length)\n",
    "\n",
    "## find actual numbers \n",
    "D_num = D_and_X_num - X_num\n",
    "E_num = E_and_X_num - X_num\n",
    "F_num = F_and_X_num - X_num \n",
    "\n",
    "A_num = gnomAD_num - D_num - F_num - X_num\n",
    "B_num = IGM_num - D_num - E_num - X_num\n",
    "C_num = UKBB_num - E_num - F_num - X_num\n",
    "  \n",
    "# print\n",
    "print (paste0(\"This is A: \" , A_num))\n",
    "print (paste0(\"This is B: \" , B_num))\n",
    "print (paste0(\"This is C: \" , C_num))\n",
    "print (paste0(\"This is D: \" , D_num))\n",
    "print (paste0(\"This is E: \" , E_num))\n",
    "print (paste0(\"This is F: \" , F_num))\n",
    "print (paste0(\"This is X: \" , X_num))\n",
    "\n"
   ]
  },
  {
   "cell_type": "code",
   "execution_count": null,
   "id": "cc49188e",
   "metadata": {},
   "outputs": [],
   "source": []
  }
 ],
 "metadata": {
  "kernelspec": {
   "display_name": "R",
   "language": "R",
   "name": "ir"
  },
  "language_info": {
   "codemirror_mode": "r",
   "file_extension": ".r",
   "mimetype": "text/x-r-source",
   "name": "R",
   "pygments_lexer": "r",
   "version": "4.2.1"
  }
 },
 "nbformat": 4,
 "nbformat_minor": 5
}
