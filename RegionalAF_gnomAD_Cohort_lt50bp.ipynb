{
 "cells": [
  {
   "cell_type": "markdown",
   "id": "c2e72913",
   "metadata": {},
   "source": [
    "# Regional Allele Frequency Calculation script for the gnomAD dataset\n",
    "\n",
    "*Step 1:* Download gnomAD v2.1 exome data from: https://gnomad.broadinstitute.org/downloads"
   ]
  },
  {
   "cell_type": "code",
   "execution_count": null,
   "id": "50fa3675",
   "metadata": {},
   "outputs": [],
   "source": [
    "#!command wget https://gnomad-public-us-east-1.s3.amazonaws.com/release/2.1.1/vcf/exomes/gnomad.exomes.r2.1.1.sites.vcf.bgz\n",
    "#!command wget https://gnomad-public-us-east-1.s3.amazonaws.com/release/2.1.1/vcf/exomes/gnomad.exomes.r2.1.1.sites.vcf.bgz.tbi"
   ]
  },
  {
   "cell_type": "markdown",
   "id": "4474ab9d",
   "metadata": {},
   "source": [
    "Step 2: Using BCFtools filter the gnomAD file for indels only, select required columns and also create another file with Gene Symbols"
   ]
  },
  {
   "cell_type": "code",
   "execution_count": null,
   "id": "70d2d7f5",
   "metadata": {},
   "outputs": [],
   "source": [
    "\n",
    "#!command bcftools view --include 'TYPE=\"INDEL\"' gnomad.exomes.r2.1.1.sites.vcf.bgz -O b >gnomad.exomes.r2.1.1.sites_indelsonly.vcf.gz\n",
    "\n",
    "#Saving a file with AC & AN columns\n",
    "!command bcftools query -f '%CHROM\\t%POS\\t%REF\\t%ALT\\t%AC\\t%AN\\n' gnomad.exomes.r2.1.1.sites_indelsonly.vcf.gz >gnomad.exomes.r2.1.1.sites_indelsonly_AC_AN_noheader.txt\n",
    "!command echo -e \"CHR\\tPOS\\tREF\\tALT\\tAC\\tAN\" >header.txt\n",
    "!command cat header.txt gnomad.exomes.r2.1.1.sites_indelsonly_AC_AN_noheader.txt >gnomad.exomes.r2.1.1.sites_indelsonly_AC_AN.txt\n",
    "!command rm gnomad.exomes.r2.1.1.sites_indelsonly_AC_AN_noheader.txt header.txt\n",
    "\n",
    "#Saving another file with associated gene names \n",
    "!command bcftools +split-vep gnomad.exomes.r2.1.1.sites_indelsonly.vcf.gz -f '%CHROM\\t%POS\\t%REF\\t%ALT\\t%SYMBOL\\n' -a vep | cut -d, -f1 >gnomad.exomes.r2.1.1.sites_indelsonly.vcf_withFIRSTSYMBOL_noheader.txt\n",
    "!command echo -e \"CHR\\tPOS\\tREF\\tALT\\tSYMBOL\" >header.txt\n",
    "!command cat header.txt gnomad.exomes.r2.1.1.sites_indelsonly.vcf_withFIRSTSYMBOL_noheader.txt >gnomad.exomes.r2.1.1.sites_indelsonly.vcf_withFIRSTSYMBOL.txt\n",
    "!command rm gnomad.exomes.r2.1.1.sites_indelsonly.vcf_withFIRSTSYMBOL_noheader.txt header.txt\n"
   ]
  },
  {
   "cell_type": "markdown",
   "id": "90a3f21a",
   "metadata": {},
   "source": [
    "Setting up paramters"
   ]
  },
  {
   "cell_type": "code",
   "execution_count": null,
   "id": "8a19efcb",
   "metadata": {},
   "outputs": [],
   "source": [
    "input_file=\"gnomad.exomes.r2.1.1.sites_indelsonly_AC_AN.txt\"\n",
    "out_prefix=\"gnomad.exomes.r2.1.1.sites_indelsonly_rAF\"\n",
    "#rare frequency cut off\n",
    "AF=0.0001\n",
    "#Genomic Ranges\n",
    "bp=[10,20,30,40]"
   ]
  },
  {
   "cell_type": "markdown",
   "id": "a7d1a903",
   "metadata": {},
   "source": [
    "Step 3: Create BINs for different genomic ranges (10bp,20bp,30bp,40bp)\n",
    "\n",
    "i) Load the file using pandas"
   ]
  },
  {
   "cell_type": "code",
   "execution_count": null,
   "id": "26b75df1",
   "metadata": {},
   "outputs": [],
   "source": [
    "import pandas as pd\n",
    "from functools import reduce\n",
    "df=pd.read_csv(input_file,sep=\"\\t\",dtype={'CHR': 'str', 'POS': 'int','REF':'str','ALT':'str','AC':'int','AN':'int'})"
   ]
  },
  {
   "cell_type": "code",
   "execution_count": null,
   "id": "7f150594",
   "metadata": {},
   "outputs": [],
   "source": [
    "df = df[df['AN'] != 0 ]\n",
    "df = df[df['AC'] != 0]\n",
    "df['indel_length'] = abs(df['REF'].astype(str).map(len)-df['ALT'].astype(str).map(len))\n",
    "df = df[df['indel_length']<51]\n",
    "df = df.reset_index(drop= True)"
   ]
  },
  {
   "cell_type": "markdown",
   "id": "f98b4904",
   "metadata": {},
   "source": [
    "ii) Functions to group indels falling within the given region into same bins and assign a unique bin ID"
   ]
  },
  {
   "cell_type": "code",
   "execution_count": null,
   "id": "d6705dba",
   "metadata": {},
   "outputs": [],
   "source": [
    "def cluster(pos_list, gap):\n",
    "    maxgap=gap/2\n",
    "    pos=pos_list.astype(int)\n",
    "    pos.sort_values(ascending=True, inplace=True)\n",
    "    groups = [[list(pos)[0]]]\n",
    "    for x in pos[1:]:\n",
    "        if abs(x - groups[-1][-1]) <= maxgap:\n",
    "            groups[-1].append(x)\n",
    "        else:\n",
    "            groups.append([x])\n",
    "    return groups\n",
    "\n",
    "def group_ids(pairs,chr,bp):\n",
    "    groups = cluster(pairs['POS'], bp)\n",
    "    d = {}\n",
    "    for i, group in enumerate(sorted(groups)):\n",
    "        for elem in group:\n",
    "            d[elem] = \"chr\"+str(chr)+\"_\"+str(i)\n",
    "    return d\n"
   ]
  },
  {
   "cell_type": "code",
   "execution_count": null,
   "id": "48922f28",
   "metadata": {},
   "outputs": [],
   "source": [
    "chrom=df['CHR'].unique()\n",
    "\n",
    "chrom_output=[]\n",
    "creategroups={}\n",
    "binned_groups={}\n",
    "for i in chrom:\n",
    "    input=df[df[\"CHR\"]==i]\n",
    "    for j in bp:\n",
    "        creategroups[j]=group_ids(input,i,j)\n",
    "        binned_groups[j] = pd.DataFrame(creategroups[j].items(), columns=['POS',\"GID_bp\"+str(j)])\n",
    "        binned_groups[j]['POS']=binned_groups[j]['POS'].astype(int)\n",
    "        \n",
    "    #define list of DataFrames\n",
    "    dfs = [input,binned_groups[10], binned_groups[20], binned_groups[30], binned_groups[40]]\n",
    "    \n",
    "    #merge all dataframes into one\n",
    "    final_df = reduce(lambda  left,right: pd.merge(left,right,on=['POS'], how='outer'), dfs)\n",
    "    #create bin level AC\n",
    "    for j in bp:\n",
    "        final_df[\"AC_bp\"+str(j)]= final_df['AC'].groupby(final_df[\"GID_bp\"+str(j)]).transform('sum')\n",
    "    chrom_output.append(final_df)\n",
    "df_rAF = pd.concat(chrom_output)\n",
    "df_rAF['POS']=df_rAF['POS'].astype(str)"
   ]
  },
  {
   "cell_type": "markdown",
   "id": "e64d0923",
   "metadata": {},
   "source": [
    "Step 4: Calculate sAF = AC/AN"
   ]
  },
  {
   "cell_type": "code",
   "execution_count": null,
   "id": "4025d76a",
   "metadata": {},
   "outputs": [],
   "source": [
    "df_rAF['sAF'] = (df_rAF['AC']/df_rAF['AN'])/2"
   ]
  },
  {
   "cell_type": "markdown",
   "id": "6a8d04cc",
   "metadata": {},
   "source": [
    "Step 5: Calculate rAN value for different values by getting the mean of AN of the indels inside the same bin, Use the rAN to calculate rAF = rAC/rAN"
   ]
  },
  {
   "cell_type": "code",
   "execution_count": null,
   "id": "022961cc",
   "metadata": {},
   "outputs": [],
   "source": [
    "for j in bp:\n",
    "    df_rAF[\"AN_bp\"+str(j)] = df_rAF.groupby(['CHR',\"GID_bp\"+str(j)])['AN'].transform('mean')\n",
    "    df_rAF[\"rAF_bp\"+str(j)] = (df_rAF[\"AC_bp\"+str(j)]/df_rAF[\"AN_bp\"+str(j)])/2\n"
   ]
  },
  {
   "cell_type": "markdown",
   "id": "039af8fb",
   "metadata": {},
   "source": [
    "Step 5: Save the output to a file"
   ]
  },
  {
   "cell_type": "code",
   "execution_count": null,
   "id": "22e02ad5",
   "metadata": {},
   "outputs": [],
   "source": [
    "#Recreate the VarID column to further use\n",
    "df_rAF['VarID'] = df_rAF['CHR']+\"-\"+df_rAF['POS']+\"-\"+df_rAF['REF']+\"-\"+df_rAF['ALT']\n",
    "# Remove columns 'CHR', 'POS', 'REF', 'ALT' for reducing file size. \n",
    "df_rAF=df_rAF.drop(['CHR', 'POS','REF','ALT'], axis=1)\n",
    "df_rAF = df_rAF[ ['VarID'] + [ col for col in df_rAF.columns if col != 'VarID' ] ]\n",
    "\n",
    "df_rAF.to_csv(out_prefix+\"_lt50bp.csv\",index = False)"
   ]
  },
  {
   "cell_type": "markdown",
   "id": "bbafd84a",
   "metadata": {},
   "source": [
    "Step 6: Subset for suspicious indels (SI) (sAF ≤ 10^-4 & rAF > 10^-4) "
   ]
  },
  {
   "cell_type": "code",
   "execution_count": null,
   "id": "3914fcb7",
   "metadata": {},
   "outputs": [],
   "source": [
    "df_rAF_SI={}\n",
    "for i in bp:\n",
    "    df_rAF_SI[i] = df_rAF[ (df_rAF['sAF']<=AF) & (df_rAF[\"rAF_bp\"+str(i)]>AF) ]\n",
    "    df_rAF_SI[i].to_csv(out_prefix+\"_bp\"+str(i)+\"_SuspiciousIndels.lt50bp.csv\",index = False)\n"
   ]
  },
  {
   "cell_type": "markdown",
   "id": "4fa01fa2",
   "metadata": {},
   "source": [
    "Step 7: Subset for rare indels (sAF ≤ 10^-4 & rAF ≤ 10^-4)"
   ]
  },
  {
   "cell_type": "code",
   "execution_count": null,
   "id": "283d3f57",
   "metadata": {},
   "outputs": [],
   "source": [
    "df_rAF_rare={}\n",
    "for i in bp:\n",
    "    df_rAF_rare[i] = df_rAF[ (df_rAF['sAF']<=AF) & (df_rAF[\"rAF_bp\"+str(i)]<=AF) ]\n",
    "    df_rAF_rare[i].to_csv(out_prefix+\"_bp\"+str(i)+\"_RareIndels.lt50bp.csv\",index = False)\n"
   ]
  },
  {
   "cell_type": "markdown",
   "id": "866be1d0",
   "metadata": {},
   "source": [
    "Step 8: Subset for common indels (sAF > 10^-4)"
   ]
  },
  {
   "cell_type": "code",
   "execution_count": null,
   "id": "cd069656",
   "metadata": {},
   "outputs": [],
   "source": [
    "df_rAF_common={}\n",
    "for i in bp:\n",
    "    df_rAF_common[i] = df_rAF[ (df_rAF['sAF']>AF) ]\n",
    "    df_rAF_common[i].to_csv(out_prefix+\"_bp\"+str(i)+\"_CommonIndels.lt50bp.csv\",index = False)\n"
   ]
  },
  {
   "cell_type": "code",
   "execution_count": null,
   "id": "2a5890fc",
   "metadata": {},
   "outputs": [],
   "source": [
    "df_rAF\n"
   ]
  }
 ],
 "metadata": {
  "interpreter": {
   "hash": "31f2aee4e71d21fbe5cf8b01ff0e069b9275f58929596ceb00d14d90e3e16cd6"
  },
  "kernelspec": {
   "display_name": "Python 3 (ipykernel)",
   "language": "python",
   "name": "python3"
  },
  "language_info": {
   "codemirror_mode": {
    "name": "ipython",
    "version": 3
   },
   "file_extension": ".py",
   "mimetype": "text/x-python",
   "name": "python",
   "nbconvert_exporter": "python",
   "pygments_lexer": "ipython3",
   "version": "3.9.16"
  }
 },
 "nbformat": 4,
 "nbformat_minor": 5
}
