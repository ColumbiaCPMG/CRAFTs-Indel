{
 "cells": [
  {
   "cell_type": "markdown",
   "id": "e84f299e",
   "metadata": {},
   "source": [
    "# step 1\n",
    "\n",
    "### Using the data from UKBIO Bank (input_file)"
   ]
  },
  {
   "cell_type": "markdown",
   "id": "6fac6321",
   "metadata": {},
   "source": [
    "Setting up parameters "
   ]
  },
  {
   "cell_type": "code",
   "execution_count": 1,
   "id": "4edd4cb8",
   "metadata": {},
   "outputs": [],
   "source": [
    "input_file = r\"rAF_scripts_and_inputs/PublicationReady_Data/UKBB/UKBB_n442734_Indels.tsv\"\n",
    "out_prefix=r\"UK.BB.exomes.430k.sites_indelsonly_rAF\"\n",
    "\n",
    "#rAF_lo frequency cut off\n",
    "AF=0.0001\n",
    "#Genomic Ranges\n",
    "bp=[10,20,30,40]"
   ]
  },
  {
   "cell_type": "markdown",
   "id": "30e1ab42",
   "metadata": {},
   "source": [
    "Step 2: Create Regions for different genomic ranges (10bp,20bp,30bp,40bp)\n",
    "\n",
    "i) Load the file using pandas"
   ]
  },
  {
   "cell_type": "code",
   "execution_count": 2,
   "id": "85c6be21",
   "metadata": {},
   "outputs": [],
   "source": [
    "import pandas as pd\n",
    "from functools import reduce\n",
    "df=pd.read_csv(input_file,sep=\"\\t\",dtype={'CHR': 'str', 'POS': 'int','REF':'str','ALT':'str','AC':'int','AN':'int'})"
   ]
  },
  {
   "cell_type": "code",
   "execution_count": 3,
   "id": "d96e1c92",
   "metadata": {},
   "outputs": [],
   "source": [
    "df = df[df['AN'] != 0 ]\n",
    "df = df[df['AC'] != 0]\n",
    "df['indel_length'] = abs(df['REF'].astype(str).map(len)-df['ALT'].astype(str).map(len))\n",
    "df = df[df['indel_length']<51]\n",
    "df = df.reset_index(drop= True)"
   ]
  },
  {
   "cell_type": "code",
   "execution_count": 4,
   "id": "3dd8b2b6",
   "metadata": {},
   "outputs": [
    {
     "name": "stdout",
     "output_type": "stream",
     "text": [
      "The number of indels with a base pair length less than or equal to 50 is 439786\n"
     ]
    }
   ],
   "source": [
    "#making sure that there are no indels greater than 50 bp\n",
    "df.sort_values(by=\"indel_length\",ascending=False)\n",
    "\n",
    "#the len is 439786, so there are that many indels 50bp long (only 2 are 50bp long) or shorter \n",
    "print(\"The number of indels with a base pair length less than or equal to 50 is\", len(df))"
   ]
  },
  {
   "cell_type": "markdown",
   "id": "3d8e3209",
   "metadata": {},
   "source": [
    "ii) Functions to group indels falling within the given region into same regions and assign a unique region ID"
   ]
  },
  {
   "cell_type": "code",
   "execution_count": 5,
   "id": "41278f07",
   "metadata": {},
   "outputs": [],
   "source": [
    "def cluster(pos_list, gap):\n",
    "    maxgap=gap/2\n",
    "    pos=pos_list.astype(int)\n",
    "    pos.sort_values(ascending=True, inplace=True)\n",
    "    groups = [[list(pos)[0]]]\n",
    "    for x in pos[1:]:\n",
    "        if abs(x - groups[-1][-1]) <= maxgap:\n",
    "            groups[-1].append(x)\n",
    "        else:\n",
    "            groups.append([x])\n",
    "    return groups\n",
    "\n",
    "def group_ids(pairs,chr,bp):\n",
    "    groups = cluster(pairs['POS'], bp)\n",
    "    d = {}\n",
    "    for i, group in enumerate(sorted(groups)):\n",
    "        for elem in group:\n",
    "            d[elem] = \"chr\"+str(chr)+\"_\"+str(i)\n",
    "    return d\n"
   ]
  },
  {
   "cell_type": "code",
   "execution_count": 6,
   "id": "a676fea1",
   "metadata": {},
   "outputs": [],
   "source": [
    "chrom=df['CHR'].unique()\n",
    "\n",
    "chrom_output=[]\n",
    "creategroups={}\n",
    "regioned_groups={}\n",
    "for i in chrom:\n",
    "    input=df[df[\"CHR\"]==i]\n",
    "    for j in bp:\n",
    "        creategroups[j]=group_ids(input,i,j)\n",
    "        regioned_groups[j] = pd.DataFrame(creategroups[j].items(), columns=['POS',\"GID_bp\"+str(j)])\n",
    "        regioned_groups[j]['POS']=regioned_groups[j]['POS'].astype(int)\n",
    "        \n",
    "    #define list of DataFrames\n",
    "    dfs = [input,regioned_groups[10], regioned_groups[20], regioned_groups[30], regioned_groups[40]]\n",
    "    \n",
    "    #merge all dataframes into one\n",
    "    final_df = reduce(lambda  left,right: pd.merge(left,right,on=['POS'], how='outer'), dfs)\n",
    "    #create region level AC\n",
    "    for j in bp:\n",
    "        final_df[\"AC_bp\"+str(j)]= final_df['AC'].groupby(final_df[\"GID_bp\"+str(j)]).transform('sum')\n",
    "    chrom_output.append(final_df)\n",
    "df_rAF = pd.concat(chrom_output)\n",
    "df_rAF['POS']=df_rAF['POS'].astype(str)"
   ]
  },
  {
   "cell_type": "markdown",
   "id": "b569a4d3",
   "metadata": {},
   "source": [
    "Step 3: Calculate sAF = AC/AN"
   ]
  },
  {
   "cell_type": "code",
   "execution_count": 7,
   "id": "88a19d39",
   "metadata": {},
   "outputs": [],
   "source": [
    "df_rAF['sAF'] = (df_rAF['AC']/df_rAF['AN'])"
   ]
  },
  {
   "cell_type": "markdown",
   "id": "7087d60b",
   "metadata": {},
   "source": [
    "Step 4: Calculate rAN value for different values by getting the mean of AN of the indels inside the same region, Use the rAN to calculate rAF = rAC/rAN"
   ]
  },
  {
   "cell_type": "code",
   "execution_count": 8,
   "id": "ea305bbf",
   "metadata": {},
   "outputs": [],
   "source": [
    "for j in bp:\n",
    "    df_rAF[\"AN_bp\"+str(j)] = df_rAF.groupby(['CHR',\"GID_bp\"+str(j)])['AN'].transform('mean')\n",
    "    df_rAF[\"rAF_bp\"+str(j)] = (df_rAF[\"AC_bp\"+str(j)]/df_rAF[\"AN_bp\"+str(j)])\n"
   ]
  },
  {
   "cell_type": "markdown",
   "id": "21eb9c8a",
   "metadata": {},
   "source": [
    "Step 5: Save the output to a file"
   ]
  },
  {
   "cell_type": "code",
   "execution_count": 9,
   "id": "e27c7ed5",
   "metadata": {},
   "outputs": [],
   "source": [
    "#Recreate the VarID column to further use\n",
    "df_rAF['VarID'] = df_rAF['CHR']+\"-\"+df_rAF['POS']+\"-\"+df_rAF['REF']+\"-\"+df_rAF['ALT']\n",
    "# Remove columns 'CHR', 'POS', 'REF', 'ALT' for reducing file size. \n",
    "#df_rAF=df_rAF.drop(['CHR', 'POS','REF','ALT'], axis=1)\n",
    "df_rAF = df_rAF[ ['VarID'] + [ col for col in df_rAF.columns if col != 'VarID' ] ]\n",
    "\n",
    "#check if i can make the overall bed output file here \n",
    "df_rAF.to_csv(out_prefix+\"_lt50bp.csv\",index = False)"
   ]
  },
  {
   "cell_type": "markdown",
   "id": "a07ba7c6",
   "metadata": {},
   "source": [
    "Step 6: Subset for rAF_hi indels (SI) (sAF ≤ 10^-4 & rAF > 10^-4) "
   ]
  },
  {
   "cell_type": "code",
   "execution_count": 10,
   "id": "3d95d46d",
   "metadata": {},
   "outputs": [],
   "source": [
    "df_rAF_rAF_hi={}\n",
    "for i in bp:\n",
    "    df_rAF_rAF_hi[i] = df_rAF[ (df_rAF['sAF']<=AF) & (df_rAF[\"rAF_bp\"+str(i)]>AF) ]\n",
    "    df_rAF_rAF_hi[i].to_csv(out_prefix+\"_bp\"+str(i)+\"_rAF_hiIndels.lt50bp.csv\",index = False)\n"
   ]
  },
  {
   "cell_type": "markdown",
   "id": "7c7b4fda",
   "metadata": {},
   "source": [
    "Step 7: Subset for rAF_lo indels (sAF ≤ 10^-4 & rAF ≤ 10^-4)"
   ]
  },
  {
   "cell_type": "code",
   "execution_count": 11,
   "id": "4f2dce7a",
   "metadata": {},
   "outputs": [],
   "source": [
    "df_rAF_rAF_lo={}\n",
    "for i in bp:\n",
    "    df_rAF_rAF_lo[i] = df_rAF[ (df_rAF['sAF']<=AF) & (df_rAF[\"rAF_bp\"+str(i)]<=AF) ]\n",
    "    df_rAF_rAF_lo[i].to_csv(out_prefix+\"_bp\"+str(i)+\"_rAF_loIndels.lt50bp.csv\",index = False)\n"
   ]
  },
  {
   "cell_type": "markdown",
   "id": "6f146101",
   "metadata": {},
   "source": [
    "Step 8: Subset for sAF_hi indels (sAF > 10^-4)"
   ]
  },
  {
   "cell_type": "code",
   "execution_count": 12,
   "id": "3f8104d5",
   "metadata": {},
   "outputs": [],
   "source": [
    "df_rAF_sAF_hi={}\n",
    "for i in bp:\n",
    "    df_rAF_sAF_hi[i] = df_rAF[ (df_rAF['sAF']>AF) ]\n",
    "    df_rAF_sAF_hi[i].to_csv(out_prefix+\"_bp\"+str(i)+\"_sAF_hiIndels.lt50bp.csv\",index = False)\n"
   ]
  },
  {
   "cell_type": "markdown",
   "id": "d5ac68f3",
   "metadata": {},
   "source": [
    "Step 9: Generate bed file for the regions containing rAF_hi indels"
   ]
  },
  {
   "cell_type": "code",
   "execution_count": 13,
   "id": "80b0a9af",
   "metadata": {},
   "outputs": [],
   "source": [
    "df_rAF_rAF_hi_region={}\n",
    "df_rAF_rAF_hi_region_bed={}\n",
    "for i in bp:\n",
    "    df_rAF_rAF_hi_region[i] = df_rAF[df_rAF['GID_bp'+str(i)].isin(df_rAF_rAF_hi[i]['GID_bp'+str(i)].unique())] \n",
    "    df_rAF_rAF_hi_region_bed[i] = df_rAF_rAF_hi_region[i].groupby([\"GID_bp\"+str(i)])['POS'].agg(['min', 'max'])\n",
    "    df_rAF_rAF_hi_region_bed[i]['index'] = df_rAF_rAF_hi_region_bed[i].index\n",
    "    df_rAF_rAF_hi_region_bed[i]['Chr'] = df_rAF_rAF_hi_region_bed[i]['index'].str.split('_',expand=True)[0].str.replace('chr' , '')\n",
    "    df_rAF_rAF_hi_region_bed[i] = df_rAF_rAF_hi_region_bed[i].drop(['index'],axis=1)\n",
    "    df_rAF_rAF_hi_region_bed[i].columns = ['Start', 'End','Chr']\n",
    "    df_rAF_rAF_hi_region_bed[i] = df_rAF_rAF_hi_region_bed[i][['Chr','Start','End']]\n",
    "    df_rAF_rAF_hi_region_bed[i] = df_rAF_rAF_hi_region_bed[i].rename(columns={'Chr':'#Chr'})\n",
    "    df_rAF_rAF_hi_region_bed[i] = df_rAF_rAF_hi_region_bed[i].sort_values(by=['#Chr'], ascending=True)\n",
    "    df_rAF_rAF_hi_region_bed[i].to_csv(out_prefix+\"_bp\"+str(i)+\"_rAF_hiIndels.lt50bp.region.bed\",index = False,sep='\\t')\n"
   ]
  },
  {
   "cell_type": "markdown",
   "id": "8f1ba489",
   "metadata": {},
   "source": [
    "Step 9: Generate bed file for the regions containing rAF_lo indels"
   ]
  },
  {
   "cell_type": "code",
   "execution_count": null,
   "id": "34574fe4",
   "metadata": {},
   "outputs": [],
   "source": [
    "df_rAF_rAF_lo_region={}\n",
    "df_rAF_rAF_lo_region_bed={}\n",
    "for i in bp:\n",
    "    df_rAF_rAF_lo_region[i] = df_rAF[df_rAF['GID_bp'+str(i)].isin(df_rAF_rAF_lo[i]['GID_bp'+str(i)].unique())]\n",
    "    df_rAF_rAF_lo_region_bed[i] = df_rAF_rAF_lo_region[i].groupby([\"GID_bp\"+str(i)])['POS'].agg(['min', 'max'])\n",
    "    df_rAF_rAF_lo_region_bed[i]['index'] = df_rAF_rAF_lo_region_bed[i].index\n",
    "    df_rAF_rAF_lo_region_bed[i]['Chr'] = df_rAF_rAF_lo_region_bed[i]['index'].str.split('_',expand=True)[0].str.replace('chr' , '')\n",
    "    df_rAF_rAF_lo_region_bed[i] = df_rAF_rAF_lo_region_bed[i].drop(['index'],axis=1)\n",
    "    df_rAF_rAF_lo_region_bed[i].columns = ['Start', 'End','Chr']\n",
    "    df_rAF_rAF_lo_region_bed[i] = df_rAF_rAF_lo_region_bed[i][['Chr','Start','End']]\n",
    "    df_rAF_rAF_lo_region_bed[i] = df_rAF_rAF_lo_region_bed[i].rename(columns={'Chr':'#Chr'})\n",
    "    df_rAF_rAF_lo_region_bed[i] = df_rAF_rAF_lo_region_bed[i].sort_values(by=['#Chr'], ascending=True)\n",
    "    df_rAF_rAF_lo_region_bed[i].to_csv(out_prefix+\"_bp\"+str(i)+\"_rAF_loIndels.lt50bp.region.bed\",index = False,sep='\\t')"
   ]
  },
  {
   "cell_type": "markdown",
   "id": "3e95c3c9",
   "metadata": {},
   "source": [
    "Step 9: Generate bed file for the regionss containing sAF_hi indels"
   ]
  },
  {
   "cell_type": "code",
   "execution_count": null,
   "id": "af44c0ed",
   "metadata": {},
   "outputs": [],
   "source": [
    "df_rAF_sAF_hi_region={}\n",
    "df_rAF_sAF_hi_region_bed={}\n",
    "for i in bp:\n",
    "    df_rAF_sAF_hi_region[i] = df_rAF[df_rAF['GID_bp'+str(i)].isin(df_rAF_sAF_hi[i]['GID_bp'+str(i)].unique())]\n",
    "    df_rAF_sAF_hi_region_bed[i] = df_rAF_sAF_hi_region[i].groupby([\"GID_bp\"+str(i)])['POS'].agg(['min', 'max'])\n",
    "    df_rAF_sAF_hi_region_bed[i]['index'] = df_rAF_sAF_hi_region_bed[i].index\n",
    "    df_rAF_sAF_hi_region_bed[i]['Chr'] = df_rAF_sAF_hi_region_bed[i]['index'].str.split('_',expand=True)[0].str.replace('chr' , '')\n",
    "    df_rAF_sAF_hi_region_bed[i] = df_rAF_sAF_hi_region_bed[i].drop(['index'],axis=1)\n",
    "    df_rAF_sAF_hi_region_bed[i].columns = ['Start', 'End','Chr']\n",
    "    df_rAF_sAF_hi_region_bed[i] = df_rAF_sAF_hi_region_bed[i][['Chr','Start','End']]\n",
    "    df_rAF_sAF_hi_region_bed[i] = df_rAF_sAF_hi_region_bed[i].rename(columns={'Chr':'#Chr'})\n",
    "    df_rAF_sAF_hi_region_bed[i] = df_rAF_sAF_hi_region_bed[i].sort_values(by=['#Chr'], ascending=True)\n",
    "    df_rAF_sAF_hi_region_bed[i].to_csv(out_prefix+\"_bp\"+str(i)+\"_sAF_hiIndels.lt50bp.region.bed\",index = False,sep='\\t')"
   ]
  }
 ],
 "metadata": {
  "kernelspec": {
   "display_name": "Python 3 (ipykernel)",
   "language": "python",
   "name": "python3"
  },
  "language_info": {
   "codemirror_mode": {
    "name": "ipython",
    "version": 3
   },
   "file_extension": ".py",
   "mimetype": "text/x-python",
   "name": "python",
   "nbconvert_exporter": "python",
   "pygments_lexer": "ipython3",
   "version": "3.10.9"
  }
 },
 "nbformat": 4,
 "nbformat_minor": 5
}
