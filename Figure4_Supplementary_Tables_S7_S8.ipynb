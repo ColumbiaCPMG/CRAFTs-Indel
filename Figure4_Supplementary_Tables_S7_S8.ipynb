{
 "cells": [
  {
   "cell_type": "code",
   "execution_count": null,
   "id": "7962f379-e188-46b6-8c92-cfe63fc208b6",
   "metadata": {},
   "outputs": [],
   "source": [
    "library(tidyverse)\n",
    "library(data.table)\n",
    "library(readxl)\n",
    "library(dplyr)\n",
    "library(stringr)\n",
    "install.packages(\"ggpubr\")\n",
    "library(ggpubr)\n",
    "install.packages(\"ggfittext\")\n",
    "library(ggfittext)\n",
    "install.packages(\"ggrepel\")\n",
    "library(ggrepel)"
   ]
  },
  {
   "cell_type": "code",
   "execution_count": 1,
   "id": "89b73e24-dc66-4907-8acd-91943bc75ab1",
   "metadata": {},
   "outputs": [],
   "source": [
    "#clear environment\n",
    "rm(list=ls())"
   ]
  },
  {
   "cell_type": "code",
   "execution_count": null,
   "id": "bc0d379c-b5a9-4192-88e5-c0ed6692cf93",
   "metadata": {},
   "outputs": [],
   "source": [
    "#Define sAF_lo. \n",
    "\n",
    "sAF_lo = (1 * 10^-4)\n"
   ]
  },
  {
   "cell_type": "code",
   "execution_count": null,
   "id": "0500416e-2a9a-4668-a9c3-3910ccb6d855",
   "metadata": {},
   "outputs": [],
   "source": [
    "#Define bp_range. \n",
    "\n",
    "bp_range = c(\"10\", \"20\", \"30\", \"40\")"
   ]
  },
  {
   "cell_type": "code",
   "execution_count": null,
   "id": "6ca3eb9c-6e48-4f39-9086-e9bc791c3b45",
   "metadata": {},
   "outputs": [],
   "source": [
    "#Define conditions.\n",
    "\n",
    "conditions = c(\"sAF_hi\", \"sAF_lo\", \"sAF_hi\")"
   ]
  },
  {
   "cell_type": "code",
   "execution_count": null,
   "id": "8a381ecb-32c6-4d37-9527-ea6764caf01f",
   "metadata": {},
   "outputs": [],
   "source": [
    "#Define output_path.\n",
    "\n",
    "output_path = \"\"\n",
    "my_date = \"\""
   ]
  },
  {
   "cell_type": "code",
   "execution_count": null,
   "id": "65389fcc-ec7b-4593-8f8b-e0c2f6e9c0d7",
   "metadata": {},
   "outputs": [],
   "source": [
    "#Define dateframes.\n",
    "df_name_1 = \"gnomAD\"\n",
    "df_name_2 = \"IGM\"\n",
    "df_name_3 = \"UK.BB\""
   ]
  },
  {
   "cell_type": "code",
   "execution_count": null,
   "id": "70ece6fd-c984-40e9-9b92-9713dc15d19f",
   "metadata": {},
   "outputs": [],
   "source": [
    "#Read in sAF_hi regions (bedfile). \n",
    "\n",
    "sAF_hi_bp_10_df_1 = fread(\"gnomad.exomes.r2.1.1.sites_indelsonly_rAF_bp10_sAF_hiIndels.lt50bp.region.bed\")\n",
    "sAF_hi_bp_20_df_1 = fread(\"gnomad.exomes.r2.1.1.sites_indelsonly_rAF_bp20_sAF_hiIndels.lt50bp.region.bed\")\n",
    "sAF_hi_bp_30_df_1 = fread(\"gnomad.exomes.r2.1.1.sites_indelsonly_rAF_bp30_sAF_hiIndels.lt50bp.region.bed\")\n",
    "sAF_hi_bp_40_df_1 = fread(\"gnomad.exomes.r2.1.1.sites_indelsonly_rAF_bp40_sAF_hiIndels.lt50bp.region.bed\")\n",
    "\n",
    "sAF_hi_bp_10_df_2 = fread(\"2023-03-23_IGM_n39367_indelsonly_rAF_bp10_sAF_hiIndels.lt50bp.region.bed\")\n",
    "sAF_hi_bp_20_df_2 = fread(\"2023-03-23_IGM_n39367_indelsonly_rAF_bp20_sAF_hiIndels.lt50bp.region.bed\")\n",
    "sAF_hi_bp_30_df_2 = fread(\"2023-03-23_IGM_n39367_indelsonly_rAF_bp30_sAF_hiIndels.lt50bp.region.bed\")\n",
    "sAF_hi_bp_40_df_2 = fread(\"2023-03-23_IGM_n39367_indelsonly_rAF_bp40_sAF_hiIndels.lt50bp.region.bed\")\n",
    "\n",
    "\n",
    "\n",
    "sAF_hi_bp_10_df_3 = fread(\"UK.BB.exomes.430k.sites_indelsonly_rAF_bp10_sAF_hiIndels.lt50bp.region.bed\")\n",
    "sAF_hi_bp_20_df_3 = fread(\"UK.BB.exomes.430k.sites_indelsonly_rAF_bp20_sAF_hiIndels.lt50bp.region.bed\")\n",
    "sAF_hi_bp_30_df_3 = fread(\"UK.BB.exomes.430k.sites_indelsonly_rAF_bp30_sAF_hiIndels.lt50bp.region.bed\")\n",
    "sAF_hi_bp_40_df_3 = fread(\"UK.BB.exomes.430k.sites_indelsonly_rAF_bp40_sAF_hiIndels.lt50bp.region.bed\")\n"
   ]
  },
  {
   "cell_type": "code",
   "execution_count": null,
   "id": "c3aae41f-6dde-4d4e-ac5e-07a23bf9659f",
   "metadata": {},
   "outputs": [],
   "source": [
    "#Read in sAF_lo regions (bedfile). \n",
    "\n",
    "sAF_lo_bp_10_df_1 = fread(\"gnomad.exomes.r2.1.1.sites_indelsonly_rAF_bp10_sAF_loIndels.lt50bp.region.bed\")\n",
    "sAF_lo_bp_20_df_1 = fread(\"gnomad.exomes.r2.1.1.sites_indelsonly_rAF_bp20_sAF_loIndels.lt50bp.region.bed\")\n",
    "sAF_lo_bp_30_df_1 = fread(\"gnomad.exomes.r2.1.1.sites_indelsonly_rAF_bp30_sAF_loIndels.lt50bp.region.bed\")\n",
    "sAF_lo_bp_40_df_1 = fread(\"gnomad.exomes.r2.1.1.sites_indelsonly_rAF_bp40_sAF_loIndels.lt50bp.region.bed\")\n",
    "\n",
    "sAF_lo_bp_10_df_2 = fread(\"2023-03-23_IGM_n39367_indelsonly_rAF_bp10_sAF_loIndels.lt50bp.region.bed\")\n",
    "sAF_lo_bp_20_df_2 = fread(\"2023-03-23_IGM_n39367_indelsonly_rAF_bp20_sAF_loIndels.lt50bp.region.bed\")\n",
    "sAF_lo_bp_30_df_2 = fread(\"2023-03-23_IGM_n39367_indelsonly_rAF_bp30_sAF_loIndels.lt50bp.region.bed\")\n",
    "sAF_lo_bp_40_df_2 = fread(\"2023-03-23_IGM_n39367_indelsonly_rAF_bp40_sAF_loIndels.lt50bp.region.bed\")\n",
    "\n",
    "\n",
    "sAF_lo_bp_10_df_3 = fread(\"UK.BB.exomes.430k.sites_indelsonly_rAF_bp10_sAF_loIndels.lt50bp.region.bed\")\n",
    "sAF_lo_bp_20_df_3 = fread(\"UK.BB.exomes.430k.sites_indelsonly_rAF_bp20_sAF_loIndels.lt50bp.region.bed\")\n",
    "sAF_lo_bp_30_df_3 = fread(\"UK.BB.exomes.430k.sites_indelsonly_rAF_bp30_sAF_loIndels.lt50bp.region.bed\")\n",
    "sAF_lo_bp_40_df_3 = fread(\"UK.BB.exomes.430k.sites_indelsonly_rAF_bp40_sAF_loIndels.lt50bp.region.bed\")\n"
   ]
  },
  {
   "cell_type": "code",
   "execution_count": null,
   "id": "0c8b732e-7eaf-48d2-ab1c-4600fbd96848",
   "metadata": {},
   "outputs": [],
   "source": [
    "#Read in sAF_hi regions (bedfile).\n",
    "\n",
    "sAF_hi_bp_10_df_1 = fread(\"gnomad.exomes.r2.1.1.sites_indelsonly_rAF_bp10_sAF_hiIndels.lt50bp.region.bed\")\n",
    "sAF_hi_bp_20_df_1 = fread(\"gnomad.exomes.r2.1.1.sites_indelsonly_rAF_bp20_sAF_hiIndels.lt50bp.region.bed\")\n",
    "sAF_hi_bp_30_df_1 = fread(\"gnomad.exomes.r2.1.1.sites_indelsonly_rAF_bp30_sAF_hiIndels.lt50bp.region.bed\")\n",
    "sAF_hi_bp_40_df_1 = fread(\"gnomad.exomes.r2.1.1.sites_indelsonly_rAF_bp40_sAF_hiIndels.lt50bp.region.bed\")\n",
    "\n",
    "sAF_hi_bp_10_df_2 = fread(\"2023-03-23_IGM_n39367_indelsonly_rAF_bp10_sAF_hiIndels.lt50bp.region.bed\")\n",
    "sAF_hi_bp_20_df_2 = fread(\"2023-03-23_IGM_n39367_indelsonly_rAF_bp20_sAF_hiIndels.lt50bp.region.bed\")\n",
    "sAF_hi_bp_30_df_2 = fread(\"2023-03-23_IGM_n39367_indelsonly_rAF_bp30_sAF_hiIndels.lt50bp.region.bed\")\n",
    "sAF_hi_bp_40_df_2 = fread(\"2023-03-23_IGM_n39367_indelsonly_rAF_bp40_sAF_hiIndels.lt50bp.region.bed\")\n",
    "\n",
    "sAF_hi_bp_10_df_3 = fread(\"UK.BB.exomes.430k.sites_indelsonly_rAF_bp10_sAF_hiIndels.lt50bp.region.bed\")\n",
    "sAF_hi_bp_20_df_3 = fread(\"UK.BB.exomes.430k.sites_indelsonly_rAF_bp10_sAF_hiIndels.lt50bp.region.bed\")\n",
    "sAF_hi_bp_30_df_3 = fread(\"UK.BB.exomes.430k.sites_indelsonly_rAF_bp10_sAF_hiIndels.lt50bp.region.bed\")\n",
    "sAF_hi_bp_40_df_3 = fread(\"UK.BB.exomes.430k.sites_indelsonly_rAF_bp10_sAF_hiIndels.lt50bp.region.bed\")\n"
   ]
  },
  {
   "cell_type": "markdown",
   "id": "5555b06c-a1f6-4540-bd3f-53da0769647f",
   "metadata": {},
   "source": [
    "# Use bedtools intersect to find the overlap between these regions and the LCRs."
   ]
  },
  {
   "cell_type": "code",
   "execution_count": null,
   "id": "c84b0423-ff04-4c4d-baec-61847fef6e69",
   "metadata": {},
   "outputs": [],
   "source": [
    "\n",
    "system(\"bp_range=('10' '20' '30' '40')\n",
    "condition=('sAF_hi' 'sAF_lo' 'sAF_hi')\n",
    "\n",
    "df_name_1='gnomAD'\n",
    "df_name_2='IGM'\n",
    "df_name_3='UK.BB'\n",
    "\n",
    "my_date=''\n",
    "\n",
    "output_path=''\n",
    "\n",
    "#rename_lcr_file to lcr_file_38\n",
    "lcr_file = ''\n",
    "lcr_file_38='numInsteadOfChr_GRCh38_AllTandemRepeatsandHomopolymers_slop5.bed'\n",
    "\n",
    "for n in ${condition[@]};\n",
    "do \n",
    "   for i in ${bp_range[@]};\n",
    "   do\n",
    "      echo $i\n",
    "      bedtools intersect -wa -a ${output_path}gnomad.exomes.r2.1.1.sites_indelsonly_rAF_bp${i}_${n}Indels.lt50bp.region.bed -b ${output_path}${lcr_file} | sort -k1,1n -k2,2n | uniq > ${output_path}${my_date}_LCR_intersect_${n}_${i}_df_1_${df_name_1}.bed\n",
    "      bedtools intersect -wa -a ${output_path}2023-03-23_IGM_n39367_indelsonly_rAF_bp${i}_${n}Indels.lt50bp.region.bed -b ${output_path}${lcr_file} | sort -k1,1n -k2,2n | uniq > ${output_path}${my_date}_LCR_intersect_${n}_${i}_df_2_${df_name_2}.bed\n",
    "      bedtools intersect -wa -a ${output_path}UK.BB.exomes.430k.sites_indelsonly_rAF_bp${i}_${n}Indels.lt50bp.region.bed -b ${output_path}${lcr_file_38} | sort -k1,1n -k2,2n | uniq > ${output_path}${my_date}_LCR_intersect_${n}_${i}_df_3_${df_name_3}.bed\n",
    "   done;\n",
    "done\", intern = TRUE)\n",
    "\n",
    "#Format the y-axis:"
   ]
  },
  {
   "cell_type": "code",
   "execution_count": null,
   "id": "06c7a081-155c-4c41-b04d-4ae933edeb70",
   "metadata": {},
   "outputs": [],
   "source": [
    "formatter10000 = function(x) {\n",
    "  x/10000\n",
    "}\n"
   ]
  },
  {
   "cell_type": "markdown",
   "id": "04007fba-1b22-464e-a186-87dd67ec63e1",
   "metadata": {},
   "source": [
    "# Print out numbers for Supplementary Tables S7 and S8\n",
    "#Calculate percentages in and outside of LCR. "
   ]
  },
  {
   "cell_type": "code",
   "execution_count": null,
   "id": "1db3eafe-e417-4b56-a1aa-6a53a7f0efc5",
   "metadata": {},
   "outputs": [],
   "source": [
    "for (i in conditions) {\n",
    "  for (j in bp_range) {\n",
    "    # get files with the regions before overlap with LCR \n",
    "    total_file_df1 = paste0(i, \"_bp_\", j, \"_df_1\")\n",
    "    total_file_df2 = paste0(i, \"_bp_\", j, \"_df_2\")\n",
    "    total_file_df3 = paste0(i, \"_bp_\", j, \"_df_3\")\n",
    "    \n",
    "    # get files with regions after overlap with LCR \n",
    "    LCR_file_df1 = paste0(output_path, my_date, \"_LCR_intersect_\", i,\"_\", j, \"_df_1_\", df_name_1, \".bed\")\n",
    "    LCR_file_df2 = paste0(output_path, my_date, \"_LCR_intersect_\", i,\"_\", j, \"_df_2_\", df_name_2, \".bed\")\n",
    "\n",
    "\n",
    "    LCR_file_df3 = paste0(output_path, my_date, \"_LCR_intersect_\", i,\"_\", j, \"_df_3_\", df_name_3, \".bed\")\n",
    " \n",
    "  \n",
    "    \n",
    "    \n",
    "    n_total_df1 = paste0(i, \"_total_bp_\", j, \"_df_1\")\n",
    "    n_total_df2 = paste0(i, \"_total_bp_\", j, \"_df_2\")\n",
    "    n_total_df3 = paste0(i, \"_total_bp_\", j, \"_df_3\")\n",
    "    \n",
    "    assign( n_total_df1 , nrow(get(total_file_df1)))\n",
    "    assign( n_total_df2 , nrow(get(total_file_df2)))\n",
    "    assign( n_total_df3 , nrow(get(total_file_df3)))\n",
    "    \n",
    "    print(paste0(n_total_df1, \": \", get(n_total_df1)))\n",
    "    print(paste0(n_total_df2, \": \", get(n_total_df2)))\n",
    "    print(paste0(n_total_df3, \": \", get(n_total_df3)))\n",
    "    \n",
    "    \n",
    "    n_LCR_df1 = paste0(i, \"_LCR_bp_\", j, \"_df_1\")\n",
    "    n_LCR_df2 = paste0(i, \"_LCR_bp_\", j, \"_df_2\")\n",
    "    n_LCR_df3 = paste0(i, \"_LCR_bp_\", j, \"_df_3\")\n",
    "    \n",
    "    assign( n_LCR_df1, nrow(fread(LCR_file_df1)))\n",
    "    assign( n_LCR_df2, nrow(fread(LCR_file_df2)))\n",
    "    assign( n_LCR_df3, nrow(fread(LCR_file_df3)))\n",
    "    \n",
    "    print(paste0(n_LCR_df1, \": \", get(n_LCR_df1)))\n",
    "    print(paste0(n_LCR_df2, \": \", get(n_LCR_df2)))\n",
    "    print(paste0(n_LCR_df3, \": \", get(n_LCR_df3)))\n",
    "    \n",
    "    # get not in lcr \n",
    "    n_not_LCR_df1 = paste0(i, \"_not_in_LCR_bp_\", j,\"_df_1\")\n",
    "    n_not_LCR_df2 = paste0(i, \"_not_in_LCR_bp_\", j,\"_df_2\")\n",
    "    n_not_LCR_df3 = paste0(i, \"_not_in_LCR_bp_\", j,\"_df_3\")\n",
    "    \n",
    "    assign( n_not_LCR_df1, get(n_total_df1) - get(n_LCR_df1))\n",
    "    assign( n_not_LCR_df2, get(n_total_df2) - get(n_LCR_df2))\n",
    "    assign( n_not_LCR_df3, get(n_total_df3) - get(n_LCR_df3))\n",
    "    \n",
    "    print(paste0(n_not_LCR_df1, \": \", get(n_not_LCR_df1)))\n",
    "    print(paste0(n_not_LCR_df2, \": \", get(n_not_LCR_df2)))\n",
    "    print(paste0(n_not_LCR_df3, \": \", get(n_not_LCR_df3)))\n",
    "    \n",
    "    # get percent \n",
    "    prct_LCR_df1 = paste0(i, \"_prct_LCR_bp_\", j, \"_df_1\")\n",
    "    prct_LCR_df2 = paste0(i, \"_prct_LCR_bp_\", j, \"_df_2\")\n",
    "    prct_LCR_df3 = paste0(i, \"_prct_LCR_bp_\", j, \"_df_3\")\n",
    "    \n",
    "    assign( prct_LCR_df1, paste0(round(get(n_LCR_df1)/get(n_total_df1) * 100, 0), \"%\"))\n",
    "    assign( prct_LCR_df2, paste0(round(get(n_LCR_df2)/get(n_total_df2) * 100, 0), \"%\"))\n",
    "    assign( prct_LCR_df3, paste0(round(get(n_LCR_df3)/get(n_total_df3) * 100, 0), \"%\"))\n",
    "    \n",
    "    \n",
    "    print(paste0(prct_LCR_df1, \": \", get(prct_LCR_df1)))\n",
    "    print(paste0(prct_LCR_df2, \": \", get(prct_LCR_df2)))\n",
    "    print(paste0(prct_LCR_df3, \": \", get(prct_LCR_df3)))\n",
    "    \n",
    "    # get percent \n",
    "    prct_not_in_LCR_df1 = paste0(i, \"_prct_not_in_LCR_bp_\", j, \"_df_1\")\n",
    "    prct_not_in_LCR_df2 = paste0(i, \"_prct_not_in_LCR_bp_\", j, \"_df_2\")\n",
    "    prct_not_in_LCR_df3 = paste0(i, \"_prct_not_in_LCR_bp_\", j, \"_df_3\")\n",
    "    \n",
    "    assign( prct_not_in_LCR_df1, paste0(round(get(n_not_LCR_df1)/get(n_total_df1) * 100, 0), \"%\"))\n",
    "    assign( prct_not_in_LCR_df2, paste0(round(get(n_not_LCR_df2)/get(n_total_df2) * 100, 0), \"%\"))\n",
    "    assign( prct_not_in_LCR_df3, paste0(round(get(n_not_LCR_df3)/get(n_total_df3) * 100, 0), \"%\"))\n",
    "    \n",
    "    print(paste0(prct_not_in_LCR_df1, \": \", get(prct_not_in_LCR_df1)))\n",
    "    print(paste0(prct_not_in_LCR_df2, \": \", get(prct_not_in_LCR_df2)))\n",
    "    print(paste0(prct_not_in_LCR_df3, \": \", get(prct_not_in_LCR_df3)))\n",
    "  }\n",
    "}\n"
   ]
  },
  {
   "cell_type": "markdown",
   "id": "bd1eb00f-2089-4921-9b4d-7d2b7b439bba",
   "metadata": {},
   "source": [
    "# Make graph. "
   ]
  },
  {
   "cell_type": "code",
   "execution_count": null,
   "id": "976242fa-3c0d-41ce-b5b9-1841391a92ca",
   "metadata": {},
   "outputs": [],
   "source": [
    "for (i in conditions) {\n",
    "  windows = c(rep(paste0(bp_range, \" bps\"), 8))\n",
    "  region = c(rep(\"in LCR\", 4), rep(\"outside of LCR\", 4), rep(\"in LCR\", 4), rep(\"outside of LCR\", 4), rep(\"in LCR\", 4), rep(\"outside of LCR\", 4))\n",
    "  df_labels = c(rep(df_name_1, 8), rep(df_name_2, 8), rep(df_name_3, 8))\n",
    "  \n",
    "  \n",
    "  \n",
    "  num_indels = c()\n",
    "  prct_indels = c()\n",
    "  \n",
    "  \n",
    "  dfs = c(\"1\", \"2\", \"3\")\n",
    "\n",
    "\n",
    "  reg = c(\"LCR\", \"not_in_LCR\")\n",
    "  for (j in dfs) {\n",
    "    for (k in reg) {\n",
    "      for (l in bp_range) {\n",
    "        num_var = paste0(i, \"_\", k, \"_bp_\", l, \"_df_\", j)\n",
    "        num_indels = append(num_indels, get(num_var))\n",
    "        \n",
    "        prct_var = paste0(i, \"_prct_\", k, \"_bp_\", l, \"_df_\", j)\n",
    "        prct_indels = append(prct_indels, get(prct_var))\n",
    "  \n",
    "      }\n",
    "    }\n",
    "  }"
   ]
  },
  {
   "cell_type": "code",
   "execution_count": null,
   "id": "d8f25cfb-dc76-4475-9271-58c340cbacb7",
   "metadata": {},
   "outputs": [],
   "source": []
  },
  {
   "cell_type": "code",
   "execution_count": null,
   "id": "0cb907bc-4078-4cab-999f-627611acf882",
   "metadata": {},
   "outputs": [],
   "source": []
  },
  {
   "cell_type": "code",
   "execution_count": null,
   "id": "816997c4-63c5-4392-abbc-1e7614c20276",
   "metadata": {},
   "outputs": [],
   "source": []
  },
  {
   "cell_type": "code",
   "execution_count": null,
   "id": "7ac37d80-984a-4c46-bfd3-ff97b3406066",
   "metadata": {},
   "outputs": [],
   "source": []
  },
  {
   "cell_type": "code",
   "execution_count": null,
   "id": "f377a14a-4dcb-41d5-8e12-65eb6dbc6b76",
   "metadata": {},
   "outputs": [],
   "source": []
  }
 ],
 "metadata": {
  "kernelspec": {
   "display_name": "R",
   "language": "R",
   "name": "ir"
  },
  "language_info": {
   "codemirror_mode": "r",
   "file_extension": ".r",
   "mimetype": "text/x-r-source",
   "name": "R",
   "pygments_lexer": "r",
   "version": "4.3.1"
  }
 },
 "nbformat": 4,
 "nbformat_minor": 5
}
