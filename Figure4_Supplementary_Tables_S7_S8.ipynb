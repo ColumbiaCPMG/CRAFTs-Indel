{
 "cells": [
  {
   "cell_type": "code",
   "execution_count": 2,
   "id": "3a659837-6c04-4347-946e-0c68717e0e1d",
   "metadata": {},
   "outputs": [
    {
     "name": "stderr",
     "output_type": "stream",
     "text": [
      "── \u001b[1mAttaching core tidyverse packages\u001b[22m ──────────────────────── tidyverse 2.0.0 ──\n",
      "\u001b[32m✔\u001b[39m \u001b[34mdplyr    \u001b[39m 1.1.2     \u001b[32m✔\u001b[39m \u001b[34mreadr    \u001b[39m 2.1.4\n",
      "\u001b[32m✔\u001b[39m \u001b[34mforcats  \u001b[39m 1.0.0     \u001b[32m✔\u001b[39m \u001b[34mstringr  \u001b[39m 1.5.0\n",
      "\u001b[32m✔\u001b[39m \u001b[34mggplot2  \u001b[39m 3.4.2     \u001b[32m✔\u001b[39m \u001b[34mtibble   \u001b[39m 3.2.1\n",
      "\u001b[32m✔\u001b[39m \u001b[34mlubridate\u001b[39m 1.9.2     \u001b[32m✔\u001b[39m \u001b[34mtidyr    \u001b[39m 1.3.0\n",
      "\u001b[32m✔\u001b[39m \u001b[34mpurrr    \u001b[39m 1.0.1     \n",
      "── \u001b[1mConflicts\u001b[22m ────────────────────────────────────────── tidyverse_conflicts() ──\n",
      "\u001b[31m✖\u001b[39m \u001b[34mdplyr\u001b[39m::\u001b[32mfilter()\u001b[39m masks \u001b[34mstats\u001b[39m::filter()\n",
      "\u001b[31m✖\u001b[39m \u001b[34mdplyr\u001b[39m::\u001b[32mlag()\u001b[39m    masks \u001b[34mstats\u001b[39m::lag()\n",
      "\u001b[36mℹ\u001b[39m Use the conflicted package (\u001b[3m\u001b[34m<http://conflicted.r-lib.org/>\u001b[39m\u001b[23m) to force all conflicts to become errors\n",
      "\n",
      "Attaching package: ‘data.table’\n",
      "\n",
      "\n",
      "The following objects are masked from ‘package:lubridate’:\n",
      "\n",
      "    hour, isoweek, mday, minute, month, quarter, second, wday, week,\n",
      "    yday, year\n",
      "\n",
      "\n",
      "The following objects are masked from ‘package:dplyr’:\n",
      "\n",
      "    between, first, last\n",
      "\n",
      "\n",
      "The following object is masked from ‘package:purrr’:\n",
      "\n",
      "    transpose\n",
      "\n",
      "\n",
      "Updating HTML index of packages in '.Library'\n",
      "\n",
      "Making 'packages.html' ...\n",
      " done\n",
      "\n",
      "Updating HTML index of packages in '.Library'\n",
      "\n",
      "Making 'packages.html' ...\n",
      " done\n",
      "\n",
      "Updating HTML index of packages in '.Library'\n",
      "\n",
      "Making 'packages.html' ...\n",
      " done\n",
      "\n"
     ]
    }
   ],
   "source": [
    "library(tidyverse)\n",
    "library(data.table)\n",
    "library(readxl)\n",
    "library(dplyr)\n",
    "library(stringr)\n",
    "install.packages(\"ggpubr\")\n",
    "library(ggpubr)\n",
    "install.packages(\"ggfittext\")\n",
    "library(ggfittext)\n",
    "install.packages(\"ggrepel\")\n",
    "library(ggrepel)"
   ]
  },
  {
   "cell_type": "code",
   "execution_count": 3,
   "id": "eef06a46-1628-4504-93eb-85eb2b30b50b",
   "metadata": {},
   "outputs": [],
   "source": [
    "rm(list=ls())"
   ]
  },
  {
   "cell_type": "markdown",
   "id": "0d5a2c5a-c19a-45ec-965c-ce89a7658d82",
   "metadata": {},
   "source": [
    "Define rAF_lo. "
   ]
  },
  {
   "cell_type": "code",
   "execution_count": 4,
   "id": "942ddf79-fe15-4d05-9fc0-3b66a674682e",
   "metadata": {},
   "outputs": [],
   "source": [
    "rAF_lo = (1 * 10^-4)"
   ]
  },
  {
   "cell_type": "markdown",
   "id": "57f630e5-f278-4c41-adc3-190f343407c2",
   "metadata": {},
   "source": [
    "Define bp_range. "
   ]
  },
  {
   "cell_type": "code",
   "execution_count": 5,
   "id": "72449604-a86d-4f9c-97f7-7f0ee83eb464",
   "metadata": {},
   "outputs": [],
   "source": [
    "bp_range = c(\"10\", \"20\", \"30\", \"40\")"
   ]
  },
  {
   "cell_type": "markdown",
   "id": "ea9f8a37-ac8f-464d-8400-0d4a6354b12b",
   "metadata": {},
   "source": [
    "Define conditions."
   ]
  },
  {
   "cell_type": "code",
   "execution_count": 6,
   "id": "9a45fe0b-a38e-4d84-a635-622b2d56afe3",
   "metadata": {},
   "outputs": [],
   "source": [
    "conditions = c(\"rAF_hi\", \"rAF_lo\", \"sAF_hi\")"
   ]
  },
  {
   "cell_type": "markdown",
   "id": "f3b67b00-5858-4fab-870a-d49deaaeb5d3",
   "metadata": {},
   "source": [
    "Define output_path."
   ]
  },
  {
   "cell_type": "code",
   "execution_count": 7,
   "id": "8d8d52bd-aa45-4791-b3f7-9bf40d5ab27b",
   "metadata": {},
   "outputs": [],
   "source": [
    "output_path = \"\"\n",
    "setwd(\"\")"
   ]
  },
  {
   "cell_type": "markdown",
   "id": "611c8fae-59df-4453-abf9-37bef0e044f2",
   "metadata": {},
   "source": [
    "Define date."
   ]
  },
  {
   "cell_type": "code",
   "execution_count": 8,
   "id": "0497c211-e918-4ee2-9ffe-ab2dc2e52993",
   "metadata": {},
   "outputs": [],
   "source": [
    "my_date = \"\""
   ]
  },
  {
   "cell_type": "markdown",
   "id": "42a2abdb-b1fb-4b47-a317-953d01d2e588",
   "metadata": {},
   "source": [
    "Define dateframes. "
   ]
  },
  {
   "cell_type": "code",
   "execution_count": 9,
   "id": "7f05f2e5-9729-484e-91f1-b5436c6f293b",
   "metadata": {},
   "outputs": [],
   "source": [
    "df_name_1 = \"gnomAD\"\n",
    "df_name_2 = \"IGM\"\n",
    "df_name_3 = \"UK.BB\""
   ]
  },
  {
   "cell_type": "markdown",
   "id": "19321417-e15f-483e-b637-0a4f39a69dc8",
   "metadata": {},
   "source": [
    "Read in rAF_hi bins (bedfile). "
   ]
  },
  {
   "cell_type": "code",
   "execution_count": 244,
   "id": "8a2194ef-c996-4579-b182-c4d3fb811caa",
   "metadata": {},
   "outputs": [],
   "source": [
    "rAF_hi_bp_10_df_1 = fread(\"gnomad.exomes.r2.1.1.sites_indelsonly_rAF_bp10_rAF_hiIndels.lt50bp.bin.bed\")\n",
    "rAF_hi_bp_20_df_1 = fread(\"gnomad.exomes.r2.1.1.sites_indelsonly_rAF_bp20_rAF_hiIndels.lt50bp.bin.bed\")\n",
    "rAF_hi_bp_30_df_1 = fread(\"gnomad.exomes.r2.1.1.sites_indelsonly_rAF_bp30_rAF_hiIndels.lt50bp.bin.bed\")\n",
    "rAF_hi_bp_40_df_1 = fread(\"gnomad.exomes.r2.1.1.sites_indelsonly_rAF_bp40_rAF_hiIndels.lt50bp.bin.bed\")\n",
    "\n",
    "rAF_hi_bp_10_df_2 = fread(\"2023-03-23_IGM_n39367_indelsonly_rAF_bp10_rAF_hiIndels.lt50bp.bin.bed\")\n",
    "rAF_hi_bp_20_df_2 = fread(\"2023-03-23_IGM_n39367_indelsonly_rAF_bp20_rAF_hiIndels.lt50bp.bin.bed\")\n",
    "rAF_hi_bp_30_df_2 = fread(\"2023-03-23_IGM_n39367_indelsonly_rAF_bp30_rAF_hiIndels.lt50bp.bin.bed\")\n",
    "rAF_hi_bp_40_df_2 = fread(\"2023-03-23_IGM_n39367_indelsonly_rAF_bp40_rAF_hiIndels.lt50bp.bin.bed\")\n",
    "\n",
    "rAF_hi_bp_10_df_3 = fread(\"UK.BB.exomes.430k.sites_indelsonly_rAF_bp10_rAF_hiIndels.lt50bp.region.bed\")\n",
    "rAF_hi_bp_20_df_3 = fread(\"UK.BB.exomes.430k.sites_indelsonly_rAF_bp20_rAF_hiIndels.lt50bp.region.bed\")\n",
    "rAF_hi_bp_30_df_3 = fread(\"UK.BB.exomes.430k.sites_indelsonly_rAF_bp30_rAF_hiIndels.lt50bp.region.bed\")\n",
    "rAF_hi_bp_40_df_3 = fread(\"UK.BB.exomes.430k.sites_indelsonly_rAF_bp40_rAF_hiIndels.lt50bp.region.bed\")\n"
   ]
  },
  {
   "cell_type": "markdown",
   "id": "1c45077d-7f6e-4a13-9722-0624af558cb0",
   "metadata": {},
   "source": [
    "Read in rAF_lo bins (bedfile). "
   ]
  },
  {
   "cell_type": "code",
   "execution_count": 245,
   "id": "5c7718b6-5ec8-477a-ac60-332d8a2770b1",
   "metadata": {},
   "outputs": [],
   "source": [
    "rAF_lo_bp_10_df_1 = fread(\"gnomad.exomes.r2.1.1.sites_indelsonly_rAF_bp10_rAF_loIndels.lt50bp.bin.bed\")\n",
    "rAF_lo_bp_20_df_1 = fread(\"gnomad.exomes.r2.1.1.sites_indelsonly_rAF_bp20_rAF_loIndels.lt50bp.bin.bed\")\n",
    "rAF_lo_bp_30_df_1 = fread(\"gnomad.exomes.r2.1.1.sites_indelsonly_rAF_bp30_rAF_loIndels.lt50bp.bin.bed\")\n",
    "rAF_lo_bp_40_df_1 = fread(\"gnomad.exomes.r2.1.1.sites_indelsonly_rAF_bp40_rAF_loIndels.lt50bp.bin.bed\")\n",
    "\n",
    "rAF_lo_bp_10_df_2 = fread(\"2023-03-23_IGM_n39367_indelsonly_rAF_bp10_rAF_loIndels.lt50bp.bin.bed\")\n",
    "rAF_lo_bp_20_df_2 = fread(\"2023-03-23_IGM_n39367_indelsonly_rAF_bp20_rAF_loIndels.lt50bp.bin.bed\")\n",
    "rAF_lo_bp_30_df_2 = fread(\"2023-03-23_IGM_n39367_indelsonly_rAF_bp30_rAF_loIndels.lt50bp.bin.bed\")\n",
    "rAF_lo_bp_40_df_2 = fread(\"2023-03-23_IGM_n39367_indelsonly_rAF_bp40_rAF_loIndels.lt50bp.bin.bed\")\n",
    "\n",
    "rAF_lo_bp_10_df_3 = fread(\"UK.BB.exomes.430k.sites_indelsonly_rAF_bp10_rAF_loIndels.lt50bp.region.bed\")\n",
    "rAF_lo_bp_20_df_3 = fread(\"UK.BB.exomes.430k.sites_indelsonly_rAF_bp20_rAF_loIndels.lt50bp.region.bed\")\n",
    "rAF_lo_bp_30_df_3 = fread(\"UK.BB.exomes.430k.sites_indelsonly_rAF_bp30_rAF_loIndels.lt50bp.region.bed\")\n",
    "rAF_lo_bp_40_df_3 = fread(\"UK.BB.exomes.430k.sites_indelsonly_rAF_bp40_rAF_loIndels.lt50bp.region.bed\")"
   ]
  },
  {
   "cell_type": "markdown",
   "id": "36605d1e-6a88-4ef9-ba18-be4cf60ee374",
   "metadata": {},
   "source": [
    "Read in sAF_hi bins (bedfile)."
   ]
  },
  {
   "cell_type": "code",
   "execution_count": 246,
   "id": "c32913df-45c9-4cd0-a33a-af7cce135445",
   "metadata": {},
   "outputs": [],
   "source": [
    "sAF_hi_bp_10_df_1 = fread(\"gnomad.exomes.r2.1.1.sites_indelsonly_rAF_bp10_sAF_hiIndels.lt50bp.bin.bed\")\n",
    "sAF_hi_bp_20_df_1 = fread(\"gnomad.exomes.r2.1.1.sites_indelsonly_rAF_bp20_sAF_hiIndels.lt50bp.bin.bed\")\n",
    "sAF_hi_bp_30_df_1 = fread(\"gnomad.exomes.r2.1.1.sites_indelsonly_rAF_bp30_sAF_hiIndels.lt50bp.bin.bed\")\n",
    "sAF_hi_bp_40_df_1 = fread(\"gnomad.exomes.r2.1.1.sites_indelsonly_rAF_bp40_sAF_hiIndels.lt50bp.bin.bed\")\n",
    "\n",
    "sAF_hi_bp_10_df_2 = fread(\"2023-03-23_IGM_n39367_indelsonly_rAF_bp10_sAF_hiIndels.lt50bp.bin.bed\")\n",
    "sAF_hi_bp_20_df_2 = fread(\"2023-03-23_IGM_n39367_indelsonly_rAF_bp20_sAF_hiIndels.lt50bp.bin.bed\")\n",
    "sAF_hi_bp_30_df_2 = fread(\"2023-03-23_IGM_n39367_indelsonly_rAF_bp30_sAF_hiIndels.lt50bp.bin.bed\")\n",
    "sAF_hi_bp_40_df_2 = fread(\"2023-03-23_IGM_n39367_indelsonly_rAF_bp40_sAF_hiIndels.lt50bp.bin.bed\")\n",
    "\n",
    "sAF_hi_bp_10_df_3 = fread(\"UK.BB.exomes.430k.sites_indelsonly_rAF_bp10_sAF_hiIndels.lt50bp.region.bed\")\n",
    "sAF_hi_bp_20_df_3 = fread(\"UK.BB.exomes.430k.sites_indelsonly_rAF_bp20_sAF_hiIndels.lt50bp.region.bed\")\n",
    "sAF_hi_bp_30_df_3 = fread(\"UK.BB.exomes.430k.sites_indelsonly_rAF_bp30_sAF_hiIndels.lt50bp.region.bed\")\n",
    "sAF_hi_bp_40_df_3 = fread(\"UK.BB.exomes.430k.sites_indelsonly_rAF_bp40_sAF_hiIndels.lt50bp.region.bed\")"
   ]
  },
  {
   "cell_type": "markdown",
   "id": "b3ea5bcc-ee97-4718-b52c-cb38a482cd7c",
   "metadata": {},
   "source": [
    "Use bedtools intersect to find the overlap between these bins and the LCRs."
   ]
  },
  {
   "cell_type": "code",
   "execution_count": 247,
   "id": "e710d952-55b0-4c03-9166-9fcb6eb52e4c",
   "metadata": {},
   "outputs": [
    {
     "data": {
      "text/html": [
       "<style>\n",
       ".list-inline {list-style: none; margin:0; padding: 0}\n",
       ".list-inline>li {display: inline-block}\n",
       ".list-inline>li:not(:last-child)::after {content: \"\\00b7\"; padding: 0 .5ex}\n",
       "</style>\n",
       "<ol class=list-inline><li>'10'</li><li>'20'</li><li>'30'</li><li>'40'</li><li>'10'</li><li>'20'</li><li>'30'</li><li>'40'</li><li>'10'</li><li>'20'</li><li>'30'</li><li>'40'</li></ol>\n"
      ],
      "text/latex": [
       "\\begin{enumerate*}\n",
       "\\item '10'\n",
       "\\item '20'\n",
       "\\item '30'\n",
       "\\item '40'\n",
       "\\item '10'\n",
       "\\item '20'\n",
       "\\item '30'\n",
       "\\item '40'\n",
       "\\item '10'\n",
       "\\item '20'\n",
       "\\item '30'\n",
       "\\item '40'\n",
       "\\end{enumerate*}\n"
      ],
      "text/markdown": [
       "1. '10'\n",
       "2. '20'\n",
       "3. '30'\n",
       "4. '40'\n",
       "5. '10'\n",
       "6. '20'\n",
       "7. '30'\n",
       "8. '40'\n",
       "9. '10'\n",
       "10. '20'\n",
       "11. '30'\n",
       "12. '40'\n",
       "\n",
       "\n"
      ],
      "text/plain": [
       " [1] \"10\" \"20\" \"30\" \"40\" \"10\" \"20\" \"30\" \"40\" \"10\" \"20\" \"30\" \"40\""
      ]
     },
     "metadata": {},
     "output_type": "display_data"
    }
   ],
   "source": [
    "system(\"bp_range=('10' '20' '30' '40')\n",
    "condition=('rAF_hi' 'rAF_lo' 'sAF_hi')\n",
    "\n",
    "#df_name_1='gnomAD'\n",
    "#df_name_2='IGM'\n",
    "df_name_3='UK.BB'\n",
    "\n",
    "my_date=''\n",
    "\n",
    "output_path=''\n",
    "\n",
    "#rename_lcr_file to lcr_file_38\n",
    "lcr_file = ''\n",
    "lcr_file_38='numInsteadOfChr_GRCh38_AllTandemRepeatsandHomopolymers_slop5.bed'\n",
    "\n",
    "for n in ${condition[@]};\n",
    "do \n",
    "   for i in ${bp_range[@]};\n",
    "   do\n",
    "      echo $i\n",
    "      #bedtools intersect -wa -a ${output_path}gnomad.exomes.r2.1.1.sites_indelsonly_rAF_bp${i}_${n}Indels.lt50bp.region.bed -b ${output_path}${lcr_file} | sort -k1,1n -k2,2n | uniq > ${output_path}${my_date}_LCR_intersect_${n}_${i}_df_1_${df_name_1}.bed\n",
    "      #bedtools intersect -wa -a ${output_path}2023-03-23_IGM_n39367_indelsonly_rAF_bp${i}_${n}Indels.lt50bp.region.bed -b ${output_path}${lcr_file} | sort -k1,1n -k2,2n | uniq > ${output_path}${my_date}_LCR_intersect_${n}_${i}_df_2_${df_name_2}.bed\n",
    "      bedtools intersect -wa -a ${output_path}UK.BB.exomes.430k.sites_indelsonly_rAF_bp${i}_${n}Indels.lt50bp.region.bed -b ${output_path}${lcr_file_38} | sort -k1,1n -k2,2n | uniq > ${output_path}${my_date}_LCR_intersect_${n}_${i}_df_3_${df_name_3}.bed\n",
    "   done;\n",
    "done\", intern = TRUE)"
   ]
  },
  {
   "cell_type": "markdown",
   "id": "1aec05b4-fcb0-4c94-b9b7-23db7b892214",
   "metadata": {},
   "source": [
    "Format the y-axis:"
   ]
  },
  {
   "cell_type": "code",
   "execution_count": 248,
   "id": "89f93a74-d9db-47da-96c4-c42c0b7e4d1c",
   "metadata": {},
   "outputs": [],
   "source": [
    "formatter10000 = function(x) {\n",
    "  x/10000\n",
    "}"
   ]
  },
  {
   "cell_type": "markdown",
   "id": "5932b268-c94d-4d85-9cfa-e9c7ebe52d2f",
   "metadata": {},
   "source": [
    "# Print out numbers for Supplementary Tables S7, S8, and S9\n",
    "Calculate percentages in and outside of LCR. "
   ]
  },
  {
   "cell_type": "code",
   "execution_count": 249,
   "id": "75c45e8a-72a3-4570-9969-ead0522e9252",
   "metadata": {},
   "outputs": [
    {
     "name": "stdout",
     "output_type": "stream",
     "text": [
      "[1] \"rAF_hi_total_bp_10_df_3: 8881\"\n",
      "[1] \"rAF_hi_LCR_bp_10_df_3: 6600\"\n",
      "[1] \"rAF_hi_prct_LCR_bp_10_df_3: 74%\"\n",
      "[1] \"rAF_hi_prct_not_in_LCR_bp_10_df_3: 26%\"\n",
      "[1] \"rAF_hi_total_bp_20_df_3: 10701\"\n",
      "[1] \"rAF_hi_LCR_bp_20_df_3: 7301\"\n",
      "[1] \"rAF_hi_prct_LCR_bp_20_df_3: 68%\"\n",
      "[1] \"rAF_hi_prct_not_in_LCR_bp_20_df_3: 32%\"\n",
      "[1] \"rAF_hi_total_bp_30_df_3: 11926\"\n",
      "[1] \"rAF_hi_LCR_bp_30_df_3: 7750\"\n",
      "[1] \"rAF_hi_prct_LCR_bp_30_df_3: 65%\"\n",
      "[1] \"rAF_hi_prct_not_in_LCR_bp_30_df_3: 35%\"\n",
      "[1] \"rAF_hi_total_bp_40_df_3: 12891\"\n",
      "[1] \"rAF_hi_LCR_bp_40_df_3: 8085\"\n",
      "[1] \"rAF_hi_prct_LCR_bp_40_df_3: 63%\"\n",
      "[1] \"rAF_hi_prct_not_in_LCR_bp_40_df_3: 37%\"\n",
      "[1] \"rAF_lo_total_bp_10_df_3: 355973\"\n",
      "[1] \"rAF_lo_LCR_bp_10_df_3: 38896\"\n",
      "[1] \"rAF_lo_prct_LCR_bp_10_df_3: 11%\"\n",
      "[1] \"rAF_lo_prct_not_in_LCR_bp_10_df_3: 89%\"\n",
      "[1] \"rAF_lo_total_bp_20_df_3: 336707\"\n",
      "[1] \"rAF_lo_LCR_bp_20_df_3: 34433\"\n",
      "[1] \"rAF_lo_prct_LCR_bp_20_df_3: 10%\"\n",
      "[1] \"rAF_lo_prct_not_in_LCR_bp_20_df_3: 90%\"\n",
      "[1] \"rAF_lo_total_bp_30_df_3: 322259\"\n",
      "[1] \"rAF_lo_LCR_bp_30_df_3: 31364\"\n",
      "[1] \"rAF_lo_prct_LCR_bp_30_df_3: 10%\"\n",
      "[1] \"rAF_lo_prct_not_in_LCR_bp_30_df_3: 90%\"\n",
      "[1] \"rAF_lo_total_bp_40_df_3: 310193\"\n",
      "[1] \"rAF_lo_LCR_bp_40_df_3: 29602\"\n",
      "[1] \"rAF_lo_prct_LCR_bp_40_df_3: 10%\"\n",
      "[1] \"rAF_lo_prct_not_in_LCR_bp_40_df_3: 90%\"\n",
      "[1] \"sAF_hi_total_bp_10_df_3: 28408\"\n",
      "[1] \"sAF_hi_LCR_bp_10_df_3: 12651\"\n",
      "[1] \"sAF_hi_prct_LCR_bp_10_df_3: 45%\"\n",
      "[1] \"sAF_hi_prct_not_in_LCR_bp_10_df_3: 55%\"\n",
      "[1] \"sAF_hi_total_bp_20_df_3: 27813\"\n",
      "[1] \"sAF_hi_LCR_bp_20_df_3: 12262\"\n",
      "[1] \"sAF_hi_prct_LCR_bp_20_df_3: 44%\"\n",
      "[1] \"sAF_hi_prct_not_in_LCR_bp_20_df_3: 56%\"\n",
      "[1] \"sAF_hi_total_bp_30_df_3: 27371\"\n",
      "[1] \"sAF_hi_LCR_bp_30_df_3: 11961\"\n",
      "[1] \"sAF_hi_prct_LCR_bp_30_df_3: 44%\"\n",
      "[1] \"sAF_hi_prct_not_in_LCR_bp_30_df_3: 56%\"\n",
      "[1] \"sAF_hi_total_bp_40_df_3: 27050\"\n",
      "[1] \"sAF_hi_LCR_bp_40_df_3: 11777\"\n",
      "[1] \"sAF_hi_prct_LCR_bp_40_df_3: 44%\"\n",
      "[1] \"sAF_hi_prct_not_in_LCR_bp_40_df_3: 56%\"\n"
     ]
    }
   ],
   "source": [
    "for (i in conditions) {\n",
    "  for (j in bp_range) {\n",
    "    # get files with the bins before overlap with LCR \n",
    "    total_file_df1 = paste0(i, \"_bp_\", j, \"_df_1\")\n",
    "    total_file_df2 = paste0(i, \"_bp_\", j, \"_df_2\")\n",
    "    total_file_df3 = paste0(i, \"_bp_\", j, \"_df_3\")\n",
    "    \n",
    "    # get files with bins after overlap with LCR \n",
    "    LCR_file_df1 = paste0(output_path, date, \"_LCR_intersect_\", i,\"_\", j, \"_df_1_\", df_name_1, \".bed\")\n",
    "    LCR_file_df2 = paste0(output_path, date, \"_LCR_intersect_\", i,\"_\", j, \"_df_2_\", df_name_2, \".bed\")\n",
    "    LCR_file_df3 = paste0(output_path, my_date, \"_LCR_intersect_\", i,\"_\", j, \"_df_3_\", df_name_3, \".bed\")\n",
    "    \n",
    "    n_total_df1 = paste0(i, \"_total_bp_\", j, \"_df_1\")\n",
    "    n_total_df2 = paste0(i, \"_total_bp_\", j, \"_df_2\")\n",
    "    n_total_df3 = paste0(i, \"_total_bp_\", j, \"_df_3\")\n",
    "    \n",
    "    assign( n_total_df1 , nrow(get(total_file_df1)))\n",
    "    assign( n_total_df2 , nrow(get(total_file_df2)))\n",
    "    assign( n_total_df3 , nrow(get(total_file_df3)))\n",
    "      \n",
    "    # print(paste0(n_total_df1, \": \", get(n_total_df1)))\n",
    "    # print(paste0(n_total_df2, \": \", get(n_total_df2)))\n",
    "    # print(paste0(n_total_df3, \": \", get(n_total_df3)))\n",
    "    \n",
    "    \n",
    "    n_LCR_df1 = paste0(i, \"_LCR_bp_\", j, \"_df_1\")\n",
    "    n_LCR_df2 = paste0(i, \"_LCR_bp_\", j, \"_df_2\")\n",
    "    n_LCR_df3 = paste0(i, \"_LCR_bp_\", j, \"_df_3\")\n",
    "  \n",
    "    assign( n_LCR_df1, nrow(fread(LCR_file_df1)))\n",
    "    assign( n_LCR_df2, nrow(fread(LCR_file_df2)))\n",
    "    assign( n_LCR_df3, nrow(fread(LCR_file_df3)))\n",
    "    \n",
    "    # print(paste0(n_LCR_df1, \": \", get(n_LCR_df1)))\n",
    "    # print(paste0(n_LCR_df2, \": \", get(n_LCR_df2)))\n",
    "    # print(paste0(n_LCR_df3, \": \", get(n_LCR_df3)))\n",
    "    \n",
    "    # get not in lcr \n",
    "    n_not_LCR_df1 = paste0(i, \"_not_in_LCR_bp_\", j,\"_df_1\")\n",
    "    n_not_LCR_df2 = paste0(i, \"_not_in_LCR_bp_\", j,\"_df_2\")\n",
    "    n_not_LCR_df3 = paste0(i, \"_not_in_LCR_bp_\", j,\"_df_3\")\n",
    "    \n",
    "    assign( n_not_LCR_df1, get(n_total_df1) - get(n_LCR_df1))\n",
    "    assign( n_not_LCR_df2, get(n_total_df2) - get(n_LCR_df2))\n",
    "    assign( n_not_LCR_df3, get(n_total_df3) - get(n_LCR_df3))\n",
    "    \n",
    "    #print(paste0(n_not_LCR_df1, \": \", get(n_not_LCR_df1)))\n",
    "    #print(paste0(n_not_LCR_df2, \": \", get(n_not_LCR_df2)))\n",
    "    \n",
    "    # get percent \n",
    "    prct_LCR_df1 = paste0(i, \"_prct_LCR_bp_\", j, \"_df_1\")\n",
    "    prct_LCR_df2 = paste0(i, \"_prct_LCR_bp_\", j, \"_df_2\")\n",
    "    prct_LCR_df3 = paste0(i, \"_prct_LCR_bp_\", j, \"_df_3\")\n",
    "    \n",
    "    assign( prct_LCR_df1, paste0(round(get(n_LCR_df1)/get(n_total_df1) * 100, 0), \"%\"))\n",
    "    assign( prct_LCR_df2, paste0(round(get(n_LCR_df2)/get(n_total_df2) * 100, 0), \"%\"))\n",
    "    assign( prct_LCR_df3, paste0(round(get(n_LCR_df3)/get(n_total_df3) * 100, 0), \"%\"))\n",
    "    \n",
    "    print(paste0(prct_LCR_df1, \": \", get(prct_LCR_df1)))\n",
    "    print(paste0(prct_LCR_df2, \": \", get(prct_LCR_df2)))\n",
    "    print(paste0(prct_LCR_df3, \": \", get(prct_LCR_df3)))\n",
    "    \n",
    "    # get percent \n",
    "    prct_not_in_LCR_df1 = paste0(i, \"_prct_not_in_LCR_bp_\", j, \"_df_1\")\n",
    "    prct_not_in_LCR_df2 = paste0(i, \"_prct_not_in_LCR_bp_\", j, \"_df_2\")\n",
    "    prct_not_in_LCR_df3 = paste0(i, \"_prct_not_in_LCR_bp_\", j, \"_df_3\")\n",
    "    \n",
    "    assign( prct_not_in_LCR_df1, paste0(round(get(n_not_LCR_df1)/get(n_total_df1) * 100, 0), \"%\"))\n",
    "    assign( prct_not_in_LCR_df2, paste0(round(get(n_not_LCR_df2)/get(n_total_df2) * 100, 0), \"%\"))\n",
    "    assign( prct_not_in_LCR_df3, paste0(round(get(n_not_LCR_df3)/get(n_total_df3) * 100, 0), \"%\"))\n",
    "    \n",
    "    print(paste0(prct_not_in_LCR_df1, \": \", get(prct_not_in_LCR_df1)))\n",
    "    print(paste0(prct_not_in_LCR_df2, \": \", get(prct_not_in_LCR_df2)))\n",
    "    print(paste0(prct_not_in_LCR_df3, \": \", get(prct_not_in_LCR_df3)))\n",
    "  }\n",
    "}\n"
   ]
  },
  {
   "cell_type": "code",
   "execution_count": 250,
   "id": "6c31f3e5-479f-4662-9536-c913fb311963",
   "metadata": {},
   "outputs": [],
   "source": [
    "# Defining lables and sliding window for table S7-S9\n",
    "Labels_2 = c(rep(\"rAF_hi\"), rep(\"\",2), rep(\"sAF_hi\"), rep(\"\",2), rep(\"rAF_lo\"), rep(\"\",2))\n",
    "sliding_windows = c(rep(c(\"Total\", \"In LCR\", \"Percentage in LCR\"), 3))\n"
   ]
  },
  {
   "cell_type": "code",
   "execution_count": 251,
   "id": "05a85893-adb3-4f16-ae97-10ee17212673",
   "metadata": {},
   "outputs": [],
   "source": [
    "rename_columns <- function(data) {\n",
    "  column_rename_mapping <- c(\"bp.bp10\" = \"bp10\",\n",
    "                             \"bp.bp20\" = \"bp20\",\n",
    "                             \"bp.bp30\" = \"bp30\",\n",
    "                             \"bp.bp40\" = \"bp40\",\n",
    "                             \"Labels_2\" = \"Labels\",\n",
    "                             \"sliding_windows\" = \"Sliding Regions\")\n",
    "  \n",
    "  colnames(data) <- column_rename_mapping[na.omit(colnames(data))]\n",
    "  return(data)\n",
    "}\n"
   ]
  },
  {
   "cell_type": "markdown",
   "id": "3c68e428-50a0-4a07-9aa0-f9bd8db2e5a8",
   "metadata": {},
   "source": [
    "Table S7"
   ]
  },
  {
   "cell_type": "code",
   "execution_count": 252,
   "id": "fee3112a-70df-4567-b54a-e28aa6b17fdd",
   "metadata": {},
   "outputs": [
    {
     "ename": "ERROR",
     "evalue": "Error in get(paste0(i, z, \"bp_\", j, \"_\", df)): object 'rAF_hi_total_bp_10_df_1' not found\n",
     "output_type": "error",
     "traceback": [
      "Error in get(paste0(i, z, \"bp_\", j, \"_\", df)): object 'rAF_hi_total_bp_10_df_1' not found\nTraceback:\n",
      "1. get(paste0(i, z, \"bp_\", j, \"_\", df))"
     ]
    }
   ],
   "source": [
    "\n",
    "\n",
    "bp10 <- c()\n",
    "bp20 <- c()\n",
    "bp30 <- c()\n",
    "bp40 <- c()\n",
    "df <- \"df_1\" #change df depending on which data set you want the table for \n",
    "\n",
    "conditions_ordered = c(\"rAF_hi\", \"sAF_hi\", \"rAF_lo\")\n",
    "bp <- list(bp10 = bp10, bp20 = bp20, bp30 = bp30, bp40 = bp40)\n",
    "\n",
    "information_type <- c('_total_', '_LCR_', '_prct_LCR_')\n",
    "\n",
    "#Iterates through the base pair ranges, conditions ie sAF_hi / rAF_lo / rAF_hi and if it \n",
    "#is the total number The number in LCR and percent in LCR\n",
    "#a string is made using the iterated information, that string is the variable name from the supplementary table output above\n",
    "\n",
    "for (j in bp_range) {\n",
    "  for (i in conditions_ordered) {\n",
    "    for (z in information_type){\n",
    "        \n",
    "      #sets variable_name equal to the variable represented by the string created through the for loops\n",
    "      variable_name <- get(paste0(i, z, \"bp_\", j, \"_\", df))\n",
    "\n",
    "      #sets the bp vector in the bp list equal to itself plus the new variable_name \n",
    "      bp[[paste0(\"bp\", j)]] <- c(bp[[paste0(\"bp\", j)]], variable_name)\n",
    "    }\n",
    "  }\n",
    "}\n",
    "\n",
    "\n",
    "\n",
    "table_S7 = data.frame(Labels_2, sliding_windows, bp$bp10, bp$bp20, bp$bp30, bp$bp40) \n",
    "\n",
    "\n",
    "modified_table_S7 <- rename_columns(table_S7)\n",
    "modified_table_S7"
   ]
  },
  {
   "cell_type": "markdown",
   "id": "20d28cb7-e082-4889-903f-9a0cb06e2850",
   "metadata": {},
   "source": [
    "Table S8"
   ]
  },
  {
   "cell_type": "code",
   "execution_count": null,
   "id": "731aded6-493c-4427-906e-e12163b9149e",
   "metadata": {},
   "outputs": [],
   "source": [
    "\n",
    "\n",
    "bp10 <- c()\n",
    "bp20 <- c()\n",
    "bp30 <- c()\n",
    "bp40 <- c()\n",
    "df <- \"df_2\" #change df depending on which data set you want the table for \n",
    "\n",
    "conditions_ordered = c(\"rAF_hi\", \"sAF_hi\", \"rAF_lo\")\n",
    "bp <- list(bp10 = bp10, bp20 = bp20, bp30 = bp30, bp40 = bp40)\n",
    "\n",
    "information_type <- c('_total_', '_LCR_', '_prct_LCR_')\n",
    "\n",
    "for (j in bp_range) {\n",
    "  for (i in conditions_ordered) {\n",
    "    for (z in information_type){\n",
    "      variable_name <- get(paste0(i, z, \"bp_\", j, \"_\", df))\n",
    "      \n",
    "      bp[[paste0(\"bp\", j)]] <- c(bp[[paste0(\"bp\", j)]], variable_name)\n",
    "    }\n",
    "  }\n",
    "}\n",
    "\n",
    "table_S8 = data.frame(Labels_2, sliding_windows, bp$bp10, bp$bp20, bp$bp30, bp$bp40) \n",
    "\n",
    "modified_table_S8 <- rename_columns(table_S8)\n",
    "modified_table_S8"
   ]
  },
  {
   "cell_type": "markdown",
   "id": "340092d4-96c6-4f0a-9de9-f4a9a8e40d62",
   "metadata": {},
   "source": [
    "Table S9"
   ]
  },
  {
   "cell_type": "code",
   "execution_count": 1,
   "id": "2cd76311-b5a2-45cb-849b-1e976639c869",
   "metadata": {},
   "outputs": [
    {
     "ename": "ERROR",
     "evalue": "Error in eval(expr, envir, enclos): object 'bp_range' not found\n",
     "output_type": "error",
     "traceback": [
      "Error in eval(expr, envir, enclos): object 'bp_range' not found\nTraceback:\n"
     ]
    }
   ],
   "source": [
    "bp10 <- c()\n",
    "bp20 <- c()\n",
    "bp30 <- c()\n",
    "bp40 <- c()\n",
    "df <- \"df_3\"\n",
    "\n",
    "conditions_ordered = c(\"rAF_hi\", \"sAF_hi\", \"rAF_lo\")\n",
    "bp <- list(bp10 = bp10, bp20 = bp20, bp30 = bp30, bp40 = bp40)\n",
    "\n",
    "information_type <- c('_total_', '_LCR_', '_prct_LCR_')\n",
    "\n",
    "for (j in bp_range) {\n",
    "  for (i in conditions_ordered) {\n",
    "    for (z in information_type){\n",
    "      variable_name <- get(paste0(i, z, \"bp_\", j, \"_\", df))\n",
    "      \n",
    "      bp[[paste0(\"bp\", j)]] <- c(bp[[paste0(\"bp\", j)]], variable_name)\n",
    "    }\n",
    "  }\n",
    "}\n",
    "\n",
    "table_S9 = data.frame(Labels_2, sliding_windows, bp$bp10, bp$bp20, bp$bp30, bp$bp40) \n",
    "\n",
    "\n",
    "\n",
    "modified_table_S9 <- rename_columns(table_S9)\n"
   ]
  },
  {
   "cell_type": "code",
   "execution_count": null,
   "id": "5d07c598-528c-4a8f-8f4b-801a45669fb8",
   "metadata": {},
   "outputs": [],
   "source": []
  },
  {
   "cell_type": "markdown",
   "id": "e61a1de3-b94b-4c7a-9717-a04c2712b7f8",
   "metadata": {},
   "source": [
    "Make graph. "
   ]
  },
  {
   "cell_type": "code",
   "execution_count": 256,
   "id": "2d61fdfc-3d43-4ba2-85cd-c4cfa7139de1",
   "metadata": {},
   "outputs": [
    {
     "name": "stderr",
     "output_type": "stream",
     "text": [
      "\u001b[1m\u001b[22mScale for \u001b[32my\u001b[39m is already present.\n",
      "Adding another scale for \u001b[32my\u001b[39m, which will replace the existing scale.\n",
      "\u001b[1m\u001b[22mScale for \u001b[32my\u001b[39m is already present.\n",
      "Adding another scale for \u001b[32my\u001b[39m, which will replace the existing scale.\n",
      "\u001b[1m\u001b[22mScale for \u001b[32my\u001b[39m is already present.\n",
      "Adding another scale for \u001b[32my\u001b[39m, which will replace the existing scale.\n"
     ]
    }
   ],
   "source": [
    "for (i in conditions) {\n",
    "  \n",
    "    windows = c(rep(paste0(bp_range, \" bps\"), 2))\n",
    "    region = c(rep(\"in LCR\", 4), rep(\"outside of LCR\", 4), rep(\"in LCR\", 4), rep(\"outside of LCR\", 4), rep(\"in LCR\", 4), rep(\"outside of LCR\", 4))\n",
    "    df_labels = c(rep(df_name_1, 8), rep(df_name_2, 8), rep(df_name_3, 8))\n",
    "    num_indels = c()\n",
    "    prct_indels = c()\n",
    "    \n",
    "    \n",
    "    dfs = c(\"1\", \"2\", \"3\")\n",
    "    reg = c(\"LCR\", \"not_in_LCR\")\n",
    "    for (j in dfs) {\n",
    "      for (k in reg) {\n",
    "        for (l in bp_range) {\n",
    "          num_var = paste0(i, \"_\", k, \"_bp_\", l, \"_df_\", j)\n",
    "          num_indels = append(num_indels, get(num_var))\n",
    "          \n",
    "          prct_var = paste0(i, \"_prct_\", k, \"_bp_\", l, \"_df_\", j)\n",
    "          prct_indels = append(prct_indels, get(prct_var))\n",
    "        }\n",
    "      }\n",
    "    }\n",
    "  \n",
    "  graph_df = data.frame(windows, region, num_indels, prct_indels, df_labels)\n",
    "  \n",
    "  \n",
    "  graph = paste0(\"graph_\", i)\n",
    "  assign(graph, ggplot(graph_df, aes(x = df_labels, y = num_indels, fill = interaction(region, df_labels))) + scale_y_continuous (labels = formatter10000) + geom_bar(stat = \"identity\", position = \"stack\") + facet_grid(~windows, switch = \"both\") + labs(title = paste0(i , \" Regions\"), y = \"Number of Intervals (x10000)\", x = \"Windows\", fill = \"Location\")  + scale_fill_grey(labels = c(paste0(\"Overlap\"), paste0 (\"Non-Overlap\"), paste0(\"Overlap\"), paste0 (\"Non-Overlap\"),paste0(\"Overlap\"), paste0 (\"Non-Overlap\"))) + theme(plot.title = element_text(hjust = 0.5, size = 32, margin = margin( 1, 1, 1, 1, \"cm\")), legend.position = \"top\", axis.text=element_text(size=26), axis.title=element_text(size=26), legend.title = element_text(size = 26), legend.text = element_text(size = 26), strip.text.x = element_text(size = 26), plot.margin = margin( 1, 1, 1, 1, \"cm\"), axis.title.x = element_blank(), axis.title.y = element_text(margin = margin( 1, 1, 1, 1, \"cm\")))) \n",
    "  \n",
    "  if (i == \"rAF_lo\") {\n",
    "    assign(graph, get(graph) + labs(title = \"rAF_lo Non-rAF_hi Regions\") + scale_y_continuous (labels = formatter10000, limits = c(0,800000)) + geom_bar_text(aes(label = prct_indels), position = \"stack\", reflow = TRUE, contrast = TRUE, size = 32, padding.y = grid::unit(6, \"mm\") ,outside = TRUE))\n",
    "  }\n",
    "  \n",
    "  if (i == \"sAF_hi\" | i == \"rAF_hi\") {\n",
    "    assign(graph, get(graph) + theme(legend.position = \"none\") + scale_y_continuous (labels = formatter10000, limits = c(0,70000)) + geom_bar_text(aes(label = prct_indels), position = \"stack\", reflow = TRUE, contrast = TRUE, size = 32, padding.y = grid::unit(1, \"mm\") ,outside = TRUE))\n",
    "  }\n",
    "  \n",
    "  \n",
    "}\n"
   ]
  },
  {
   "cell_type": "code",
   "execution_count": 257,
   "id": "4945f6a5-089f-461d-9c6b-df13bd11fef9",
   "metadata": {},
   "outputs": [],
   "source": [
    "null_df = data.frame() \n",
    "null_figure = ggplot(null_df) + labs(title = \"LCR Overlap Analysis\") + theme(panel.background = element_rect(fill = 'white', colour = 'white')) + theme (plot.title = element_text(hjust = 0.5, size = 32, margin = margin( 1, 1, 1, 1, \"cm\")))"
   ]
  },
  {
   "cell_type": "code",
   "execution_count": 258,
   "id": "3ac1575d-3f63-40e8-ac3c-1f1259b4611c",
   "metadata": {},
   "outputs": [],
   "source": [
    "graph_summary = ggarrange(print(null_figure), print(graph_rAF_lo), print(graph_sAF_hi), print(graph_rAF_hi), labels = c(\"A\", \"B\", \"C\", \"D\"), ncol = 2, nrow = 2, font.label = list(size = 32, color = \"black\")) + theme(plot.margin = unit(c(2,2,2,2), \"cm\"))"
   ]
  },
  {
   "cell_type": "code",
   "execution_count": 259,
   "id": "ebf1f1b9-f0ad-4e40-9f44-afb784d8cd9f",
   "metadata": {},
   "outputs": [],
   "source": [
    "setwd(\"\")\n",
    "ggsave(\"Fig4.jpg\", width = 80, height = 60, units = c(\"cm\"), dpi = 300)"
   ]
  },
  {
   "cell_type": "markdown",
   "id": "2c0b4070-bbcc-450b-8315-61e19e91af3f",
   "metadata": {},
   "source": [
    "# p-value "
   ]
  },
  {
   "cell_type": "code",
   "execution_count": 260,
   "id": "6f3741e5-16fe-4dd1-9905-b86b3749456d",
   "metadata": {},
   "outputs": [],
   "source": [
    "db = c(rep(\"gnomad\",3), rep(\"IGM\", 3), rep(\"UK.BB\", 3))\n",
    "type = c(rep(c(\"rAF_hi\", \"rAF_lo\", \"sAF_hi\"), 1))\n",
    "bins_in_LCR = c(rAF_hi_LCR_bp_10_df_1, rAF_lo_LCR_bp_10_df_1, sAF_hi_LCR_bp_10_df_1, rAF_hi_LCR_bp_10_df_2, rAF_lo_LCR_bp_10_df_2, sAF_hi_LCR_bp_10_df_2,rAF_hi_LCR_bp_10_df_3, rAF_lo_LCR_bp_10_df_3, sAF_hi_LCR_bp_10_df_3)\n",
    "bins_outside_LCR = c(rAF_hi_not_in_LCR_bp_10_df_1, rAF_lo_not_in_LCR_bp_10_df_1, sAF_hi_not_in_LCR_bp_10_df_1, rAF_hi_not_in_LCR_bp_10_df_2, rAF_lo_not_in_LCR_bp_10_df_2, sAF_hi_not_in_LCR_bp_10_df_2, rAF_hi_not_in_LCR_bp_10_df_3, rAF_lo_not_in_LCR_bp_10_df_3, sAF_hi_not_in_LCR_bp_10_df_3)\n",
    "\n"
   ]
  },
  {
   "cell_type": "code",
   "execution_count": 261,
   "id": "3e3ac8c2-5428-4f15-a781-3a7b7fbb1f98",
   "metadata": {},
   "outputs": [],
   "source": [
    "df = data.frame(db, type, bins_in_LCR, bins_outside_LCR)"
   ]
  },
  {
   "cell_type": "code",
   "execution_count": 262,
   "id": "81c9fa09-aa04-4e47-898a-111006579f3c",
   "metadata": {},
   "outputs": [],
   "source": [
    "fwrite(df, \"2023-05-03_p_value_table_LCR.csv\")"
   ]
  },
  {
   "cell_type": "code",
   "execution_count": null,
   "id": "7975f11b-116e-47d4-b4fe-b91873ff4eae",
   "metadata": {},
   "outputs": [],
   "source": []
  }
 ],
 "metadata": {
  "kernelspec": {
   "display_name": "R",
   "language": "R",
   "name": "ir"
  },
  "language_info": {
   "codemirror_mode": "r",
   "file_extension": ".r",
   "mimetype": "text/x-r-source",
   "name": "R",
   "pygments_lexer": "r",
   "version": "4.3.1"
  }
 },
 "nbformat": 4,
 "nbformat_minor": 5
}
