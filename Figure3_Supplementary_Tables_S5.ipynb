{
 "cells": [
  {
   "cell_type": "markdown",
   "id": "b5380c1c-ca0e-4a74-8840-321e0082b9d9",
   "metadata": {},
   "source": [
    "# Figure 3\n"
   ]
  },
  {
   "cell_type": "code",
   "execution_count": 1,
   "id": "fdd812c8-a881-44ef-be51-5d78a157deff",
   "metadata": {
    "vscode": {
     "languageId": "r"
    }
   },
   "outputs": [
    {
     "name": "stderr",
     "output_type": "stream",
     "text": [
      "── \u001b[1mAttaching core tidyverse packages\u001b[22m ──────────────────────── tidyverse 2.0.0 ──\n",
      "\u001b[32m✔\u001b[39m \u001b[34mdplyr    \u001b[39m 1.1.3     \u001b[32m✔\u001b[39m \u001b[34mreadr    \u001b[39m 2.1.4\n",
      "\u001b[32m✔\u001b[39m \u001b[34mforcats  \u001b[39m 1.0.0     \u001b[32m✔\u001b[39m \u001b[34mstringr  \u001b[39m 1.5.0\n",
      "\u001b[32m✔\u001b[39m \u001b[34mggplot2  \u001b[39m 3.4.3     \u001b[32m✔\u001b[39m \u001b[34mtibble   \u001b[39m 3.2.1\n",
      "\u001b[32m✔\u001b[39m \u001b[34mlubridate\u001b[39m 1.9.2     \u001b[32m✔\u001b[39m \u001b[34mtidyr    \u001b[39m 1.3.0\n",
      "\u001b[32m✔\u001b[39m \u001b[34mpurrr    \u001b[39m 1.0.2     \n",
      "── \u001b[1mConflicts\u001b[22m ────────────────────────────────────────── tidyverse_conflicts() ──\n",
      "\u001b[31m✖\u001b[39m \u001b[34mdplyr\u001b[39m::\u001b[32mfilter()\u001b[39m masks \u001b[34mstats\u001b[39m::filter()\n",
      "\u001b[31m✖\u001b[39m \u001b[34mdplyr\u001b[39m::\u001b[32mlag()\u001b[39m    masks \u001b[34mstats\u001b[39m::lag()\n",
      "\u001b[36mℹ\u001b[39m Use the conflicted package (\u001b[3m\u001b[34m<http://conflicted.r-lib.org/>\u001b[39m\u001b[23m) to force all conflicts to become errors\n",
      "\n",
      "Attaching package: ‘data.table’\n",
      "\n",
      "\n",
      "The following objects are masked from ‘package:lubridate’:\n",
      "\n",
      "    hour, isoweek, mday, minute, month, quarter, second, wday, week,\n",
      "    yday, year\n",
      "\n",
      "\n",
      "The following objects are masked from ‘package:dplyr’:\n",
      "\n",
      "    between, first, last\n",
      "\n",
      "\n",
      "The following object is masked from ‘package:purrr’:\n",
      "\n",
      "    transpose\n",
      "\n",
      "\n"
     ]
    }
   ],
   "source": [
    "# Load in packages\n",
    "library(tidyverse)\n",
    "library(data.table)\n",
    "library(readxl)\n",
    "library(dplyr)\n",
    "library(stringr)"
   ]
  },
  {
   "cell_type": "code",
   "execution_count": 2,
   "id": "e2c062e4-4880-4034-a376-a8d791a22f09",
   "metadata": {
    "vscode": {
     "languageId": "r"
    }
   },
   "outputs": [],
   "source": [
    "#Clear environment: \n",
    "rm(list=ls())\n",
    "setwd(\"\")"
   ]
  },
  {
   "cell_type": "markdown",
   "id": "a3452eff-9d06-4700-b471-a726edf26cc6",
   "metadata": {},
   "source": [
    "# Set your datasets below and read in the files containing all indels ≤ 50bp for each dataset:"
   ]
  },
  {
   "cell_type": "code",
   "execution_count": 3,
   "id": "036c7fb2-04ac-4048-83e3-04ae0a3e45b1",
   "metadata": {
    "vscode": {
     "languageId": "r"
    }
   },
   "outputs": [],
   "source": [
    "\n",
    "## define dfs \n",
    "df_name_1 = \"gnomAD\"\n",
    "df_name_2 = \"IGM\"\n",
    "df_name_3 = \"UKBB\"\n",
    "\n",
    "## Read in dataframe (total)\n",
    "df_1 = fread(\"gnomAD/gnomad.exomes.r2.1.1.sites_indelsonly_rAF_lt50bp.csv\", header = TRUE )\n",
    "df_2 = fread(\"IGM/2023-03-23_IGM_n39367_indelsonly_rAF_lt50bp.csv\", header = TRUE )\n",
    "df_3 = fread(\"UKBB/UK.BB.exomes.430k.sites_indelsonly_rAF_lt50bp.csv\", header = TRUE )\n"
   ]
  },
  {
   "cell_type": "markdown",
   "id": "efb0010a-91be-4edb-81ec-193b1fe2342b",
   "metadata": {},
   "source": [
    "# Read in rAF-hi indels file for each dataset: "
   ]
  },
  {
   "cell_type": "code",
   "execution_count": 4,
   "id": "c97fc5d5-b390-4a3c-b5fc-3ccf08755ee8",
   "metadata": {
    "vscode": {
     "languageId": "r"
    }
   },
   "outputs": [],
   "source": [
    "rAF_hi_bp_10_df_1 = fread(\"gnomAD/gnomad.exomes.r2.1.1.sites_indelsonly_rAF_bp10_rAF_hiIndels.lt50bp.csv\", header = TRUE)\n",
    "rAF_hi_bp_20_df_1 = fread(\"gnomAD/gnomad.exomes.r2.1.1.sites_indelsonly_rAF_bp20_rAF_hiIndels.lt50bp.csv\", header = TRUE)\n",
    "rAF_hi_bp_30_df_1 = fread(\"gnomAD/gnomad.exomes.r2.1.1.sites_indelsonly_rAF_bp30_rAF_hiIndels.lt50bp.csv\", header = TRUE)\n",
    "rAF_hi_bp_40_df_1 = fread(\"gnomAD/gnomad.exomes.r2.1.1.sites_indelsonly_rAF_bp40_rAF_hiIndels.lt50bp.csv\", header = TRUE)\n",
    "\n",
    "rAF_hi_bp_10_df_2 = fread(\"IGM/2023-03-23_IGM_n39367_indelsonly_rAF_bp10_rAF_hiIndels.lt50bp.csv\", header = TRUE)\n",
    "rAF_hi_bp_20_df_2 = fread(\"IGM/2023-03-23_IGM_n39367_indelsonly_rAF_bp20_rAF_hiIndels.lt50bp.csv\", header = TRUE)\n",
    "rAF_hi_bp_30_df_2 = fread(\"IGM/2023-03-23_IGM_n39367_indelsonly_rAF_bp30_rAF_hiIndels.lt50bp.csv\", header = TRUE)\n",
    "rAF_hi_bp_40_df_2 = fread(\"IGM/2023-03-23_IGM_n39367_indelsonly_rAF_bp40_rAF_hiIndels.lt50bp.csv\", header = TRUE)\n",
    "\n",
    "rAF_hi_bp_10_df_3 = fread(\"UKBB/UK.BB.exomes.430k.sites_indelsonly_rAF_bp10_rAF_hiIndels.lt50bp.csv\", header = TRUE)\n",
    "rAF_hi_bp_20_df_3 = fread(\"UKBB/UK.BB.exomes.430k.sites_indelsonly_rAF_bp20_rAF_hiIndels.lt50bp.csv\", header = TRUE)\n",
    "rAF_hi_bp_30_df_3 = fread(\"UKBB/UK.BB.exomes.430k.sites_indelsonly_rAF_bp30_rAF_hiIndels.lt50bp.csv\", header = TRUE)\n",
    "rAF_hi_bp_40_df_3 = fread(\"UKBB/UK.BB.exomes.430k.sites_indelsonly_rAF_bp40_rAF_hiIndels.lt50bp.csv\", header = TRUE)\n"
   ]
  },
  {
   "cell_type": "code",
   "execution_count": 5,
   "id": "35fab43b-7636-4153-80cf-1bb2cc80569d",
   "metadata": {
    "vscode": {
     "languageId": "r"
    }
   },
   "outputs": [],
   "source": [
    "#Declare your bp range:\n",
    "\n",
    "bp_range = c(\"10\", \"20\", \"30\", \"40\")"
   ]
  },
  {
   "cell_type": "code",
   "execution_count": 6,
   "id": "42686af9-fb78-43b9-bdc8-e3a4e7c3eedf",
   "metadata": {
    "vscode": {
     "languageId": "r"
    }
   },
   "outputs": [],
   "source": [
    "#Define your sAF_lo threshold:\n",
    "sAF_lo = (1 * 10^-4)"
   ]
  },
  {
   "cell_type": "markdown",
   "id": "80f5ff35-480e-452a-9e59-f3cc42805264",
   "metadata": {},
   "source": [
    "# Find the total number of indels that are sAF-lo by sAF "
   ]
  },
  {
   "cell_type": "code",
   "execution_count": 7,
   "id": "1910df4a-4007-4eee-99bb-621b1fa36115",
   "metadata": {
    "vscode": {
     "languageId": "r"
    }
   },
   "outputs": [],
   "source": [
    "tot_sAF_lo_sAF_df1 = nrow(df_1 %>% filter(sAF <= sAF_lo))\n",
    "tot_sAF_lo_sAF_df2 = nrow(df_2 %>% filter(sAF <= sAF_lo))\n",
    "tot_sAF_lo_sAF_df3 = nrow(df_3 %>% filter(sAF <= sAF_lo))\n"
   ]
  },
  {
   "cell_type": "markdown",
   "id": "763e5db4-cb4d-4ba8-b553-d7752b28b60c",
   "metadata": {},
   "source": [
    "# Calculate the number and percentages of the sAF_lo sAF indels that are also sAF-lo by rAF for each bp window and also calculate the number and percentages of the sAF-lo sAF indels that are rAF-hi (sAF-hi by rAF for each bp window) "
   ]
  },
  {
   "cell_type": "code",
   "execution_count": 8,
   "id": "58db889a-860d-41bc-b735-f2a8b7bb7596",
   "metadata": {
    "vscode": {
     "languageId": "r"
    }
   },
   "outputs": [],
   "source": [
    "for (i in bp_range) {\n",
    "  # call that var\n",
    "  temp_df_1 = paste0(\"rAF_hi_bp_\", i, \"_df_1\")\n",
    "  temp_df_2 = paste0(\"rAF_hi_bp_\", i, \"_df_2\")\n",
    "  temp_df_3 = paste0(\"rAF_hi_bp_\", i, \"_df_3\")\n",
    "  \n",
    "  ## calculate the number of rAF_hi indels \n",
    "  num_df_1 = paste0(\"num_rAF_hi_bp_\", i , \"_df_1\")\n",
    "  assign(num_df_1, nrow(get(temp_df_1)))\n",
    "  \n",
    "  num_df_2 = paste0(\"num_rAF_hi_bp_\", i , \"_df_2\")\n",
    "  assign(num_df_2, nrow(get(temp_df_2)))\n",
    "  \n",
    "  num_df_3 = paste0(\"num_rAF_hi_bp_\", i , \"_df_3\")\n",
    "  assign(num_df_3, nrow(get(temp_df_3)))\n",
    "  \n",
    "  # get the number of rAF_lo indels \n",
    "  rAF_lo_df_1 = paste0(\"num_rAF_lo_bp_\", i , \"_df_1\")\n",
    "  assign(rAF_lo_df_1, (tot_sAF_lo_sAF_df1 - nrow(get(temp_df_1))))\n",
    "  \n",
    "  rAF_lo_df_2 = paste0(\"num_rAF_lo_bp_\", i , \"_df_2\")\n",
    "  assign(rAF_lo_df_2, (tot_sAF_lo_sAF_df2 - nrow(get(temp_df_2))))\n",
    "  \n",
    "  \n",
    "  rAF_lo_df_3 = paste0(\"num_rAF_lo_bp_\", i , \"_df_3\")\n",
    "  assign(rAF_lo_df_3, (tot_sAF_lo_sAF_df3 - nrow(get(temp_df_3))))\n",
    "  \n",
    "  \n",
    "  ## calculate the percentage and save in dynamic variable \n",
    "  percent_df_1 = paste0(\"percent_rAF_hi_bp_\", i, \"_df_1\")\n",
    "  assign(percent_df_1, round(((get(num_df_1) / tot_sAF_lo_sAF_df1) ),2))\n",
    "  \n",
    "  percent_df_2 = paste0(\"percent_rAF_hi_bp_\", i, \"_df_2\")\n",
    "  assign(percent_df_2, round(((get(num_df_2) / tot_sAF_lo_sAF_df2) ),2))\n",
    "  \n",
    "  percent_df_3 = paste0(\"percent_rAF_hi_bp_\", i, \"_df_3\")\n",
    "  assign(percent_df_3, round(((get(num_df_3) / tot_sAF_lo_sAF_df3) ),2))\n",
    "  \n",
    "  ## find the percentage of the rAF_lo rAF genes \n",
    "  percent_diff_df_1 = paste0(\"percent_rAF_lo_bp_\", i, \"_df_1\")\n",
    "  assign(percent_diff_df_1, round(((get(rAF_lo_df_1) / tot_sAF_lo_sAF_df1) ),2))\n",
    "  \n",
    "  percent_diff_df_2 = paste0(\"percent_rAF_lo_bp_\", i, \"_df_2\")\n",
    "  assign(percent_diff_df_2, round(((get(rAF_lo_df_2) / tot_sAF_lo_sAF_df2) ),2))\n",
    "  \n",
    "  percent_diff_df_3 = paste0(\"percent_rAF_lo_bp_\", i, \"_df_3\")\n",
    "  assign(percent_diff_df_3, round(((get(rAF_lo_df_3) / tot_sAF_lo_sAF_df3) ),2))\n",
    "}"
   ]
  },
  {
   "cell_type": "markdown",
   "id": "c92c5ae7-58a3-4b52-9315-fa061c836d9f",
   "metadata": {},
   "source": [
    "# Make dataframe for graph "
   ]
  },
  {
   "cell_type": "code",
   "execution_count": 9,
   "id": "b954a8c3-b8a2-47cb-ade8-cdb23c7f8fe6",
   "metadata": {
    "vscode": {
     "languageId": "r"
    }
   },
   "outputs": [
    {
     "name": "stderr",
     "output_type": "stream",
     "text": [
      "\u001b[1m\u001b[22mSaving 7 x 7 in image\n"
     ]
    },
    {
     "data": {
      "image/png": "[encoded data removed]",
      "text/plain": [
       "plot without title"
      ]
     },
     "metadata": {
      "image/png": {
       "height": 420,
       "width": 420
      }
     },
     "output_type": "display_data"
    }
   ],
   "source": [
    "windows = c(rep(bp_range, 6))\n",
    "condition = c(rep(\"rAF_hi\", 4), rep(\"rAF_lo\", 4), rep(\"rAF_hi\", 4), rep(\"rAF_lo\", 4), rep(\"rAF_hi\", 4), rep(\"rAF_lo\", 4))\n",
    "\n",
    "\n",
    "num_indels = c(num_rAF_hi_bp_10_df_1, num_rAF_hi_bp_20_df_1, num_rAF_hi_bp_30_df_1, num_rAF_hi_bp_40_df_1, num_rAF_lo_bp_10_df_1, num_rAF_lo_bp_20_df_1, num_rAF_lo_bp_30_df_1, num_rAF_lo_bp_40_df_1, num_rAF_hi_bp_10_df_2, num_rAF_hi_bp_20_df_2, num_rAF_hi_bp_30_df_2, num_rAF_hi_bp_40_df_2, num_rAF_lo_bp_10_df_2, num_rAF_lo_bp_20_df_2, num_rAF_lo_bp_30_df_2, num_rAF_lo_bp_40_df_2, num_rAF_hi_bp_10_df_3, num_rAF_hi_bp_20_df_3, num_rAF_hi_bp_30_df_3, num_rAF_hi_bp_40_df_3, num_rAF_lo_bp_10_df_3, num_rAF_lo_bp_20_df_3, num_rAF_lo_bp_30_df_3, num_rAF_lo_bp_40_df_3)\n",
    "\n",
    "\n",
    "perct_indels = c(percent_rAF_hi_bp_10_df_1, percent_rAF_hi_bp_20_df_1, percent_rAF_hi_bp_30_df_1, percent_rAF_hi_bp_40_df_1, percent_rAF_lo_bp_10_df_1, percent_rAF_lo_bp_20_df_1, percent_rAF_lo_bp_30_df_1, percent_rAF_lo_bp_40_df_1, percent_rAF_hi_bp_10_df_2, percent_rAF_hi_bp_20_df_2, percent_rAF_hi_bp_30_df_2, percent_rAF_hi_bp_40_df_2, percent_rAF_lo_bp_10_df_2, percent_rAF_lo_bp_20_df_2, percent_rAF_lo_bp_30_df_2, percent_rAF_lo_bp_40_df_2, percent_rAF_hi_bp_10_df_3, percent_rAF_hi_bp_20_df_3, percent_rAF_hi_bp_30_df_3, percent_rAF_hi_bp_40_df_3, percent_rAF_lo_bp_10_df_3, percent_rAF_lo_bp_20_df_3, percent_rAF_lo_bp_30_df_3, percent_rAF_lo_bp_40_df_3 )\n",
    "\n",
    "df_labels = c(rep(df_name_1, 8), rep(df_name_2, 8),rep(df_name_3, 8))\n",
    "\n",
    "\n",
    "graph_df = data.frame(windows, condition, num_indels, perct_indels, df_labels)\n",
    "graph_df$percentage_labels = paste0(graph_df$perct_indels * 100, \"%\")\n",
    "\n",
    "#Make graph with only rAF_hi\n",
    "\n",
    "graph_df = graph_df %>% filter (condition == \"rAF_hi\")\n",
    "\n",
    "ggplot(graph_df, aes(x = df_labels, y = perct_indels)) + \n",
    "         geom_bar(stat = \"identity\", position = \"stack\") + \n",
    "         scale_y_continuous(labels = scales::percent_format(scale = 100), limits = c(0 , 0.25)) + \n",
    "         facet_grid(~windows, switch = \"both\")  +  \n",
    "         theme(legend.position = \"top\") + \n",
    "         labs( y = \"\", x = \"Ranges\", fill = \"Indel Type\") +  \n",
    "         geom_text(aes(label = percentage_labels), color = \"black\", vjust = -0.2 ) \n",
    "\n",
    "setwd(\"\")\n",
    "ggsave(\"fig3.jpg\")"
   ]
  },
  {
   "cell_type": "code",
   "execution_count": 10,
   "id": "ace7371b-51c5-4f1a-84de-3048b1857a9d",
   "metadata": {
    "vscode": {
     "languageId": "r"
    }
   },
   "outputs": [
    {
     "name": "stdout",
     "output_type": "stream",
     "text": [
      "[1] \"In the dataframe gnomAD there are 101092 rAF_hi indels in the 10bp sliding window.\"\n",
      "[1] \"In the dataframe gnomAD rAF_hi indels account for 0.11 percent in the 10bp sliding window.\"\n",
      "[1] \"In the dataframe IGM there are 28436 rAF_hi indels in the 10bp sliding window.\"\n",
      "[1] \"In the dataframe IGM rAF_hi indels account for 0.11 percent in the 10bp sliding window.\"\n",
      "[1] \"In the dataframe UKBB there are 18608 rAF_hi indels in the 10bp sliding window.\"\n",
      "[1] \"In the dataframe UKBB rAF_hi indels account for 0.05 percent in the 10bp sliding window.\"\n",
      "[1] \"In the dataframe gnomAD there are 135872 rAF_hi indels in the 20bp sliding window.\"\n",
      "[1] \"In the dataframe gnomAD rAF_hi indels account for 0.15 percent in the 20bp sliding window.\"\n",
      "[1] \"In the dataframe IGM there are 39329 rAF_hi indels in the 20bp sliding window.\"\n",
      "[1] \"In the dataframe IGM rAF_hi indels account for 0.16 percent in the 20bp sliding window.\"\n",
      "[1] \"In the dataframe UKBB there are 24877 rAF_hi indels in the 20bp sliding window.\"\n",
      "[1] \"In the dataframe UKBB rAF_hi indels account for 0.06 percent in the 20bp sliding window.\"\n",
      "[1] \"In the dataframe gnomAD there are 159826 rAF_hi indels in the 30bp sliding window.\"\n",
      "[1] \"In the dataframe gnomAD rAF_hi indels account for 0.18 percent in the 30bp sliding window.\"\n",
      "[1] \"In the dataframe IGM there are 48224 rAF_hi indels in the 30bp sliding window.\"\n",
      "[1] \"In the dataframe IGM rAF_hi indels account for 0.19 percent in the 30bp sliding window.\"\n",
      "[1] \"In the dataframe UKBB there are 29900 rAF_hi indels in the 30bp sliding window.\"\n",
      "[1] \"In the dataframe UKBB rAF_hi indels account for 0.08 percent in the 30bp sliding window.\"\n",
      "[1] \"In the dataframe gnomAD there are 178872 rAF_hi indels in the 40bp sliding window.\"\n",
      "[1] \"In the dataframe gnomAD rAF_hi indels account for 0.2 percent in the 40bp sliding window.\"\n",
      "[1] \"In the dataframe IGM there are 55962 rAF_hi indels in the 40bp sliding window.\"\n",
      "[1] \"In the dataframe IGM rAF_hi indels account for 0.22 percent in the 40bp sliding window.\"\n",
      "[1] \"In the dataframe UKBB there are 33959 rAF_hi indels in the 40bp sliding window.\"\n",
      "[1] \"In the dataframe UKBB rAF_hi indels account for 0.09 percent in the 40bp sliding window.\"\n"
     ]
    },
    {
     "data": {
      "text/html": [
       "<table class=\"dataframe\">\n",
       "<caption>A data.frame: 12 × 6</caption>\n",
       "<thead>\n",
       "\t<tr><th scope=col>windows</th><th scope=col>condition</th><th scope=col>num_indels</th><th scope=col>perct_indels</th><th scope=col>df_labels</th><th scope=col>percentage_labels</th></tr>\n",
       "\t<tr><th scope=col>&lt;chr&gt;</th><th scope=col>&lt;chr&gt;</th><th scope=col>&lt;int&gt;</th><th scope=col>&lt;dbl&gt;</th><th scope=col>&lt;chr&gt;</th><th scope=col>&lt;chr&gt;</th></tr>\n",
       "</thead>\n",
       "<tbody>\n",
       "\t<tr><td>10</td><td>rAF_hi</td><td>101092</td><td>0.11</td><td>gnomAD</td><td>11%</td></tr>\n",
       "\t<tr><td>20</td><td>rAF_hi</td><td>135872</td><td>0.15</td><td>gnomAD</td><td>15%</td></tr>\n",
       "\t<tr><td>30</td><td>rAF_hi</td><td>159826</td><td>0.18</td><td>gnomAD</td><td>18%</td></tr>\n",
       "\t<tr><td>40</td><td>rAF_hi</td><td>178872</td><td>0.20</td><td>gnomAD</td><td>20%</td></tr>\n",
       "\t<tr><td>10</td><td>rAF_hi</td><td> 28436</td><td>0.11</td><td>IGM   </td><td>11%</td></tr>\n",
       "\t<tr><td>20</td><td>rAF_hi</td><td> 39329</td><td>0.16</td><td>IGM   </td><td>16%</td></tr>\n",
       "\t<tr><td>30</td><td>rAF_hi</td><td> 48224</td><td>0.19</td><td>IGM   </td><td>19%</td></tr>\n",
       "\t<tr><td>40</td><td>rAF_hi</td><td> 55962</td><td>0.22</td><td>IGM   </td><td>22%</td></tr>\n",
       "\t<tr><td>10</td><td>rAF_hi</td><td> 18608</td><td>0.05</td><td>UKBB  </td><td>5% </td></tr>\n",
       "\t<tr><td>20</td><td>rAF_hi</td><td> 24877</td><td>0.06</td><td>UKBB  </td><td>6% </td></tr>\n",
       "\t<tr><td>30</td><td>rAF_hi</td><td> 29900</td><td>0.08</td><td>UKBB  </td><td>8% </td></tr>\n",
       "\t<tr><td>40</td><td>rAF_hi</td><td> 33959</td><td>0.09</td><td>UKBB  </td><td>9% </td></tr>\n",
       "</tbody>\n",
       "</table>\n"
      ],
      "text/latex": [
       "A data.frame: 12 × 6\n",
       "\\begin{tabular}{llllll}\n",
       " windows & condition & num\\_indels & perct\\_indels & df\\_labels & percentage\\_labels\\\\\n",
       " <chr> & <chr> & <int> & <dbl> & <chr> & <chr>\\\\\n",
       "\\hline\n",
       "\t 10 & rAF\\_hi & 101092 & 0.11 & gnomAD & 11\\%\\\\\n",
       "\t 20 & rAF\\_hi & 135872 & 0.15 & gnomAD & 15\\%\\\\\n",
       "\t 30 & rAF\\_hi & 159826 & 0.18 & gnomAD & 18\\%\\\\\n",
       "\t 40 & rAF\\_hi & 178872 & 0.20 & gnomAD & 20\\%\\\\\n",
       "\t 10 & rAF\\_hi &  28436 & 0.11 & IGM    & 11\\%\\\\\n",
       "\t 20 & rAF\\_hi &  39329 & 0.16 & IGM    & 16\\%\\\\\n",
       "\t 30 & rAF\\_hi &  48224 & 0.19 & IGM    & 19\\%\\\\\n",
       "\t 40 & rAF\\_hi &  55962 & 0.22 & IGM    & 22\\%\\\\\n",
       "\t 10 & rAF\\_hi &  18608 & 0.05 & UKBB   & 5\\% \\\\\n",
       "\t 20 & rAF\\_hi &  24877 & 0.06 & UKBB   & 6\\% \\\\\n",
       "\t 30 & rAF\\_hi &  29900 & 0.08 & UKBB   & 8\\% \\\\\n",
       "\t 40 & rAF\\_hi &  33959 & 0.09 & UKBB   & 9\\% \\\\\n",
       "\\end{tabular}\n"
      ],
      "text/markdown": [
       "\n",
       "A data.frame: 12 × 6\n",
       "\n",
       "| windows &lt;chr&gt; | condition &lt;chr&gt; | num_indels &lt;int&gt; | perct_indels &lt;dbl&gt; | df_labels &lt;chr&gt; | percentage_labels &lt;chr&gt; |\n",
       "|---|---|---|---|---|---|\n",
       "| 10 | rAF_hi | 101092 | 0.11 | gnomAD | 11% |\n",
       "| 20 | rAF_hi | 135872 | 0.15 | gnomAD | 15% |\n",
       "| 30 | rAF_hi | 159826 | 0.18 | gnomAD | 18% |\n",
       "| 40 | rAF_hi | 178872 | 0.20 | gnomAD | 20% |\n",
       "| 10 | rAF_hi |  28436 | 0.11 | IGM    | 11% |\n",
       "| 20 | rAF_hi |  39329 | 0.16 | IGM    | 16% |\n",
       "| 30 | rAF_hi |  48224 | 0.19 | IGM    | 19% |\n",
       "| 40 | rAF_hi |  55962 | 0.22 | IGM    | 22% |\n",
       "| 10 | rAF_hi |  18608 | 0.05 | UKBB   | 5%  |\n",
       "| 20 | rAF_hi |  24877 | 0.06 | UKBB   | 6%  |\n",
       "| 30 | rAF_hi |  29900 | 0.08 | UKBB   | 8%  |\n",
       "| 40 | rAF_hi |  33959 | 0.09 | UKBB   | 9%  |\n",
       "\n"
      ],
      "text/plain": [
       "   windows condition num_indels perct_indels df_labels percentage_labels\n",
       "1  10      rAF_hi    101092     0.11         gnomAD    11%              \n",
       "2  20      rAF_hi    135872     0.15         gnomAD    15%              \n",
       "3  30      rAF_hi    159826     0.18         gnomAD    18%              \n",
       "4  40      rAF_hi    178872     0.20         gnomAD    20%              \n",
       "5  10      rAF_hi     28436     0.11         IGM       11%              \n",
       "6  20      rAF_hi     39329     0.16         IGM       16%              \n",
       "7  30      rAF_hi     48224     0.19         IGM       19%              \n",
       "8  40      rAF_hi     55962     0.22         IGM       22%              \n",
       "9  10      rAF_hi     18608     0.05         UKBB      5%               \n",
       "10 20      rAF_hi     24877     0.06         UKBB      6%               \n",
       "11 30      rAF_hi     29900     0.08         UKBB      8%               \n",
       "12 40      rAF_hi     33959     0.09         UKBB      9%               "
      ]
     },
     "metadata": {},
     "output_type": "display_data"
    }
   ],
   "source": [
    "for (i in bp_range) {\n",
    "  num_df1 = paste0(\"num_rAF_hi_bp_\", i , \"_df_1\")\n",
    "  num_df2 = paste0(\"num_rAF_hi_bp_\", i , \"_df_2\")\n",
    "  num_df3 = paste0(\"num_rAF_hi_bp_\", i , \"_df_3\")\n",
    "  \n",
    "  prct_df1 = paste0(\"percent_rAF_hi_bp_\", i, \"_df_1\")\n",
    "  prct_df2 = paste0(\"percent_rAF_hi_bp_\", i, \"_df_2\")\n",
    "  prct_df3 = paste0(\"percent_rAF_hi_bp_\", i, \"_df_3\")\n",
    "  \n",
    "  print (paste0(\"In the dataframe \", df_name_1, \" there are \", get(num_df1), \" rAF_hi indels in the \",i,\"bp sliding window.\"))\n",
    "  print (paste0(\"In the dataframe \", df_name_1, \" rAF_hi indels account for \", get(prct_df1), \" percent in the \",i,\"bp sliding window.\"))\n",
    "\n",
    "\n",
    "  print (paste0(\"In the dataframe \", df_name_2, \" there are \", get(num_df2), \" rAF_hi indels in the \",i,\"bp sliding window.\"))\n",
    "  print (paste0(\"In the dataframe \", df_name_2, \" rAF_hi indels account for \", get(prct_df2), \" percent in the \",i,\"bp sliding window.\"))\n",
    "  \n",
    "  print (paste0(\"In the dataframe \", df_name_3, \" there are \", get(num_df3), \" rAF_hi indels in the \",i,\"bp sliding window.\"))\n",
    "  print (paste0(\"In the dataframe \", df_name_3, \" rAF_hi indels account for \", get(prct_df3), \" percent in the \",i,\"bp sliding window.\"))\n",
    "}\n",
    "\n",
    "graph_df"
   ]
  },
  {
   "cell_type": "markdown",
   "id": "04f01686",
   "metadata": {},
   "source": [
    "# A note on annotation\n",
    "\n",
    "Use VEP to annotate the UK variant vcf file with the gene names.\n",
    "\n",
    "The code below is a linux command that can be used to get the CHR POS REF ALT SYMBOL columns\n",
    "\n",
    "gzcat UKBB_Indels_sorted.processed.vep.vcf.gz | bcftools query -f '%CHROM\\t%POS\\t%REF\\t%ALT\\t%INFO/CSQ\\n' | sed 's/|/\\t/g' | cut -f 1,2,3,4,8 > UKBB_annotated_genes.txt"
   ]
  },
  {
   "cell_type": "markdown",
   "id": "cc53ac0c",
   "metadata": {},
   "source": [
    "# Find number of genes. "
   ]
  },
  {
   "cell_type": "code",
   "execution_count": 11,
   "id": "0babb724",
   "metadata": {},
   "outputs": [
    {
     "ename": "ERROR",
     "evalue": "Error in setwd(\"\"): cannot change working directory\n",
     "output_type": "error",
     "traceback": [
      "Error in setwd(\"\"): cannot change working directory\nTraceback:\n",
      "1. setwd(\"\")"
     ]
    }
   ],
   "source": [
    "setwd (\"\")\n",
    "\n",
    "sample_name_gene_name_df1 = fread(\"gnomAD/gnomad.exomes.r2.1.1.sites_indelsonly.vcf_withFirstSYMBOL.txt\")   %>% filter(SYMBOL != \"\")\n",
    "sample_name_gene_name_df1$VarID = paste0(sample_name_gene_name_df1$CHR, \"-\" ,sample_name_gene_name_df1$POS, \"-\", sample_name_gene_name_df1$REF,\"-\", sample_name_gene_name_df1$ALT)\n",
    "colnames(sample_name_gene_name_df1) = c(\"CHR\", \"POS\", \"REF\", \"ALT\", \"geneName\", \"VarID\")\n",
    "\n",
    "sample_name_gene_name_df2 = fread(\"IGM/2023-03-24_11-47-14_IGM_n39367_indels_genotypes_selectcols.csv\")  %>% filter(`Sample Name` != \"\")\n",
    "colnames(sample_name_gene_name_df2) = c(\"VarID\", \"geneName\", \"sampleName\", \"coveredCtrl\", \"AC\")\n",
    "\n",
    "sample_name_gene_name_df3 = fread(\"UKBB/UKBB_annotated_genes.txt\", fill = TRUE) %>% filter(V5 != \"\")\n",
    "sample_name_gene_name_df3$VarID = paste0(sample_name_gene_name_df3$V1, \"-\", sample_name_gene_name_df3$V2, \"-\", sample_name_gene_name_df3$V3, \"-\", sample_name_gene_name_df3$V4)\n",
    "colnames(sample_name_gene_name_df3) = c(\"CHR\", \"POS\", \"REF\", \"ALT\", \"geneName\", \"VarID\")\n",
    "\n",
    "# set bp ranges and variant effects \n",
    "bp_range = c(\"10\", \"20\", \"30\", \"40\")\n",
    "\n",
    "df_name_1=\"gnomAD\"\n",
    "df_name_2=\"IGM\"\n",
    "df_name_3=\"UKBB\"\n",
    "\n",
    "\n",
    "## Suspicious indels were identified in XX genes in the IGM dataset and YY genes in the gnomAD dataset and ZZ genes in the UKBB dataset. \n",
    "\n",
    "for (i in bp_range) {\n",
    "  \n",
    "  ## get df with sus indels \n",
    "  rAF_hi_df_1 = paste0(\"rAF_hi_bp_\", i, \"_df_1\")\n",
    "  rAF_hi_df_2 = paste0(\"rAF_hi_bp_\", i, \"_df_2\")\n",
    "  rAF_hi_df_3 = paste0(\"rAF_hi_bp_\", i, \"_df_3\")\n",
    "  \n",
    "  ## merge with sample name and gene name \n",
    "  df1_with_gene = paste0(\"df_1_with_gene_bp\", i)\n",
    "  df2_with_gene = paste0(\"df_2_with_gene_bp\", i)\n",
    "  df3_with_gene = paste0(\"df_3_with_gene_bp\", i)\n",
    "  \n",
    "  assign(df1_with_gene, merge(get(rAF_hi_df_1), sample_name_gene_name_df1, by = \"VarID\"))\n",
    "  assign(df2_with_gene, merge(get(rAF_hi_df_2), sample_name_gene_name_df2, by = \"VarID\"))\n",
    "  assign(df3_with_gene, merge(get(rAF_hi_df_3), sample_name_gene_name_df3, by = \"VarID\"))\n",
    "  \n",
    "  ## find unique number of gene names \n",
    "  uniq_genes_df1 = paste0(\"uniq_genes_df1_bp\", i)\n",
    "  uniq_genes_df2 = paste0(\"uniq_genes_df2_bp\", i)\n",
    "  uniq_genes_df3 = paste0(\"uniq_genes_df3_bp\", i)\n",
    "  \n",
    "  assign(uniq_genes_df1, nrow(as.data.frame(unique(get(df1_with_gene)$geneName))))\n",
    "  assign(uniq_genes_df2, nrow(as.data.frame(unique(get(df2_with_gene)$geneName))))\n",
    "  assign(uniq_genes_df3, nrow(as.data.frame(unique(get(df3_with_gene)$geneName))))\n",
    "}\n",
    "\n",
    "df1_genes = c(uniq_genes_df1_bp10, uniq_genes_df1_bp20,uniq_genes_df1_bp30, uniq_genes_df1_bp40)\n",
    "df2_genes = c(uniq_genes_df2_bp10, uniq_genes_df2_bp20, uniq_genes_df2_bp30, uniq_genes_df2_bp40)\n",
    "df3_genes = c(uniq_genes_df3_bp10, uniq_genes_df3_bp20, uniq_genes_df3_bp30, uniq_genes_df3_bp40)\n",
    "\n",
    "summary_df = data.frame(bp_range, df1_genes, df2_genes, df3_genes)\n",
    "\n",
    "summary_df \n"
   ]
  },
  {
   "cell_type": "markdown",
   "id": "dec9db52-eef7-4141-97fc-ac943e72fa73",
   "metadata": {},
   "source": [
    "# Make Supplementary Tables S5a, S5b, S5c"
   ]
  },
  {
   "cell_type": "code",
   "execution_count": null,
   "id": "ba8bf7d0-ca28-41ee-a26a-01ee2d34c689",
   "metadata": {
    "scrolled": true,
    "vscode": {
     "languageId": "r"
    }
   },
   "outputs": [],
   "source": [
    "setwd(\"\")\n",
    "\n",
    "sAF_lo_df1 = c(rep(tot_sAF_lo_sAF_df1,4))\n",
    "rAF_hi_df1 = c(num_rAF_hi_bp_10_df_1, num_rAF_hi_bp_20_df_1, num_rAF_hi_bp_30_df_1, num_rAF_hi_bp_40_df_1)\n",
    "rAF_hi_prct_df1 = c(percent_rAF_hi_bp_10_df_1, percent_rAF_hi_bp_20_df_1, percent_rAF_hi_bp_30_df_1, percent_rAF_hi_bp_40_df_1)\n",
    "rAF_lo_raf_df1 = c(num_rAF_lo_bp_10_df_1, num_rAF_lo_bp_20_df_1, num_rAF_lo_bp_30_df_1, num_rAF_lo_bp_40_df_1)\n",
    "rAF_lo_raf_prct_df1 = c(percent_rAF_lo_bp_10_df_1, percent_rAF_lo_bp_20_df_1, percent_rAF_lo_bp_30_df_1, percent_rAF_lo_bp_40_df_1)\n",
    "\n",
    "TableS5a = data.frame(bp_range, sAF_lo_df1, rAF_hi_df1, rAF_hi_prct_df1, rAF_lo_raf_df1, rAF_lo_raf_prct_df1, df1_genes)\n",
    "#adds commas \n",
    "TableS5a <- format(TableS5a, big.mark = \",\")\n",
    "\n",
    "TableS5a$bp_range <- paste(TableS5a$bp_range, \"bps\", sep = \" \")\n",
    "colnames(TableS5a) <- c(\"Range\", \"sAF-lo\", \"Nb. of rAF-hi Indels\", \"Percentage of sAF-lo Indels that are rAF-hi in decimal\",\"rAF-lo\", \"percent rAF-lo in decimal\", \"Number of Genes\")\n",
    "TableS5a\n",
    "fwrite(TableS5a, \"TableS5a.csv\")\n",
    "\n",
    "sAF_lo_df2 = c(rep(tot_sAF_lo_sAF_df2,4))\n",
    "rAF_hi_df2 = c(num_rAF_hi_bp_10_df_2, num_rAF_hi_bp_20_df_2, num_rAF_hi_bp_30_df_2, num_rAF_hi_bp_40_df_2)\n",
    "rAF_hi_prct_df2 = c(percent_rAF_hi_bp_10_df_2, percent_rAF_hi_bp_20_df_2, percent_rAF_hi_bp_30_df_2, percent_rAF_hi_bp_40_df_2)\n",
    "rAF_lo_raf_df2 = c(num_rAF_lo_bp_10_df_2, num_rAF_lo_bp_20_df_2, num_rAF_lo_bp_30_df_2, num_rAF_lo_bp_40_df_2)\n",
    "rAF_lo_raf_prct_df2 = c(percent_rAF_lo_bp_10_df_2, percent_rAF_lo_bp_20_df_2, percent_rAF_lo_bp_30_df_2, percent_rAF_lo_bp_40_df_2)\n",
    "\n",
    "TableS5b = data.frame(bp_range, sAF_lo_df2, rAF_hi_df2, rAF_hi_prct_df2, rAF_lo_raf_df2, rAF_lo_raf_prct_df2, df2_genes)\n",
    "TableS5b <- format(TableS5b, big.mark = \",\")\n",
    "TableS5b$bp_range <- paste(TableS5b$bp_range, \"bps\", sep = \" \")\n",
    "colnames(TableS5b) <- c(\"Range\", \"sAF-lo\", \"Nb. of rAF-hi Indels\", \"Percentage of sAF-lo Indels that are rAF-hi in decimal\",\"rAF-lo\", \"percent rAF-lo in decimal\", \"Number of Genes\")\n",
    "TableS5b\n",
    "fwrite(TableS5b, \"TableS5b.csv\")\n",
    "\n",
    "sAF_lo_df3 = c(rep(tot_sAF_lo_sAF_df3,4))\n",
    "rAF_hi_df3 = c(num_rAF_hi_bp_10_df_3, num_rAF_hi_bp_20_df_3, num_rAF_hi_bp_30_df_3, num_rAF_hi_bp_40_df_3)\n",
    "rAF_hi_prct_df3 = c(percent_rAF_hi_bp_10_df_3, percent_rAF_hi_bp_20_df_3, percent_rAF_hi_bp_30_df_3, percent_rAF_hi_bp_40_df_3)\n",
    "rAF_lo_raf_df3 = c(num_rAF_lo_bp_10_df_3, num_rAF_lo_bp_20_df_3, num_rAF_lo_bp_30_df_3, num_rAF_lo_bp_40_df_3)\n",
    "rAF_lo_raf_prct_df3 = c(percent_rAF_lo_bp_10_df_3, percent_rAF_lo_bp_20_df_3, percent_rAF_lo_bp_30_df_3, percent_rAF_lo_bp_40_df_3)\n",
    "\n",
    "TableS5c = data.frame(bp_range, sAF_lo_df3, rAF_hi_df3, rAF_hi_prct_df3, rAF_lo_raf_df3, rAF_lo_raf_prct_df3, df3_genes)\n",
    "TableS5c <- format(TableS5c, big.mark = \",\")\n",
    "TableS5c$bp_range <- paste(TableS5c$bp_range, \"bps\", sep = \" \")\n",
    "colnames(TableS5c) <- c(\"Range\", \"sAF-lo\", \"Nb. of rAF-hi Indels\", \"Percentage of sAF-lo Indels that are rAF-hi in decimal\",\"rAF-lo\", \"percent rAF-lo in decimal\", \"Number of Genes\")\n",
    "TableS5c\n",
    "fwrite(TableS5c, \"TableS5c.csv\")"
   ]
  },
  {
   "cell_type": "code",
   "execution_count": null,
   "id": "6fd4e6b0-2207-4309-b8c8-5a0275582cc0",
   "metadata": {
    "vscode": {
     "languageId": "r"
    }
   },
   "outputs": [],
   "source": []
  },
  {
   "cell_type": "code",
   "execution_count": null,
   "id": "7e4ef643-6b8a-41c3-8ec3-820d81046d48",
   "metadata": {
    "vscode": {
     "languageId": "r"
    }
   },
   "outputs": [],
   "source": []
  }
 ],
 "metadata": {
  "kernelspec": {
   "display_name": "R",
   "language": "R",
   "name": "ir"
  },
  "language_info": {
   "codemirror_mode": "r",
   "file_extension": ".r",
   "mimetype": "text/x-r-source",
   "name": "R",
   "pygments_lexer": "r",
   "version": "4.2.1"
  }
 },
 "nbformat": 4,
 "nbformat_minor": 5
}
