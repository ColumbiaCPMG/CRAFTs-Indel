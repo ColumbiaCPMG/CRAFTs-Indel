{
 "cells": [
  {
   "cell_type": "markdown",
   "id": "b5380c1c-ca0e-4a74-8840-321e0082b9d9",
   "metadata": {},
   "source": [
    "# Figure 3\n"
   ]
  },
  {
   "cell_type": "code",
   "execution_count": 1,
   "id": "fdd812c8-a881-44ef-be51-5d78a157deff",
   "metadata": {
    "vscode": {
     "languageId": "r"
    }
   },
   "outputs": [
    {
     "name": "stderr",
     "output_type": "stream",
     "text": [
      "── \u001b[1mAttaching core tidyverse packages\u001b[22m ───────────────────────────────────────────── tidyverse 2.0.0 ──\n",
      "\u001b[32m✔\u001b[39m \u001b[34mdplyr    \u001b[39m 1.1.1     \u001b[32m✔\u001b[39m \u001b[34mreadr    \u001b[39m 2.1.4\n",
      "\u001b[32m✔\u001b[39m \u001b[34mforcats  \u001b[39m 1.0.0     \u001b[32m✔\u001b[39m \u001b[34mstringr  \u001b[39m 1.5.0\n",
      "\u001b[32m✔\u001b[39m \u001b[34mggplot2  \u001b[39m 3.4.1     \u001b[32m✔\u001b[39m \u001b[34mtibble   \u001b[39m 3.2.1\n",
      "\u001b[32m✔\u001b[39m \u001b[34mlubridate\u001b[39m 1.9.2     \u001b[32m✔\u001b[39m \u001b[34mtidyr    \u001b[39m 1.3.0\n",
      "\u001b[32m✔\u001b[39m \u001b[34mpurrr    \u001b[39m 1.0.1     \n",
      "── \u001b[1mConflicts\u001b[22m ─────────────────────────────────────────────────────────────── tidyverse_conflicts() ──\n",
      "\u001b[31m✖\u001b[39m \u001b[34mdplyr\u001b[39m::\u001b[32mfilter()\u001b[39m masks \u001b[34mstats\u001b[39m::filter()\n",
      "\u001b[31m✖\u001b[39m \u001b[34mdplyr\u001b[39m::\u001b[32mlag()\u001b[39m    masks \u001b[34mstats\u001b[39m::lag()\n",
      "\u001b[36mℹ\u001b[39m Use the conflicted package (\u001b[3m\u001b[34m<http://conflicted.r-lib.org/>\u001b[39m\u001b[23m) to force all conflicts to become errors\n",
      "\n",
      "Attaching package: ‘data.table’\n",
      "\n",
      "\n",
      "The following objects are masked from ‘package:lubridate’:\n",
      "\n",
      "    hour, isoweek, mday, minute, month, quarter, second, wday, week,\n",
      "    yday, year\n",
      "\n",
      "\n",
      "The following objects are masked from ‘package:dplyr’:\n",
      "\n",
      "    between, first, last\n",
      "\n",
      "\n",
      "The following object is masked from ‘package:purrr’:\n",
      "\n",
      "    transpose\n",
      "\n",
      "\n"
     ]
    }
   ],
   "source": [
    "# Load in packages\n",
    "library(tidyverse)\n",
    "library(data.table)\n",
    "library(readxl)\n",
    "library(dplyr)\n",
    "library(stringr)"
   ]
  },
  {
   "cell_type": "code",
   "execution_count": 2,
   "id": "e2c062e4-4880-4034-a376-a8d791a22f09",
   "metadata": {
    "vscode": {
     "languageId": "r"
    }
   },
   "outputs": [],
   "source": [
    "#Clear environment: \n",
    "rm(list=ls())\n",
    "setwd(\"\")"
   ]
  },
  {
   "cell_type": "markdown",
   "id": "a3452eff-9d06-4700-b471-a726edf26cc6",
   "metadata": {},
   "source": [
    "# Set your datasets below and read in the files containing all indels ≤ 50bp for each dataset:"
   ]
  },
  {
   "cell_type": "code",
   "execution_count": 3,
   "id": "036c7fb2-04ac-4048-83e3-04ae0a3e45b1",
   "metadata": {
    "vscode": {
     "languageId": "r"
    }
   },
   "outputs": [],
   "source": [
    "\n",
    "## define dfs \n",
    "df_name_1 = \"gnomAD\"\n",
    "df_name_2 = \"IGM\"\n",
    "df_name_3 = \"UK.BB\"\n",
    "\n",
    "## Read in dataframe (total)\n",
    "df_1 = fread(\"gnomad.exomes.r2.1.1.sites_indelsonly_rAF_lt50bp.csv\", header = TRUE )\n",
    "df_2 = fread(\"2023-03-23_IGM_n39367_indelsonly_rAF_lt50bp.csv\", header = TRUE )\n",
    "df_3 = fread(\"UK.BB.exomes.430k.sites_indelsonly_rAF_lt50bp.csv\", header = TRUE )\n"
   ]
  },
  {
   "cell_type": "markdown",
   "id": "efb0010a-91be-4edb-81ec-193b1fe2342b",
   "metadata": {},
   "source": [
    "# Read in rAF-hi indels file for each dataset: "
   ]
  },
  {
   "cell_type": "code",
   "execution_count": 4,
   "id": "c97fc5d5-b390-4a3c-b5fc-3ccf08755ee8",
   "metadata": {
    "vscode": {
     "languageId": "r"
    }
   },
   "outputs": [],
   "source": [
    "\n",
    "rAF_hi_bp_10_df_1 = fread(\"gnomad.exomes.r2.1.1.sites_indelsonly_rAF_bp10_rAF_hiIndels.lt50bp.csv\", header = TRUE)\n",
    "rAF_hi_bp_20_df_1 = fread(\"gnomad.exomes.r2.1.1.sites_indelsonly_rAF_bp20_rAF_hiIndels.lt50bp.csv\", header = TRUE)\n",
    "rAF_hi_bp_30_df_1 = fread(\"gnomad.exomes.r2.1.1.sites_indelsonly_rAF_bp30_rAF_hiIndels.lt50bp.csv\", header = TRUE)\n",
    "rAF_hi_bp_40_df_1 = fread(\"gnomad.exomes.r2.1.1.sites_indelsonly_rAF_bp40_rAF_hiIndels.lt50bp.csv\", header = TRUE)\n",
    "\n",
    "rAF_hi_bp_10_df_2 = fread(\"2023-03-23_IGM_n39367_indelsonly_rAF_bp10_rAF_hiIndels.lt50bp.csv\", header = TRUE)\n",
    "rAF_hi_bp_20_df_2 = fread(\"2023-03-23_IGM_n39367_indelsonly_rAF_bp20_rAF_hiIndels.lt50bp.csv\", header = TRUE)\n",
    "rAF_hi_bp_30_df_2 = fread(\"2023-03-23_IGM_n39367_indelsonly_rAF_bp30_rAF_hiIndels.lt50bp.csv\", header = TRUE)\n",
    "rAF_hi_bp_40_df_2 = fread(\"2023-03-23_IGM_n39367_indelsonly_rAF_bp40_rAF_hiIndels.lt50bp.csv\", header = TRUE)\n",
    "\n",
    "rAF_hi_bp_10_df_3 = fread(\"UK.BB.exomes.430k.sites_indelsonly_rAF_bp10_rAF_hiIndels.lt50bp.csv\", header = TRUE)\n",
    "rAF_hi_bp_20_df_3 = fread(\"UK.BB.exomes.430k.sites_indelsonly_rAF_bp20_rAF_hiIndels.lt50bp.csv\", header = TRUE)\n",
    "rAF_hi_bp_30_df_3 = fread(\"UK.BB.exomes.430k.sites_indelsonly_rAF_bp30_rAF_hiIndels.lt50bp.csv\", header = TRUE)\n",
    "rAF_hi_bp_40_df_3 = fread(\"UK.BB.exomes.430k.sites_indelsonly_rAF_bp40_rAF_hiIndels.lt50bp.csv\", header = TRUE)\n"
   ]
  },
  {
   "cell_type": "code",
   "execution_count": 5,
   "id": "35fab43b-7636-4153-80cf-1bb2cc80569d",
   "metadata": {
    "vscode": {
     "languageId": "r"
    }
   },
   "outputs": [],
   "source": [
    "#Declare your bp range:\n",
    "\n",
    "bp_range = c(\"10\", \"20\", \"30\", \"40\")"
   ]
  },
  {
   "cell_type": "code",
   "execution_count": 6,
   "id": "42686af9-fb78-43b9-bdc8-e3a4e7c3eedf",
   "metadata": {
    "vscode": {
     "languageId": "r"
    }
   },
   "outputs": [],
   "source": [
    "#Define your sAF_lo threshold:\n",
    "sAF_lo = (1 * 10^-4)"
   ]
  },
  {
   "cell_type": "markdown",
   "id": "80f5ff35-480e-452a-9e59-f3cc42805264",
   "metadata": {},
   "source": [
    "# Find the total number of indels that are sAF-lo by sAF "
   ]
  },
  {
   "cell_type": "code",
   "execution_count": 7,
   "id": "1910df4a-4007-4eee-99bb-621b1fa36115",
   "metadata": {
    "vscode": {
     "languageId": "r"
    }
   },
   "outputs": [],
   "source": [
    "tot_sAF_lo_sAF_df1 = nrow(df_1 %>% filter(sAF <= sAF_lo))\n",
    "tot_sAF_lo_sAF_df2 = nrow(df_2 %>% filter(sAF <= sAF_lo))\n",
    "tot_sAF_lo_sAF_df3 = nrow(df_3 %>% filter(sAF <= sAF_lo))\n"
   ]
  },
  {
   "cell_type": "markdown",
   "id": "763e5db4-cb4d-4ba8-b553-d7752b28b60c",
   "metadata": {},
   "source": [
    "# Calculate the number and percentages of the sAF_lo sAF indels that are also sAF-lo by rAF for each bp window and also calculate the number and percentages of the sAF-lo sAF indels that are rAF-hi (sAF-hi by rAF for each bp window) "
   ]
  },
  {
   "cell_type": "code",
   "execution_count": 8,
   "id": "58db889a-860d-41bc-b735-f2a8b7bb7596",
   "metadata": {
    "vscode": {
     "languageId": "r"
    }
   },
   "outputs": [],
   "source": [
    "\n",
    "for (i in bp_range) {\n",
    "  # call that var\n",
    "  temp_df_1 = paste0(\"rAF_hi_bp_\", i, \"_df_1\")\n",
    "  temp_df_2 = paste0(\"rAF_hi_bp_\", i, \"_df_2\")\n",
    "  temp_df_3 = paste0(\"rAF_hi_bp_\", i, \"_df_3\")\n",
    "  \n",
    "  ## calculate the number of rAF_hi indels \n",
    "  num_df_1 = paste0(\"num_rAF_hi_bp_\", i , \"_df_1\")\n",
    "  assign(num_df_1, nrow(get(temp_df_1)))\n",
    "\n",
    "  num_df_2 = paste0(\"num_rAF_hi_bp_\", i , \"_df_2\")\n",
    "  assign(num_df_2, nrow(get(temp_df_2)))\n",
    "\n",
    "  num_df_3 = paste0(\"num_rAF_hi_bp_\", i , \"_df_3\")\n",
    "  assign(num_df_3, nrow(get(temp_df_3)))\n",
    "  \n",
    "  # get the number of rAF_lo indels \n",
    "  rAF_lo_df_1 = paste0(\"num_rAF_lo_bp_\", i , \"_df_1\")\n",
    "  assign(rAF_lo_df_1, (tot_sAF_lo_sAF_df1 - nrow(get(temp_df_1))))\n",
    "\n",
    "  rAF_lo_df_2 = paste0(\"num_rAF_lo_bp_\", i , \"_df_2\")\n",
    "  assign(rAF_lo_df_2, (tot_sAF_lo_sAF_df2 - nrow(get(temp_df_2))))\n",
    "\n",
    "\n",
    "  rAF_lo_df_3 = paste0(\"num_rAF_lo_bp_\", i , \"_df_3\")\n",
    "  assign(rAF_lo_df_3, (tot_sAF_lo_sAF_df3 - nrow(get(temp_df_3))))\n",
    "  \n",
    "  \n",
    "  ## calculate the percentage and save in dynamic variable \n",
    "  percent_df_1 = paste0(\"percent_rAF_hi_bp_\", i, \"_df_1\")\n",
    "  assign(percent_df_1, paste0(round(((get(num_df_1) / tot_sAF_lo_sAF_df1) * 100 ),0), \"%\"))\n",
    "\n",
    "  percent_df_2 = paste0(\"percent_rAF_hi_bp_\", i, \"_df_2\")\n",
    "  assign(percent_df_2, paste0(round(((get(num_df_2) / tot_sAF_lo_sAF_df2) * 100 ),0), \"%\"))\n",
    "  \n",
    "  percent_df_3 = paste0(\"percent_rAF_hi_bp_\", i, \"_df_3\")\n",
    "  assign(percent_df_3, paste0(round(((get(num_df_3) / tot_sAF_lo_sAF_df3) * 100 ),0), \"%\"))\n",
    "  \n",
    "  ## find the percentage of the sAF_lo sAF/rAF_lo rAF genes \n",
    "  percent_diff_df_1 = paste0(\"percent_rAF_lo_bp_\", i, \"_df_1\")\n",
    "  assign(percent_diff_df_1, paste0(round(((get(rAF_lo_df_1) / tot_sAF_lo_sAF_df1) * 100 ),0), \"%\"))\n",
    "  \n",
    "  percent_diff_df_2 = paste0(\"percent_rAF_lo_bp_\", i, \"_df_2\")\n",
    "  assign(percent_diff_df_2, paste0(round(((get(rAF_lo_df_2) / tot_sAF_lo_sAF_df2) * 100 ),0), \"%\"))\n",
    "\n",
    "  percent_diff_df_3 = paste0(\"percent_rAF_lo_bp_\", i, \"_df_3\")\n",
    "  assign(percent_diff_df_3, paste0(round(((get(rAF_lo_df_3) / tot_sAF_lo_sAF_df3) * 100 ),0), \"%\")) \n",
    "}"
   ]
  },
  {
   "cell_type": "markdown",
   "id": "c92c5ae7-58a3-4b52-9315-fa061c836d9f",
   "metadata": {},
   "source": [
    "# Make dataframe for graph "
   ]
  },
  {
   "cell_type": "code",
   "execution_count": 9,
   "id": "b954a8c3-b8a2-47cb-ade8-cdb23c7f8fe6",
   "metadata": {
    "vscode": {
     "languageId": "r"
    }
   },
   "outputs": [
    {
     "name": "stderr",
     "output_type": "stream",
     "text": [
      "\u001b[1m\u001b[22mSaving 7 x 7 in image\n"
     ]
    },
    {
     "data": {
      "image/png": "[encoded data removed]",
      "text/plain": [
       "plot without title"
      ]
     },
     "metadata": {
      "image/png": {
       "height": 420,
       "width": 420
      }
     },
     "output_type": "display_data"
    }
   ],
   "source": [
    "windows = c(rep(bp_range, 2))\n",
    "condition = c(rep(\"rAF_lo\", 4), rep(\"rAF_hi\", 4))\n",
    "\n",
    "\n",
    "num_indels = c(num_rAF_hi_bp_10_df_1, num_rAF_hi_bp_20_df_1, num_rAF_hi_bp_30_df_1, num_rAF_hi_bp_40_df_1, num_rAF_lo_bp_10_df_1, num_rAF_lo_bp_20_df_1, num_rAF_lo_bp_30_df_1, num_rAF_lo_bp_40_df_1, num_rAF_hi_bp_10_df_2, num_rAF_hi_bp_20_df_2, num_rAF_hi_bp_30_df_2, num_rAF_hi_bp_40_df_2, num_rAF_lo_bp_10_df_2, num_rAF_lo_bp_20_df_2, num_rAF_lo_bp_30_df_2, num_rAF_lo_bp_40_df_2, num_rAF_hi_bp_10_df_3, num_rAF_hi_bp_20_df_3, num_rAF_hi_bp_30_df_3, num_rAF_hi_bp_40_df_3, num_rAF_lo_bp_10_df_3, num_rAF_lo_bp_20_df_3, num_rAF_lo_bp_30_df_3, num_rAF_lo_bp_40_df_3)\n",
    "\n",
    "\n",
    "perct_indels = c(percent_rAF_hi_bp_10_df_1, percent_rAF_hi_bp_20_df_1, percent_rAF_hi_bp_30_df_1, percent_rAF_hi_bp_40_df_1, percent_rAF_lo_bp_10_df_1, percent_rAF_lo_bp_20_df_1, percent_rAF_lo_bp_30_df_1, percent_rAF_lo_bp_40_df_1, percent_rAF_hi_bp_10_df_2, percent_rAF_hi_bp_20_df_2, percent_rAF_hi_bp_30_df_2, percent_rAF_hi_bp_40_df_2, percent_rAF_lo_bp_10_df_2, percent_rAF_lo_bp_20_df_2, percent_rAF_lo_bp_30_df_2, percent_rAF_lo_bp_40_df_2, percent_rAF_hi_bp_10_df_3, percent_rAF_hi_bp_20_df_3, percent_rAF_hi_bp_30_df_3, percent_rAF_hi_bp_40_df_3, percent_rAF_lo_bp_10_df_3, percent_rAF_lo_bp_20_df_3, percent_rAF_lo_bp_30_df_3, percent_rAF_lo_bp_40_df_3 )\n",
    "\n",
    "df_labels = c(rep(df_name_1, 8), rep(df_name_2, 8),rep(df_name_3, 8))\n",
    "\n",
    "\n",
    "graph_df = data.frame(windows, condition, num_indels, perct_indels, df_labels)\n",
    "\n",
    "#Make graph \n",
    "\n",
    "ggplot(graph_df, aes(x = df_labels, y = num_indels, fill = interaction(condition, df_labels))) + geom_bar(stat = \"identity\", position = \"stack\") + facet_grid(~windows, switch = \"both\")  +  theme(legend.position = \"top\") + labs(title = \"Proportion of rAF-hi Indels Within the GnomAD, IGM, and UKBB Datasets.\", y = \"Number of Indels\", x = \"Regions\", fill = \"Indel Type\") +  geom_text(aes(label = perct_indels), color = \"white\", position = position_stack(vjust = 0.5)) + scale_fill_grey(labels = c(paste0(\"rAF-lo \", df_name_1), paste0 (\"rAF-hi \", df_name_1), paste0(\"rAF-lo \", df_name_2), paste0 (\"rAF-hi \", df_name_2), paste0(\"rAF-lo \", df_name_3), paste0 (\"rAF-hi \", df_name_3)))\n",
    "ggsave(\"fig3.jpg\")\n",
    "\n"
   ]
  },
  {
   "cell_type": "code",
   "execution_count": 10,
   "id": "ace7371b-51c5-4f1a-84de-3048b1857a9d",
   "metadata": {
    "vscode": {
     "languageId": "r"
    }
   },
   "outputs": [
    {
     "name": "stdout",
     "output_type": "stream",
     "text": [
      "[1] \"In the dataframe gnomAD there are 101092 rAF_hi indels in the 10bp sliding window.\"\n",
      "[1] \"In the dataframe gnomAD rAF_hi indels account for 11% percent in the 10bp sliding window.\"\n",
      "[1] \"In the dataframe IGM there are 28436 rAF_hi indels in the 10bp sliding window.\"\n",
      "[1] \"In the dataframe IGM rAF_hi indels account for 11% percent in the 10bp sliding window.\"\n",
      "[1] \"In the dataframe UK.BB there are 18608 rAF_hi indels in the 10bp sliding window.\"\n",
      "[1] \"In the dataframe UK.BB rAF_hi indels account for 5% percent in the 10bp sliding window.\"\n",
      "[1] \"In the dataframe gnomAD there are 135872 rAF_hi indels in the 20bp sliding window.\"\n",
      "[1] \"In the dataframe gnomAD rAF_hi indels account for 15% percent in the 20bp sliding window.\"\n",
      "[1] \"In the dataframe IGM there are 39329 rAF_hi indels in the 20bp sliding window.\"\n",
      "[1] \"In the dataframe IGM rAF_hi indels account for 16% percent in the 20bp sliding window.\"\n",
      "[1] \"In the dataframe UK.BB there are 24877 rAF_hi indels in the 20bp sliding window.\"\n",
      "[1] \"In the dataframe UK.BB rAF_hi indels account for 6% percent in the 20bp sliding window.\"\n",
      "[1] \"In the dataframe gnomAD there are 159826 rAF_hi indels in the 30bp sliding window.\"\n",
      "[1] \"In the dataframe gnomAD rAF_hi indels account for 18% percent in the 30bp sliding window.\"\n",
      "[1] \"In the dataframe IGM there are 48224 rAF_hi indels in the 30bp sliding window.\"\n",
      "[1] \"In the dataframe IGM rAF_hi indels account for 19% percent in the 30bp sliding window.\"\n",
      "[1] \"In the dataframe UK.BB there are 29900 rAF_hi indels in the 30bp sliding window.\"\n",
      "[1] \"In the dataframe UK.BB rAF_hi indels account for 8% percent in the 30bp sliding window.\"\n",
      "[1] \"In the dataframe gnomAD there are 178872 rAF_hi indels in the 40bp sliding window.\"\n",
      "[1] \"In the dataframe gnomAD rAF_hi indels account for 20% percent in the 40bp sliding window.\"\n",
      "[1] \"In the dataframe IGM there are 55962 rAF_hi indels in the 40bp sliding window.\"\n",
      "[1] \"In the dataframe IGM rAF_hi indels account for 22% percent in the 40bp sliding window.\"\n",
      "[1] \"In the dataframe UK.BB there are 33959 rAF_hi indels in the 40bp sliding window.\"\n",
      "[1] \"In the dataframe UK.BB rAF_hi indels account for 9% percent in the 40bp sliding window.\"\n"
     ]
    },
    {
     "data": {
      "text/html": [
       "<table class=\"dataframe\">\n",
       "<caption>A data.frame: 24 × 5</caption>\n",
       "<thead>\n",
       "\t<tr><th scope=col>windows</th><th scope=col>condition</th><th scope=col>num_indels</th><th scope=col>perct_indels</th><th scope=col>df_labels</th></tr>\n",
       "\t<tr><th scope=col>&lt;chr&gt;</th><th scope=col>&lt;chr&gt;</th><th scope=col>&lt;int&gt;</th><th scope=col>&lt;chr&gt;</th><th scope=col>&lt;chr&gt;</th></tr>\n",
       "</thead>\n",
       "<tbody>\n",
       "\t<tr><td>10</td><td>rAF_lo</td><td>101092</td><td>11%</td><td>gnomAD</td></tr>\n",
       "\t<tr><td>20</td><td>rAF_lo</td><td>135872</td><td>15%</td><td>gnomAD</td></tr>\n",
       "\t<tr><td>30</td><td>rAF_lo</td><td>159826</td><td>18%</td><td>gnomAD</td></tr>\n",
       "\t<tr><td>40</td><td>rAF_lo</td><td>178872</td><td>20%</td><td>gnomAD</td></tr>\n",
       "\t<tr><td>10</td><td>rAF_hi</td><td>807340</td><td>89%</td><td>gnomAD</td></tr>\n",
       "\t<tr><td>20</td><td>rAF_hi</td><td>772560</td><td>85%</td><td>gnomAD</td></tr>\n",
       "\t<tr><td>30</td><td>rAF_hi</td><td>748606</td><td>82%</td><td>gnomAD</td></tr>\n",
       "\t<tr><td>40</td><td>rAF_hi</td><td>729560</td><td>80%</td><td>gnomAD</td></tr>\n",
       "\t<tr><td>10</td><td>rAF_lo</td><td> 28436</td><td>11%</td><td>IGM   </td></tr>\n",
       "\t<tr><td>20</td><td>rAF_lo</td><td> 39329</td><td>16%</td><td>IGM   </td></tr>\n",
       "\t<tr><td>30</td><td>rAF_lo</td><td> 48224</td><td>19%</td><td>IGM   </td></tr>\n",
       "\t<tr><td>40</td><td>rAF_lo</td><td> 55962</td><td>22%</td><td>IGM   </td></tr>\n",
       "\t<tr><td>10</td><td>rAF_hi</td><td>221833</td><td>89%</td><td>IGM   </td></tr>\n",
       "\t<tr><td>20</td><td>rAF_hi</td><td>210940</td><td>84%</td><td>IGM   </td></tr>\n",
       "\t<tr><td>30</td><td>rAF_hi</td><td>202045</td><td>81%</td><td>IGM   </td></tr>\n",
       "\t<tr><td>40</td><td>rAF_hi</td><td>194307</td><td>78%</td><td>IGM   </td></tr>\n",
       "\t<tr><td>10</td><td>rAF_lo</td><td> 18608</td><td>5% </td><td>UK.BB </td></tr>\n",
       "\t<tr><td>20</td><td>rAF_lo</td><td> 24877</td><td>6% </td><td>UK.BB </td></tr>\n",
       "\t<tr><td>30</td><td>rAF_lo</td><td> 29900</td><td>8% </td><td>UK.BB </td></tr>\n",
       "\t<tr><td>40</td><td>rAF_lo</td><td> 33959</td><td>9% </td><td>UK.BB </td></tr>\n",
       "\t<tr><td>10</td><td>rAF_hi</td><td>367822</td><td>95%</td><td>UK.BB </td></tr>\n",
       "\t<tr><td>20</td><td>rAF_hi</td><td>361553</td><td>94%</td><td>UK.BB </td></tr>\n",
       "\t<tr><td>30</td><td>rAF_hi</td><td>356530</td><td>92%</td><td>UK.BB </td></tr>\n",
       "\t<tr><td>40</td><td>rAF_hi</td><td>352471</td><td>91%</td><td>UK.BB </td></tr>\n",
       "</tbody>\n",
       "</table>\n"
      ],
      "text/latex": [
       "A data.frame: 24 × 5\n",
       "\\begin{tabular}{lllll}\n",
       " windows & condition & num\\_indels & perct\\_indels & df\\_labels\\\\\n",
       " <chr> & <chr> & <int> & <chr> & <chr>\\\\\n",
       "\\hline\n",
       "\t 10 & rAF\\_lo & 101092 & 11\\% & gnomAD\\\\\n",
       "\t 20 & rAF\\_lo & 135872 & 15\\% & gnomAD\\\\\n",
       "\t 30 & rAF\\_lo & 159826 & 18\\% & gnomAD\\\\\n",
       "\t 40 & rAF\\_lo & 178872 & 20\\% & gnomAD\\\\\n",
       "\t 10 & rAF\\_hi & 807340 & 89\\% & gnomAD\\\\\n",
       "\t 20 & rAF\\_hi & 772560 & 85\\% & gnomAD\\\\\n",
       "\t 30 & rAF\\_hi & 748606 & 82\\% & gnomAD\\\\\n",
       "\t 40 & rAF\\_hi & 729560 & 80\\% & gnomAD\\\\\n",
       "\t 10 & rAF\\_lo &  28436 & 11\\% & IGM   \\\\\n",
       "\t 20 & rAF\\_lo &  39329 & 16\\% & IGM   \\\\\n",
       "\t 30 & rAF\\_lo &  48224 & 19\\% & IGM   \\\\\n",
       "\t 40 & rAF\\_lo &  55962 & 22\\% & IGM   \\\\\n",
       "\t 10 & rAF\\_hi & 221833 & 89\\% & IGM   \\\\\n",
       "\t 20 & rAF\\_hi & 210940 & 84\\% & IGM   \\\\\n",
       "\t 30 & rAF\\_hi & 202045 & 81\\% & IGM   \\\\\n",
       "\t 40 & rAF\\_hi & 194307 & 78\\% & IGM   \\\\\n",
       "\t 10 & rAF\\_lo &  18608 & 5\\%  & UK.BB \\\\\n",
       "\t 20 & rAF\\_lo &  24877 & 6\\%  & UK.BB \\\\\n",
       "\t 30 & rAF\\_lo &  29900 & 8\\%  & UK.BB \\\\\n",
       "\t 40 & rAF\\_lo &  33959 & 9\\%  & UK.BB \\\\\n",
       "\t 10 & rAF\\_hi & 367822 & 95\\% & UK.BB \\\\\n",
       "\t 20 & rAF\\_hi & 361553 & 94\\% & UK.BB \\\\\n",
       "\t 30 & rAF\\_hi & 356530 & 92\\% & UK.BB \\\\\n",
       "\t 40 & rAF\\_hi & 352471 & 91\\% & UK.BB \\\\\n",
       "\\end{tabular}\n"
      ],
      "text/markdown": [
       "\n",
       "A data.frame: 24 × 5\n",
       "\n",
       "| windows &lt;chr&gt; | condition &lt;chr&gt; | num_indels &lt;int&gt; | perct_indels &lt;chr&gt; | df_labels &lt;chr&gt; |\n",
       "|---|---|---|---|---|\n",
       "| 10 | rAF_lo | 101092 | 11% | gnomAD |\n",
       "| 20 | rAF_lo | 135872 | 15% | gnomAD |\n",
       "| 30 | rAF_lo | 159826 | 18% | gnomAD |\n",
       "| 40 | rAF_lo | 178872 | 20% | gnomAD |\n",
       "| 10 | rAF_hi | 807340 | 89% | gnomAD |\n",
       "| 20 | rAF_hi | 772560 | 85% | gnomAD |\n",
       "| 30 | rAF_hi | 748606 | 82% | gnomAD |\n",
       "| 40 | rAF_hi | 729560 | 80% | gnomAD |\n",
       "| 10 | rAF_lo |  28436 | 11% | IGM    |\n",
       "| 20 | rAF_lo |  39329 | 16% | IGM    |\n",
       "| 30 | rAF_lo |  48224 | 19% | IGM    |\n",
       "| 40 | rAF_lo |  55962 | 22% | IGM    |\n",
       "| 10 | rAF_hi | 221833 | 89% | IGM    |\n",
       "| 20 | rAF_hi | 210940 | 84% | IGM    |\n",
       "| 30 | rAF_hi | 202045 | 81% | IGM    |\n",
       "| 40 | rAF_hi | 194307 | 78% | IGM    |\n",
       "| 10 | rAF_lo |  18608 | 5%  | UK.BB  |\n",
       "| 20 | rAF_lo |  24877 | 6%  | UK.BB  |\n",
       "| 30 | rAF_lo |  29900 | 8%  | UK.BB  |\n",
       "| 40 | rAF_lo |  33959 | 9%  | UK.BB  |\n",
       "| 10 | rAF_hi | 367822 | 95% | UK.BB  |\n",
       "| 20 | rAF_hi | 361553 | 94% | UK.BB  |\n",
       "| 30 | rAF_hi | 356530 | 92% | UK.BB  |\n",
       "| 40 | rAF_hi | 352471 | 91% | UK.BB  |\n",
       "\n"
      ],
      "text/plain": [
       "   windows condition num_indels perct_indels df_labels\n",
       "1  10      rAF_lo    101092     11%          gnomAD   \n",
       "2  20      rAF_lo    135872     15%          gnomAD   \n",
       "3  30      rAF_lo    159826     18%          gnomAD   \n",
       "4  40      rAF_lo    178872     20%          gnomAD   \n",
       "5  10      rAF_hi    807340     89%          gnomAD   \n",
       "6  20      rAF_hi    772560     85%          gnomAD   \n",
       "7  30      rAF_hi    748606     82%          gnomAD   \n",
       "8  40      rAF_hi    729560     80%          gnomAD   \n",
       "9  10      rAF_lo     28436     11%          IGM      \n",
       "10 20      rAF_lo     39329     16%          IGM      \n",
       "11 30      rAF_lo     48224     19%          IGM      \n",
       "12 40      rAF_lo     55962     22%          IGM      \n",
       "13 10      rAF_hi    221833     89%          IGM      \n",
       "14 20      rAF_hi    210940     84%          IGM      \n",
       "15 30      rAF_hi    202045     81%          IGM      \n",
       "16 40      rAF_hi    194307     78%          IGM      \n",
       "17 10      rAF_lo     18608     5%           UK.BB    \n",
       "18 20      rAF_lo     24877     6%           UK.BB    \n",
       "19 30      rAF_lo     29900     8%           UK.BB    \n",
       "20 40      rAF_lo     33959     9%           UK.BB    \n",
       "21 10      rAF_hi    367822     95%          UK.BB    \n",
       "22 20      rAF_hi    361553     94%          UK.BB    \n",
       "23 30      rAF_hi    356530     92%          UK.BB    \n",
       "24 40      rAF_hi    352471     91%          UK.BB    "
      ]
     },
     "metadata": {},
     "output_type": "display_data"
    }
   ],
   "source": [
    "for (i in bp_range) {\n",
    "  num_df1 = paste0(\"num_rAF_hi_bp_\", i , \"_df_1\")\n",
    "  num_df2 = paste0(\"num_rAF_hi_bp_\", i , \"_df_2\")\n",
    "  num_df3 = paste0(\"num_rAF_hi_bp_\", i , \"_df_3\")\n",
    "  \n",
    "  prct_df1 = paste0(\"percent_rAF_hi_bp_\", i, \"_df_1\")\n",
    "  prct_df2 = paste0(\"percent_rAF_hi_bp_\", i, \"_df_2\")\n",
    "  prct_df3 = paste0(\"percent_rAF_hi_bp_\", i, \"_df_3\")\n",
    "  \n",
    "  print (paste0(\"In the dataframe \", df_name_1, \" there are \", get(num_df1), \" rAF_hi indels in the \",i,\"bp sliding window.\"))\n",
    "  print (paste0(\"In the dataframe \", df_name_1, \" rAF_hi indels account for \", get(prct_df1), \" percent in the \",i,\"bp sliding window.\"))\n",
    "\n",
    "\n",
    "  print (paste0(\"In the dataframe \", df_name_2, \" there are \", get(num_df2), \" rAF_hi indels in the \",i,\"bp sliding window.\"))\n",
    "  print (paste0(\"In the dataframe \", df_name_2, \" rAF_hi indels account for \", get(prct_df2), \" percent in the \",i,\"bp sliding window.\"))\n",
    "  \n",
    "  print (paste0(\"In the dataframe \", df_name_3, \" there are \", get(num_df3), \" rAF_hi indels in the \",i,\"bp sliding window.\"))\n",
    "  print (paste0(\"In the dataframe \", df_name_3, \" rAF_hi indels account for \", get(prct_df3), \" percent in the \",i,\"bp sliding window.\"))\n",
    "}\n",
    "\n",
    "graph_df"
   ]
  },
  {
   "cell_type": "markdown",
   "id": "dec9db52-eef7-4141-97fc-ac943e72fa73",
   "metadata": {},
   "source": [
    "# Make Supplementary Tables S5a, S5b, S5c"
   ]
  },
  {
   "cell_type": "code",
   "execution_count": 11,
   "id": "ba8bf7d0-ca28-41ee-a26a-01ee2d34c689",
   "metadata": {
    "scrolled": true,
    "vscode": {
     "languageId": "r"
    }
   },
   "outputs": [
    {
     "data": {
      "text/html": [
       "<table class=\"dataframe\">\n",
       "<caption>A data.frame: 4 × 6</caption>\n",
       "<thead>\n",
       "\t<tr><th></th><th scope=col>Range</th><th scope=col>sAF-lo</th><th scope=col>Nb. of rAF-hi Indels</th><th scope=col>Percentage of sAF-lo Indels that are rAF-hi</th><th scope=col>rAF-lo</th><th scope=col>percent rAF-lo</th></tr>\n",
       "\t<tr><th></th><th scope=col>&lt;chr&gt;</th><th scope=col>&lt;I&lt;chr&gt;&gt;</th><th scope=col>&lt;I&lt;chr&gt;&gt;</th><th scope=col>&lt;I&lt;chr&gt;&gt;</th><th scope=col>&lt;I&lt;chr&gt;&gt;</th><th scope=col>&lt;I&lt;chr&gt;&gt;</th></tr>\n",
       "</thead>\n",
       "<tbody>\n",
       "\t<tr><th scope=row>1</th><td>10 bps</td><td>908,432</td><td>101,092</td><td>11%</td><td>807,340</td><td>89%</td></tr>\n",
       "\t<tr><th scope=row>2</th><td>20 bps</td><td>908,432</td><td>135,872</td><td>15%</td><td>772,560</td><td>85%</td></tr>\n",
       "\t<tr><th scope=row>3</th><td>30 bps</td><td>908,432</td><td>159,826</td><td>18%</td><td>748,606</td><td>82%</td></tr>\n",
       "\t<tr><th scope=row>4</th><td>40 bps</td><td>908,432</td><td>178,872</td><td>20%</td><td>729,560</td><td>80%</td></tr>\n",
       "</tbody>\n",
       "</table>\n"
      ],
      "text/latex": [
       "A data.frame: 4 × 6\n",
       "\\begin{tabular}{r|llllll}\n",
       "  & Range & sAF-lo & Nb. of rAF-hi Indels & Percentage of sAF-lo Indels that are rAF-hi & rAF-lo & percent rAF-lo\\\\\n",
       "  & <chr> & <I<chr>> & <I<chr>> & <I<chr>> & <I<chr>> & <I<chr>>\\\\\n",
       "\\hline\n",
       "\t1 & 10 bps & 908,432 & 101,092 & 11\\% & 807,340 & 89\\%\\\\\n",
       "\t2 & 20 bps & 908,432 & 135,872 & 15\\% & 772,560 & 85\\%\\\\\n",
       "\t3 & 30 bps & 908,432 & 159,826 & 18\\% & 748,606 & 82\\%\\\\\n",
       "\t4 & 40 bps & 908,432 & 178,872 & 20\\% & 729,560 & 80\\%\\\\\n",
       "\\end{tabular}\n"
      ],
      "text/markdown": [
       "\n",
       "A data.frame: 4 × 6\n",
       "\n",
       "| <!--/--> | Range &lt;chr&gt; | sAF-lo &lt;I&lt;chr&gt;&gt; | Nb. of rAF-hi Indels &lt;I&lt;chr&gt;&gt; | Percentage of sAF-lo Indels that are rAF-hi &lt;I&lt;chr&gt;&gt; | rAF-lo &lt;I&lt;chr&gt;&gt; | percent rAF-lo &lt;I&lt;chr&gt;&gt; |\n",
       "|---|---|---|---|---|---|---|\n",
       "| 1 | 10 bps | 908,432 | 101,092 | 11% | 807,340 | 89% |\n",
       "| 2 | 20 bps | 908,432 | 135,872 | 15% | 772,560 | 85% |\n",
       "| 3 | 30 bps | 908,432 | 159,826 | 18% | 748,606 | 82% |\n",
       "| 4 | 40 bps | 908,432 | 178,872 | 20% | 729,560 | 80% |\n",
       "\n"
      ],
      "text/plain": [
       "  Range  sAF-lo  Nb. of rAF-hi Indels\n",
       "1 10 bps 908,432 101,092             \n",
       "2 20 bps 908,432 135,872             \n",
       "3 30 bps 908,432 159,826             \n",
       "4 40 bps 908,432 178,872             \n",
       "  Percentage of sAF-lo Indels that are rAF-hi rAF-lo  percent rAF-lo\n",
       "1 11%                                         807,340 89%           \n",
       "2 15%                                         772,560 85%           \n",
       "3 18%                                         748,606 82%           \n",
       "4 20%                                         729,560 80%           "
      ]
     },
     "metadata": {},
     "output_type": "display_data"
    },
    {
     "data": {
      "text/html": [
       "<table class=\"dataframe\">\n",
       "<caption>A data.frame: 4 × 6</caption>\n",
       "<thead>\n",
       "\t<tr><th></th><th scope=col>Range</th><th scope=col>sAF-lo</th><th scope=col>Nb. of rAF-hi Indels</th><th scope=col>Percentage of sAF-lo Indels that are rAF-hi</th><th scope=col>rAF-lo</th><th scope=col>percent rAF-lo</th></tr>\n",
       "\t<tr><th></th><th scope=col>&lt;chr&gt;</th><th scope=col>&lt;I&lt;chr&gt;&gt;</th><th scope=col>&lt;I&lt;chr&gt;&gt;</th><th scope=col>&lt;I&lt;chr&gt;&gt;</th><th scope=col>&lt;I&lt;chr&gt;&gt;</th><th scope=col>&lt;I&lt;chr&gt;&gt;</th></tr>\n",
       "</thead>\n",
       "<tbody>\n",
       "\t<tr><th scope=row>1</th><td>10 bps</td><td>250,269</td><td>28,436</td><td>11%</td><td>221,833</td><td>89%</td></tr>\n",
       "\t<tr><th scope=row>2</th><td>20 bps</td><td>250,269</td><td>39,329</td><td>16%</td><td>210,940</td><td>84%</td></tr>\n",
       "\t<tr><th scope=row>3</th><td>30 bps</td><td>250,269</td><td>48,224</td><td>19%</td><td>202,045</td><td>81%</td></tr>\n",
       "\t<tr><th scope=row>4</th><td>40 bps</td><td>250,269</td><td>55,962</td><td>22%</td><td>194,307</td><td>78%</td></tr>\n",
       "</tbody>\n",
       "</table>\n"
      ],
      "text/latex": [
       "A data.frame: 4 × 6\n",
       "\\begin{tabular}{r|llllll}\n",
       "  & Range & sAF-lo & Nb. of rAF-hi Indels & Percentage of sAF-lo Indels that are rAF-hi & rAF-lo & percent rAF-lo\\\\\n",
       "  & <chr> & <I<chr>> & <I<chr>> & <I<chr>> & <I<chr>> & <I<chr>>\\\\\n",
       "\\hline\n",
       "\t1 & 10 bps & 250,269 & 28,436 & 11\\% & 221,833 & 89\\%\\\\\n",
       "\t2 & 20 bps & 250,269 & 39,329 & 16\\% & 210,940 & 84\\%\\\\\n",
       "\t3 & 30 bps & 250,269 & 48,224 & 19\\% & 202,045 & 81\\%\\\\\n",
       "\t4 & 40 bps & 250,269 & 55,962 & 22\\% & 194,307 & 78\\%\\\\\n",
       "\\end{tabular}\n"
      ],
      "text/markdown": [
       "\n",
       "A data.frame: 4 × 6\n",
       "\n",
       "| <!--/--> | Range &lt;chr&gt; | sAF-lo &lt;I&lt;chr&gt;&gt; | Nb. of rAF-hi Indels &lt;I&lt;chr&gt;&gt; | Percentage of sAF-lo Indels that are rAF-hi &lt;I&lt;chr&gt;&gt; | rAF-lo &lt;I&lt;chr&gt;&gt; | percent rAF-lo &lt;I&lt;chr&gt;&gt; |\n",
       "|---|---|---|---|---|---|---|\n",
       "| 1 | 10 bps | 250,269 | 28,436 | 11% | 221,833 | 89% |\n",
       "| 2 | 20 bps | 250,269 | 39,329 | 16% | 210,940 | 84% |\n",
       "| 3 | 30 bps | 250,269 | 48,224 | 19% | 202,045 | 81% |\n",
       "| 4 | 40 bps | 250,269 | 55,962 | 22% | 194,307 | 78% |\n",
       "\n"
      ],
      "text/plain": [
       "  Range  sAF-lo  Nb. of rAF-hi Indels\n",
       "1 10 bps 250,269 28,436              \n",
       "2 20 bps 250,269 39,329              \n",
       "3 30 bps 250,269 48,224              \n",
       "4 40 bps 250,269 55,962              \n",
       "  Percentage of sAF-lo Indels that are rAF-hi rAF-lo  percent rAF-lo\n",
       "1 11%                                         221,833 89%           \n",
       "2 16%                                         210,940 84%           \n",
       "3 19%                                         202,045 81%           \n",
       "4 22%                                         194,307 78%           "
      ]
     },
     "metadata": {},
     "output_type": "display_data"
    },
    {
     "data": {
      "text/html": [
       "<table class=\"dataframe\">\n",
       "<caption>A data.frame: 4 × 6</caption>\n",
       "<thead>\n",
       "\t<tr><th></th><th scope=col>Range</th><th scope=col>sAF-lo</th><th scope=col>Nb. of rAF-hi Indels</th><th scope=col>Percentage of sAF-lo Indels that are rAF-hi</th><th scope=col>rAF-lo</th><th scope=col>percent rAF-lo</th></tr>\n",
       "\t<tr><th></th><th scope=col>&lt;chr&gt;</th><th scope=col>&lt;I&lt;chr&gt;&gt;</th><th scope=col>&lt;I&lt;chr&gt;&gt;</th><th scope=col>&lt;I&lt;chr&gt;&gt;</th><th scope=col>&lt;I&lt;chr&gt;&gt;</th><th scope=col>&lt;I&lt;chr&gt;&gt;</th></tr>\n",
       "</thead>\n",
       "<tbody>\n",
       "\t<tr><th scope=row>1</th><td>10 bps</td><td>386,430</td><td>18,608</td><td>5%</td><td>367,822</td><td>95%</td></tr>\n",
       "\t<tr><th scope=row>2</th><td>20 bps</td><td>386,430</td><td>24,877</td><td>6%</td><td>361,553</td><td>94%</td></tr>\n",
       "\t<tr><th scope=row>3</th><td>30 bps</td><td>386,430</td><td>29,900</td><td>8%</td><td>356,530</td><td>92%</td></tr>\n",
       "\t<tr><th scope=row>4</th><td>40 bps</td><td>386,430</td><td>33,959</td><td>9%</td><td>352,471</td><td>91%</td></tr>\n",
       "</tbody>\n",
       "</table>\n"
      ],
      "text/latex": [
       "A data.frame: 4 × 6\n",
       "\\begin{tabular}{r|llllll}\n",
       "  & Range & sAF-lo & Nb. of rAF-hi Indels & Percentage of sAF-lo Indels that are rAF-hi & rAF-lo & percent rAF-lo\\\\\n",
       "  & <chr> & <I<chr>> & <I<chr>> & <I<chr>> & <I<chr>> & <I<chr>>\\\\\n",
       "\\hline\n",
       "\t1 & 10 bps & 386,430 & 18,608 & 5\\% & 367,822 & 95\\%\\\\\n",
       "\t2 & 20 bps & 386,430 & 24,877 & 6\\% & 361,553 & 94\\%\\\\\n",
       "\t3 & 30 bps & 386,430 & 29,900 & 8\\% & 356,530 & 92\\%\\\\\n",
       "\t4 & 40 bps & 386,430 & 33,959 & 9\\% & 352,471 & 91\\%\\\\\n",
       "\\end{tabular}\n"
      ],
      "text/markdown": [
       "\n",
       "A data.frame: 4 × 6\n",
       "\n",
       "| <!--/--> | Range &lt;chr&gt; | sAF-lo &lt;I&lt;chr&gt;&gt; | Nb. of rAF-hi Indels &lt;I&lt;chr&gt;&gt; | Percentage of sAF-lo Indels that are rAF-hi &lt;I&lt;chr&gt;&gt; | rAF-lo &lt;I&lt;chr&gt;&gt; | percent rAF-lo &lt;I&lt;chr&gt;&gt; |\n",
       "|---|---|---|---|---|---|---|\n",
       "| 1 | 10 bps | 386,430 | 18,608 | 5% | 367,822 | 95% |\n",
       "| 2 | 20 bps | 386,430 | 24,877 | 6% | 361,553 | 94% |\n",
       "| 3 | 30 bps | 386,430 | 29,900 | 8% | 356,530 | 92% |\n",
       "| 4 | 40 bps | 386,430 | 33,959 | 9% | 352,471 | 91% |\n",
       "\n"
      ],
      "text/plain": [
       "  Range  sAF-lo  Nb. of rAF-hi Indels\n",
       "1 10 bps 386,430 18,608              \n",
       "2 20 bps 386,430 24,877              \n",
       "3 30 bps 386,430 29,900              \n",
       "4 40 bps 386,430 33,959              \n",
       "  Percentage of sAF-lo Indels that are rAF-hi rAF-lo  percent rAF-lo\n",
       "1 5%                                          367,822 95%           \n",
       "2 6%                                          361,553 94%           \n",
       "3 8%                                          356,530 92%           \n",
       "4 9%                                          352,471 91%           "
      ]
     },
     "metadata": {},
     "output_type": "display_data"
    }
   ],
   "source": [
    "\n",
    "\n",
    "\n",
    "sAF_lo_df1 = c(rep(tot_sAF_lo_sAF_df1,4))\n",
    "rAF_hi_df1 = c(num_rAF_hi_bp_10_df_1, num_rAF_hi_bp_20_df_1, num_rAF_hi_bp_30_df_1, num_rAF_hi_bp_40_df_1)\n",
    "rAF_hi_prct_df1 = c(percent_rAF_hi_bp_10_df_1, percent_rAF_hi_bp_20_df_1, percent_rAF_hi_bp_30_df_1, percent_rAF_hi_bp_40_df_1)\n",
    "rAF_lo_raf_df1 = c(num_rAF_lo_bp_10_df_1, num_rAF_lo_bp_20_df_1, num_rAF_lo_bp_30_df_1, num_rAF_lo_bp_40_df_1)\n",
    "rAF_lo_raf_prct_df1 = c(percent_rAF_lo_bp_10_df_1, percent_rAF_lo_bp_20_df_1, percent_rAF_lo_bp_30_df_1, percent_rAF_lo_bp_40_df_1)\n",
    "\n",
    "TableS5a = data.frame(bp_range, sAF_lo_df1, rAF_hi_df1, rAF_hi_prct_df1, rAF_lo_raf_df1, rAF_lo_raf_prct_df1)\n",
    "#adds commas \n",
    "TableS5a <- format(TableS5a, big.mark = \",\")\n",
    "\n",
    "TableS5a$bp_range <- paste(TableS5a$bp_range, \"bps\", sep = \" \")\n",
    "colnames(TableS5a) <- c(\"Range\", \"sAF-lo\", \"Nb. of rAF-hi Indels\", \"Percentage of sAF-lo Indels that are rAF-hi\",\"rAF-lo\", \"percent rAF-lo\")\n",
    "TableS5a\n",
    "fwrite(TableS5a, \"TableS5a.csv\")\n",
    "\n",
    "sAF_lo_df2 = c(rep(tot_sAF_lo_sAF_df2,4))\n",
    "rAF_hi_df2 = c(num_rAF_hi_bp_10_df_2, num_rAF_hi_bp_20_df_2, num_rAF_hi_bp_30_df_2, num_rAF_hi_bp_40_df_2)\n",
    "rAF_hi_prct_df2 = c(percent_rAF_hi_bp_10_df_2, percent_rAF_hi_bp_20_df_2, percent_rAF_hi_bp_30_df_2, percent_rAF_hi_bp_40_df_2)\n",
    "rAF_lo_raf_df2 = c(num_rAF_lo_bp_10_df_2, num_rAF_lo_bp_20_df_2, num_rAF_lo_bp_30_df_2, num_rAF_lo_bp_40_df_2)\n",
    "rAF_lo_raf_prct_df2 = c(percent_rAF_lo_bp_10_df_2, percent_rAF_lo_bp_20_df_2, percent_rAF_lo_bp_30_df_2, percent_rAF_lo_bp_40_df_2)\n",
    "\n",
    "TableS5b = data.frame(bp_range, sAF_lo_df2, rAF_hi_df2, rAF_hi_prct_df2, rAF_lo_raf_df2, rAF_lo_raf_prct_df2)\n",
    "TableS5b <- format(TableS5b, big.mark = \",\")\n",
    "TableS5b$bp_range <- paste(TableS5b$bp_range, \"bps\", sep = \" \")\n",
    "colnames(TableS5b) <- c(\"Range\", \"sAF-lo\", \"Nb. of rAF-hi Indels\", \"Percentage of sAF-lo Indels that are rAF-hi\",\"rAF-lo\", \"percent rAF-lo\")\n",
    "TableS5b\n",
    "fwrite(TableS5b, \"TableS5b.csv\")\n",
    "\n",
    "sAF_lo_df3 = c(rep(tot_sAF_lo_sAF_df3,4))\n",
    "rAF_hi_df3 = c(num_rAF_hi_bp_10_df_3, num_rAF_hi_bp_20_df_3, num_rAF_hi_bp_30_df_3, num_rAF_hi_bp_40_df_3)\n",
    "rAF_hi_prct_df3 = c(percent_rAF_hi_bp_10_df_3, percent_rAF_hi_bp_20_df_3, percent_rAF_hi_bp_30_df_3, percent_rAF_hi_bp_40_df_3)\n",
    "rAF_lo_raf_df3 = c(num_rAF_lo_bp_10_df_3, num_rAF_lo_bp_20_df_3, num_rAF_lo_bp_30_df_3, num_rAF_lo_bp_40_df_3)\n",
    "rAF_lo_raf_prct_df3 = c(percent_rAF_lo_bp_10_df_3, percent_rAF_lo_bp_20_df_3, percent_rAF_lo_bp_30_df_3, percent_rAF_lo_bp_40_df_3)\n",
    "\n",
    "TableS5c = data.frame(bp_range, sAF_lo_df3, rAF_hi_df3, rAF_hi_prct_df3, rAF_lo_raf_df3, rAF_lo_raf_prct_df3)\n",
    "TableS5c <- format(TableS5c, big.mark = \",\")\n",
    "TableS5c$bp_range <- paste(TableS5c$bp_range, \"bps\", sep = \" \")\n",
    "colnames(TableS5c) <- c(\"Range\", \"sAF-lo\", \"Nb. of rAF-hi Indels\", \"Percentage of sAF-lo Indels that are rAF-hi\",\"rAF-lo\", \"percent rAF-lo\")\n",
    "TableS5c\n",
    "fwrite(TableS5c, \"TableS5c.csv\")"
   ]
  },
  {
   "cell_type": "code",
   "execution_count": null,
   "id": "6fd4e6b0-2207-4309-b8c8-5a0275582cc0",
   "metadata": {
    "vscode": {
     "languageId": "r"
    }
   },
   "outputs": [],
   "source": []
  },
  {
   "cell_type": "code",
   "execution_count": null,
   "id": "7e4ef643-6b8a-41c3-8ec3-820d81046d48",
   "metadata": {
    "vscode": {
     "languageId": "r"
    }
   },
   "outputs": [],
   "source": []
  }
 ],
 "metadata": {
  "kernelspec": {
   "display_name": "R",
   "language": "R",
   "name": "ir"
  },
  "language_info": {
   "codemirror_mode": "r",
   "file_extension": ".r",
   "mimetype": "text/x-r-source",
   "name": "R",
   "pygments_lexer": "r",
   "version": "4.2.1"
  }
 },
 "nbformat": 4,
 "nbformat_minor": 5
}
