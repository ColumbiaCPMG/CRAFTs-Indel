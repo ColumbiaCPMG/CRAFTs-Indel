{
 "cells": [
  {
   "cell_type": "markdown",
   "id": "8fc9aa75",
   "metadata": {},
   "source": [
    "# Figure 4"
   ]
  },
  {
   "cell_type": "code",
   "execution_count": 1,
   "id": "614c1969",
   "metadata": {},
   "outputs": [
    {
     "name": "stderr",
     "output_type": "stream",
     "text": [
      "── \u001b[1mAttaching core tidyverse packages\u001b[22m ──────────────────────── tidyverse 2.0.0 ──\n",
      "\u001b[32m✔\u001b[39m \u001b[34mdplyr    \u001b[39m 1.1.1     \u001b[32m✔\u001b[39m \u001b[34mreadr    \u001b[39m 2.1.4\n",
      "\u001b[32m✔\u001b[39m \u001b[34mforcats  \u001b[39m 1.0.0     \u001b[32m✔\u001b[39m \u001b[34mstringr  \u001b[39m 1.5.0\n",
      "\u001b[32m✔\u001b[39m \u001b[34mggplot2  \u001b[39m 3.4.1     \u001b[32m✔\u001b[39m \u001b[34mtibble   \u001b[39m 3.2.1\n",
      "\u001b[32m✔\u001b[39m \u001b[34mlubridate\u001b[39m 1.9.2     \u001b[32m✔\u001b[39m \u001b[34mtidyr    \u001b[39m 1.3.0\n",
      "\u001b[32m✔\u001b[39m \u001b[34mpurrr    \u001b[39m 1.0.1     \n",
      "── \u001b[1mConflicts\u001b[22m ────────────────────────────────────────── tidyverse_conflicts() ──\n",
      "\u001b[31m✖\u001b[39m \u001b[34mdplyr\u001b[39m::\u001b[32mfilter()\u001b[39m masks \u001b[34mstats\u001b[39m::filter()\n",
      "\u001b[31m✖\u001b[39m \u001b[34mdplyr\u001b[39m::\u001b[32mlag()\u001b[39m    masks \u001b[34mstats\u001b[39m::lag()\n",
      "\u001b[36mℹ\u001b[39m Use the conflicted package (\u001b[3m\u001b[34m<http://conflicted.r-lib.org/>\u001b[39m\u001b[23m) to force all conflicts to become errors\n",
      "\n",
      "Attaching package: ‘data.table’\n",
      "\n",
      "\n",
      "The following objects are masked from ‘package:lubridate’:\n",
      "\n",
      "    hour, isoweek, mday, minute, month, quarter, second, wday, week,\n",
      "    yday, year\n",
      "\n",
      "\n",
      "The following objects are masked from ‘package:dplyr’:\n",
      "\n",
      "    between, first, last\n",
      "\n",
      "\n",
      "The following object is masked from ‘package:purrr’:\n",
      "\n",
      "    transpose\n",
      "\n",
      "\n"
     ]
    },
    {
     "name": "stdout",
     "output_type": "stream",
     "text": [
      "\n",
      "The downloaded binary packages are in\n",
      "\t/var/folders/d3/vjc_50q165z6232gypbw3sq40000gp/T//Rtmpbkcb4C/downloaded_packages\n",
      "\n",
      "The downloaded binary packages are in\n",
      "\t/var/folders/d3/vjc_50q165z6232gypbw3sq40000gp/T//Rtmpbkcb4C/downloaded_packages\n",
      "\n",
      "The downloaded binary packages are in\n",
      "\t/var/folders/d3/vjc_50q165z6232gypbw3sq40000gp/T//Rtmpbkcb4C/downloaded_packages\n"
     ]
    }
   ],
   "source": [
    "library(tidyverse)\n",
    "library(data.table)\n",
    "library(readxl)\n",
    "library(dplyr)\n",
    "library(stringr)\n",
    "install.packages(\"ggpubr\")\n",
    "library(ggpubr)\n",
    "install.packages(\"ggfittext\")\n",
    "library(ggfittext)\n",
    "install.packages(\"ggrepel\")\n",
    "library(ggrepel)"
   ]
  },
  {
   "cell_type": "code",
   "execution_count": 2,
   "id": "6760d587",
   "metadata": {},
   "outputs": [],
   "source": [
    "rm(list=ls())"
   ]
  },
  {
   "cell_type": "markdown",
   "id": "fa2f5572",
   "metadata": {},
   "source": [
    "Define rare. "
   ]
  },
  {
   "cell_type": "code",
   "execution_count": 3,
   "id": "baa8a727",
   "metadata": {},
   "outputs": [],
   "source": [
    "rare = (1 * 10^-4)"
   ]
  },
  {
   "cell_type": "markdown",
   "id": "6fab6248",
   "metadata": {},
   "source": [
    "Define bp_range. "
   ]
  },
  {
   "cell_type": "code",
   "execution_count": 4,
   "id": "59bdd98a",
   "metadata": {},
   "outputs": [],
   "source": [
    "bp_range = c(\"10\", \"20\", \"30\", \"40\")"
   ]
  },
  {
   "cell_type": "markdown",
   "id": "65f1dd0a",
   "metadata": {},
   "source": [
    "Define conditions."
   ]
  },
  {
   "cell_type": "code",
   "execution_count": 5,
   "id": "488b3573",
   "metadata": {},
   "outputs": [],
   "source": [
    "conditions = c(\"Suspicious\", \"Rare\", \"Common\")"
   ]
  },
  {
   "cell_type": "markdown",
   "id": "02410b65",
   "metadata": {},
   "source": [
    "Define output_path."
   ]
  },
  {
   "cell_type": "code",
   "execution_count": 6,
   "id": "dc82ab37",
   "metadata": {},
   "outputs": [],
   "source": [
    "output_path = \"\""
   ]
  },
  {
   "cell_type": "markdown",
   "id": "22bcf248",
   "metadata": {},
   "source": [
    "Define date."
   ]
  },
  {
   "cell_type": "code",
   "execution_count": 7,
   "id": "2b4c4738",
   "metadata": {},
   "outputs": [],
   "source": [
    "date = \"\""
   ]
  },
  {
   "cell_type": "markdown",
   "id": "b4451789",
   "metadata": {},
   "source": [
    "Define dateframes. "
   ]
  },
  {
   "cell_type": "code",
   "execution_count": 8,
   "id": "2c05c3d2",
   "metadata": {},
   "outputs": [],
   "source": [
    "df_name_1 = \"gnomAD\"\n",
    "df_name_2 = \"IGM\""
   ]
  },
  {
   "cell_type": "markdown",
   "id": "b2e0e22e",
   "metadata": {},
   "source": [
    "Read in suspicious bins (bedfile). "
   ]
  },
  {
   "cell_type": "code",
   "execution_count": 9,
   "id": "3aa071f9",
   "metadata": {},
   "outputs": [],
   "source": [
    "Suspicious_bp_10_df_1 = fread(\"gnomad.exomes.r2.1.1.sites_indelsonly_rAF_bp10_SuspiciousIndels.lt50bp.bin.bed\")\n",
    "Suspicious_bp_20_df_1 = fread(\"gnomad.exomes.r2.1.1.sites_indelsonly_rAF_bp20_SuspiciousIndels.lt50bp.bin.bed\")\n",
    "Suspicious_bp_30_df_1 = fread(\"gnomad.exomes.r2.1.1.sites_indelsonly_rAF_bp30_SuspiciousIndels.lt50bp.bin.bed\")\n",
    "Suspicious_bp_40_df_1 = fread(\"gnomad.exomes.r2.1.1.sites_indelsonly_rAF_bp40_SuspiciousIndels.lt50bp.bin.bed\")\n",
    "\n",
    "Suspicious_bp_10_df_2 = fread(\"2023-03-23_IGM_n39367_indelsonly_rAF_bp10_SuspiciousIndels.lt50bp.bin.bed\")\n",
    "Suspicious_bp_20_df_2 = fread(\"2023-03-23_IGM_n39367_indelsonly_rAF_bp20_SuspiciousIndels.lt50bp.bin.bed\")\n",
    "Suspicious_bp_30_df_2 = fread(\"2023-03-23_IGM_n39367_indelsonly_rAF_bp30_SuspiciousIndels.lt50bp.bin.bed\")\n",
    "Suspicious_bp_40_df_2 = fread(\"2023-03-23_IGM_n39367_indelsonly_rAF_bp40_SuspiciousIndels.lt50bp.bin.bed\")\n"
   ]
  },
  {
   "cell_type": "markdown",
   "id": "1cde5ac6",
   "metadata": {},
   "source": [
    "Read in rare bins (bedfile). "
   ]
  },
  {
   "cell_type": "code",
   "execution_count": 10,
   "id": "53b2178d",
   "metadata": {},
   "outputs": [],
   "source": [
    "Rare_bp_10_df_1 = fread(\"gnomad.exomes.r2.1.1.sites_indelsonly_rAF_bp10_RareIndels.lt50bp.bin.bed\")\n",
    "Rare_bp_20_df_1 = fread(\"gnomad.exomes.r2.1.1.sites_indelsonly_rAF_bp20_RareIndels.lt50bp.bin.bed\")\n",
    "Rare_bp_30_df_1 = fread(\"gnomad.exomes.r2.1.1.sites_indelsonly_rAF_bp30_RareIndels.lt50bp.bin.bed\")\n",
    "Rare_bp_40_df_1 = fread(\"gnomad.exomes.r2.1.1.sites_indelsonly_rAF_bp40_RareIndels.lt50bp.bin.bed\")\n",
    "\n",
    "Rare_bp_10_df_2 = fread(\"2023-03-23_IGM_n39367_indelsonly_rAF_bp10_RareIndels.lt50bp.bin.bed\")\n",
    "Rare_bp_20_df_2 = fread(\"2023-03-23_IGM_n39367_indelsonly_rAF_bp20_RareIndels.lt50bp.bin.bed\")\n",
    "Rare_bp_30_df_2 = fread(\"2023-03-23_IGM_n39367_indelsonly_rAF_bp30_RareIndels.lt50bp.bin.bed\")\n",
    "Rare_bp_40_df_2 = fread(\"2023-03-23_IGM_n39367_indelsonly_rAF_bp40_RareIndels.lt50bp.bin.bed\")"
   ]
  },
  {
   "cell_type": "markdown",
   "id": "095123bd",
   "metadata": {},
   "source": [
    "Read in common bins (bedfile)."
   ]
  },
  {
   "cell_type": "code",
   "execution_count": 11,
   "id": "f07c8f07",
   "metadata": {},
   "outputs": [],
   "source": [
    "Common_bp_10_df_1 = fread(\"gnomad.exomes.r2.1.1.sites_indelsonly_rAF_bp10_CommonIndels.lt50bp.bin.bed\")\n",
    "Common_bp_20_df_1 = fread(\"gnomad.exomes.r2.1.1.sites_indelsonly_rAF_bp20_CommonIndels.lt50bp.bin.bed\")\n",
    "Common_bp_30_df_1 = fread(\"gnomad.exomes.r2.1.1.sites_indelsonly_rAF_bp30_CommonIndels.lt50bp.bin.bed\")\n",
    "Common_bp_40_df_1 = fread(\"gnomad.exomes.r2.1.1.sites_indelsonly_rAF_bp40_CommonIndels.lt50bp.bin.bed\")\n",
    "\n",
    "Common_bp_10_df_2 = fread(\"2023-03-23_IGM_n39367_indelsonly_rAF_bp10_CommonIndels.lt50bp.bin.bed\")\n",
    "Common_bp_20_df_2 = fread(\"2023-03-23_IGM_n39367_indelsonly_rAF_bp20_CommonIndels.lt50bp.bin.bed\")\n",
    "Common_bp_30_df_2 = fread(\"2023-03-23_IGM_n39367_indelsonly_rAF_bp30_CommonIndels.lt50bp.bin.bed\")\n",
    "Common_bp_40_df_2 = fread(\"2023-03-23_IGM_n39367_indelsonly_rAF_bp40_CommonIndels.lt50bp.bin.bed\")"
   ]
  },
  {
   "cell_type": "markdown",
   "id": "5cc08116",
   "metadata": {},
   "source": [
    "Use bedtools intersect to find the overlap between these bins and the LCRs."
   ]
  },
  {
   "cell_type": "code",
   "execution_count": 23,
   "id": "d134e98d",
   "metadata": {},
   "outputs": [
    {
     "data": {
      "text/html": [
       "<style>\n",
       ".list-inline {list-style: none; margin:0; padding: 0}\n",
       ".list-inline>li {display: inline-block}\n",
       ".list-inline>li:not(:last-child)::after {content: \"\\00b7\"; padding: 0 .5ex}\n",
       "</style>\n",
       "<ol class=list-inline><li>'10'</li><li>'20'</li><li>'30'</li><li>'40'</li><li>'10'</li><li>'20'</li><li>'30'</li><li>'40'</li><li>'10'</li><li>'20'</li><li>'30'</li><li>'40'</li></ol>\n"
      ],
      "text/latex": [
       "\\begin{enumerate*}\n",
       "\\item '10'\n",
       "\\item '20'\n",
       "\\item '30'\n",
       "\\item '40'\n",
       "\\item '10'\n",
       "\\item '20'\n",
       "\\item '30'\n",
       "\\item '40'\n",
       "\\item '10'\n",
       "\\item '20'\n",
       "\\item '30'\n",
       "\\item '40'\n",
       "\\end{enumerate*}\n"
      ],
      "text/markdown": [
       "1. '10'\n",
       "2. '20'\n",
       "3. '30'\n",
       "4. '40'\n",
       "5. '10'\n",
       "6. '20'\n",
       "7. '30'\n",
       "8. '40'\n",
       "9. '10'\n",
       "10. '20'\n",
       "11. '30'\n",
       "12. '40'\n",
       "\n",
       "\n"
      ],
      "text/plain": [
       " [1] \"10\" \"20\" \"30\" \"40\" \"10\" \"20\" \"30\" \"40\" \"10\" \"20\" \"30\" \"40\""
      ]
     },
     "metadata": {},
     "output_type": "display_data"
    }
   ],
   "source": [
    "system(\"bp_range=('10' '20' '30' '40')\n",
    "condition=('Suspicious' 'Rare' 'Common')\n",
    "\n",
    "df_name_1='gnomAD'\n",
    "df_name_2='IGM'\n",
    "\n",
    "date=''\n",
    "output_path=''\n",
    "\n",
    "lcr_file='GRCh37_AllTandemRepeatsandHomopolymers_slop5.bed'\n",
    "\n",
    "for n in ${condition[@]};\n",
    "do \n",
    "   for i in ${bp_range[@]};\n",
    "   do\n",
    "      echo $i\n",
    "      bedtools intersect -wa -a '${output_path}gnomad.exomes.r2.1.1.sites_indelsonly_rAF_bp${i}_${n}Indels.lt50bp.bin.bed' -b '${output_path}${lcr_file}' | sort -k1,1n -k2,2n | uniq > '${output_path}${date}_LCR_intersect_${n}_${i}_df_1_${df_name_1}.bed'\n",
    "      bedtools intersect -wa -a '${output_path}2023-03-23_IGM_n39367_indelsonly_rAF_bp${i}_${n}Indels.lt50bp.bin.bed' -b '${output_path}${lcr_file}' | sort -k1,1n -k2,2n | uniq > '${output_path}${date}_LCR_intersect_${n}_${i}_df_2_${df_name_2}.bed'\n",
    "   done; \n",
    "done\", intern = TRUE)"
   ]
  },
  {
   "cell_type": "markdown",
   "id": "14dfe8f3",
   "metadata": {},
   "source": [
    "### Bash script ends."
   ]
  },
  {
   "cell_type": "markdown",
   "id": "96781fc2",
   "metadata": {},
   "source": [
    "Format the y-axis:"
   ]
  },
  {
   "cell_type": "code",
   "execution_count": 12,
   "id": "417c5e9f",
   "metadata": {},
   "outputs": [],
   "source": [
    "formatter10000 = function(x) {\n",
    "  x/10000\n",
    "}"
   ]
  },
  {
   "cell_type": "markdown",
   "id": "4882721f",
   "metadata": {},
   "source": [
    "Calculate percentages in and outside of LCR. "
   ]
  },
  {
   "cell_type": "code",
   "execution_count": 13,
   "id": "fafaffe0",
   "metadata": {},
   "outputs": [
    {
     "name": "stdout",
     "output_type": "stream",
     "text": [
      "[1] \"Suspicious_LCR_bp_10_df_1: 21288\"\n",
      "[1] \"Suspicious_LCR_bp_10_df_2: 5124\"\n",
      "[1] \"Suspicious_not_in_LCR_bp_10_df_1: 10317\"\n",
      "[1] \"Suspicious_not_in_LCR_bp_10_df_2: 3624\"\n",
      "[1] \"Suspicious_LCR_bp_20_df_1: 21442\"\n",
      "[1] \"Suspicious_LCR_bp_20_df_2: 5055\"\n",
      "[1] \"Suspicious_not_in_LCR_bp_20_df_1: 13570\"\n",
      "[1] \"Suspicious_not_in_LCR_bp_20_df_2: 5223\"\n",
      "[1] \"Suspicious_LCR_bp_30_df_1: 21481\"\n",
      "[1] \"Suspicious_LCR_bp_30_df_2: 5050\"\n",
      "[1] \"Suspicious_not_in_LCR_bp_30_df_1: 15643\"\n",
      "[1] \"Suspicious_not_in_LCR_bp_30_df_2: 6387\"\n",
      "[1] \"Suspicious_LCR_bp_40_df_1: 21726\"\n",
      "[1] \"Suspicious_LCR_bp_40_df_2: 5088\"\n",
      "[1] \"Suspicious_not_in_LCR_bp_40_df_1: 17233\"\n",
      "[1] \"Suspicious_not_in_LCR_bp_40_df_2: 7290\"\n",
      "[1] \"Rare_LCR_bp_10_df_1: 63509\"\n",
      "[1] \"Rare_LCR_bp_10_df_2: 16380\"\n",
      "[1] \"Rare_not_in_LCR_bp_10_df_1: 648005\"\n",
      "[1] \"Rare_not_in_LCR_bp_10_df_2: 178550\"\n",
      "[1] \"Rare_LCR_bp_20_df_1: 47319\"\n",
      "[1] \"Rare_LCR_bp_20_df_2: 12582\"\n",
      "[1] \"Rare_not_in_LCR_bp_20_df_1: 581346\"\n",
      "[1] \"Rare_not_in_LCR_bp_20_df_2: 163171\"\n",
      "[1] \"Rare_LCR_bp_30_df_1: 39953\"\n",
      "[1] \"Rare_LCR_bp_30_df_2: 10592\"\n",
      "[1] \"Rare_not_in_LCR_bp_30_df_1: 530829\"\n",
      "[1] \"Rare_not_in_LCR_bp_30_df_2: 152068\"\n",
      "[1] \"Rare_LCR_bp_40_df_1: 36643\"\n",
      "[1] \"Rare_LCR_bp_40_df_2: 9443\"\n",
      "[1] \"Rare_not_in_LCR_bp_40_df_1: 487527\"\n",
      "[1] \"Rare_not_in_LCR_bp_40_df_2: 143177\"\n",
      "[1] \"Common_LCR_bp_10_df_1: 26063\"\n",
      "[1] \"Common_LCR_bp_10_df_2: 6480\"\n",
      "[1] \"Common_not_in_LCR_bp_10_df_1: 30661\"\n",
      "[1] \"Common_not_in_LCR_bp_10_df_2: 11517\"\n",
      "[1] \"Common_LCR_bp_20_df_1: 24062\"\n",
      "[1] \"Common_LCR_bp_20_df_2: 5635\"\n",
      "[1] \"Common_not_in_LCR_bp_20_df_1: 29777\"\n",
      "[1] \"Common_not_in_LCR_bp_20_df_2: 11176\"\n",
      "[1] \"Common_LCR_bp_30_df_1: 23142\"\n",
      "[1] \"Common_LCR_bp_30_df_2: 5233\"\n",
      "[1] \"Common_not_in_LCR_bp_30_df_1: 29109\"\n",
      "[1] \"Common_not_in_LCR_bp_30_df_2: 10968\"\n",
      "[1] \"Common_LCR_bp_40_df_1: 22854\"\n",
      "[1] \"Common_LCR_bp_40_df_2: 5018\"\n",
      "[1] \"Common_not_in_LCR_bp_40_df_1: 28576\"\n",
      "[1] \"Common_not_in_LCR_bp_40_df_2: 10805\"\n"
     ]
    }
   ],
   "source": [
    "for (i in conditions) {\n",
    "  for (j in bp_range) {\n",
    "    # get files with the bins before overlap with LCR \n",
    "    total_file_df1 = paste0(i, \"_bp_\", j, \"_df_1\")\n",
    "    total_file_df2 = paste0(i, \"_bp_\", j, \"_df_2\")\n",
    "    \n",
    "    # get files with bins after overlap with LCR \n",
    "    LCR_file_df1 = paste0(output_path, date, \"_LCR_intersect_\", i,\"_\", j, \"_df_1_\", df_name_1, \".bed\")\n",
    "    LCR_file_df2 = paste0(output_path, date, \"_LCR_intersect_\", i,\"_\", j, \"_df_2_\", df_name_2, \".bed\")\n",
    "    \n",
    "    n_total_df1 = paste0(i, \"_total_bp_\", j, \"_df_1\")\n",
    "    n_total_df2 = paste0(i, \"_total_bp_\", j, \"_df_2\")\n",
    "    \n",
    "    assign( n_total_df1 , nrow(get(total_file_df1)))\n",
    "    assign( n_total_df2 , nrow(get(total_file_df2)))\n",
    "    \n",
    "    \n",
    "    n_LCR_df1 = paste0(i, \"_LCR_bp_\", j, \"_df_1\")\n",
    "    n_LCR_df2 = paste0(i, \"_LCR_bp_\", j, \"_df_2\")\n",
    "  \n",
    "    assign( n_LCR_df1, nrow(fread(LCR_file_df1)))\n",
    "    assign( n_LCR_df2, nrow(fread(LCR_file_df2)))\n",
    "    \n",
    "    print(paste0(n_LCR_df1, \": \", get(n_LCR_df1)))\n",
    "    print(paste0(n_LCR_df2, \": \", get(n_LCR_df2)))\n",
    "    \n",
    "    # get not in lcr \n",
    "    n_not_LCR_df1 = paste0(i, \"_not_in_LCR_bp_\", j,\"_df_1\")\n",
    "    n_not_LCR_df2 = paste0(i, \"_not_in_LCR_bp_\", j,\"_df_2\")\n",
    "    \n",
    "    assign( n_not_LCR_df1, get(n_total_df1) - get(n_LCR_df1))\n",
    "    assign( n_not_LCR_df2, get(n_total_df2) - get(n_LCR_df2))\n",
    "    \n",
    "    print(paste0(n_not_LCR_df1, \": \", get(n_not_LCR_df1)))\n",
    "    print(paste0(n_not_LCR_df2, \": \", get(n_not_LCR_df2)))\n",
    "    \n",
    "    # get percent \n",
    "    prct_LCR_df1 = paste0(i, \"_prct_LCR_bp_\", j, \"_df_1\")\n",
    "    prct_LCR_df2 = paste0(i, \"_prct_LCR_bp_\", j, \"_df_2\")\n",
    "    \n",
    "    assign( prct_LCR_df1, paste0(round(get(n_LCR_df1)/get(n_total_df1) * 100, 0), \"%\"))\n",
    "    assign( prct_LCR_df2, paste0(round(get(n_LCR_df2)/get(n_total_df2) * 100, 0), \"%\"))\n",
    "    \n",
    "    #print(paste0(prct_LCR_df1, \": \", get(prct_LCR_df1)))\n",
    "    #print(paste0(prct_LCR_df2, \": \", get(prct_LCR_df2)))\n",
    "    \n",
    "    # get percent \n",
    "    prct_not_in_LCR_df1 = paste0(i, \"_prct_not_in_LCR_bp_\", j, \"_df_1\")\n",
    "    prct_not_in_LCR_df2 = paste0(i, \"_prct_not_in_LCR_bp_\", j, \"_df_2\")\n",
    "    \n",
    "    assign( prct_not_in_LCR_df1, paste0(round(get(n_not_LCR_df1)/get(n_total_df1) * 100, 0), \"%\"))\n",
    "    assign( prct_not_in_LCR_df2, paste0(round(get(n_not_LCR_df2)/get(n_total_df2) * 100, 0), \"%\"))\n",
    "    \n",
    "    #print(paste0(prct_not_in_LCR_df1, \": \", get(prct_not_in_LCR_df1)))\n",
    "    #print(paste0(prct_not_in_LCR_df2, \": \", get(prct_not_in_LCR_df2)))\n",
    "  }\n",
    "}\n"
   ]
  },
  {
   "cell_type": "markdown",
   "id": "ff25a479",
   "metadata": {},
   "source": [
    "Make graph. "
   ]
  },
  {
   "cell_type": "code",
   "execution_count": 14,
   "id": "884d6799",
   "metadata": {},
   "outputs": [
    {
     "name": "stderr",
     "output_type": "stream",
     "text": [
      "\u001b[1m\u001b[22mScale for \u001b[32my\u001b[39m is already present.\n",
      "Adding another scale for \u001b[32my\u001b[39m, which will replace the existing scale.\n",
      "\u001b[1m\u001b[22mScale for \u001b[32my\u001b[39m is already present.\n",
      "Adding another scale for \u001b[32my\u001b[39m, which will replace the existing scale.\n",
      "\u001b[1m\u001b[22mScale for \u001b[32my\u001b[39m is already present.\n",
      "Adding another scale for \u001b[32my\u001b[39m, which will replace the existing scale.\n"
     ]
    }
   ],
   "source": [
    "for (i in conditions) {\n",
    "  \n",
    "    windows = c(rep(paste0(bp_range, \" bps\"), 4))\n",
    "    region = c(rep(\"in LCR\", 4), rep(\"outside of LCR\", 4), rep(\"in LCR\", 4), rep(\"outside of LCR\", 4))\n",
    "    df_labels = c(rep(df_name_1, 8), rep(df_name_2, 8))\n",
    "    \n",
    "    num_indels = c()\n",
    "    prct_indels = c()\n",
    "    \n",
    "    \n",
    "    dfs = c(\"1\", \"2\")\n",
    "    reg = c(\"LCR\", \"not_in_LCR\")\n",
    "    for (j in dfs) {\n",
    "      for (k in reg) {\n",
    "        for (l in bp_range) {\n",
    "          num_var = paste0(i, \"_\", k, \"_bp_\", l, \"_df_\", j)\n",
    "          num_indels = append(num_indels, get(num_var))\n",
    "          \n",
    "          prct_var = paste0(i, \"_prct_\", k, \"_bp_\", l, \"_df_\", j)\n",
    "          prct_indels = append(prct_indels, get(prct_var))\n",
    "        }\n",
    "      }\n",
    "    }\n",
    "  \n",
    "  graph_df = data.frame(windows, region, num_indels, prct_indels, df_labels)\n",
    "  \n",
    "  \n",
    "  graph = paste0(\"graph_\", i)\n",
    "  assign(graph, ggplot(graph_df, aes(x = df_labels, y = num_indels, fill = interaction(region, df_labels))) + scale_y_continuous (labels = formatter10000) + geom_bar(stat = \"identity\", position = \"stack\") + facet_grid(~windows, switch = \"both\") + labs(title = paste0(i , \" Regions\"), y = \"Number of Intervals (x10000)\", x = \"Windows\", fill = \"Location\")  + scale_fill_grey(labels = c(paste0(\"Overlap\"), paste0 (\"Non-Overlap\"), paste0(\"Overlap\"), paste0 (\"Non-Overlap\"))) + theme(plot.title = element_text(hjust = 0.5, size = 32, margin = margin( 1, 1, 1, 1, \"cm\")), legend.position = \"top\", axis.text=element_text(size=26), axis.title=element_text(size=26), legend.title = element_text(size = 26), legend.text = element_text(size = 26), strip.text.x = element_text(size = 26), plot.margin = margin( 1, 1, 1, 1, \"cm\"), axis.title.x = element_blank(), axis.title.y = element_text(margin = margin( 1, 1, 1, 1, \"cm\")))) \n",
    "  \n",
    "  if (i == \"Rare\") {\n",
    "    assign(graph, get(graph) + labs(title = \"Rare Non-Suspicious Regions\") + scale_y_continuous (labels = formatter10000, limits = c(0,800000)) + geom_bar_text(aes(label = prct_indels), position = \"stack\", reflow = TRUE, contrast = TRUE, size = 32, padding.y = grid::unit(6, \"mm\") ,outside = TRUE))\n",
    "  }\n",
    "  \n",
    "  if (i == \"Common\" | i == \"Suspicious\") {\n",
    "    assign(graph, get(graph) + theme(legend.position = \"none\") + scale_y_continuous (labels = formatter10000, limits = c(0,70000)) + geom_bar_text(aes(label = prct_indels), position = \"stack\", reflow = TRUE, contrast = TRUE, size = 32, padding.y = grid::unit(1, \"mm\") ,outside = TRUE))\n",
    "  }\n",
    "  \n",
    "  \n",
    "}\n"
   ]
  },
  {
   "cell_type": "code",
   "execution_count": 15,
   "id": "c8219b38",
   "metadata": {},
   "outputs": [],
   "source": [
    "null_df = data.frame() \n",
    "null_figure = ggplot(null_df) + labs(title = \"LCR Overlap Analysis\") + theme(panel.background = element_rect(fill = 'white', colour = 'white')) + theme (plot.title = element_text(hjust = 0.5, size = 32, margin = margin( 1, 1, 1, 1, \"cm\")))"
   ]
  },
  {
   "cell_type": "code",
   "execution_count": 16,
   "id": "1e47ab71",
   "metadata": {},
   "outputs": [],
   "source": [
    "graph_summary = ggarrange(print(null_figure), print(graph_Rare), print(graph_Common), print(graph_Suspicious), labels = c(\"A\", \"B\", \"C\", \"D\"), ncol = 2, nrow = 2, font.label = list(size = 32, color = \"black\")) + theme(plot.margin = unit(c(2,2,2,2), \"cm\"))"
   ]
  },
  {
   "cell_type": "code",
   "execution_count": 17,
   "id": "86361ee9",
   "metadata": {},
   "outputs": [],
   "source": [
    "setwd(\"\")\n",
    "ggsave(\"Fig4.jpg\", width = 80, height = 60, units = c(\"cm\"), dpi = 300)"
   ]
  },
  {
   "cell_type": "markdown",
   "id": "11213f16",
   "metadata": {},
   "source": [
    "# p-value "
   ]
  },
  {
   "cell_type": "code",
   "execution_count": 18,
   "id": "5cdcea85",
   "metadata": {},
   "outputs": [],
   "source": [
    "db = c(rep(\"gnomad\",3), rep(\"IGM\", 3))\n",
    "type = c(rep(c(\"sus\", \"rare\", \"common\"), 2))\n",
    "bins_in_LCR = c(Suspicious_LCR_bp_10_df_1, Rare_LCR_bp_10_df_1, Common_LCR_bp_10_df_1, Suspicious_LCR_bp_10_df_2, Rare_LCR_bp_10_df_2, Common_LCR_bp_10_df_2)\n",
    "bins_outside_LCR = c(Suspicious_not_in_LCR_bp_10_df_1, Rare_not_in_LCR_bp_10_df_1, Common_not_in_LCR_bp_10_df_1, Suspicious_not_in_LCR_bp_10_df_2, Rare_not_in_LCR_bp_10_df_2, Common_not_in_LCR_bp_10_df_2)"
   ]
  },
  {
   "cell_type": "code",
   "execution_count": 19,
   "id": "ebb7eeb9",
   "metadata": {},
   "outputs": [],
   "source": [
    "df = data.frame(db, type, bins_in_LCR, bins_outside_LCR)"
   ]
  },
  {
   "cell_type": "code",
   "execution_count": 20,
   "id": "87b5f10e",
   "metadata": {},
   "outputs": [],
   "source": [
    "fwrite(df, \"2023-05-03_p_value_table_LCR.csv\")"
   ]
  },
  {
   "cell_type": "code",
   "execution_count": null,
   "id": "fe1de3d3",
   "metadata": {},
   "outputs": [],
   "source": []
  }
 ],
 "metadata": {
  "kernelspec": {
   "display_name": "R",
   "language": "R",
   "name": "ir"
  },
  "language_info": {
   "codemirror_mode": "r",
   "file_extension": ".r",
   "mimetype": "text/x-r-source",
   "name": "R",
   "pygments_lexer": "r",
   "version": "4.2.1"
  }
 },
 "nbformat": 4,
 "nbformat_minor": 5
}
