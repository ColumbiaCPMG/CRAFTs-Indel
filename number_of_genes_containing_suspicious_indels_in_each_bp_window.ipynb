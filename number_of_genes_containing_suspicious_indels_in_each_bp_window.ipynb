{
 "cells": [
  {
   "cell_type": "markdown",
   "id": "a665399e",
   "metadata": {},
   "source": [
    "# The goal of this code is to find the number of genes that contain suspicious indels in each bp sliding window for each data set. "
   ]
  },
  {
   "cell_type": "code",
   "execution_count": 1,
   "id": "a4343010",
   "metadata": {},
   "outputs": [
    {
     "name": "stderr",
     "output_type": "stream",
     "text": [
      "── \u001b[1mAttaching core tidyverse packages\u001b[22m ──────────────────────── tidyverse 2.0.0 ──\n",
      "\u001b[32m✔\u001b[39m \u001b[34mdplyr    \u001b[39m 1.1.1     \u001b[32m✔\u001b[39m \u001b[34mreadr    \u001b[39m 2.1.4\n",
      "\u001b[32m✔\u001b[39m \u001b[34mforcats  \u001b[39m 1.0.0     \u001b[32m✔\u001b[39m \u001b[34mstringr  \u001b[39m 1.5.0\n",
      "\u001b[32m✔\u001b[39m \u001b[34mggplot2  \u001b[39m 3.4.1     \u001b[32m✔\u001b[39m \u001b[34mtibble   \u001b[39m 3.2.1\n",
      "\u001b[32m✔\u001b[39m \u001b[34mlubridate\u001b[39m 1.9.2     \u001b[32m✔\u001b[39m \u001b[34mtidyr    \u001b[39m 1.3.0\n",
      "\u001b[32m✔\u001b[39m \u001b[34mpurrr    \u001b[39m 1.0.1     \n",
      "── \u001b[1mConflicts\u001b[22m ────────────────────────────────────────── tidyverse_conflicts() ──\n",
      "\u001b[31m✖\u001b[39m \u001b[34mdplyr\u001b[39m::\u001b[32mfilter()\u001b[39m masks \u001b[34mstats\u001b[39m::filter()\n",
      "\u001b[31m✖\u001b[39m \u001b[34mdplyr\u001b[39m::\u001b[32mlag()\u001b[39m    masks \u001b[34mstats\u001b[39m::lag()\n",
      "\u001b[36mℹ\u001b[39m Use the conflicted package (\u001b[3m\u001b[34m<http://conflicted.r-lib.org/>\u001b[39m\u001b[23m) to force all conflicts to become errors\n",
      "\n",
      "Attaching package: ‘data.table’\n",
      "\n",
      "\n",
      "The following objects are masked from ‘package:lubridate’:\n",
      "\n",
      "    hour, isoweek, mday, minute, month, quarter, second, wday, week,\n",
      "    yday, year\n",
      "\n",
      "\n",
      "The following objects are masked from ‘package:dplyr’:\n",
      "\n",
      "    between, first, last\n",
      "\n",
      "\n",
      "The following object is masked from ‘package:purrr’:\n",
      "\n",
      "    transpose\n",
      "\n",
      "\n"
     ]
    }
   ],
   "source": [
    "library(tidyverse)\n",
    "library(data.table)\n",
    "library(readxl)\n",
    "library(dplyr)\n",
    "library(stringr)"
   ]
  },
  {
   "cell_type": "markdown",
   "id": "cfbaa1ab",
   "metadata": {},
   "source": [
    "Set rare. "
   ]
  },
  {
   "cell_type": "code",
   "execution_count": 2,
   "id": "9cee3c94",
   "metadata": {},
   "outputs": [],
   "source": [
    "rare = 10^-4 "
   ]
  },
  {
   "cell_type": "markdown",
   "id": "315cf334",
   "metadata": {},
   "source": [
    "Read in suspicious indels files for each data set. "
   ]
  },
  {
   "cell_type": "code",
   "execution_count": 3,
   "id": "9edf7002",
   "metadata": {},
   "outputs": [],
   "source": [
    "sus_bp_10_df_1 = fread(\"/Users/sy3115/Library/CloudStorage/OneDrive-cumc.columbia.edu/rAF_scripts_and_inputs/PublicationReady_Data/gnomAD/gnomad.exomes.r2.1.1.sites_indelsonly_rAF_bp10_SuspiciousIndels.lt50bp.csv\")\n",
    "sus_bp_20_df_1 = fread(\"/Users/sy3115/Library/CloudStorage/OneDrive-cumc.columbia.edu/rAF_scripts_and_inputs/PublicationReady_Data/gnomAD/gnomad.exomes.r2.1.1.sites_indelsonly_rAF_bp20_SuspiciousIndels.lt50bp.csv\")\n",
    "sus_bp_30_df_1 = fread(\"/Users/sy3115/Library/CloudStorage/OneDrive-cumc.columbia.edu/rAF_scripts_and_inputs/PublicationReady_Data/gnomAD/gnomad.exomes.r2.1.1.sites_indelsonly_rAF_bp30_SuspiciousIndels.lt50bp.csv\")\n",
    "sus_bp_40_df_1 = fread(\"/Users/sy3115/Library/CloudStorage/OneDrive-cumc.columbia.edu/rAF_scripts_and_inputs/PublicationReady_Data/gnomAD/gnomad.exomes.r2.1.1.sites_indelsonly_rAF_bp40_SuspiciousIndels.lt50bp.csv\")"
   ]
  },
  {
   "cell_type": "code",
   "execution_count": 4,
   "id": "4a86bcd7",
   "metadata": {},
   "outputs": [],
   "source": [
    "sus_bp_10_df_2 = fread(\"/Users/sy3115/Library/CloudStorage/OneDrive-cumc.columbia.edu/rAF_scripts_and_inputs/PublicationReady_Data/IGM/2023-03-23_IGM_n39367_indelsonly_rAF_bp10_SuspiciousIndels.lt50bp.csv\")\n",
    "sus_bp_20_df_2 = fread(\"/Users/sy3115/Library/CloudStorage/OneDrive-cumc.columbia.edu/rAF_scripts_and_inputs/PublicationReady_Data/IGM/2023-03-23_IGM_n39367_indelsonly_rAF_bp20_SuspiciousIndels.lt50bp.csv\")\n",
    "sus_bp_30_df_2 = fread(\"/Users/sy3115/Library/CloudStorage/OneDrive-cumc.columbia.edu/rAF_scripts_and_inputs/PublicationReady_Data/IGM/2023-03-23_IGM_n39367_indelsonly_rAF_bp30_SuspiciousIndels.lt50bp.csv\")\n",
    "sus_bp_40_df_2 = fread(\"/Users/sy3115/Library/CloudStorage/OneDrive-cumc.columbia.edu/rAF_scripts_and_inputs/PublicationReady_Data/IGM/2023-03-23_IGM_n39367_indelsonly_rAF_bp40_SuspiciousIndels.lt50bp.csv\")"
   ]
  },
  {
   "cell_type": "markdown",
   "id": "af53b8fb",
   "metadata": {},
   "source": [
    "Read in file with gene name for each VarID for df 1. "
   ]
  },
  {
   "cell_type": "code",
   "execution_count": 5,
   "id": "22f12576",
   "metadata": {},
   "outputs": [],
   "source": [
    "sample_name_gene_name_df1 = fread(\"/Users/sy3115/Library/CloudStorage/OneDrive-cumc.columbia.edu/rAF_scripts_and_inputs/PublicationReady_Data/gnomAD/gnomad.exomes.r2.1.1.sites_indelsonly.vcf_withFirstSYMBOL.txt\") "
   ]
  },
  {
   "cell_type": "markdown",
   "id": "946996f9",
   "metadata": {},
   "source": [
    "Modify file as needed to get a file with two columns: VarID (CHR-POS-REF-ALT) and geneName. "
   ]
  },
  {
   "cell_type": "code",
   "execution_count": 6,
   "id": "e4a94667",
   "metadata": {},
   "outputs": [],
   "source": [
    "sample_name_gene_name_df1$VarID = paste0(sample_name_gene_name_df1$CHR, \"-\" ,sample_name_gene_name_df1$POS, \"-\", sample_name_gene_name_df1$REF,\"-\", sample_name_gene_name_df1$ALT)\n",
    "sample_name_gene_name_df1 = sample_name_gene_name_df1 %>% select (\"VarID\", \"SYMBOL\")\n",
    "colnames(sample_name_gene_name_df1) = c(\"VarID\", \"geneName\")"
   ]
  },
  {
   "cell_type": "markdown",
   "id": "6a611e0c",
   "metadata": {},
   "source": [
    "Read in file with gene name for each VarID for df 2. "
   ]
  },
  {
   "cell_type": "code",
   "execution_count": 7,
   "id": "ecf89de2",
   "metadata": {},
   "outputs": [],
   "source": [
    "sample_name_gene_name_df2 = fread(\"/Users/sy3115/Library/CloudStorage/OneDrive-cumc.columbia.edu/rAF_scripts_and_inputs/PublicationReady_Data/IGM/2023-03-24_11-47-14_IGM_n39367_indels_genotypes_selectcols.csv\") "
   ]
  },
  {
   "cell_type": "markdown",
   "id": "3b6cd990",
   "metadata": {},
   "source": [
    "Modify file as needed to get a file with two columns: VarID (CHR-POS-REF-ALT) and geneName. "
   ]
  },
  {
   "cell_type": "code",
   "execution_count": 8,
   "id": "09cab9e4",
   "metadata": {},
   "outputs": [],
   "source": [
    "colnames(sample_name_gene_name_df2) = c(\"VarID\", \"geneName\", \"sampleName\", \"coveredCtrl\", \"AC\")"
   ]
  },
  {
   "cell_type": "markdown",
   "id": "0b6b9980",
   "metadata": {},
   "source": [
    "Set bp ranges. "
   ]
  },
  {
   "cell_type": "code",
   "execution_count": 9,
   "id": "a07edeab",
   "metadata": {},
   "outputs": [],
   "source": [
    "bp_range = c(\"10\", \"20\", \"30\", \"40\")"
   ]
  },
  {
   "cell_type": "markdown",
   "id": "4f6694aa",
   "metadata": {},
   "source": [
    "Find number of genes that have a suspicious indel in each bp window for each dataset. "
   ]
  },
  {
   "cell_type": "code",
   "execution_count": 10,
   "id": "d1d732d2",
   "metadata": {},
   "outputs": [],
   "source": [
    "for (i in bp_range) {\n",
    "\n",
    "  ## get df with sus indels \n",
    "  sus_df_1 = paste0(\"sus_bp_\", i, \"_df_1\")\n",
    "  sus_df_2 = paste0(\"sus_bp_\", i, \"_df_2\")\n",
    "  \n",
    "  ## merge with sample name and gene name \n",
    "  df1_with_gene = paste0(\"df_1_with_gene_bp\", i)\n",
    "  df2_with_gene = paste0(\"df_2_with_gene_bp\", i)\n",
    "  \n",
    "  assign(df1_with_gene, merge(get(sus_df_1), sample_name_gene_name_df1, by = \"VarID\"))\n",
    "  assign(df2_with_gene, merge(get(sus_df_2), sample_name_gene_name_df2, by = \"VarID\"))\n",
    "  \n",
    "  ## find unique number of gene names \n",
    "  uniq_genes_df1 = paste0(\"uniq_genes_df1_bp\", i)\n",
    "  uniq_genes_df2 = paste0(\"uniq_genes_df2_bp\", i)\n",
    "  \n",
    "  assign(uniq_genes_df1, nrow(as.data.frame(unique(get(df1_with_gene)$geneName))))\n",
    "  assign(uniq_genes_df2, nrow(as.data.frame(unique(get(df2_with_gene)$geneName))))\n",
    "}"
   ]
  },
  {
   "cell_type": "markdown",
   "id": "4c6434af",
   "metadata": {},
   "source": [
    "Make summary table. "
   ]
  },
  {
   "cell_type": "code",
   "execution_count": 11,
   "id": "598f2dbf",
   "metadata": {},
   "outputs": [
    {
     "data": {
      "text/html": [
       "<table class=\"dataframe\">\n",
       "<caption>A data.frame: 4 × 3</caption>\n",
       "<thead>\n",
       "\t<tr><th scope=col>bp_range</th><th scope=col>df1_genes</th><th scope=col>df2_genes</th></tr>\n",
       "\t<tr><th scope=col>&lt;chr&gt;</th><th scope=col>&lt;int&gt;</th><th scope=col>&lt;int&gt;</th></tr>\n",
       "</thead>\n",
       "<tbody>\n",
       "\t<tr><td>10</td><td>12124</td><td>4784</td></tr>\n",
       "\t<tr><td>20</td><td>13027</td><td>5781</td></tr>\n",
       "\t<tr><td>30</td><td>13510</td><td>6463</td></tr>\n",
       "\t<tr><td>40</td><td>13887</td><td>6938</td></tr>\n",
       "</tbody>\n",
       "</table>\n"
      ],
      "text/latex": [
       "A data.frame: 4 × 3\n",
       "\\begin{tabular}{lll}\n",
       " bp\\_range & df1\\_genes & df2\\_genes\\\\\n",
       " <chr> & <int> & <int>\\\\\n",
       "\\hline\n",
       "\t 10 & 12124 & 4784\\\\\n",
       "\t 20 & 13027 & 5781\\\\\n",
       "\t 30 & 13510 & 6463\\\\\n",
       "\t 40 & 13887 & 6938\\\\\n",
       "\\end{tabular}\n"
      ],
      "text/markdown": [
       "\n",
       "A data.frame: 4 × 3\n",
       "\n",
       "| bp_range &lt;chr&gt; | df1_genes &lt;int&gt; | df2_genes &lt;int&gt; |\n",
       "|---|---|---|\n",
       "| 10 | 12124 | 4784 |\n",
       "| 20 | 13027 | 5781 |\n",
       "| 30 | 13510 | 6463 |\n",
       "| 40 | 13887 | 6938 |\n",
       "\n"
      ],
      "text/plain": [
       "  bp_range df1_genes df2_genes\n",
       "1 10       12124     4784     \n",
       "2 20       13027     5781     \n",
       "3 30       13510     6463     \n",
       "4 40       13887     6938     "
      ]
     },
     "metadata": {},
     "output_type": "display_data"
    }
   ],
   "source": [
    "df1_genes = c(uniq_genes_df1_bp10, uniq_genes_df1_bp20,uniq_genes_df1_bp30, uniq_genes_df1_bp40)\n",
    "\n",
    "df2_genes = c(uniq_genes_df2_bp10, uniq_genes_df2_bp20, uniq_genes_df2_bp30, uniq_genes_df2_bp40)\n",
    "\n",
    "summary_df = data.frame(bp_range, df1_genes, df2_genes)\n",
    "\n",
    "summary_df\n"
   ]
  }
 ],
 "metadata": {
  "kernelspec": {
   "display_name": "R",
   "language": "R",
   "name": "ir"
  },
  "language_info": {
   "codemirror_mode": "r",
   "file_extension": ".r",
   "mimetype": "text/x-r-source",
   "name": "R",
   "pygments_lexer": "r",
   "version": "4.2.1"
  }
 },
 "nbformat": 4,
 "nbformat_minor": 5
}
