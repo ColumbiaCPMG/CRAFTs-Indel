{
 "cells": [
  {
   "cell_type": "markdown",
   "id": "b5380c1c-ca0e-4a74-8840-321e0082b9d9",
   "metadata": {},
   "source": [
    "# Figure 3\n"
   ]
  },
  {
   "cell_type": "code",
   "execution_count": 1,
   "id": "fdd812c8-a881-44ef-be51-5d78a157deff",
   "metadata": {},
   "outputs": [
    {
     "name": "stderr",
     "output_type": "stream",
     "text": [
      "── \u001b[1mAttaching core tidyverse packages\u001b[22m ──────────────────────── tidyverse 2.0.0 ──\n",
      "\u001b[32m✔\u001b[39m \u001b[34mdplyr    \u001b[39m 1.1.2     \u001b[32m✔\u001b[39m \u001b[34mreadr    \u001b[39m 2.1.4\n",
      "\u001b[32m✔\u001b[39m \u001b[34mforcats  \u001b[39m 1.0.0     \u001b[32m✔\u001b[39m \u001b[34mstringr  \u001b[39m 1.5.0\n",
      "\u001b[32m✔\u001b[39m \u001b[34mggplot2  \u001b[39m 3.4.2     \u001b[32m✔\u001b[39m \u001b[34mtibble   \u001b[39m 3.2.1\n",
      "\u001b[32m✔\u001b[39m \u001b[34mlubridate\u001b[39m 1.9.2     \u001b[32m✔\u001b[39m \u001b[34mtidyr    \u001b[39m 1.3.0\n",
      "\u001b[32m✔\u001b[39m \u001b[34mpurrr    \u001b[39m 1.0.1     \n",
      "── \u001b[1mConflicts\u001b[22m ────────────────────────────────────────── tidyverse_conflicts() ──\n",
      "\u001b[31m✖\u001b[39m \u001b[34mdplyr\u001b[39m::\u001b[32mfilter()\u001b[39m masks \u001b[34mstats\u001b[39m::filter()\n",
      "\u001b[31m✖\u001b[39m \u001b[34mdplyr\u001b[39m::\u001b[32mlag()\u001b[39m    masks \u001b[34mstats\u001b[39m::lag()\n",
      "\u001b[36mℹ\u001b[39m Use the conflicted package (\u001b[3m\u001b[34m<http://conflicted.r-lib.org/>\u001b[39m\u001b[23m) to force all conflicts to become errors\n",
      "\n",
      "Attaching package: ‘data.table’\n",
      "\n",
      "\n",
      "The following objects are masked from ‘package:lubridate’:\n",
      "\n",
      "    hour, isoweek, mday, minute, month, quarter, second, wday, week,\n",
      "    yday, year\n",
      "\n",
      "\n",
      "The following objects are masked from ‘package:dplyr’:\n",
      "\n",
      "    between, first, last\n",
      "\n",
      "\n",
      "The following object is masked from ‘package:purrr’:\n",
      "\n",
      "    transpose\n",
      "\n",
      "\n"
     ]
    }
   ],
   "source": [
    "# Load in packages\n",
    "library(tidyverse)\n",
    "library(data.table)\n",
    "library(readxl)\n",
    "library(dplyr)\n",
    "library(stringr)"
   ]
  },
  {
   "cell_type": "code",
   "execution_count": 2,
   "id": "e2c062e4-4880-4034-a376-a8d791a22f09",
   "metadata": {},
   "outputs": [],
   "source": [
    "#Clear environment: \n",
    "rm(list=ls())"
   ]
  },
  {
   "cell_type": "markdown",
   "id": "a3452eff-9d06-4700-b471-a726edf26cc6",
   "metadata": {},
   "source": [
    "# Set your datasets below and read in the files containing all indels ≤ 50bp for each dataset:"
   ]
  },
  {
   "cell_type": "code",
   "execution_count": 3,
   "id": "036c7fb2-04ac-4048-83e3-04ae0a3e45b1",
   "metadata": {},
   "outputs": [],
   "source": [
    "\n",
    "## define dfs \n",
    "df_name_1 = \"gnomAD\"\n",
    "df_name_2 = \"IGM\"\n",
    "df_name_3 = \"UK.BB\"\n",
    "\n",
    "## Read in dataframe (total)\n",
    "df_1 = fread(\"gnomad.exomes.r2.1.1.sites_indelsonly_rAF_lt50bp.csv\", header = TRUE )\n",
    "df_2 = fread(\"2023-03-23_IGM_n39367_indelsonly_rAF_lt50bp.csv\", header = TRUE )\n",
    "df_3 = fread(\"UK.BB.exomes.430k.sites_indelsonly_rAF_lt50bp.csv\", header = TRUE )\n"
   ]
  },
  {
   "cell_type": "markdown",
   "id": "efb0010a-91be-4edb-81ec-193b1fe2342b",
   "metadata": {},
   "source": [
    "# Read in rAF_hi indels file for each dataset: "
   ]
  },
  {
   "cell_type": "code",
   "execution_count": 4,
   "id": "c97fc5d5-b390-4a3c-b5fc-3ccf08755ee8",
   "metadata": {},
   "outputs": [],
   "source": [
    "\n",
    "rAF_hi_bp_10_df_1 = fread(\"gnomad.exomes.r2.1.1.sites_indelsonly_rAF_bp10_rAF_hiIndels.lt50bp.csv\", header = TRUE)\n",
    "rAF_hi_bp_20_df_1 = fread(\"gnomad.exomes.r2.1.1.sites_indelsonly_rAF_bp20_rAF_hiIndels.lt50bp.csv\", header = TRUE)\n",
    "rAF_hi_bp_30_df_1 = fread(\"gnomad.exomes.r2.1.1.sites_indelsonly_rAF_bp30_rAF_hiIndels.lt50bp.csv\", header = TRUE)\n",
    "rAF_hi_bp_40_df_1 = fread(\"gnomad.exomes.r2.1.1.sites_indelsonly_rAF_bp40_rAF_hiIndels.lt50bp.csv\", header = TRUE)\n",
    "\n",
    "rAF_hi_bp_10_df_2 = fread(\"2023-03-23_IGM_n39367_indelsonly_rAF_bp10_rAF_hiIndels.lt50bp.csv\", header = TRUE)\n",
    "rAF_hi_bp_20_df_2 = fread(\"2023-03-23_IGM_n39367_indelsonly_rAF_bp20_rAF_hiIndels.lt50bp.csv\", header = TRUE)\n",
    "rAF_hi_bp_30_df_2 = fread(\"2023-03-23_IGM_n39367_indelsonly_rAF_bp30_rAF_hiIndels.lt50bp.csv\", header = TRUE)\n",
    "rAF_hi_bp_40_df_2 = fread(\"2023-03-23_IGM_n39367_indelsonly_rAF_bp40_rAF_hiIndels.lt50bp.csv\", header = TRUE)\n",
    "\n",
    "rAF_hi_bp_10_df_3 = fread(\"UK.BB.exomes.430k.sites_indelsonly_rAF_bp10_rAF_hiIndels.lt50bp.csv\", header = TRUE)\n",
    "rAF_hi_bp_20_df_3 = fread(\"UK.BB.exomes.430k.sites_indelsonly_rAF_bp20_rAF_hiIndels.lt50bp.csv\", header = TRUE)\n",
    "rAF_hi_bp_30_df_3 = fread(\"UK.BB.exomes.430k.sites_indelsonly_rAF_bp30_rAF_hiIndels.lt50bp.csv\", header = TRUE)\n",
    "rAF_hi_bp_40_df_3 = fread(\"UK.BB.exomes.430k.sites_indelsonly_rAF_bp40_rAF_hiIndels.lt50bp.csv\", header = TRUE)\n"
   ]
  },
  {
   "cell_type": "code",
   "execution_count": 5,
   "id": "35fab43b-7636-4153-80cf-1bb2cc80569d",
   "metadata": {},
   "outputs": [],
   "source": [
    "#Declare your bp range:\n",
    "\n",
    "bp_range = c(\"10\", \"20\", \"30\", \"40\")"
   ]
  },
  {
   "cell_type": "code",
   "execution_count": 6,
   "id": "42686af9-fb78-43b9-bdc8-e3a4e7c3eedf",
   "metadata": {},
   "outputs": [],
   "source": [
    "#Define your sAF_lo threshold:\n",
    "sAF_lo = (1 * 10^-4)"
   ]
  },
  {
   "cell_type": "markdown",
   "id": "80f5ff35-480e-452a-9e59-f3cc42805264",
   "metadata": {},
   "source": [
    "# Find the total number of indels that are sAF_lo by sAF "
   ]
  },
  {
   "cell_type": "code",
   "execution_count": 7,
   "id": "1910df4a-4007-4eee-99bb-621b1fa36115",
   "metadata": {},
   "outputs": [],
   "source": [
    "tot_sAF_lo_sAF_df1 = nrow(df_1 %>% filter(sAF <= sAF_lo))\n",
    "tot_sAF_lo_sAF_df2 = nrow(df_2 %>% filter(sAF <= sAF_lo))\n",
    "tot_sAF_lo_sAF_df3 = nrow(df_3 %>% filter(sAF <= sAF_lo))\n"
   ]
  },
  {
   "cell_type": "markdown",
   "id": "763e5db4-cb4d-4ba8-b553-d7752b28b60c",
   "metadata": {},
   "source": [
    "# Calculate the number and percentages of the sAF_lo sAF indels that are also sAF_lo by rAF for each bp window and also calculate the number and percentages of the sAF_lo sAF indels that are rAF_hi (sAF_hi by rAF for each bp window) "
   ]
  },
  {
   "cell_type": "code",
   "execution_count": 9,
   "id": "58db889a-860d-41bc-b735-f2a8b7bb7596",
   "metadata": {},
   "outputs": [],
   "source": [
    "\n",
    "for (i in bp_range) {\n",
    "  # call that var\n",
    "  temp_df_1 = paste0(\"rAF_hi_bp_\", i, \"_df_1\")\n",
    "  temp_df_2 = paste0(\"rAF_hi_bp_\", i, \"_df_2\")\n",
    "  temp_df_3 = paste0(\"rAF_hi_bp_\", i, \"_df_3\")\n",
    "  \n",
    "  ## calculate the number of rAF_hi indels \n",
    "  num_df_1 = paste0(\"num_rAF_hi_bp_\", i , \"_df_1\")\n",
    "  assign(num_df_1, nrow(get(temp_df_1)))\n",
    "\n",
    "  num_df_2 = paste0(\"num_rAF_hi_bp_\", i , \"_df_2\")\n",
    "  assign(num_df_2, nrow(get(temp_df_2)))\n",
    "\n",
    "  num_df_3 = paste0(\"num_rAF_hi_bp_\", i , \"_df_3\")\n",
    "  assign(num_df_3, nrow(get(temp_df_3)))\n",
    "  \n",
    "  # get the number of rAF_lo indels \n",
    "  rAF_lo_df_1 = paste0(\"num_rAF_lo_bp_\", i , \"_df_1\")\n",
    "  assign(rAF_lo_df_1, (tot_sAF_lo_sAF_df1 - nrow(get(temp_df_1))))\n",
    "\n",
    "  rAF_lo_df_2 = paste0(\"num_rAF_lo_bp_\", i , \"_df_2\")\n",
    "  assign(rAF_lo_df_2, (tot_sAF_lo_sAF_df2 - nrow(get(temp_df_2))))\n",
    "\n",
    "\n",
    "  rAF_lo_df_3 = paste0(\"num_rAF_lo_bp_\", i , \"_df_3\")\n",
    "  assign(rAF_lo_df_3, (tot_sAF_lo_sAF_df3 - nrow(get(temp_df_3))))\n",
    "  \n",
    "  \n",
    "  ## calculate the percentage and save in dynamic variable \n",
    "  percent_df_1 = paste0(\"percent_rAF_hi_bp_\", i, \"_df_1\")\n",
    "  assign(percent_df_1, paste0(round(((get(num_df_1) / tot_sAF_lo_sAF_df1) * 100 ),0), \"%\"))\n",
    "\n",
    "  percent_df_2 = paste0(\"percent_rAF_hi_bp_\", i, \"_df_2\")\n",
    "  assign(percent_df_2, paste0(round(((get(num_df_2) / tot_sAF_lo_sAF_df2) * 100 ),0), \"%\"))\n",
    "  \n",
    "  percent_df_3 = paste0(\"percent_rAF_hi_bp_\", i, \"_df_3\")\n",
    "  assign(percent_df_3, paste0(round(((get(num_df_3) / tot_sAF_lo_sAF_df3) * 100 ),0), \"%\"))\n",
    "  \n",
    "  ## find the percentage of the sAF_lo sAF/rAF_lo rAF genes \n",
    "  percent_diff_df_1 = paste0(\"percent_rAF_lo_bp_\", i, \"_df_1\")\n",
    "  assign(percent_diff_df_1, paste0(round(((get(rAF_lo_df_1) / tot_sAF_lo_sAF_df1) * 100 ),0), \"%\"))\n",
    "  \n",
    "  percent_diff_df_2 = paste0(\"percent_rAF_lo_bp_\", i, \"_df_2\")\n",
    "  assign(percent_diff_df_2, paste0(round(((get(rAF_lo_df_2) / tot_sAF_lo_sAF_df2) * 100 ),0), \"%\"))\n",
    "\n",
    "  percent_diff_df_3 = paste0(\"percent_rAF_lo_bp_\", i, \"_df_3\")\n",
    "  assign(percent_diff_df_3, paste0(round(((get(rAF_lo_df_3) / tot_sAF_lo_sAF_df3) * 100 ),0), \"%\")) \n",
    "}"
   ]
  },
  {
   "cell_type": "markdown",
   "id": "c92c5ae7-58a3-4b52-9315-fa061c836d9f",
   "metadata": {},
   "source": [
    "# Make dataframe for graph "
   ]
  },
  {
   "cell_type": "code",
   "execution_count": 11,
   "id": "b954a8c3-b8a2-47cb-ade8-cdb23c7f8fe6",
   "metadata": {},
   "outputs": [
    {
     "data": {
      "image/png": "[encoded data removed]",
      "text/plain": [
       "plot without title"
      ]
     },
     "metadata": {
      "image/png": {
       "height": 420,
       "width": 420
      }
     },
     "output_type": "display_data"
    }
   ],
   "source": [
    "windows = c(rep(bp_range, 2))\n",
    "condition = c(rep(\"rAF_lo\", 4), rep(\"rAF_hi\", 4))\n",
    "\n",
    "\n",
    "num_indels = c(num_rAF_hi_bp_10_df_1, num_rAF_hi_bp_20_df_1, num_rAF_hi_bp_30_df_1, num_rAF_hi_bp_40_df_1, num_rAF_lo_bp_10_df_1, num_rAF_lo_bp_20_df_1, num_rAF_lo_bp_30_df_1, num_rAF_lo_bp_40_df_1, num_rAF_hi_bp_10_df_2, num_rAF_hi_bp_20_df_2, num_rAF_hi_bp_30_df_2, num_rAF_hi_bp_40_df_2, num_rAF_lo_bp_10_df_2, num_rAF_lo_bp_20_df_2, num_rAF_lo_bp_30_df_2, num_rAF_lo_bp_40_df_2, num_rAF_hi_bp_10_df_3, num_rAF_hi_bp_20_df_3, num_rAF_hi_bp_30_df_3, num_rAF_hi_bp_40_df_3, num_rAF_lo_bp_10_df_3, num_rAF_lo_bp_20_df_3, num_rAF_lo_bp_30_df_3, num_rAF_lo_bp_40_df_3)\n",
    "\n",
    "\n",
    "perct_indels = c(percent_rAF_hi_bp_10_df_1, percent_rAF_hi_bp_20_df_1, percent_rAF_hi_bp_30_df_1, percent_rAF_hi_bp_40_df_1, percent_rAF_lo_bp_10_df_1, percent_rAF_lo_bp_20_df_1, percent_rAF_lo_bp_30_df_1, percent_rAF_lo_bp_40_df_1, percent_rAF_hi_bp_10_df_2, percent_rAF_hi_bp_20_df_2, percent_rAF_hi_bp_30_df_2, percent_rAF_hi_bp_40_df_2, percent_rAF_lo_bp_10_df_2, percent_rAF_lo_bp_20_df_2, percent_rAF_lo_bp_30_df_2, percent_rAF_lo_bp_40_df_2, percent_rAF_hi_bp_10_df_3, percent_rAF_hi_bp_20_df_3, percent_rAF_hi_bp_30_df_3, percent_rAF_hi_bp_40_df_3, percent_rAF_lo_bp_10_df_3, percent_rAF_lo_bp_20_df_3, percent_rAF_lo_bp_30_df_3, percent_rAF_lo_bp_40_df_3 )\n",
    "\n",
    "df_labels = c(rep(df_name_1, 8), rep(df_name_2, 8),rep(df_name_3, 8))\n",
    "\n",
    "\n",
    "graph_df = data.frame(windows, condition, num_indels, perct_indels, df_labels)\n",
    "\n",
    "#Make graph \n",
    "\n",
    "ggplot(graph_df, aes(x = df_labels, y = num_indels, fill = interaction(condition, df_labels))) + geom_bar(stat = \"identity\", position = \"stack\") + facet_grid(~windows, switch = \"both\")  +  theme(legend.position = \"top\") + labs(title = \"Proportion of rAF_hi Indels Within the GnomAD, IGM, and UKBB Datasets.\", y = \"Number of Indels\", x = \"Windows\", fill = \"Indel Type\") +  geom_text(aes(label = perct_indels), color = \"white\", position = position_stack(vjust = 0.5)) + scale_fill_grey(labels = c(paste0(\"rAF_lo \", df_name_1), paste0 (\"rAF_hi \", df_name_1), paste0(\"rAF_lo \", df_name_2), paste0 (\"rAF_hi \", df_name_2), paste0(\"rAF_lo \", df_name_3), paste0 (\"rAF_hi \", df_name_3)))\n",
    "\n",
    "\n"
   ]
  },
  {
   "cell_type": "code",
   "execution_count": 12,
   "id": "ace7371b-51c5-4f1a-84de-3048b1857a9d",
   "metadata": {},
   "outputs": [
    {
     "name": "stdout",
     "output_type": "stream",
     "text": [
      "[1] \"In the dataframe UK.BB there are 18121 rAF_hi indels in the 10bp sliding window.\"\n",
      "[1] \"In the dataframe UK.BB rAF_hi indels account for 5% percent in the 10bp sliding window.\"\n",
      "[1] \"In the dataframe UK.BB there are 22943 rAF_hi indels in the 20bp sliding window.\"\n",
      "[1] \"In the dataframe UK.BB rAF_hi indels account for 6% percent in the 20bp sliding window.\"\n",
      "[1] \"In the dataframe UK.BB there are 27045 rAF_hi indels in the 30bp sliding window.\"\n",
      "[1] \"In the dataframe UK.BB rAF_hi indels account for 7% percent in the 30bp sliding window.\"\n",
      "[1] \"In the dataframe UK.BB there are 30249 rAF_hi indels in the 40bp sliding window.\"\n",
      "[1] \"In the dataframe UK.BB rAF_hi indels account for 8% percent in the 40bp sliding window.\"\n"
     ]
    },
    {
     "data": {
      "text/html": [
       "<table class=\"dataframe\">\n",
       "<caption>A data.frame: 8 × 5</caption>\n",
       "<thead>\n",
       "\t<tr><th scope=col>windows</th><th scope=col>condition</th><th scope=col>num_indels</th><th scope=col>perct_indels</th><th scope=col>df_labels</th></tr>\n",
       "\t<tr><th scope=col>&lt;chr&gt;</th><th scope=col>&lt;chr&gt;</th><th scope=col>&lt;int&gt;</th><th scope=col>&lt;chr&gt;</th><th scope=col>&lt;chr&gt;</th></tr>\n",
       "</thead>\n",
       "<tbody>\n",
       "\t<tr><td>10</td><td>rAF_lo</td><td> 18121</td><td>5% </td><td>UK.BB</td></tr>\n",
       "\t<tr><td>20</td><td>rAF_lo</td><td> 22943</td><td>6% </td><td>UK.BB</td></tr>\n",
       "\t<tr><td>30</td><td>rAF_lo</td><td> 27045</td><td>7% </td><td>UK.BB</td></tr>\n",
       "\t<tr><td>40</td><td>rAF_lo</td><td> 30249</td><td>8% </td><td>UK.BB</td></tr>\n",
       "\t<tr><td>10</td><td>rAF_hi</td><td>381723</td><td>95%</td><td>UK.BB</td></tr>\n",
       "\t<tr><td>20</td><td>rAF_hi</td><td>376901</td><td>94%</td><td>UK.BB</td></tr>\n",
       "\t<tr><td>30</td><td>rAF_hi</td><td>372799</td><td>93%</td><td>UK.BB</td></tr>\n",
       "\t<tr><td>40</td><td>rAF_hi</td><td>369595</td><td>92%</td><td>UK.BB</td></tr>\n",
       "</tbody>\n",
       "</table>\n"
      ],
      "text/latex": [
       "A data.frame: 8 × 5\n",
       "\\begin{tabular}{lllll}\n",
       " windows & condition & num\\_indels & perct\\_indels & df\\_labels\\\\\n",
       " <chr> & <chr> & <int> & <chr> & <chr>\\\\\n",
       "\\hline\n",
       "\t 10 & rAF\\_lo &  18121 & 5\\%  & UK.BB\\\\\n",
       "\t 20 & rAF\\_lo &  22943 & 6\\%  & UK.BB\\\\\n",
       "\t 30 & rAF\\_lo &  27045 & 7\\%  & UK.BB\\\\\n",
       "\t 40 & rAF\\_lo &  30249 & 8\\%  & UK.BB\\\\\n",
       "\t 10 & rAF\\_hi & 381723 & 95\\% & UK.BB\\\\\n",
       "\t 20 & rAF\\_hi & 376901 & 94\\% & UK.BB\\\\\n",
       "\t 30 & rAF\\_hi & 372799 & 93\\% & UK.BB\\\\\n",
       "\t 40 & rAF\\_hi & 369595 & 92\\% & UK.BB\\\\\n",
       "\\end{tabular}\n"
      ],
      "text/markdown": [
       "\n",
       "A data.frame: 8 × 5\n",
       "\n",
       "| windows &lt;chr&gt; | condition &lt;chr&gt; | num_indels &lt;int&gt; | perct_indels &lt;chr&gt; | df_labels &lt;chr&gt; |\n",
       "|---|---|---|---|---|\n",
       "| 10 | rAF_lo |  18121 | 5%  | UK.BB |\n",
       "| 20 | rAF_lo |  22943 | 6%  | UK.BB |\n",
       "| 30 | rAF_lo |  27045 | 7%  | UK.BB |\n",
       "| 40 | rAF_lo |  30249 | 8%  | UK.BB |\n",
       "| 10 | rAF_hi | 381723 | 95% | UK.BB |\n",
       "| 20 | rAF_hi | 376901 | 94% | UK.BB |\n",
       "| 30 | rAF_hi | 372799 | 93% | UK.BB |\n",
       "| 40 | rAF_hi | 369595 | 92% | UK.BB |\n",
       "\n"
      ],
      "text/plain": [
       "  windows condition num_indels perct_indels df_labels\n",
       "1 10      rAF_lo     18121     5%           UK.BB    \n",
       "2 20      rAF_lo     22943     6%           UK.BB    \n",
       "3 30      rAF_lo     27045     7%           UK.BB    \n",
       "4 40      rAF_lo     30249     8%           UK.BB    \n",
       "5 10      rAF_hi    381723     95%          UK.BB    \n",
       "6 20      rAF_hi    376901     94%          UK.BB    \n",
       "7 30      rAF_hi    372799     93%          UK.BB    \n",
       "8 40      rAF_hi    369595     92%          UK.BB    "
      ]
     },
     "metadata": {},
     "output_type": "display_data"
    }
   ],
   "source": [
    "for (i in bp_range) {\n",
    "  num_df1 = paste0(\"num_rAF_hi_bp_\", i , \"_df_1\")\n",
    "  num_df2 = paste0(\"num_rAF_hi_bp_\", i , \"_df_2\")\n",
    "  num_df3 = paste0(\"num_rAF_hi_bp_\", i , \"_df_3\")\n",
    "  \n",
    "  prct_df1 = paste0(\"percent_rAF_hi_bp_\", i, \"_df_1\")\n",
    "  prct_df2 = paste0(\"percent_rAF_hi_bp_\", i, \"_df_2\")\n",
    "  prct_df3 = paste0(\"percent_rAF_hi_bp_\", i, \"_df_3\")\n",
    "  \n",
    "  print (paste0(\"In the dataframe \", df_name_1, \" there are \", get(num_df1), \" rAF_hi indels in the \",i,\"bp sliding window.\"))\n",
    "  print (paste0(\"In the dataframe \", df_name_1, \" rAF_hi indels account for \", get(prct_df1), \" percent in the \",i,\"bp sliding window.\"))\n",
    "\n",
    "\n",
    "  print (paste0(\"In the dataframe \", df_name_2, \" there are \", get(num_df2), \" rAF_hi indels in the \",i,\"bp sliding window.\"))\n",
    "  print (paste0(\"In the dataframe \", df_name_2, \" rAF_hi indels account for \", get(prct_df2), \" percent in the \",i,\"bp sliding window.\"))\n",
    "  \n",
    "  print (paste0(\"In the dataframe \", df_name_3, \" there are \", get(num_df3), \" rAF_hi indels in the \",i,\"bp sliding window.\"))\n",
    "  print (paste0(\"In the dataframe \", df_name_3, \" rAF_hi indels account for \", get(prct_df3), \" percent in the \",i,\"bp sliding window.\"))\n",
    "}\n",
    "\n",
    "graph_df"
   ]
  },
  {
   "cell_type": "markdown",
   "id": "dec9db52-eef7-4141-97fc-ac943e72fa73",
   "metadata": {},
   "source": [
    "# Make Supplementary Tables S5, S6, and S7. "
   ]
  },
  {
   "cell_type": "code",
   "execution_count": 15,
   "id": "ba8bf7d0-ca28-41ee-a26a-01ee2d34c689",
   "metadata": {},
   "outputs": [],
   "source": [
    "sAF_lo_df1 = c(rep(tot_sAF_lo_sAF_df1,4))\n",
    "rAF_hi_df1 = c(num_rAF_hi_bp_10_df_1, num_rAF_hi_bp_20_df_1, num_rAF_hi_bp_30_df_1, num_rAF_hi_bp_40_df_1)\n",
    "rAF_hi_prct_df1 = c(percent_rAF_hi_bp_10_df_1, percent_rAF_hi_bp_20_df_1, percent_rAF_hi_bp_30_df_1, percent_rAF_hi_bp_40_df_1)\n",
    "rAF_lo_raf_df1 = c(num_rAF_lo_bp_10_df_1, num_rAF_lo_bp_20_df_1, num_rAF_lo_bp_30_df_1, num_rAF_lo_bp_40_df_1)\n",
    "rAF_lo_raf_prct_df1 = c(percent_rAF_lo_bp_10_df_1, percent_rAF_lo_bp_20_df_1, percent_rAF_lo_bp_30_df_1, percent_rAF_lo_bp_40_df_1)\n",
    "\n",
    "TableS5 = data.frame(bp_range, sAF_lo_df1, rAF_hi_df1, rAF_hi_prct_df1, rAF_lo_raf_df1, rAF_lo_raf_prct_df1)\n",
    "TableS5\n",
    "\n",
    "sAF_lo_df2 = c(rep(tot_sAF_lo_sAF_df2,4))\n",
    "rAF_hi_df2 = c(num_rAF_hi_bp_10_df_2, num_rAF_hi_bp_20_df_2, num_rAF_hi_bp_30_df_2, num_rAF_hi_bp_40_df_2)\n",
    "rAF_hi_prct_df2 = c(percent_rAF_hi_bp_10_df_2, percent_rAF_hi_bp_20_df_2, percent_rAF_hi_bp_30_df_2, percent_rAF_hi_bp_40_df_2)\n",
    "rAF_lo_raf_df2 = c(num_rAF_lo_bp_10_df_2, num_rAF_lo_bp_20_df_2, num_rAF_lo_bp_30_df_2, num_rAF_lo_bp_40_df_2)\n",
    "rAF_lo_raf_prct_df2 = c(percent_rAF_lo_bp_10_df_2, percent_rAF_lo_bp_20_df_2, percent_rAF_lo_bp_30_df_2, percent_rAF_lo_bp_40_df_2)\n",
    "\n",
    "TableS6 = data.frame(bp_range, sAF_lo_df2, rAF_hi_df2, rAF_hi_prct_df2, rAF_lo_raf_df2, rAF_lo_raf_prct_df2)\n",
    "TableS6\n",
    "\n",
    "sAF_lo_df3 = c(rep(tot_sAF_lo_sAF_df3,4))\n",
    "rAF_hi_df3 = c(num_rAF_hi_bp_10_df_3, num_rAF_hi_bp_20_df_3, num_rAF_hi_bp_30_df_3, num_rAF_hi_bp_40_df_3)\n",
    "rAF_hi_prct_df3 = c(percent_rAF_hi_bp_10_df_3, percent_rAF_hi_bp_20_df_3, percent_rAF_hi_bp_30_df_3, percent_rAF_hi_bp_40_df_3)\n",
    "rAF_lo_raf_df3 = c(num_rAF_lo_bp_10_df_3, num_rAF_lo_bp_20_df_3, num_rAF_lo_bp_30_df_3, num_rAF_lo_bp_40_df_3)\n",
    "rAF_lo_raf_prct_df3 = c(percent_rAF_lo_bp_10_df_3, percent_rAF_lo_bp_20_df_3, percent_rAF_lo_bp_30_df_3, percent_rAF_lo_bp_40_df_3)\n",
    "\n",
    "TableS7 = data.frame(bp_range, sAF_lo_df3, rAF_hi_df3, rAF_hi_prct_df3, rAF_lo_raf_df3, rAF_lo_raf_prct_df3)\n",
    "fwrite(TableS7, \"TableS5_UKBB.csv\")"
   ]
  },
  {
   "cell_type": "code",
   "execution_count": 16,
   "id": "c6e71df9-4f51-42a9-99fc-13b8c87c7d6f",
   "metadata": {},
   "outputs": [
    {
     "data": {
      "text/html": [
       "<table class=\"dataframe\">\n",
       "<caption>A data.frame: 4 × 6</caption>\n",
       "<thead>\n",
       "\t<tr><th scope=col>bp_range</th><th scope=col>sAF_lo_df3</th><th scope=col>rAF_hi_df3</th><th scope=col>rAF_hi_prct_df3</th><th scope=col>rAF_lo_raf_df3</th><th scope=col>rAF_lo_raf_prct_df3</th></tr>\n",
       "\t<tr><th scope=col>&lt;chr&gt;</th><th scope=col>&lt;int&gt;</th><th scope=col>&lt;int&gt;</th><th scope=col>&lt;chr&gt;</th><th scope=col>&lt;int&gt;</th><th scope=col>&lt;chr&gt;</th></tr>\n",
       "</thead>\n",
       "<tbody>\n",
       "\t<tr><td>10</td><td>399844</td><td>18121</td><td>5%</td><td>381723</td><td>95%</td></tr>\n",
       "\t<tr><td>20</td><td>399844</td><td>22943</td><td>6%</td><td>376901</td><td>94%</td></tr>\n",
       "\t<tr><td>30</td><td>399844</td><td>27045</td><td>7%</td><td>372799</td><td>93%</td></tr>\n",
       "\t<tr><td>40</td><td>399844</td><td>30249</td><td>8%</td><td>369595</td><td>92%</td></tr>\n",
       "</tbody>\n",
       "</table>\n"
      ],
      "text/latex": [
       "A data.frame: 4 × 6\n",
       "\\begin{tabular}{llllll}\n",
       " bp\\_range & sAF\\_lo\\_df3 & rAF\\_hi\\_df3 & rAF\\_hi\\_prct\\_df3 & rAF\\_lo\\_raf\\_df3 & rAF\\_lo\\_raf\\_prct\\_df3\\\\\n",
       " <chr> & <int> & <int> & <chr> & <int> & <chr>\\\\\n",
       "\\hline\n",
       "\t 10 & 399844 & 18121 & 5\\% & 381723 & 95\\%\\\\\n",
       "\t 20 & 399844 & 22943 & 6\\% & 376901 & 94\\%\\\\\n",
       "\t 30 & 399844 & 27045 & 7\\% & 372799 & 93\\%\\\\\n",
       "\t 40 & 399844 & 30249 & 8\\% & 369595 & 92\\%\\\\\n",
       "\\end{tabular}\n"
      ],
      "text/markdown": [
       "\n",
       "A data.frame: 4 × 6\n",
       "\n",
       "| bp_range &lt;chr&gt; | sAF_lo_df3 &lt;int&gt; | rAF_hi_df3 &lt;int&gt; | rAF_hi_prct_df3 &lt;chr&gt; | rAF_lo_raf_df3 &lt;int&gt; | rAF_lo_raf_prct_df3 &lt;chr&gt; |\n",
       "|---|---|---|---|---|---|\n",
       "| 10 | 399844 | 18121 | 5% | 381723 | 95% |\n",
       "| 20 | 399844 | 22943 | 6% | 376901 | 94% |\n",
       "| 30 | 399844 | 27045 | 7% | 372799 | 93% |\n",
       "| 40 | 399844 | 30249 | 8% | 369595 | 92% |\n",
       "\n"
      ],
      "text/plain": [
       "  bp_range sAF_lo_df3 rAF_hi_df3 rAF_hi_prct_df3 rAF_lo_raf_df3\n",
       "1 10       399844     18121      5%              381723        \n",
       "2 20       399844     22943      6%              376901        \n",
       "3 30       399844     27045      7%              372799        \n",
       "4 40       399844     30249      8%              369595        \n",
       "  rAF_lo_raf_prct_df3\n",
       "1 95%                \n",
       "2 94%                \n",
       "3 93%                \n",
       "4 92%                "
      ]
     },
     "metadata": {},
     "output_type": "display_data"
    }
   ],
   "source": [
    "TableS7"
   ]
  },
  {
   "cell_type": "code",
   "execution_count": null,
   "id": "6fd4e6b0-2207-4309-b8c8-5a0275582cc0",
   "metadata": {},
   "outputs": [],
   "source": []
  },
  {
   "cell_type": "code",
   "execution_count": null,
   "id": "7e4ef643-6b8a-41c3-8ec3-820d81046d48",
   "metadata": {},
   "outputs": [],
   "source": []
  }
 ],
 "metadata": {
  "kernelspec": {
   "display_name": "R",
   "language": "R",
   "name": "ir"
  },
  "language_info": {
   "codemirror_mode": "r",
   "file_extension": ".r",
   "mimetype": "text/x-r-source",
   "name": "R",
   "pygments_lexer": "r",
   "version": "4.3.1"
  }
 },
 "nbformat": 4,
 "nbformat_minor": 5
}
