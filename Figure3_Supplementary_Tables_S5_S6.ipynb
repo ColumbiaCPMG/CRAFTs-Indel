{
 "cells": [
  {
   "cell_type": "markdown",
   "id": "b5380c1c-ca0e-4a74-8840-321e0082b9d9",
   "metadata": {},
   "source": [
    "# Figure 3\n"
   ]
  },
  {
   "cell_type": "code",
   "execution_count": null,
   "id": "fdd812c8-a881-44ef-be51-5d78a157deff",
   "metadata": {},
   "outputs": [],
   "source": [
    "# Load in packages\n",
    "library(tidyverse)\n",
    "library(data.table)\n",
    "library(readxl)\n",
    "library(dplyr)\n",
    "library(stringr)"
   ]
  },
  {
   "cell_type": "code",
   "execution_count": null,
   "id": "e2c062e4-4880-4034-a376-a8d791a22f09",
   "metadata": {},
   "outputs": [],
   "source": [
    "#Clear environment: \n",
    "\n",
    "rm(list=ls())"
   ]
  },
  {
   "cell_type": "markdown",
   "id": "a3452eff-9d06-4700-b471-a726edf26cc6",
   "metadata": {},
   "source": [
    "# Set your datasets below and read in the files containing all indels ≤ 50bp for each dataset:"
   ]
  },
  {
   "cell_type": "code",
   "execution_count": null,
   "id": "036c7fb2-04ac-4048-83e3-04ae0a3e45b1",
   "metadata": {},
   "outputs": [],
   "source": [
    "\n",
    "## define dfs \n",
    "df_name_1 = \"gnomAD\"\n",
    "df_name_2 = \"IGM\"\n",
    "df_name_3 = \"UK.BB\"\n",
    "\n",
    "## Read in dataframe (total)\n",
    "df_1 = fread(\"gnomad.exomes.r2.1.1.sites_indelsonly_rAF_lt50bp.csv\", header = TRUE )\n",
    "df_2 = fread(\"2023-03-23_IGM_n39367_indelsonly_rAF_lt50bp.csv\", header = TRUE )\n",
    "df_3 = fread(\"UK.BB.exomes.430k.sites_indelsonly_rAF_lt50bp.csv\", header = TRUE )\n"
   ]
  },
  {
   "cell_type": "markdown",
   "id": "efb0010a-91be-4edb-81ec-193b1fe2342b",
   "metadata": {},
   "source": [
    "# Read in rAF_hi indels file for each dataset: "
   ]
  },
  {
   "cell_type": "code",
   "execution_count": null,
   "id": "c97fc5d5-b390-4a3c-b5fc-3ccf08755ee8",
   "metadata": {},
   "outputs": [],
   "source": [
    "\n",
    "rAF_hi_bp_10_df_1 = fread(\"gnomad.exomes.r2.1.1.sites_indelsonly_rAF_bp10_rAF_hiIndels.lt50bp.csv\", header = TRUE)\n",
    "rAF_hi_bp_20_df_1 = fread(\"gnomad.exomes.r2.1.1.sites_indelsonly_rAF_bp20_rAF_hiIndels.lt50bp.csv\", header = TRUE)\n",
    "rAF_hi_bp_30_df_1 = fread(\"gnomad.exomes.r2.1.1.sites_indelsonly_rAF_bp30_rAF_hiIndels.lt50bp.csv\", header = TRUE)\n",
    "rAF_hi_bp_40_df_1 = fread(\"gnomad.exomes.r2.1.1.sites_indelsonly_rAF_bp40_rAF_hiIndels.lt50bp.csv\", header = TRUE)\n",
    "\n",
    "rAF_hi_bp_10_df_2 = fread(\"2023-03-23_IGM_n39367_indelsonly_rAF_bp10_rAF_hiIndels.lt50bp.csv\", header = TRUE)\n",
    "rAF_hi_bp_20_df_2 = fread(\"2023-03-23_IGM_n39367_indelsonly_rAF_bp20_rAF_hiIndels.lt50bp.csv\", header = TRUE)\n",
    "rAF_hi_bp_30_df_2 = fread(\"2023-03-23_IGM_n39367_indelsonly_rAF_bp30_rAF_hiIndels.lt50bp.csv\", header = TRUE)\n",
    "rAF_hi_bp_40_df_2 = fread(\"2023-03-23_IGM_n39367_indelsonly_rAF_bp40_rAF_hiIndels.lt50bp.csv\", header = TRUE)\n",
    "\n",
    "rAF_hi_bp_10_df_3 = fread(\"UK.BB.exomes.430k.sites_indelsonly_rAF_bp10_rAF_hiIndels.lt50bp.csv\", header = TRUE)\n",
    "rAF_hi_bp_20_df_3 = fread(\"UK.BB.exomes.430k.sites_indelsonly_rAF_bp20_rAF_hiIndels.lt50bp.csv\", header = TRUE)\n",
    "rAF_hi_bp_30_df_3 = fread(\"UK.BB.exomes.430k.sites_indelsonly_rAF_bp30_rAF_hiIndels.lt50bp.csv\", header = TRUE)\n",
    "rAF_hi_bp_40_df_3 = fread(\"UK.BB.exomes.430k.sites_indelsonly_rAF_bp40_rAF_hiIndels.lt50bp.csv\", header = TRUE)\n"
   ]
  },
  {
   "cell_type": "code",
   "execution_count": null,
   "id": "35fab43b-7636-4153-80cf-1bb2cc80569d",
   "metadata": {},
   "outputs": [],
   "source": [
    "#Declare your bp range:\n",
    "\n",
    "bp_range = c(\"10\", \"20\", \"30\", \"40\")"
   ]
  },
  {
   "cell_type": "code",
   "execution_count": null,
   "id": "42686af9-fb78-43b9-bdc8-e3a4e7c3eedf",
   "metadata": {},
   "outputs": [],
   "source": [
    "#Define your rAF_lo threshold:\n",
    "rAF_lo = (1 * 10^-4)"
   ]
  },
  {
   "cell_type": "markdown",
   "id": "80f5ff35-480e-452a-9e59-f3cc42805264",
   "metadata": {},
   "source": [
    "# Find the total number of indels that are rAF_lo by sAF "
   ]
  },
  {
   "cell_type": "code",
   "execution_count": null,
   "id": "1910df4a-4007-4eee-99bb-621b1fa36115",
   "metadata": {},
   "outputs": [],
   "source": [
    "tot_rAF_lo_sAF_df1 = nrow(df_1 %>% filter(sAF <= rAF_lo))\n",
    "tot_rAF_lo_sAF_df2 = nrow(df_2 %>% filter(sAF <= rAF_lo))\n",
    "tot_rAF_lo_sAF_df3 = nrow(df_3 %>% filter(sAF <= rAF_lo))\n"
   ]
  },
  {
   "cell_type": "markdown",
   "id": "763e5db4-cb4d-4ba8-b553-d7752b28b60c",
   "metadata": {},
   "source": [
    "# Calculate the number and percentages of the rAF_lo sAF indels that are also rAF_lo by rAF for each bp region and also calculate the number and percentages of the rAF_lo sAF indels that are rAF_hi (sAF_hi by rAF for each bp region) "
   ]
  },
  {
   "cell_type": "code",
   "execution_count": null,
   "id": "58db889a-860d-41bc-b735-f2a8b7bb7596",
   "metadata": {},
   "outputs": [],
   "source": [
    "\n",
    "for (i in bp_range) {\n",
    "  # call that var\n",
    "  temp_df_1 = paste0(\"rAF_hi_bp_\", i, \"_df_1\")\n",
    "  temp_df_2 = paste0(\"rAF_hi_bp_\", i, \"_df_2\")\n",
    "  temp_df_3 = paste0(\"rAF_hi_bp_\", i, \"_df_3\")\n",
    "  \n",
    "  ## calculate the number of rAF_hi indels \n",
    "  num_df_1 = paste0(\"num_rAF_hi_bp_\", i , \"_df_1\")\n",
    "  assign(num_df_1, nrow(get(temp_df_1)))\n",
    "\n",
    "  num_df_2 = paste0(\"num_rAF_hi_bp_\", i , \"_df_2\")\n",
    "  assign(num_df_2, nrow(get(temp_df_2)))\n",
    "\n",
    "  num_df_3 = paste0(\"num_rAF_hi_bp_\", i , \"_df_3\")\n",
    "  assign(num_df_3, nrow(get(temp_df_3)))\n",
    "  \n",
    "  # get the number of rAF_lo indels \n",
    "  rAF_lo_df_1 = paste0(\"num_rAF_lo_bp_\", i , \"_df_1\")\n",
    "  assign(rAF_lo_df_1, (tot_rAF_lo_sAF_df1 - nrow(get(temp_df_1))))\n",
    "\n",
    "  rAF_lo_df_2 = paste0(\"num_rAF_lo_bp_\", i , \"_df_2\")\n",
    "  assign(rAF_lo_df_2, (tot_rAF_lo_sAF_df2 - nrow(get(temp_df_2))))\n",
    "  \n",
    "  rAF_lo_df_3 = paste0(\"num_rAF_lo_bp_\", i , \"_df_3\")\n",
    "  assign(rAF_lo_df_3, (tot_rAF_lo_sAF_df3 - nrow(get(temp_df_3))))\n",
    "  \n",
    "  \n",
    "  ## calculate the percentage and save in dynamic variable \n",
    "  percent_df_1 = paste0(\"percent_rAF_hi_bp_\", i, \"_df_1\")\n",
    "  assign(percent_df_1, paste0(round(((get(num_df_1) / tot_rAF_lo_sAF_df1) * 100 ),0), \"%\"))\n",
    "\n",
    "  percent_df_2 = paste0(\"percent_rAF_hi_bp_\", i, \"_df_2\")\n",
    "  assign(percent_df_2, paste0(round(((get(num_df_2) / tot_rAF_lo_sAF_df2) * 100 ),0), \"%\"))\n",
    "  \n",
    "  percent_df_3 = paste0(\"percent_rAF_hi_bp_\", i, \"_df_3\")\n",
    "  assign(percent_df_3, paste0(round(((get(num_df_3) / tot_rAF_lo_sAF_df3) * 100 ),0), \"%\"))\n",
    "  \n",
    "  ## find the percentage of the rAF_lo sAF/rAF_lo rAF genes \n",
    "  percent_diff_df_1 = paste0(\"percent_rAF_lo_bp_\", i, \"_df_1\")\n",
    "  assign(percent_diff_df_1, paste0(round(((get(rAF_lo_df_1) / tot_rAF_lo_sAF_df1) * 100 ),0), \"%\"))\n",
    "  \n",
    "  percent_diff_df_2 = paste0(\"percent_rAF_lo_bp_\", i, \"_df_2\")\n",
    "  assign(percent_diff_df_2, paste0(round(((get(rAF_lo_df_2) / tot_rAF_lo_sAF_df2) * 100 ),0), \"%\"))\n",
    "  \n",
    "  percent_diff_df_3 = paste0(\"percent_rAF_lo_bp_\", i, \"_df_3\")\n",
    "  assign(percent_diff_df_3, paste0(round(((get(rAF_lo_df_3) / tot_rAF_lo_sAF_df3) * 100 ),0), \"%\")) \n",
    "}"
   ]
  },
  {
   "cell_type": "markdown",
   "id": "c92c5ae7-58a3-4b52-9315-fa061c836d9f",
   "metadata": {},
   "source": [
    "# Make dataframe for graph "
   ]
  },
  {
   "cell_type": "code",
   "execution_count": null,
   "id": "b954a8c3-b8a2-47cb-ade8-cdb23c7f8fe6",
   "metadata": {},
   "outputs": [],
   "source": [
    "regions = c(rep(bp_range, 4))\n",
    "condition = c(rep(\"rAF_hi\", 4), rep(\"rAF_lo\", 4), rep(\"rAF_hi\", 4), rep(\"rAF_lo\", 4))\n",
    "\n",
    "num_indels = c(num_rAF_hi_bp_10_df_1, num_rAF_hi_bp_20_df_1, num_rAF_hi_bp_30_df_1, num_rAF_hi_bp_40_df_1, num_rAF_lo_bp_10_df_1, num_rAF_lo_bp_20_df_1, num_rAF_lo_bp_30_df_1, num_rAF_lo_bp_40_df_1, num_rAF_hi_bp_10_df_2, num_rAF_hi_bp_20_df_2, num_rAF_hi_bp_30_df_2, num_rAF_hi_bp_40_df_2, num_rAF_lo_bp_10_df_2, num_rAF_lo_bp_20_df_2, num_rAF_lo_bp_30_df_2, num_rAF_lo_bp_40_df_2, num_rAF_hi_bp_10_df_3, num_rAF_hi_bp_20_df_3, num_rAF_hi_bp_30_df_3, num_rAF_hi_bp_40_df_3, num_rAF_lo_bp_10_df_3, num_rAF_lo_bp_20_df_3, num_rAF_lo_bp_30_df_3, num_rAF_lo_bp_40_df_3)\n",
    "\n",
    "\n",
    "perct_indels = c(percent_rAF_hi_bp_10_df_1,percent_rAF_hi_bp_20_df_1, percent_rAF_hi_bp_30_df_1, percent_rAF_hi_bp_40_df_1, percent_rAF_lo_bp_10_df_1, percent_rAF_lo_bp_20_df_1, percent_rAF_lo_bp_30_df_1, percent_rAF_lo_bp_40_df_1,percent_rAF_hi_bp_10_df_2,percent_rAF_hi_bp_20_df_2, percent_rAF_hi_bp_30_df_2, percent_rAF_hi_bp_40_df_2, percent_rAF_lo_bp_10_df_2, percent_rAF_lo_bp_20_df_2, percent_rAF_lo_bp_30_df_2, percent_rAF_lo_bp_40_df_2, percent_rAF_hi_bp_10_df_3, percent_rAF_hi_bp_20_df_3, percent_rAF_hi_bp_30_df_3, percent_rAF_hi_bp_40_df_3, percent_rAF_lo_bp_10_df_3, percent_rAF_lo_bp_20_df_3, percent_rAF_lo_bp_30_df_3, percent_rAF_lo_bp_40_df_3 )\n",
    "\n",
    "\n",
    "df_labels = c(rep(df_name_1, 8), rep(df_name_2, 8),rep(df_name_3, 8))\n",
    "\n",
    "graph_df = data.frame(regions, condition, num_indels, perct_indels, df_labels)\n",
    "\n",
    "#Make graph \n",
    "ggplot(graph_df, aes(x = df_labels, y = num_indels, fill = interaction(condition, df_labels))) + geom_bar(stat = \"identity\", position = \"stack\") + facet_grid(~regions, switch = \"both\")  +  theme(legend.position = \"top\") + labs(title = \"Proportion of rAF_hi indels within the gnomAD, IGM, and UKBB datasets.\", y = \"Number of Indels\", x = \"regions\", fill = \"Indel Type\") +  geom_text(aes(label = perct_indels), color = \"white\", position = position_stack(vjust = 0.5)) + scale_fill_grey(labels = c(paste0(\"rAF_lo \", df_name_1), paste0 (\"rAF_hi \", df_name_1), paste0(\"rAF_lo \", df_name_2), paste0 (\"rAF_hi \", df_name_2), paste0(\"rAF_lo \", df_name_3), paste0 (\"rAF_hi \", df_name_3)))\n"
   ]
  },
  {
   "cell_type": "code",
   "execution_count": null,
   "id": "ace7371b-51c5-4f1a-84de-3048b1857a9d",
   "metadata": {},
   "outputs": [],
   "source": [
    "for (i in bp_range) {\n",
    "  num_df1 = paste0(\"num_rAF_hi_bp_\", i , \"_df_1\")\n",
    "  num_df2 = paste0(\"num_rAF_hi_bp_\", i , \"_df_2\")\n",
    "  num_df3 = paste0(\"num_rAF_hi_bp_\", i , \"_df_3\")\n",
    "  \n",
    "  prct_df1 = paste0(\"percent_rAF_hi_bp_\", i, \"_df_1\")\n",
    "  prct_df2 = paste0(\"percent_rAF_hi_bp_\", i, \"_df_2\")\n",
    "  prct_df3 = paste0(\"percent_rAF_hi_bp_\", i, \"_df_3\")\n",
    "  \n",
    "  print (paste0(\"In the dataframe \", df_name_1, \" there are \", get(num_df1), \" rAF_hi indels in the \",i,\"bp sliding region.\"))\n",
    "  print (paste0(\"In the dataframe \", df_name_1, \" rAF_hi indels account for \", get(prct_df1), \" percent in the \",i,\"bp sliding region.\"))\n",
    "\n",
    "\n",
    "  print (paste0(\"In the dataframe \", df_name_2, \" there are \", get(num_df2), \" rAF_hi indels in the \",i,\"bp sliding region.\"))\n",
    "  print (paste0(\"In the dataframe \", df_name_2, \" rAF_hi indels account for \", get(prct_df2), \" percent in the \",i,\"bp sliding region.\"))\n",
    "  \n",
    "  print (paste0(\"In the dataframe \", df_name_3, \" there are \", get(num_df3), \" rAF_hi indels in the \",i,\"bp sliding region.\"))\n",
    "  print (paste0(\"In the dataframe \", df_name_3, \" rAF_hi indels account for \", get(prct_df3), \" percent in the \",i,\"bp sliding region.\"))\n",
    "}\n",
    "\n",
    "graph_df"
   ]
  },
  {
   "cell_type": "markdown",
   "id": "dec9db52-eef7-4141-97fc-ac943e72fa73",
   "metadata": {},
   "source": [
    "# Make Supplementary Tables S5, S6, and S7. "
   ]
  },
  {
   "cell_type": "code",
   "execution_count": null,
   "id": "ba8bf7d0-ca28-41ee-a26a-01ee2d34c689",
   "metadata": {},
   "outputs": [],
   "source": [
    "rAF_lo_df1 = c(rep(tot_rAF_lo_sAF_df1,4))\n",
    "rAF_hi_df1 = c(num_rAF_hi_bp_10_df_1, num_rAF_hi_bp_20_df_1, num_rAF_hi_bp_30_df_1, num_rAF_hi_bp_40_df_1)\n",
    "rAF_hi_prct_df1 = c(percent_rAF_hi_bp_10_df_1, percent_rAF_hi_bp_20_df_1, percent_rAF_hi_bp_30_df_1, percent_rAF_hi_bp_40_df_1)\n",
    "rAF_lo_raf_df1 = c(num_rAF_lo_bp_10_df_1, num_rAF_lo_bp_20_df_1, num_rAF_lo_bp_30_df_1, num_rAF_lo_bp_40_df_1)\n",
    "rAF_lo_raf_prct_df1 = c(percent_rAF_lo_bp_10_df_1, percent_rAF_lo_bp_20_df_1, percent_rAF_lo_bp_30_df_1, percent_rAF_lo_bp_40_df_1)\n",
    "\n",
    "TableS5 = data.frame(bp_range, rAF_lo_df1, rAF_hi_df1, rAF_hi_prct_df1, rAF_lo_raf_df1, rAF_lo_raf_prct_df1)\n",
    "TableS5\n",
    "\n",
    "rAF_lo_df2 = c(rep(tot_rAF_lo_sAF_df2,4))\n",
    "rAF_hi_df2 = c(num_rAF_hi_bp_10_df_2, num_rAF_hi_bp_20_df_2, num_rAF_hi_bp_30_df_2, num_rAF_hi_bp_40_df_2)\n",
    "rAF_hi_prct_df2 = c(percent_rAF_hi_bp_10_df_2, percent_rAF_hi_bp_20_df_2, percent_rAF_hi_bp_30_df_2, percent_rAF_hi_bp_40_df_2)\n",
    "rAF_lo_raf_df2 = c(num_rAF_lo_bp_10_df_2, num_rAF_lo_bp_20_df_2, num_rAF_lo_bp_30_df_2, num_rAF_lo_bp_40_df_2)\n",
    "rAF_lo_raf_prct_df2 = c(percent_rAF_lo_bp_10_df_2, percent_rAF_lo_bp_20_df_2, percent_rAF_lo_bp_30_df_2, percent_rAF_lo_bp_40_df_2)\n",
    "\n",
    "TableS6 = data.frame(bp_range, rAF_lo_df2, rAF_hi_df2, rAF_hi_prct_df2, rAF_lo_raf_df2, rAF_lo_raf_prct_df2)\n",
    "TableS6\n",
    "\n",
    "rAF_lo_df3 = c(rep(tot_rAF_lo_sAF_df3,4))\n",
    "rAF_hi_df3 = c(num_rAF_hi_bp_10_df_3, num_rAF_hi_bp_20_df_3, num_rAF_hi_bp_30_df_3, num_rAF_hi_bp_40_df_3)\n",
    "rAF_hi_prct_df3 = c(percent_rAF_hi_bp_10_df_3, percent_rAF_hi_bp_20_df_3, percent_rAF_hi_bp_30_df_3, percent_rAF_hi_bp_40_df_3)\n",
    "rAF_lo_raf_df3 = c(num_rAF_lo_bp_10_df_3, num_rAF_lo_bp_20_df_3, num_rAF_lo_bp_30_df_3, num_rAF_lo_bp_40_df_3)\n",
    "rAF_lo_raf_prct_df3 = c(percent_rAF_lo_bp_10_df_3, percent_rAF_lo_bp_20_df_3, percent_rAF_lo_bp_30_df_3, percent_rAF_lo_bp_40_df_3)\n",
    "\n",
    "TableS7 = data.frame(bp_range, rAF_lo_df3, rAF_hi_df3, rAF_hi_prct_df3, rAF_lo_raf_df3, rAF_lo_raf_prct_df3)\n",
    "TableS7"
   ]
  },
  {
   "cell_type": "code",
   "execution_count": null,
   "id": "6fd4e6b0-2207-4309-b8c8-5a0275582cc0",
   "metadata": {},
   "outputs": [],
   "source": []
  },
  {
   "cell_type": "code",
   "execution_count": null,
   "id": "7e4ef643-6b8a-41c3-8ec3-820d81046d48",
   "metadata": {},
   "outputs": [],
   "source": []
  }
 ],
 "metadata": {
  "kernelspec": {
   "display_name": "R",
   "language": "R",
   "name": "ir"
  },
  "language_info": {
   "codemirror_mode": "r",
   "file_extension": ".r",
   "mimetype": "text/x-r-source",
   "name": "R",
   "pygments_lexer": "r",
   "version": "4.3.1"
  }
 },
 "nbformat": 4,
 "nbformat_minor": 5
}
