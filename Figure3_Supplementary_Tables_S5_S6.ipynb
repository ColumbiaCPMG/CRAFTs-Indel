{
 "cells": [
  {
   "cell_type": "markdown",
   "id": "07ffef85",
   "metadata": {},
   "source": [
    "# Figure 3"
   ]
  },
  {
   "cell_type": "code",
   "execution_count": 1,
   "id": "65f973e3",
   "metadata": {},
   "outputs": [
    {
     "name": "stderr",
     "output_type": "stream",
     "text": [
      "── \u001b[1mAttaching core tidyverse packages\u001b[22m ──────────────────────── tidyverse 2.0.0 ──\n",
      "\u001b[32m✔\u001b[39m \u001b[34mdplyr    \u001b[39m 1.1.1     \u001b[32m✔\u001b[39m \u001b[34mreadr    \u001b[39m 2.1.4\n",
      "\u001b[32m✔\u001b[39m \u001b[34mforcats  \u001b[39m 1.0.0     \u001b[32m✔\u001b[39m \u001b[34mstringr  \u001b[39m 1.5.0\n",
      "\u001b[32m✔\u001b[39m \u001b[34mggplot2  \u001b[39m 3.4.1     \u001b[32m✔\u001b[39m \u001b[34mtibble   \u001b[39m 3.2.1\n",
      "\u001b[32m✔\u001b[39m \u001b[34mlubridate\u001b[39m 1.9.2     \u001b[32m✔\u001b[39m \u001b[34mtidyr    \u001b[39m 1.3.0\n",
      "\u001b[32m✔\u001b[39m \u001b[34mpurrr    \u001b[39m 1.0.1     \n",
      "── \u001b[1mConflicts\u001b[22m ────────────────────────────────────────── tidyverse_conflicts() ──\n",
      "\u001b[31m✖\u001b[39m \u001b[34mdplyr\u001b[39m::\u001b[32mfilter()\u001b[39m masks \u001b[34mstats\u001b[39m::filter()\n",
      "\u001b[31m✖\u001b[39m \u001b[34mdplyr\u001b[39m::\u001b[32mlag()\u001b[39m    masks \u001b[34mstats\u001b[39m::lag()\n",
      "\u001b[36mℹ\u001b[39m Use the conflicted package (\u001b[3m\u001b[34m<http://conflicted.r-lib.org/>\u001b[39m\u001b[23m) to force all conflicts to become errors\n",
      "\n",
      "Attaching package: ‘data.table’\n",
      "\n",
      "\n",
      "The following objects are masked from ‘package:lubridate’:\n",
      "\n",
      "    hour, isoweek, mday, minute, month, quarter, second, wday, week,\n",
      "    yday, year\n",
      "\n",
      "\n",
      "The following objects are masked from ‘package:dplyr’:\n",
      "\n",
      "    between, first, last\n",
      "\n",
      "\n",
      "The following object is masked from ‘package:purrr’:\n",
      "\n",
      "    transpose\n",
      "\n",
      "\n"
     ]
    }
   ],
   "source": [
    "# Load in packages\n",
    "library(tidyverse)\n",
    "library(data.table)\n",
    "library(readxl)\n",
    "library(dplyr)\n",
    "library(stringr)\n",
    "\n"
   ]
  },
  {
   "cell_type": "markdown",
   "id": "9a80d53c",
   "metadata": {},
   "source": [
    "Clear environment: "
   ]
  },
  {
   "cell_type": "code",
   "execution_count": 2,
   "id": "903d01f9",
   "metadata": {},
   "outputs": [],
   "source": [
    "rm(list=ls())"
   ]
  },
  {
   "cell_type": "markdown",
   "id": "6033e4d5",
   "metadata": {},
   "source": [
    "Set your datasets below and read in the files containing all indels ≤ 50bp for each dataset:"
   ]
  },
  {
   "cell_type": "code",
   "execution_count": 3,
   "id": "30511a11",
   "metadata": {},
   "outputs": [],
   "source": [
    "## define dfs \n",
    "df_name_1 = \"gnomAD\"\n",
    "df_name_2 = \"IGM\"\n",
    "\n",
    "## Read in dataframe (total)\n",
    "df_1 = fread(\"gnomad.exomes.r2.1.1.sites_indelsonly_rAF_lt50bp.csv\", header = TRUE )\n",
    "\n",
    "df_2 = fread(\"2023-03-23_IGM_n39367_indelsonly_rAF_lt50bp.csv\", header = TRUE )"
   ]
  },
  {
   "cell_type": "markdown",
   "id": "f15452fa",
   "metadata": {},
   "source": [
    "Read in suspicious indels file for each dataset: "
   ]
  },
  {
   "cell_type": "code",
   "execution_count": 4,
   "id": "5bb64991",
   "metadata": {},
   "outputs": [],
   "source": [
    "sus_bp_10_df_1 = fread(\"gnomad.exomes.r2.1.1.sites_indelsonly_rAF_bp10_SuspiciousIndels.lt50bp.csv\", header = TRUE)\n",
    "sus_bp_20_df_1 = fread(\"gnomad.exomes.r2.1.1.sites_indelsonly_rAF_bp20_SuspiciousIndels.lt50bp.csv\", header = TRUE)\n",
    "sus_bp_30_df_1 = fread(\"gnomad.exomes.r2.1.1.sites_indelsonly_rAF_bp30_SuspiciousIndels.lt50bp.csv\", header = TRUE)\n",
    "sus_bp_40_df_1 = fread(\"gnomad.exomes.r2.1.1.sites_indelsonly_rAF_bp40_SuspiciousIndels.lt50bp.csv\", header = TRUE)"
   ]
  },
  {
   "cell_type": "code",
   "execution_count": 5,
   "id": "0f11ce3a",
   "metadata": {},
   "outputs": [],
   "source": [
    "sus_bp_10_df_2 = fread(\"2023-03-23_IGM_n39367_indelsonly_rAF_bp10_SuspiciousIndels.lt50bp.csv\", header = TRUE)\n",
    "sus_bp_20_df_2 = fread(\"2023-03-23_IGM_n39367_indelsonly_rAF_bp20_SuspiciousIndels.lt50bp.csv\", header = TRUE)\n",
    "sus_bp_30_df_2 = fread(\"2023-03-23_IGM_n39367_indelsonly_rAF_bp30_SuspiciousIndels.lt50bp.csv\", header = TRUE)\n",
    "sus_bp_40_df_2 = fread(\"2023-03-23_IGM_n39367_indelsonly_rAF_bp40_SuspiciousIndels.lt50bp.csv\", header = TRUE)"
   ]
  },
  {
   "cell_type": "markdown",
   "id": "90373803",
   "metadata": {},
   "source": [
    "Declare your bp range:"
   ]
  },
  {
   "cell_type": "code",
   "execution_count": 6,
   "id": "da445c28",
   "metadata": {},
   "outputs": [],
   "source": [
    "bp_range = c(\"10\", \"20\", \"30\", \"40\")"
   ]
  },
  {
   "cell_type": "markdown",
   "id": "b8c70fc5",
   "metadata": {},
   "source": [
    "Define your rareness threshold:"
   ]
  },
  {
   "cell_type": "code",
   "execution_count": 7,
   "id": "f65647a1",
   "metadata": {},
   "outputs": [],
   "source": [
    "rare = (1 * 10^-4)"
   ]
  },
  {
   "cell_type": "markdown",
   "id": "a6d32fa8",
   "metadata": {},
   "source": [
    "Find the total number of indels that are rare by sAF "
   ]
  },
  {
   "cell_type": "code",
   "execution_count": 8,
   "id": "dd2cc1f1",
   "metadata": {},
   "outputs": [],
   "source": [
    "tot_rare_sAF_df1 = nrow(df_1 %>% filter(sAF <= rare))\n",
    "tot_rare_sAF_df2 = nrow(df_2 %>% filter(sAF <= rare))"
   ]
  },
  {
   "cell_type": "markdown",
   "id": "a3430138",
   "metadata": {},
   "source": [
    "Calculate the number and percentages of the rare sAF indels that are also rare by rAF for each bp window and also calculate the number and percentages of the rare sAF indels that are suspicious (common by rAF for each bp window) "
   ]
  },
  {
   "cell_type": "code",
   "execution_count": 9,
   "id": "33a6deca",
   "metadata": {},
   "outputs": [],
   "source": [
    "for (i in bp_range) {\n",
    "  # call that var\n",
    "  temp_df_1 = paste0(\"sus_bp_\", i, \"_df_1\")\n",
    "  temp_df_2 = paste0(\"sus_bp_\", i, \"_df_2\")\n",
    "  \n",
    "  ## calculate the number of sus indels \n",
    "  num_df_1 = paste0(\"num_sus_bp_\", i , \"_df_1\")\n",
    "  assign(num_df_1, nrow(get(temp_df_1)))\n",
    "  \n",
    "  num_df_2 = paste0(\"num_sus_bp_\", i , \"_df_2\")\n",
    "  assign(num_df_2, nrow(get(temp_df_2)))\n",
    "  \n",
    "  # get the number of rare indels \n",
    "  rare_df_1 = paste0(\"num_rare_bp_\", i , \"_df_1\")\n",
    "  assign(rare_df_1, (tot_rare_sAF_df1 - nrow(get(temp_df_1))))\n",
    "  \n",
    "  rare_df_2 = paste0(\"num_rare_bp_\", i , \"_df_2\")\n",
    "  assign(rare_df_2, (tot_rare_sAF_df2 - nrow(get(temp_df_2))))\n",
    "  \n",
    "  \n",
    "  ## calculate the percentage and save in dynamic variable \n",
    "  percent_df_1 = paste0(\"percent_sus_bp_\", i, \"_df_1\")\n",
    "  assign(percent_df_1, paste0(round(((get(num_df_1) / tot_rare_sAF_df1) * 100 ),0), \"%\")) \n",
    "  \n",
    "  percent_df_2 = paste0(\"percent_sus_bp_\", i, \"_df_2\")\n",
    "  assign(percent_df_2, paste0(round(((get(num_df_2) / tot_rare_sAF_df2) * 100 ),0), \"%\"))\n",
    "  \n",
    "  ## find the percentage of the rare sAF/rare rAF genes \n",
    "  percent_diff_df_1 = paste0(\"percent_rare_bp_\", i, \"_df_1\")\n",
    "  assign(percent_diff_df_1, paste0(round(((get(rare_df_1) / tot_rare_sAF_df1) * 100 ),0), \"%\")) \n",
    "  \n",
    "  percent_diff_df_2 = paste0(\"percent_rare_bp_\", i, \"_df_2\")\n",
    "  assign(percent_diff_df_2, paste0(round(((get(rare_df_2) / tot_rare_sAF_df2) * 100 ),0), \"%\")) \n",
    "}\n"
   ]
  },
  {
   "cell_type": "markdown",
   "id": "33a0f5b1",
   "metadata": {},
   "source": [
    "Make dataframe for graph "
   ]
  },
  {
   "cell_type": "code",
   "execution_count": 10,
   "id": "784f62f7",
   "metadata": {},
   "outputs": [],
   "source": [
    "windows = c(rep(bp_range, 4))\n",
    "condition = c(rep(\"sus\", 4), rep(\"rare\", 4), rep(\"sus\", 4), rep(\"rare\", 4))\n",
    "\n",
    "num_indels = c(num_sus_bp_10_df_1, num_sus_bp_20_df_1, num_sus_bp_30_df_1, num_sus_bp_40_df_1, num_rare_bp_10_df_1, num_rare_bp_20_df_1, num_rare_bp_30_df_1, num_rare_bp_40_df_1, num_sus_bp_10_df_2, num_sus_bp_20_df_2, num_sus_bp_30_df_2, num_sus_bp_40_df_2, num_rare_bp_10_df_2, num_rare_bp_20_df_2, num_rare_bp_30_df_2, num_rare_bp_40_df_2)\n",
    "\n",
    "perct_indels = c(percent_sus_bp_10_df_1,percent_sus_bp_20_df_1, percent_sus_bp_30_df_1, percent_sus_bp_40_df_1, percent_rare_bp_10_df_1, percent_rare_bp_20_df_1, percent_rare_bp_30_df_1, percent_rare_bp_40_df_1,percent_sus_bp_10_df_2,percent_sus_bp_20_df_2, percent_sus_bp_30_df_2, percent_sus_bp_40_df_2, percent_rare_bp_10_df_2, percent_rare_bp_20_df_2, percent_rare_bp_30_df_2, percent_rare_bp_40_df_2 )\n",
    "\n",
    "df_labels = c(rep(df_name_1, 8), rep(df_name_2, 8))\n",
    "\n",
    "graph_df = data.frame(windows, condition, num_indels, perct_indels, df_labels)"
   ]
  },
  {
   "cell_type": "markdown",
   "id": "18366e09",
   "metadata": {},
   "source": [
    "Make graph "
   ]
  },
  {
   "cell_type": "code",
   "execution_count": 11,
   "id": "5ee84b1d",
   "metadata": {},
   "outputs": [
    {
     "data": {
      "image/png": "[encoded data removed]",
      "text/plain": [
       "plot without title"
      ]
     },
     "metadata": {
      "image/png": {
       "height": 420,
       "width": 420
      }
     },
     "output_type": "display_data"
    }
   ],
   "source": [
    "ggplot(graph_df, aes(x = df_labels, y = num_indels, fill = interaction(condition, df_labels))) + geom_bar(stat = \"identity\", position = \"stack\") + facet_grid(~windows, switch = \"both\")  +  theme(legend.position = \"top\") + labs(title = \"Proportion of suspicious indels within the gnomAD and IGM datasets.\", y = \"Number of Indels\", x = \"Windows\", fill = \"Indel Type\") +  geom_text(aes(label = perct_indels), color = \"white\", position = position_stack(vjust = 0.5)) + scale_fill_grey(labels = c(paste0(\"rare \", df_name_1), paste0 (\"suspicious \", df_name_1), paste0(\"rare \", df_name_2), paste0 (\"suspicious \", df_name_2))) "
   ]
  },
  {
   "cell_type": "markdown",
   "id": "ca80d854",
   "metadata": {},
   "source": [
    "Find out how many suspicious indels. "
   ]
  },
  {
   "cell_type": "code",
   "execution_count": 12,
   "id": "c6c01f8d",
   "metadata": {
    "scrolled": false
   },
   "outputs": [
    {
     "name": "stdout",
     "output_type": "stream",
     "text": [
      "[1] \"In the dataframe gnomAD there are 93715 suspicious indels in the 10bp sliding window.\"\n",
      "[1] \"In the dataframe gnomAD suspicious indels account for 10% percent in the 10bp sliding window.\"\n",
      "[1] \"In the dataframe IGM there are 28436 suspicious indels in the 10bp sliding window.\"\n",
      "[1] \"In the dataframe IGM suspicious indels account for 11% percent in the 10bp sliding window.\"\n",
      "[1] \"In the dataframe gnomAD there are 123821 suspicious indels in the 20bp sliding window.\"\n",
      "[1] \"In the dataframe gnomAD suspicious indels account for 13% percent in the 20bp sliding window.\"\n",
      "[1] \"In the dataframe IGM there are 39329 suspicious indels in the 20bp sliding window.\"\n",
      "[1] \"In the dataframe IGM suspicious indels account for 16% percent in the 20bp sliding window.\"\n",
      "[1] \"In the dataframe gnomAD there are 143677 suspicious indels in the 30bp sliding window.\"\n",
      "[1] \"In the dataframe gnomAD suspicious indels account for 15% percent in the 30bp sliding window.\"\n",
      "[1] \"In the dataframe IGM there are 48224 suspicious indels in the 30bp sliding window.\"\n",
      "[1] \"In the dataframe IGM suspicious indels account for 19% percent in the 30bp sliding window.\"\n",
      "[1] \"In the dataframe gnomAD there are 158197 suspicious indels in the 40bp sliding window.\"\n",
      "[1] \"In the dataframe gnomAD suspicious indels account for 17% percent in the 40bp sliding window.\"\n",
      "[1] \"In the dataframe IGM there are 55962 suspicious indels in the 40bp sliding window.\"\n",
      "[1] \"In the dataframe IGM suspicious indels account for 22% percent in the 40bp sliding window.\"\n"
     ]
    }
   ],
   "source": [
    "for (i in bp_range) {\n",
    "  num_df1 = paste0(\"num_sus_bp_\", i , \"_df_1\")\n",
    "  num_df2 = paste0(\"num_sus_bp_\", i , \"_df_2\")\n",
    "  \n",
    "  prct_df1 = paste0(\"percent_sus_bp_\", i, \"_df_1\")\n",
    "  prct_df2 = paste0(\"percent_sus_bp_\", i, \"_df_2\")\n",
    "  \n",
    "  print (paste0(\"In the dataframe \", df_name_1, \" there are \", get(num_df1), \" suspicious indels in the \",i,\"bp sliding window.\"))\n",
    "  print (paste0(\"In the dataframe \", df_name_1, \" suspicious indels account for \", get(prct_df1), \" percent in the \",i,\"bp sliding window.\"))\n",
    "  \n",
    "  \n",
    "  print (paste0(\"In the dataframe \", df_name_2, \" there are \", get(num_df2), \" suspicious indels in the \",i,\"bp sliding window.\"))\n",
    "  print (paste0(\"In the dataframe \", df_name_2, \" suspicious indels account for \", get(prct_df2), \" percent in the \",i,\"bp sliding window.\"))\n",
    "}"
   ]
  },
  {
   "cell_type": "code",
   "execution_count": 13,
   "id": "9f42dfaf",
   "metadata": {},
   "outputs": [
    {
     "data": {
      "text/html": [
       "<table class=\"dataframe\">\n",
       "<caption>A data.frame: 16 × 5</caption>\n",
       "<thead>\n",
       "\t<tr><th scope=col>windows</th><th scope=col>condition</th><th scope=col>num_indels</th><th scope=col>perct_indels</th><th scope=col>df_labels</th></tr>\n",
       "\t<tr><th scope=col>&lt;chr&gt;</th><th scope=col>&lt;chr&gt;</th><th scope=col>&lt;int&gt;</th><th scope=col>&lt;chr&gt;</th><th scope=col>&lt;chr&gt;</th></tr>\n",
       "</thead>\n",
       "<tbody>\n",
       "\t<tr><td>10</td><td>sus </td><td> 93715</td><td>10%</td><td>gnomAD</td></tr>\n",
       "\t<tr><td>20</td><td>sus </td><td>123821</td><td>13%</td><td>gnomAD</td></tr>\n",
       "\t<tr><td>30</td><td>sus </td><td>143677</td><td>15%</td><td>gnomAD</td></tr>\n",
       "\t<tr><td>40</td><td>sus </td><td>158197</td><td>17%</td><td>gnomAD</td></tr>\n",
       "\t<tr><td>10</td><td>rare</td><td>844310</td><td>90%</td><td>gnomAD</td></tr>\n",
       "\t<tr><td>20</td><td>rare</td><td>814204</td><td>87%</td><td>gnomAD</td></tr>\n",
       "\t<tr><td>30</td><td>rare</td><td>794348</td><td>85%</td><td>gnomAD</td></tr>\n",
       "\t<tr><td>40</td><td>rare</td><td>779828</td><td>83%</td><td>gnomAD</td></tr>\n",
       "\t<tr><td>10</td><td>sus </td><td> 28436</td><td>11%</td><td>IGM   </td></tr>\n",
       "\t<tr><td>20</td><td>sus </td><td> 39329</td><td>16%</td><td>IGM   </td></tr>\n",
       "\t<tr><td>30</td><td>sus </td><td> 48224</td><td>19%</td><td>IGM   </td></tr>\n",
       "\t<tr><td>40</td><td>sus </td><td> 55962</td><td>22%</td><td>IGM   </td></tr>\n",
       "\t<tr><td>10</td><td>rare</td><td>221833</td><td>89%</td><td>IGM   </td></tr>\n",
       "\t<tr><td>20</td><td>rare</td><td>210940</td><td>84%</td><td>IGM   </td></tr>\n",
       "\t<tr><td>30</td><td>rare</td><td>202045</td><td>81%</td><td>IGM   </td></tr>\n",
       "\t<tr><td>40</td><td>rare</td><td>194307</td><td>78%</td><td>IGM   </td></tr>\n",
       "</tbody>\n",
       "</table>\n"
      ],
      "text/latex": [
       "A data.frame: 16 × 5\n",
       "\\begin{tabular}{lllll}\n",
       " windows & condition & num\\_indels & perct\\_indels & df\\_labels\\\\\n",
       " <chr> & <chr> & <int> & <chr> & <chr>\\\\\n",
       "\\hline\n",
       "\t 10 & sus  &  93715 & 10\\% & gnomAD\\\\\n",
       "\t 20 & sus  & 123821 & 13\\% & gnomAD\\\\\n",
       "\t 30 & sus  & 143677 & 15\\% & gnomAD\\\\\n",
       "\t 40 & sus  & 158197 & 17\\% & gnomAD\\\\\n",
       "\t 10 & rare & 844310 & 90\\% & gnomAD\\\\\n",
       "\t 20 & rare & 814204 & 87\\% & gnomAD\\\\\n",
       "\t 30 & rare & 794348 & 85\\% & gnomAD\\\\\n",
       "\t 40 & rare & 779828 & 83\\% & gnomAD\\\\\n",
       "\t 10 & sus  &  28436 & 11\\% & IGM   \\\\\n",
       "\t 20 & sus  &  39329 & 16\\% & IGM   \\\\\n",
       "\t 30 & sus  &  48224 & 19\\% & IGM   \\\\\n",
       "\t 40 & sus  &  55962 & 22\\% & IGM   \\\\\n",
       "\t 10 & rare & 221833 & 89\\% & IGM   \\\\\n",
       "\t 20 & rare & 210940 & 84\\% & IGM   \\\\\n",
       "\t 30 & rare & 202045 & 81\\% & IGM   \\\\\n",
       "\t 40 & rare & 194307 & 78\\% & IGM   \\\\\n",
       "\\end{tabular}\n"
      ],
      "text/markdown": [
       "\n",
       "A data.frame: 16 × 5\n",
       "\n",
       "| windows &lt;chr&gt; | condition &lt;chr&gt; | num_indels &lt;int&gt; | perct_indels &lt;chr&gt; | df_labels &lt;chr&gt; |\n",
       "|---|---|---|---|---|\n",
       "| 10 | sus  |  93715 | 10% | gnomAD |\n",
       "| 20 | sus  | 123821 | 13% | gnomAD |\n",
       "| 30 | sus  | 143677 | 15% | gnomAD |\n",
       "| 40 | sus  | 158197 | 17% | gnomAD |\n",
       "| 10 | rare | 844310 | 90% | gnomAD |\n",
       "| 20 | rare | 814204 | 87% | gnomAD |\n",
       "| 30 | rare | 794348 | 85% | gnomAD |\n",
       "| 40 | rare | 779828 | 83% | gnomAD |\n",
       "| 10 | sus  |  28436 | 11% | IGM    |\n",
       "| 20 | sus  |  39329 | 16% | IGM    |\n",
       "| 30 | sus  |  48224 | 19% | IGM    |\n",
       "| 40 | sus  |  55962 | 22% | IGM    |\n",
       "| 10 | rare | 221833 | 89% | IGM    |\n",
       "| 20 | rare | 210940 | 84% | IGM    |\n",
       "| 30 | rare | 202045 | 81% | IGM    |\n",
       "| 40 | rare | 194307 | 78% | IGM    |\n",
       "\n"
      ],
      "text/plain": [
       "   windows condition num_indels perct_indels df_labels\n",
       "1  10      sus        93715     10%          gnomAD   \n",
       "2  20      sus       123821     13%          gnomAD   \n",
       "3  30      sus       143677     15%          gnomAD   \n",
       "4  40      sus       158197     17%          gnomAD   \n",
       "5  10      rare      844310     90%          gnomAD   \n",
       "6  20      rare      814204     87%          gnomAD   \n",
       "7  30      rare      794348     85%          gnomAD   \n",
       "8  40      rare      779828     83%          gnomAD   \n",
       "9  10      sus        28436     11%          IGM      \n",
       "10 20      sus        39329     16%          IGM      \n",
       "11 30      sus        48224     19%          IGM      \n",
       "12 40      sus        55962     22%          IGM      \n",
       "13 10      rare      221833     89%          IGM      \n",
       "14 20      rare      210940     84%          IGM      \n",
       "15 30      rare      202045     81%          IGM      \n",
       "16 40      rare      194307     78%          IGM      "
      ]
     },
     "metadata": {},
     "output_type": "display_data"
    }
   ],
   "source": [
    "graph_df"
   ]
  },
  {
   "cell_type": "markdown",
   "id": "fe38e551",
   "metadata": {},
   "source": [
    "# Make Supplementary Tables S5 and S6. "
   ]
  },
  {
   "cell_type": "code",
   "execution_count": 14,
   "id": "28055985",
   "metadata": {},
   "outputs": [
    {
     "data": {
      "text/html": [
       "<table class=\"dataframe\">\n",
       "<caption>A data.frame: 4 × 6</caption>\n",
       "<thead>\n",
       "\t<tr><th scope=col>bp_range</th><th scope=col>rare_df1</th><th scope=col>sus_df1</th><th scope=col>sus_prct_df1</th><th scope=col>rare_raf_df1</th><th scope=col>rare_raf_prct_df1</th></tr>\n",
       "\t<tr><th scope=col>&lt;chr&gt;</th><th scope=col>&lt;int&gt;</th><th scope=col>&lt;int&gt;</th><th scope=col>&lt;chr&gt;</th><th scope=col>&lt;int&gt;</th><th scope=col>&lt;chr&gt;</th></tr>\n",
       "</thead>\n",
       "<tbody>\n",
       "\t<tr><td>10</td><td>938025</td><td> 93715</td><td>10%</td><td>844310</td><td>90%</td></tr>\n",
       "\t<tr><td>20</td><td>938025</td><td>123821</td><td>13%</td><td>814204</td><td>87%</td></tr>\n",
       "\t<tr><td>30</td><td>938025</td><td>143677</td><td>15%</td><td>794348</td><td>85%</td></tr>\n",
       "\t<tr><td>40</td><td>938025</td><td>158197</td><td>17%</td><td>779828</td><td>83%</td></tr>\n",
       "</tbody>\n",
       "</table>\n"
      ],
      "text/latex": [
       "A data.frame: 4 × 6\n",
       "\\begin{tabular}{llllll}\n",
       " bp\\_range & rare\\_df1 & sus\\_df1 & sus\\_prct\\_df1 & rare\\_raf\\_df1 & rare\\_raf\\_prct\\_df1\\\\\n",
       " <chr> & <int> & <int> & <chr> & <int> & <chr>\\\\\n",
       "\\hline\n",
       "\t 10 & 938025 &  93715 & 10\\% & 844310 & 90\\%\\\\\n",
       "\t 20 & 938025 & 123821 & 13\\% & 814204 & 87\\%\\\\\n",
       "\t 30 & 938025 & 143677 & 15\\% & 794348 & 85\\%\\\\\n",
       "\t 40 & 938025 & 158197 & 17\\% & 779828 & 83\\%\\\\\n",
       "\\end{tabular}\n"
      ],
      "text/markdown": [
       "\n",
       "A data.frame: 4 × 6\n",
       "\n",
       "| bp_range &lt;chr&gt; | rare_df1 &lt;int&gt; | sus_df1 &lt;int&gt; | sus_prct_df1 &lt;chr&gt; | rare_raf_df1 &lt;int&gt; | rare_raf_prct_df1 &lt;chr&gt; |\n",
       "|---|---|---|---|---|---|\n",
       "| 10 | 938025 |  93715 | 10% | 844310 | 90% |\n",
       "| 20 | 938025 | 123821 | 13% | 814204 | 87% |\n",
       "| 30 | 938025 | 143677 | 15% | 794348 | 85% |\n",
       "| 40 | 938025 | 158197 | 17% | 779828 | 83% |\n",
       "\n"
      ],
      "text/plain": [
       "  bp_range rare_df1 sus_df1 sus_prct_df1 rare_raf_df1 rare_raf_prct_df1\n",
       "1 10       938025    93715  10%          844310       90%              \n",
       "2 20       938025   123821  13%          814204       87%              \n",
       "3 30       938025   143677  15%          794348       85%              \n",
       "4 40       938025   158197  17%          779828       83%              "
      ]
     },
     "metadata": {},
     "output_type": "display_data"
    },
    {
     "data": {
      "text/html": [
       "<table class=\"dataframe\">\n",
       "<caption>A data.frame: 4 × 6</caption>\n",
       "<thead>\n",
       "\t<tr><th scope=col>bp_range</th><th scope=col>rare_df2</th><th scope=col>sus_df2</th><th scope=col>sus_prct_df2</th><th scope=col>rare_raf_df2</th><th scope=col>rare_raf_prct_df2</th></tr>\n",
       "\t<tr><th scope=col>&lt;chr&gt;</th><th scope=col>&lt;int&gt;</th><th scope=col>&lt;int&gt;</th><th scope=col>&lt;chr&gt;</th><th scope=col>&lt;int&gt;</th><th scope=col>&lt;chr&gt;</th></tr>\n",
       "</thead>\n",
       "<tbody>\n",
       "\t<tr><td>10</td><td>250269</td><td>28436</td><td>11%</td><td>221833</td><td>89%</td></tr>\n",
       "\t<tr><td>20</td><td>250269</td><td>39329</td><td>16%</td><td>210940</td><td>84%</td></tr>\n",
       "\t<tr><td>30</td><td>250269</td><td>48224</td><td>19%</td><td>202045</td><td>81%</td></tr>\n",
       "\t<tr><td>40</td><td>250269</td><td>55962</td><td>22%</td><td>194307</td><td>78%</td></tr>\n",
       "</tbody>\n",
       "</table>\n"
      ],
      "text/latex": [
       "A data.frame: 4 × 6\n",
       "\\begin{tabular}{llllll}\n",
       " bp\\_range & rare\\_df2 & sus\\_df2 & sus\\_prct\\_df2 & rare\\_raf\\_df2 & rare\\_raf\\_prct\\_df2\\\\\n",
       " <chr> & <int> & <int> & <chr> & <int> & <chr>\\\\\n",
       "\\hline\n",
       "\t 10 & 250269 & 28436 & 11\\% & 221833 & 89\\%\\\\\n",
       "\t 20 & 250269 & 39329 & 16\\% & 210940 & 84\\%\\\\\n",
       "\t 30 & 250269 & 48224 & 19\\% & 202045 & 81\\%\\\\\n",
       "\t 40 & 250269 & 55962 & 22\\% & 194307 & 78\\%\\\\\n",
       "\\end{tabular}\n"
      ],
      "text/markdown": [
       "\n",
       "A data.frame: 4 × 6\n",
       "\n",
       "| bp_range &lt;chr&gt; | rare_df2 &lt;int&gt; | sus_df2 &lt;int&gt; | sus_prct_df2 &lt;chr&gt; | rare_raf_df2 &lt;int&gt; | rare_raf_prct_df2 &lt;chr&gt; |\n",
       "|---|---|---|---|---|---|\n",
       "| 10 | 250269 | 28436 | 11% | 221833 | 89% |\n",
       "| 20 | 250269 | 39329 | 16% | 210940 | 84% |\n",
       "| 30 | 250269 | 48224 | 19% | 202045 | 81% |\n",
       "| 40 | 250269 | 55962 | 22% | 194307 | 78% |\n",
       "\n"
      ],
      "text/plain": [
       "  bp_range rare_df2 sus_df2 sus_prct_df2 rare_raf_df2 rare_raf_prct_df2\n",
       "1 10       250269   28436   11%          221833       89%              \n",
       "2 20       250269   39329   16%          210940       84%              \n",
       "3 30       250269   48224   19%          202045       81%              \n",
       "4 40       250269   55962   22%          194307       78%              "
      ]
     },
     "metadata": {},
     "output_type": "display_data"
    }
   ],
   "source": [
    "rare_df1 = c(rep(tot_rare_sAF_df1,4))\n",
    "sus_df1 = c(num_sus_bp_10_df_1, num_sus_bp_20_df_1, num_sus_bp_30_df_1, num_sus_bp_40_df_1)\n",
    "sus_prct_df1 = c(percent_sus_bp_10_df_1, percent_sus_bp_20_df_1, percent_sus_bp_30_df_1, percent_sus_bp_40_df_1)\n",
    "rare_raf_df1 = c(num_rare_bp_10_df_1, num_rare_bp_20_df_1, num_rare_bp_30_df_1, num_rare_bp_40_df_1)\n",
    "rare_raf_prct_df1 = c(percent_rare_bp_10_df_1, percent_rare_bp_20_df_1, percent_rare_bp_30_df_1, percent_rare_bp_40_df_1)\n",
    "\n",
    "TableS5 = data.frame(bp_range, rare_df1, sus_df1, sus_prct_df1, rare_raf_df1, rare_raf_prct_df1)\n",
    "TableS5\n",
    "\n",
    "rare_df2 = c(rep(tot_rare_sAF_df2,4))\n",
    "sus_df2 = c(num_sus_bp_10_df_2, num_sus_bp_20_df_2, num_sus_bp_30_df_2, num_sus_bp_40_df_2)\n",
    "sus_prct_df2 = c(percent_sus_bp_10_df_2, percent_sus_bp_20_df_2, percent_sus_bp_30_df_2, percent_sus_bp_40_df_2)\n",
    "rare_raf_df2 = c(num_rare_bp_10_df_2, num_rare_bp_20_df_2, num_rare_bp_30_df_2, num_rare_bp_40_df_2)\n",
    "rare_raf_prct_df2 = c(percent_rare_bp_10_df_2, percent_rare_bp_20_df_2, percent_rare_bp_30_df_2, percent_rare_bp_40_df_2)\n",
    "\n",
    "TableS6 = data.frame(bp_range, rare_df2, sus_df2, sus_prct_df2, rare_raf_df2, rare_raf_prct_df2)\n",
    "TableS6"
   ]
  }
 ],
 "metadata": {
  "kernelspec": {
   "display_name": "R",
   "language": "R",
   "name": "ir"
  },
  "language_info": {
   "codemirror_mode": "r",
   "file_extension": ".r",
   "mimetype": "text/x-r-source",
   "name": "R",
   "pygments_lexer": "r",
   "version": "4.2.1"
  }
 },
 "nbformat": 4,
 "nbformat_minor": 5
}
