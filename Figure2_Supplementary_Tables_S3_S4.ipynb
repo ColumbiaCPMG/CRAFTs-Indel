{
 "cells": [
  {
   "cell_type": "code",
   "execution_count": 1,
   "id": "491865f6-da2c-46bd-a299-ce3b510927db",
   "metadata": {},
   "outputs": [
    {
     "name": "stderr",
     "output_type": "stream",
     "text": [
      "── \u001b[1mAttaching core tidyverse packages\u001b[22m ───────────────────────────────────────────────────────────────────────────────────────────────────────────────────────────── tidyverse 2.0.0 ──\n",
      "\u001b[32m✔\u001b[39m \u001b[34mdplyr    \u001b[39m 1.1.2     \u001b[32m✔\u001b[39m \u001b[34mreadr    \u001b[39m 2.1.4\n",
      "\u001b[32m✔\u001b[39m \u001b[34mforcats  \u001b[39m 1.0.0     \u001b[32m✔\u001b[39m \u001b[34mstringr  \u001b[39m 1.5.0\n",
      "\u001b[32m✔\u001b[39m \u001b[34mggplot2  \u001b[39m 3.4.2     \u001b[32m✔\u001b[39m \u001b[34mtibble   \u001b[39m 3.2.1\n",
      "\u001b[32m✔\u001b[39m \u001b[34mlubridate\u001b[39m 1.9.2     \u001b[32m✔\u001b[39m \u001b[34mtidyr    \u001b[39m 1.3.0\n",
      "\u001b[32m✔\u001b[39m \u001b[34mpurrr    \u001b[39m 1.0.1     \n",
      "── \u001b[1mConflicts\u001b[22m ─────────────────────────────────────────────────────────────────────────────────────────────────────────────────────────────────────────────── tidyverse_conflicts() ──\n",
      "\u001b[31m✖\u001b[39m \u001b[34mdplyr\u001b[39m::\u001b[32mfilter()\u001b[39m masks \u001b[34mstats\u001b[39m::filter()\n",
      "\u001b[31m✖\u001b[39m \u001b[34mdplyr\u001b[39m::\u001b[32mlag()\u001b[39m    masks \u001b[34mstats\u001b[39m::lag()\n",
      "\u001b[36mℹ\u001b[39m Use the conflicted package (\u001b[3m\u001b[34m<http://conflicted.r-lib.org/>\u001b[39m\u001b[23m) to force all conflicts to become errors\n",
      "\n",
      "Attaching package: ‘data.table’\n",
      "\n",
      "\n",
      "The following objects are masked from ‘package:lubridate’:\n",
      "\n",
      "    hour, isoweek, mday, minute, month, quarter, second, wday, week,\n",
      "    yday, year\n",
      "\n",
      "\n",
      "The following objects are masked from ‘package:dplyr’:\n",
      "\n",
      "    between, first, last\n",
      "\n",
      "\n",
      "The following object is masked from ‘package:purrr’:\n",
      "\n",
      "    transpose\n",
      "\n",
      "\n",
      "Updating HTML index of packages in '.Library'\n",
      "\n",
      "Making 'packages.html' ...\n",
      " done\n",
      "\n",
      "\u001b[90mggbreak v0.1.2\n",
      "\n",
      "If you use ggbreak in published research, please cite the following\n",
      "paper:\n",
      "\n",
      "S Xu, M Chen, T Feng, L Zhan, L Zhou, G Yu. Use ggbreak to effectively\n",
      "utilize plotting space to deal with large datasets and outliers.\n",
      "Frontiers in Genetics. 2021, 12:774846. doi: 10.3389/fgene.2021.774846\n",
      "\u001b[39m\n",
      "\n",
      "Updating HTML index of packages in '.Library'\n",
      "\n",
      "Making 'packages.html' ...\n",
      " done\n",
      "\n"
     ]
    }
   ],
   "source": [
    "# Load in packages\n",
    "library(tidyverse)\n",
    "library(data.table)\n",
    "library(readxl)\n",
    "library(dplyr)\n",
    "library(stringr)\n",
    "library(ggplot2)\n",
    "install.packages(\"ggbreak\")\n",
    "library(ggbreak)\n",
    "library(tidyr)\n",
    "install.packages(\"ggpubr\")\n",
    "library(ggpubr)"
   ]
  },
  {
   "cell_type": "markdown",
   "id": "d178cb12-f991-417a-b33e-7673dbe162ee",
   "metadata": {},
   "source": [
    "# Clear environment: "
   ]
  },
  {
   "cell_type": "code",
   "execution_count": null,
   "id": "deb715eb-41e3-43e6-b4f0-d7e5a3377f5d",
   "metadata": {},
   "outputs": [],
   "source": [
    "rm(list=ls())\n",
    "setwd(\"\")"
   ]
  },
  {
   "cell_type": "markdown",
   "id": "3b9320af-78ac-4385-a562-f6ede10f4cdc",
   "metadata": {},
   "source": [
    "# Set your datasets below and read in the files containing all indels ≤ 50bp for each dataset:"
   ]
  },
  {
   "cell_type": "code",
   "execution_count": null,
   "id": "7e1571c6-6fd9-495d-97fa-200d2863c147",
   "metadata": {},
   "outputs": [],
   "source": [
    "db_name_1 = \"gnomAD\"\n",
    "db_name_2 = \"IGM\"\n",
    "db_name_3 = \"UK.BB\"\n",
    "\n",
    "df_1 = fread(\"gnomad.exomes.r2.1.1.sites_indelsonly_rAF_lt50bp.csv\")\n",
    "df_2 = fread(\"2023-03-23_IGM_n39367_indelsonly_rAF_lt50bp.csv\")\n",
    "df_3 = fread(\"UK.BB.exomes.430k.sites_indelsonly_rAF_lt50bp.csv\")"
   ]
  },
  {
   "cell_type": "markdown",
   "id": "66fc8fb6-509a-43fc-b515-b2df9d01f157",
   "metadata": {},
   "source": [
    "# Read in rAF_hi indels file for each dataset: "
   ]
  },
  {
   "cell_type": "code",
   "execution_count": null,
   "id": "c55ef6f9-c05d-4ce4-8e56-1cf75bcbc809",
   "metadata": {},
   "outputs": [],
   "source": [
    "rAF_hi_indels_10bp_df_1 = fread(\"gnomad.exomes.r2.1.1.sites_indelsonly_rAF_bp10_rAF_hiIndels.lt50bp.csv\")\n",
    "rAF_hi_indels_20bp_df_1 = fread(\"gnomad.exomes.r2.1.1.sites_indelsonly_rAF_bp20_rAF_hiIndels.lt50bp.csv\")\n",
    "rAF_hi_indels_30bp_df_1 = fread(\"gnomad.exomes.r2.1.1.sites_indelsonly_rAF_bp30_rAF_hiIndels.lt50bp.csv\")\n",
    "rAF_hi_indels_40bp_df_1 = fread(\"gnomad.exomes.r2.1.1.sites_indelsonly_rAF_bp40_rAF_hiIndels.lt50bp.csv\")\n",
    "\n",
    "rAF_hi_indels_10bp_df_2 = fread(\"2023-03-23_IGM_n39367_indelsonly_rAF_bp10_rAF_hiIndels.lt50bp.csv\")\n",
    "rAF_hi_indels_20bp_df_2 = fread(\"2023-03-23_IGM_n39367_indelsonly_rAF_bp20_rAF_hiIndels.lt50bp.csv\")\n",
    "rAF_hi_indels_30bp_df_2 = fread(\"2023-03-23_IGM_n39367_indelsonly_rAF_bp30_rAF_hiIndels.lt50bp.csv\")\n",
    "rAF_hi_indels_40bp_df_2 = fread(\"2023-03-23_IGM_n39367_indelsonly_rAF_bp40_rAF_hiIndels.lt50bp.csv\")\n",
    "\n",
    "rAF_hi_indels_10bp_df_3 = fread(\"UK.BB.exomes.430k.sites_indelsonly_rAF_bp10_rAF_hiIndels.lt50bp.csv\")\n",
    "rAF_hi_indels_20bp_df_3 = fread(\"UK.BB.exomes.430k.sites_indelsonly_rAF_bp20_rAF_hiIndels.lt50bp.csv\")\n",
    "rAF_hi_indels_30bp_df_3 = fread(\"UK.BB.exomes.430k.sites_indelsonly_rAF_bp30_rAF_hiIndels.lt50bp.csv\")\n",
    "rAF_hi_indels_40bp_df_3 = fread(\"UK.BB.exomes.430k.sites_indelsonly_rAF_bp40_rAF_hiIndels.lt50bp.csv\")\n"
   ]
  },
  {
   "cell_type": "markdown",
   "id": "2a874fb1-532e-4050-8acd-21d079988b6f",
   "metadata": {},
   "source": [
    "# Declare your bp range:\n"
   ]
  },
  {
   "cell_type": "code",
   "execution_count": null,
   "id": "a41ae7cb-ec46-4876-a00c-2275daef2ac5",
   "metadata": {},
   "outputs": [],
   "source": [
    "bp_range = c(\"10\", \"20\", \"30\", \"40\")"
   ]
  },
  {
   "cell_type": "markdown",
   "id": "ca36e272-92c8-4b6a-ae06-f9c465f8aa50",
   "metadata": {},
   "source": [
    "# Separate your VarID into CHR, POS, REF, ALT\n",
    "\n"
   ]
  },
  {
   "cell_type": "code",
   "execution_count": null,
   "id": "2ef37bd3-8606-483b-8340-6e9e860920b0",
   "metadata": {},
   "outputs": [],
   "source": [
    "df_1 = separate(df_1, col = VarID, into = c(\"CHR\", \"POS\", \"REF\", \"ALT\"), sep = \"-\")\n",
    "df_2 = separate(df_2, col = VarID, into = c(\"CHR\", \"POS\", \"REF\", \"ALT\"), sep = \"-\")\n",
    "df_3 = separate(df_3, col = VarID, into = c(\"CHR\", \"POS\", \"REF\", \"ALT\"), sep = \"-\")"
   ]
  },
  {
   "cell_type": "markdown",
   "id": "a198b50b-3d01-4467-a8c2-0f22afbb1813",
   "metadata": {},
   "source": [
    "# Calculate region length and create individual graphs: "
   ]
  },
  {
   "cell_type": "code",
   "execution_count": null,
   "id": "c4ee1d99-6e63-4e29-b3eb-5ccff0babca6",
   "metadata": {},
   "outputs": [],
   "source": [
    "for (i in bp_range) {\n",
    "  print(i)\n",
    "  \n",
    "  ## Find the regions that the rAF_hi indels are in\n",
    "  temp_regions_1 = distinct(get(paste0(\"rAF_hi_indels_\", i, \"bp_df_1\")) %>% select(paste0(\"GID_bp\", i)))\n",
    "  temp_regions_2 = distinct(get(paste0(\"rAF_hi_indels_\", i, \"bp_df_2\")) %>% select(paste0(\"GID_bp\", i)))\n",
    "  temp_regions_3 = distinct(get(paste0(\"rAF_hi_indels_\", i, \"bp_df_3\")) %>% select(paste0(\"GID_bp\", i)))\n",
    "  \n",
    "  temp_var = paste0(\"GID_bp\", i)\n",
    "  \n",
    "  temp_df_1 = paste0(\"filtered_df_1_\", i)\n",
    "  temp_df_2 = paste0(\"filtered_df_2_\", i)\n",
    "  temp_df_3 = paste0(\"filtered_df_3_\", i)\n",
    "  \n",
    "  ## Keep the regions that have at least one rAF_hi indel and have to have at least 2 indels (the second indel doesn't have to be rAF_hi)\n",
    "  assign(temp_df_1,  df_1 %>% filter(df_1[[temp_var]] %in% temp_regions_1[[temp_var]]) %>% group_by(get(temp_var)) %>% filter(n()>1))\n",
    "  assign(temp_df_2,  df_2 %>% filter(df_2[[temp_var]] %in% temp_regions_2[[temp_var]]) %>% group_by(get(temp_var)) %>% filter(n()>1))\n",
    "  assign(temp_df_3,  df_3 %>% filter(df_3[[temp_var]] %in% temp_regions_3[[temp_var]]) %>% group_by(get(temp_var)) %>% filter(n()>1))\n",
    "  \n",
    "  #find start and end indels \n",
    "  assign(temp_df_1, get(temp_df_1) %>% group_by(get(temp_var)) %>% mutate(start_indel = as.numeric(min(POS)), end_indel = as.numeric(max(POS))) %>% ungroup())\n",
    "  assign(temp_df_2, get(temp_df_2) %>% group_by(get(temp_var)) %>% mutate(start_indel = as.numeric(min(POS)), end_indel = as.numeric(max(POS))) %>% ungroup())\n",
    "  assign(temp_df_3, get(temp_df_3) %>% group_by(get(temp_var)) %>% mutate(start_indel = as.numeric(min(POS)), end_indel = as.numeric(max(POS))) %>% ungroup())\n",
    "  \n",
    "  ## calculate the length of region \n",
    "  assign(temp_df_1, get(temp_df_1) %>% mutate (region_length = get(temp_df_1)$end_indel - get(temp_df_1)$start_indel))\n",
    "  assign(temp_df_2, get(temp_df_2) %>% mutate (region_length = get(temp_df_2)$end_indel - get(temp_df_2)$start_indel))\n",
    "  assign(temp_df_3, get(temp_df_3) %>% mutate (region_length = get(temp_df_3)$end_indel - get(temp_df_3)$start_indel))\n",
    "  \n",
    "  ## Get a chart with the number of regions with that region length\n",
    "  temp_chart_1 = paste0(\"region_len_1_\", i)\n",
    "  temp_chart_2 = paste0(\"region_len_2_\", i)\n",
    "  temp_chart_3 = paste0(\"region_len_3_\", i)\n",
    "  \n",
    "  assign(temp_chart_1, distinct(get(temp_df_1) %>% select (paste0(\"GID_bp\", i), \"region_length\")))\n",
    "  assign(temp_chart_2, distinct(get(temp_df_2) %>% select (paste0(\"GID_bp\", i), \"region_length\")))\n",
    "  assign(temp_chart_3, distinct(get(temp_df_3) %>% select (paste0(\"GID_bp\", i), \"region_length\")))\n",
    "  \n",
    "  ## Get a graph \n",
    "  graph_df1 = paste0(\"graph_df1_bp\", i)\n",
    "  graph_df2 = paste0(\"graph_df2_bp\", i)\n",
    "  graph_df3 = paste0(\"graph_df3_bp\", i)\n",
    "\n",
    "\n",
    "  ## Make graphs \n",
    "  assign(graph_df1, ggplot(get(temp_chart_1), aes(x = region_length)) +\n",
    "           geom_histogram(aes(y = ..density..), colour= \"black\", fill = \"white\", regionwidth = 1) +\n",
    "           geom_density(fill=\"grey\", alpha = .5) +\n",
    "           scale_x_continuous(breaks =seq(from = 0, to = 1000, by = 20), limits = c(0, 1000)) +\n",
    "           scale_x_break(breaks = c(80, 800), scales = 0.25, ticklabels = c(800, 900, 1000)) +\n",
    "           ylim(0, 0.3) +\n",
    "           labs(title = paste0(db_name_1, \": \", i, \"bp region\"), x = \"region Lengths (bps)\") +\n",
    "           theme(axis.text=element_text(size=20), axis.text.x = element_text(angle = 90), axis.title=element_text(size=20), plot.title=element_text(size=32, hjust = 0.5, margin = margin( 1, 1, 1, 1, \"cm\")), plot.margin = margin( 2, 2, 2, 2, \"cm\"), axis.title.y = element_text(margin = margin( 1, 1, 1, 1, \"cm\"), angle = 90)))\n",
    "\n",
    "  assign(graph_df2, ggplot(get(temp_chart_2), aes(x = region_length)) +\n",
    "           geom_histogram(aes(y = ..density..), colour= \"black\", fill = \"white\", regionwidth = 1) +\n",
    "           geom_density(fill=\"grey\", alpha = .5) +\n",
    "           scale_x_continuous(breaks =seq(from = 0, to = 1000, by = 20), limits = c(0, 1000)) +\n",
    "           scale_x_break(breaks = c(80, 800), scales = 0.25, ticklabels = c(800, 900, 1000)) +\n",
    "           ylim(0, 0.3) +\n",
    "           labs(title = paste0(db_name_2, \": \", i, \"bp region\"), x = \"region Lengths (bps)\") +\n",
    "           theme(axis.text=element_text(size=20),  axis.text.x = element_text(angle = 90), axis.title=element_text(size=20), plot.title=element_text(size=32, hjust = 0.5, margin = margin( 1, 1, 1, 1, \"cm\")), plot.margin = margin( 2, 2, 2, 2, \"cm\"), axis.title.y = element_text(margin = margin( 1, 1, 1, 1, \"cm\"), angle = 90)))\n",
    "\n",
    "  assign(graph_df3, ggplot(get(temp_chart_3), aes(x = region_length)) +\n",
    "           geom_histogram(aes(y = ..density..), colour= \"black\", fill = \"white\", regionwidth = 1) +\n",
    "           geom_density(fill=\"grey\", alpha = .5) + \n",
    "           scale_x_continuous(breaks =seq(from = 0, to = 1000, by = 20), limits = c(0, 1000)) + \n",
    "           scale_x_break(breaks = c(80, 800), scales = 0.25, ticklabels = c(800, 900, 1000)) +\n",
    "           ylim(0, 0.3) + \n",
    "           labs(title = paste0(db_name_3, \": \", i, \"bp region\"), x = \"region Lengths (bps)\") + \n",
    "           theme(axis.text=element_text(size=20),  axis.text.x = element_text(angle = 90), axis.title=element_text(size=20), plot.title=element_text(size=32, hjust = 0.5, margin = margin( 1, 1, 1, 1, \"cm\")), plot.margin = margin( 2, 2, 2, 2, \"cm\"), axis.title.y = element_text(margin = margin( 1, 1, 1, 1, \"cm\"), angle = 90)))\n",
    "}"
   ]
  },
  {
   "cell_type": "code",
   "execution_count": null,
   "id": "1d42e602-9969-48ae-8ddb-0a7bbced66ec",
   "metadata": {},
   "outputs": [],
   "source": [
    "\n",
    "ggarrange(print(graph_df1_bp10),\n",
    "          print(graph_df1_bp20),\n",
    "          print(graph_df1_bp30),\n",
    "          print(graph_df1_bp40),\n",
    "          print(graph_df2_bp10),\n",
    "          print(graph_df2_bp20),\n",
    "          print(graph_df2_bp30),\n",
    "          print(graph_df2_bp40),\n",
    "          print(graph_df3_bp10),\n",
    "          print(graph_df3_bp20),\n",
    "          print(graph_df3_bp30),\n",
    "          print(graph_df3_bp40),\n",
    "          labels = c(\"A\", \"B\", \"C\", \"D\", \"E\", \"F\", \"G\", \"H\", \"I\", \"J\", \"K\", \"L\"),\n",
    "          ncol = 4, nrow = 2, font.label = list(size = 32, color = \"black\")) + theme(plot.margin = unit(c(2,2,2,2), \"cm\"))\n",
    "ggsave(\"Fig2.jpg\", width = 80, height = 40, units = c(\"cm\"), dpi = 300)\n",
    "\n"
   ]
  },
  {
   "cell_type": "markdown",
   "id": "7eb9c8ba-b6aa-4ae6-9df4-67bd070cd3a0",
   "metadata": {},
   "source": [
    "# Written Results Section\n"
   ]
  },
  {
   "cell_type": "code",
   "execution_count": null,
   "id": "886f753a-7068-4e1c-93a3-8d30b0dbdc55",
   "metadata": {},
   "outputs": [],
   "source": [
    "## To find the mean and median region lengths. \n",
    "for (i in bp_range) {\n",
    "  # get the dataframe with all the indels in a region with a rAF_hi indel \n",
    "  temp_var1 = paste0(\"filtered_df_1_\", i)\n",
    "  temp_var2 = paste0(\"filtered_df_2_\", i)\n",
    "  temp_var3 = paste0(\"filtered_df_3_\", i)\n",
    "  \n",
    "  # find mean and median \n",
    "  mean_df1 = paste0(\"mean_region_len_df1_bp\", i)\n",
    "  mean_df2 = paste0(\"mean_region_len_df2_bp\", i)\n",
    "  mean_df3 = paste0(\"mean_region_len_df3_bp\", i)\n",
    "  \n",
    "  gID = paste0(\"GID_bp\", i)\n",
    "  \n",
    "  \n",
    "  ## remember: got to collapse by gID \n",
    "  assign(mean_df1, mean(unique(get(temp_var1) %>% select(gID, region_length))$region_length))\n",
    "  assign(mean_df2, mean(unique(get(temp_var2) %>% select(gID, region_length))$region_length))\n",
    "  assign(mean_df3, mean(unique(get(temp_var3) %>% select(gID, region_length))$region_length))\n",
    "  \n",
    "  median_df1 = paste0(\"median_region_len_df1_bp\", i)\n",
    "  median_df2 = paste0(\"median_region_len_df2_bp\", i)\n",
    "  median_df3 = paste0(\"median_region_len_df3_bp\", i)\n",
    "  \n",
    "  assign(median_df1, median(unique(get(temp_var1) %>% select(gID, region_length))$region_length))\n",
    "  assign(median_df2, median(unique(get(temp_var2) %>% select(gID, region_length))$region_length))\n",
    "  assign(median_df3, median(unique(get(temp_var3) %>% select(gID, region_length))$region_length))\n",
    "  \n",
    "  print(paste0(\"Mean region length for \", db_name_1, \" and bp region \", i, \": \", get(mean_df1)))\n",
    "  print(paste0(\"Mean region length for \", db_name_2, \" and bp region \", i, \": \", get(mean_df2)))\n",
    "  print(paste0(\"Mean region length for \", db_name_3, \" and bp region \", i, \": \", get(mean_df3)))\n",
    "  \n",
    "  print(paste0(\"Median region length for \", db_name_1, \" and bp region \", i, \": \", get(median_df1)))\n",
    "  print(paste0(\"Median region length for \", db_name_2, \" and bp region \", i, \": \", get(median_df2)))\n",
    "  print(paste0(\"Median region length for \", db_name_3, \" and bp region \", i, \": \", get(median_df3)))\n",
    "}\n"
   ]
  },
  {
   "cell_type": "markdown",
   "id": "5287046e-aaa8-42d2-be17-0ec6285e0648",
   "metadata": {},
   "source": [
    "## To find the percentage of regions with rAF_hi indels with regions < X bp for each bp region"
   ]
  },
  {
   "cell_type": "code",
   "execution_count": null,
   "id": "43c8ec19-6313-487e-bc60-834eb45d1837",
   "metadata": {},
   "outputs": [],
   "source": [
    "\n",
    "for (i in bp_range) {\n",
    "  \n",
    "  ## get the region_len dataframe \n",
    "  ben_len_1 = paste0(\"region_len_1_\", i)\n",
    "  ben_len_2 = paste0(\"region_len_2_\", i)\n",
    "  ben_len_3 = paste0(\"region_len_3_\", i)\n",
    "  \n",
    "  ## assign the count region variable \n",
    "  count_region_1 = paste0(\"count_region\", i, \"_df1\")\n",
    "  count_region_2 = paste0(\"count_region\", i, \"_df2\")\n",
    "  count_region_3 = paste0(\"count_region\", i, \"_df3\")\n",
    "  \n",
    "  assign(count_region_1, get(ben_len_1) %>% group_by(region_length) %>% count(region_length))\n",
    "  assign(count_region_2, get(ben_len_2) %>% group_by(region_length) %>% count(region_length))\n",
    "  assign(count_region_3, get(ben_len_3) %>% group_by(region_length) %>% count(region_length))\n",
    "  \n",
    "  ## find the percentage \n",
    "  percent_df1 = paste0(\"percent_lt_\", i, \"bp_region_\", i, \"df1\")\n",
    "  percent_df2 = paste0(\"percent_lt_\", i, \"bp_region_\", i, \"df2\")\n",
    "  percent_df3 = paste0(\"percent_lt_\", i, \"bp_region_\", i, \"df3\")\n",
    "  \n",
    "  assign(percent_df1, sum((get(count_region_1) %>% filter(region_length < as.numeric(i)))$n) / sum(get(count_region_1)$n) * 100 )\n",
    "  assign(percent_df2, sum((get(count_region_2) %>% filter(region_length < as.numeric(i)))$n) / sum(get(count_region_2)$n) * 100 )\n",
    "  assign(percent_df3, sum((get(count_region_3) %>% filter(region_length < as.numeric(i)))$n) / sum(get(count_region_3)$n) * 100 )\n",
    "\n",
    "  print(paste0(\"Percent less than \", i, \" bps, region \", i, \" is \", get(percent_df1), \"% for dataset \", db_name_1))\n",
    "  print(paste0(\"Percent less than \", i, \" bps, region \", i, \" is \", get(percent_df2), \"% for dataset \", db_name_2))\n",
    "  print(paste0(\"Percent less than \", i, \" bps, region \", i, \" is \", get(percent_df3), \"% for dataset \", db_name_3))\n",
    "  \n",
    "}\n"
   ]
  },
  {
   "cell_type": "markdown",
   "id": "55547d2b-886f-4933-9b7e-7c9536a35200",
   "metadata": {},
   "source": [
    "## We observed XX regions with rAF_hi indels using the 10bp sliding region, and XX, XX, XX for the 20bp, 30bp and 40bp sliding regions respectively."
   ]
  },
  {
   "cell_type": "code",
   "execution_count": null,
   "id": "baf9bddd-82da-4a41-8034-2a3307b5fb2b",
   "metadata": {},
   "outputs": [],
   "source": [
    "\n",
    "for (i in bp_range) {\n",
    "  # get the dataframe with all the indels in a region with a rAF_hi indel\n",
    "  temp_var1 = paste0(\"filtered_df_1_\", i)\n",
    "  temp_var2 = paste0(\"filtered_df_2_\", i)\n",
    "  temp_var3 = paste0(\"filtered_df_3_\", i)\n",
    "\n",
    "  # assign a variable for the regions\n",
    "  regions_df1 = paste0 (\"regions_\", i, \"df1\")\n",
    "  regions_df2 = paste0 (\"regions_\", i, \"df2\")\n",
    "  regions_df3 = paste0 (\"regions_\", i, \"df3\")\n",
    "  \n",
    "  assign (regions_df1, nrow(unique(get(temp_var1)[paste0(\"GID_bp\", i)])))\n",
    "  assign (regions_df2, nrow(unique(get(temp_var2)[paste0(\"GID_bp\", i)])))\n",
    "  assign (regions_df3, nrow(unique(get(temp_var3)[paste0(\"GID_bp\", i)])))\n",
    "  \n",
    "  print(paste0(\"Number of regions with rAF_hi indels in \", db_name_1, \" is: \", get(regions_df1)))\n",
    "  print(paste0(\"Number of regions with rAF_hi indels in \", db_name_2, \" is: \", get(regions_df2)))\n",
    "  print(paste0(\"Number of regions with rAF_hi indels in \", db_name_3, \" is: \", get(regions_df3)))\n",
    "}"
   ]
  },
  {
   "cell_type": "markdown",
   "id": "cb58b4c4-9de0-4c32-831c-03fdc3b8e957",
   "metadata": {},
   "source": [
    "## Make table for above data (Supplementary Tables S3, S4, and S5). "
   ]
  },
  {
   "cell_type": "code",
   "execution_count": null,
   "id": "13b7c16d-677d-4753-bb55-22fafc4aaebf",
   "metadata": {},
   "outputs": [],
   "source": [
    "\n",
    "df_1_regions_rAF_hi_indels = c(regions_10df1, regions_20df1, regions_30df1, regions_40df1)\n",
    "df_1_mean_region_len = c(mean_region_len_df1_bp10, mean_region_len_df1_bp20, mean_region_len_df1_bp30, mean_region_len_df1_bp40)\n",
    "df_1_median_region_len = c(median_region_len_df1_bp10, median_region_len_df1_bp20, median_region_len_df1_bp30, median_region_len_df1_bp40)\n",
    "df_1_regions_prct_under_region_size = c(percent_lt_10bp_region_10df1, percent_lt_20bp_region_20df1, percent_lt_30bp_region_30df1, percent_lt_40bp_region_40df1)\n",
    "\n",
    "df_1_summary = data.frame(bp_range, df_1_regions_rAF_hi_indels, df_1_mean_region_len, df_1_median_region_len, df_1_regions_prct_under_region_size)\n",
    "df_1_summary\n",
    "\n",
    "df_2_regions_rAF_hi_indels = c(regions_10df2, regions_20df2, regions_30df2, regions_40df2)\n",
    "df_2_mean_region_len = c(mean_region_len_df2_bp10, mean_region_len_df2_bp20, mean_region_len_df2_bp30, mean_region_len_df2_bp40)\n",
    "df_2_median_region_len = c(median_region_len_df2_bp10, median_region_len_df2_bp20, median_region_len_df2_bp30, median_region_len_df2_bp40)\n",
    "df_2_regions_prct_under_region_size = c(percent_lt_10bp_region_10df2, percent_lt_20bp_region_20df2, percent_lt_30bp_region_30df2, percent_lt_40bp_region_40df2)\n",
    "\n",
    "df_2_summary = data.frame(bp_range, df_2_regions_rAF_hi_indels, df_2_mean_region_len, df_2_median_region_len, df_2_regions_prct_under_region_size)\n",
    "df_2_summary\n",
    "\n",
    "\n",
    "df_3_regions_rAF_hi_indels = c(regions_10df3, regions_20df3, regions_30df3, regions_40df3)\n",
    "df_3_mean_region_len = c(mean_region_len_df3_bp10, mean_region_len_df3_bp20, mean_region_len_df3_bp30, mean_region_len_df3_bp40)\n",
    "df_3_median_region_len = c(median_region_len_df3_bp10, median_region_len_df3_bp20, median_region_len_df3_bp30, median_region_len_df3_bp40)\n",
    "df_3_regions_prct_under_region_size = c(percent_lt_10bp_region_10df3, percent_lt_20bp_region_20df3, percent_lt_30bp_region_30df3, percent_lt_40bp_region_40df3)\n",
    "\n",
    "df_3_summary = data.frame(bp_range, df_3_regions_rAF_hi_indels, df_3_mean_region_len, df_3_median_region_len, df_3_regions_prct_under_region_size)\n",
    "df_3_summary \n",
    "\n",
    "\n",
    "\n",
    "fwrite(df_1_summary, \"supplementary_table_S3.csv\")\n",
    "fwrite(df_2_summary, \"supplementary_table_S4.csv\")\n",
    "fwrite(df_3_summary, \"supplementary_table_S5.csv\")"
   ]
  }
 ],
 "metadata": {
  "kernelspec": {
   "display_name": "R",
   "language": "R",
   "name": "ir"
  },
  "language_info": {
   "codemirror_mode": "r",
   "file_extension": ".r",
   "mimetype": "text/x-r-source",
   "name": "R",
   "pygments_lexer": "r",
   "version": "4.3.1"
  }
 },
 "nbformat": 4,
 "nbformat_minor": 5
}
